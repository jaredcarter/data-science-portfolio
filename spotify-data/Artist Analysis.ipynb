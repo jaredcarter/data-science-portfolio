{
 "cells": [
  {
   "cell_type": "markdown",
   "id": "ede46e7f",
   "metadata": {},
   "source": [
    "# Import Packages"
   ]
  },
  {
   "cell_type": "code",
   "execution_count": 1,
   "id": "5d68d673",
   "metadata": {},
   "outputs": [],
   "source": [
    "import pandas as pd\n",
    "import plotly.express as px\n",
    "\n",
    "def fix_df(df, name):\n",
    "    '''Clean up the dataframe after it is imported'''\n",
    "    # add a column for the playlist name if you concat with another\n",
    "    df['playlist'] = name\n",
    "    # Fix the release date so Python \"knows\" it's a date\n",
    "    df['track.album.release_date'] = pd.to_datetime(df['track.album.release_date'], errors='coerce')"
   ]
  },
  {
   "cell_type": "markdown",
   "id": "f5479154",
   "metadata": {},
   "source": [
    "# Compare Artists\n",
    "\n",
    "## Artist 1: Raffi"
   ]
  },
  {
   "cell_type": "code",
   "execution_count": 2,
   "id": "16af6034",
   "metadata": {},
   "outputs": [
    {
     "name": "stdout",
     "output_type": "stream",
     "text": [
      "<class 'pandas.core.frame.DataFrame'>\n",
      "RangeIndex: 46 entries, 0 to 45\n",
      "Data columns (total 59 columns):\n",
      " #   Column                              Non-Null Count  Dtype         \n",
      "---  ------                              --------------  -----         \n",
      " 0   Unnamed: 0                          46 non-null     int64         \n",
      " 1   added_at                            46 non-null     object        \n",
      " 2   is_local                            46 non-null     bool          \n",
      " 3   primary_color                       0 non-null      float64       \n",
      " 4   added_by.external_urls.spotify      46 non-null     object        \n",
      " 5   added_by.href                       46 non-null     object        \n",
      " 6   added_by.id                         0 non-null      float64       \n",
      " 7   added_by.type                       46 non-null     object        \n",
      " 8   added_by.uri                        46 non-null     object        \n",
      " 9   track.album.album_type              46 non-null     object        \n",
      " 10  track.album.artists                 46 non-null     object        \n",
      " 11  track.album.available_markets       46 non-null     object        \n",
      " 12  track.album.external_urls.spotify   46 non-null     object        \n",
      " 13  track.album.href                    46 non-null     object        \n",
      " 14  track.album.id                      46 non-null     object        \n",
      " 15  track.album.images                  46 non-null     object        \n",
      " 16  track.album.name                    46 non-null     object        \n",
      " 17  track.album.release_date            24 non-null     datetime64[ns]\n",
      " 18  track.album.release_date_precision  46 non-null     object        \n",
      " 19  track.album.total_tracks            46 non-null     int64         \n",
      " 20  track.album.type                    46 non-null     object        \n",
      " 21  track.album.uri                     46 non-null     object        \n",
      " 22  track.artists                       46 non-null     object        \n",
      " 23  track.available_markets             46 non-null     object        \n",
      " 24  track.disc_number                   46 non-null     int64         \n",
      " 25  track.duration_ms                   46 non-null     int64         \n",
      " 26  track.episode                       46 non-null     bool          \n",
      " 27  track.explicit                      46 non-null     bool          \n",
      " 28  track.external_ids.isrc             46 non-null     object        \n",
      " 29  track.external_urls.spotify         46 non-null     object        \n",
      " 30  track.href                          46 non-null     object        \n",
      " 31  track.id                            46 non-null     object        \n",
      " 32  track.is_local                      46 non-null     bool          \n",
      " 33  track.name                          46 non-null     object        \n",
      " 34  track.popularity                    46 non-null     int64         \n",
      " 35  track.preview_url                   0 non-null      float64       \n",
      " 36  track.track                         46 non-null     bool          \n",
      " 37  track.track_number                  46 non-null     int64         \n",
      " 38  track.type                          46 non-null     object        \n",
      " 39  track.uri                           46 non-null     object        \n",
      " 40  video_thumbnail.url                 0 non-null      float64       \n",
      " 41  danceability                        46 non-null     float64       \n",
      " 42  energy                              46 non-null     float64       \n",
      " 43  key                                 46 non-null     int64         \n",
      " 44  loudness                            46 non-null     float64       \n",
      " 45  mode                                46 non-null     int64         \n",
      " 46  speechiness                         46 non-null     float64       \n",
      " 47  acousticness                        46 non-null     float64       \n",
      " 48  instrumentalness                    46 non-null     float64       \n",
      " 49  liveness                            46 non-null     float64       \n",
      " 50  valence                             46 non-null     float64       \n",
      " 51  tempo                               46 non-null     float64       \n",
      " 52  type                                46 non-null     object        \n",
      " 53  uri                                 46 non-null     object        \n",
      " 54  track_href                          46 non-null     object        \n",
      " 55  analysis_url                        46 non-null     object        \n",
      " 56  duration_ms                         46 non-null     int64         \n",
      " 57  time_signature                      46 non-null     int64         \n",
      " 58  playlist                            46 non-null     object        \n",
      "dtypes: bool(5), datetime64[ns](1), float64(13), int64(10), object(30)\n",
      "memory usage: 19.8+ KB\n"
     ]
    }
   ],
   "source": [
    "playlist_name = 'This Is Raffi'\n",
    "# read the csv file\n",
    "df1 = pd.read_csv(f\"data/{playlist_name}.csv\")\n",
    "fix_df(df1, playlist_name)\n",
    "# Show the info\n",
    "df1.info()"
   ]
  },
  {
   "cell_type": "code",
   "execution_count": 3,
   "id": "4119b1b2",
   "metadata": {},
   "outputs": [
    {
     "data": {
      "application/vnd.plotly.v1+json": {
       "config": {
        "plotlyServerURL": "https://plot.ly"
       },
       "data": [
        {
         "alignmentgroup": "True",
         "boxpoints": "all",
         "hovertemplate": "<b>%{hovertext}</b><br><br>variable=%{x}<br>value=%{y}<extra></extra>",
         "hovertext": [
          "Shake My Sillies Out",
          "Baby Beluga",
          "Twinkle, Twinkle, Little Star",
          "Down By The Bay",
          "Going on a Picnic",
          "Six Little Ducks",
          "Apples And Bananas",
          "Mr. Sun",
          "Listen to the Horses",
          "If You're Happy And You Know It",
          "Oats and Beans and Barley",
          "Baa Baa Black Sheep",
          "Frere Jacques",
          "Eensy Weensy Spider",
          "Workin' on the Railroad",
          "Brush Your Teeth",
          "Row, Row, Row",
          "Peanut Butter Sandwich",
          "Spring Flowers",
          "The Sharing Song",
          "Everything Grows",
          "The Corner Grocery Store",
          "Fais Dodo",
          "Thanks A Lot",
          "Bathtime",
          "Bananaphone",
          "Like Me And You",
          "This Old Man",
          "Five Little Ducks",
          "Baby Beluga",
          "Mary Wore Her Red Dress",
          "Day O",
          "Let's Play",
          "Skip To My Lou",
          "Nursery Rhyme Instrumental",
          "Biscuits in the Oven",
          "This Little Light of Mine",
          "Octopus's Garden",
          "One Light, One Sun",
          "Luna's Song",
          "Rise And Shine",
          "Yellow Submarine",
          "Love Bug",
          "Going to the Zoo",
          "He's Got the Whole World",
          "Rock-A-Bye Baby",
          "Shake My Sillies Out",
          "Baby Beluga",
          "Twinkle, Twinkle, Little Star",
          "Down By The Bay",
          "Going on a Picnic",
          "Six Little Ducks",
          "Apples And Bananas",
          "Mr. Sun",
          "Listen to the Horses",
          "If You're Happy And You Know It",
          "Oats and Beans and Barley",
          "Baa Baa Black Sheep",
          "Frere Jacques",
          "Eensy Weensy Spider",
          "Workin' on the Railroad",
          "Brush Your Teeth",
          "Row, Row, Row",
          "Peanut Butter Sandwich",
          "Spring Flowers",
          "The Sharing Song",
          "Everything Grows",
          "The Corner Grocery Store",
          "Fais Dodo",
          "Thanks A Lot",
          "Bathtime",
          "Bananaphone",
          "Like Me And You",
          "This Old Man",
          "Five Little Ducks",
          "Baby Beluga",
          "Mary Wore Her Red Dress",
          "Day O",
          "Let's Play",
          "Skip To My Lou",
          "Nursery Rhyme Instrumental",
          "Biscuits in the Oven",
          "This Little Light of Mine",
          "Octopus's Garden",
          "One Light, One Sun",
          "Luna's Song",
          "Rise And Shine",
          "Yellow Submarine",
          "Love Bug",
          "Going to the Zoo",
          "He's Got the Whole World",
          "Rock-A-Bye Baby",
          "Shake My Sillies Out",
          "Baby Beluga",
          "Twinkle, Twinkle, Little Star",
          "Down By The Bay",
          "Going on a Picnic",
          "Six Little Ducks",
          "Apples And Bananas",
          "Mr. Sun",
          "Listen to the Horses",
          "If You're Happy And You Know It",
          "Oats and Beans and Barley",
          "Baa Baa Black Sheep",
          "Frere Jacques",
          "Eensy Weensy Spider",
          "Workin' on the Railroad",
          "Brush Your Teeth",
          "Row, Row, Row",
          "Peanut Butter Sandwich",
          "Spring Flowers",
          "The Sharing Song",
          "Everything Grows",
          "The Corner Grocery Store",
          "Fais Dodo",
          "Thanks A Lot",
          "Bathtime",
          "Bananaphone",
          "Like Me And You",
          "This Old Man",
          "Five Little Ducks",
          "Baby Beluga",
          "Mary Wore Her Red Dress",
          "Day O",
          "Let's Play",
          "Skip To My Lou",
          "Nursery Rhyme Instrumental",
          "Biscuits in the Oven",
          "This Little Light of Mine",
          "Octopus's Garden",
          "One Light, One Sun",
          "Luna's Song",
          "Rise And Shine",
          "Yellow Submarine",
          "Love Bug",
          "Going to the Zoo",
          "He's Got the Whole World",
          "Rock-A-Bye Baby",
          "Shake My Sillies Out",
          "Baby Beluga",
          "Twinkle, Twinkle, Little Star",
          "Down By The Bay",
          "Going on a Picnic",
          "Six Little Ducks",
          "Apples And Bananas",
          "Mr. Sun",
          "Listen to the Horses",
          "If You're Happy And You Know It",
          "Oats and Beans and Barley",
          "Baa Baa Black Sheep",
          "Frere Jacques",
          "Eensy Weensy Spider",
          "Workin' on the Railroad",
          "Brush Your Teeth",
          "Row, Row, Row",
          "Peanut Butter Sandwich",
          "Spring Flowers",
          "The Sharing Song",
          "Everything Grows",
          "The Corner Grocery Store",
          "Fais Dodo",
          "Thanks A Lot",
          "Bathtime",
          "Bananaphone",
          "Like Me And You",
          "This Old Man",
          "Five Little Ducks",
          "Baby Beluga",
          "Mary Wore Her Red Dress",
          "Day O",
          "Let's Play",
          "Skip To My Lou",
          "Nursery Rhyme Instrumental",
          "Biscuits in the Oven",
          "This Little Light of Mine",
          "Octopus's Garden",
          "One Light, One Sun",
          "Luna's Song",
          "Rise And Shine",
          "Yellow Submarine",
          "Love Bug",
          "Going to the Zoo",
          "He's Got the Whole World",
          "Rock-A-Bye Baby",
          "Shake My Sillies Out",
          "Baby Beluga",
          "Twinkle, Twinkle, Little Star",
          "Down By The Bay",
          "Going on a Picnic",
          "Six Little Ducks",
          "Apples And Bananas",
          "Mr. Sun",
          "Listen to the Horses",
          "If You're Happy And You Know It",
          "Oats and Beans and Barley",
          "Baa Baa Black Sheep",
          "Frere Jacques",
          "Eensy Weensy Spider",
          "Workin' on the Railroad",
          "Brush Your Teeth",
          "Row, Row, Row",
          "Peanut Butter Sandwich",
          "Spring Flowers",
          "The Sharing Song",
          "Everything Grows",
          "The Corner Grocery Store",
          "Fais Dodo",
          "Thanks A Lot",
          "Bathtime",
          "Bananaphone",
          "Like Me And You",
          "This Old Man",
          "Five Little Ducks",
          "Baby Beluga",
          "Mary Wore Her Red Dress",
          "Day O",
          "Let's Play",
          "Skip To My Lou",
          "Nursery Rhyme Instrumental",
          "Biscuits in the Oven",
          "This Little Light of Mine",
          "Octopus's Garden",
          "One Light, One Sun",
          "Luna's Song",
          "Rise And Shine",
          "Yellow Submarine",
          "Love Bug",
          "Going to the Zoo",
          "He's Got the Whole World",
          "Rock-A-Bye Baby",
          "Shake My Sillies Out",
          "Baby Beluga",
          "Twinkle, Twinkle, Little Star",
          "Down By The Bay",
          "Going on a Picnic",
          "Six Little Ducks",
          "Apples And Bananas",
          "Mr. Sun",
          "Listen to the Horses",
          "If You're Happy And You Know It",
          "Oats and Beans and Barley",
          "Baa Baa Black Sheep",
          "Frere Jacques",
          "Eensy Weensy Spider",
          "Workin' on the Railroad",
          "Brush Your Teeth",
          "Row, Row, Row",
          "Peanut Butter Sandwich",
          "Spring Flowers",
          "The Sharing Song",
          "Everything Grows",
          "The Corner Grocery Store",
          "Fais Dodo",
          "Thanks A Lot",
          "Bathtime",
          "Bananaphone",
          "Like Me And You",
          "This Old Man",
          "Five Little Ducks",
          "Baby Beluga",
          "Mary Wore Her Red Dress",
          "Day O",
          "Let's Play",
          "Skip To My Lou",
          "Nursery Rhyme Instrumental",
          "Biscuits in the Oven",
          "This Little Light of Mine",
          "Octopus's Garden",
          "One Light, One Sun",
          "Luna's Song",
          "Rise And Shine",
          "Yellow Submarine",
          "Love Bug",
          "Going to the Zoo",
          "He's Got the Whole World",
          "Rock-A-Bye Baby",
          "Shake My Sillies Out",
          "Baby Beluga",
          "Twinkle, Twinkle, Little Star",
          "Down By The Bay",
          "Going on a Picnic",
          "Six Little Ducks",
          "Apples And Bananas",
          "Mr. Sun",
          "Listen to the Horses",
          "If You're Happy And You Know It",
          "Oats and Beans and Barley",
          "Baa Baa Black Sheep",
          "Frere Jacques",
          "Eensy Weensy Spider",
          "Workin' on the Railroad",
          "Brush Your Teeth",
          "Row, Row, Row",
          "Peanut Butter Sandwich",
          "Spring Flowers",
          "The Sharing Song",
          "Everything Grows",
          "The Corner Grocery Store",
          "Fais Dodo",
          "Thanks A Lot",
          "Bathtime",
          "Bananaphone",
          "Like Me And You",
          "This Old Man",
          "Five Little Ducks",
          "Baby Beluga",
          "Mary Wore Her Red Dress",
          "Day O",
          "Let's Play",
          "Skip To My Lou",
          "Nursery Rhyme Instrumental",
          "Biscuits in the Oven",
          "This Little Light of Mine",
          "Octopus's Garden",
          "One Light, One Sun",
          "Luna's Song",
          "Rise And Shine",
          "Yellow Submarine",
          "Love Bug",
          "Going to the Zoo",
          "He's Got the Whole World",
          "Rock-A-Bye Baby"
         ],
         "legendgroup": "",
         "marker": {
          "color": "#636efa"
         },
         "name": "",
         "notched": false,
         "offsetgroup": "",
         "orientation": "v",
         "showlegend": false,
         "type": "box",
         "x": [
          "danceability",
          "danceability",
          "danceability",
          "danceability",
          "danceability",
          "danceability",
          "danceability",
          "danceability",
          "danceability",
          "danceability",
          "danceability",
          "danceability",
          "danceability",
          "danceability",
          "danceability",
          "danceability",
          "danceability",
          "danceability",
          "danceability",
          "danceability",
          "danceability",
          "danceability",
          "danceability",
          "danceability",
          "danceability",
          "danceability",
          "danceability",
          "danceability",
          "danceability",
          "danceability",
          "danceability",
          "danceability",
          "danceability",
          "danceability",
          "danceability",
          "danceability",
          "danceability",
          "danceability",
          "danceability",
          "danceability",
          "danceability",
          "danceability",
          "danceability",
          "danceability",
          "danceability",
          "danceability",
          "energy",
          "energy",
          "energy",
          "energy",
          "energy",
          "energy",
          "energy",
          "energy",
          "energy",
          "energy",
          "energy",
          "energy",
          "energy",
          "energy",
          "energy",
          "energy",
          "energy",
          "energy",
          "energy",
          "energy",
          "energy",
          "energy",
          "energy",
          "energy",
          "energy",
          "energy",
          "energy",
          "energy",
          "energy",
          "energy",
          "energy",
          "energy",
          "energy",
          "energy",
          "energy",
          "energy",
          "energy",
          "energy",
          "energy",
          "energy",
          "energy",
          "energy",
          "energy",
          "energy",
          "energy",
          "energy",
          "instrumentalness",
          "instrumentalness",
          "instrumentalness",
          "instrumentalness",
          "instrumentalness",
          "instrumentalness",
          "instrumentalness",
          "instrumentalness",
          "instrumentalness",
          "instrumentalness",
          "instrumentalness",
          "instrumentalness",
          "instrumentalness",
          "instrumentalness",
          "instrumentalness",
          "instrumentalness",
          "instrumentalness",
          "instrumentalness",
          "instrumentalness",
          "instrumentalness",
          "instrumentalness",
          "instrumentalness",
          "instrumentalness",
          "instrumentalness",
          "instrumentalness",
          "instrumentalness",
          "instrumentalness",
          "instrumentalness",
          "instrumentalness",
          "instrumentalness",
          "instrumentalness",
          "instrumentalness",
          "instrumentalness",
          "instrumentalness",
          "instrumentalness",
          "instrumentalness",
          "instrumentalness",
          "instrumentalness",
          "instrumentalness",
          "instrumentalness",
          "instrumentalness",
          "instrumentalness",
          "instrumentalness",
          "instrumentalness",
          "instrumentalness",
          "instrumentalness",
          "acousticness",
          "acousticness",
          "acousticness",
          "acousticness",
          "acousticness",
          "acousticness",
          "acousticness",
          "acousticness",
          "acousticness",
          "acousticness",
          "acousticness",
          "acousticness",
          "acousticness",
          "acousticness",
          "acousticness",
          "acousticness",
          "acousticness",
          "acousticness",
          "acousticness",
          "acousticness",
          "acousticness",
          "acousticness",
          "acousticness",
          "acousticness",
          "acousticness",
          "acousticness",
          "acousticness",
          "acousticness",
          "acousticness",
          "acousticness",
          "acousticness",
          "acousticness",
          "acousticness",
          "acousticness",
          "acousticness",
          "acousticness",
          "acousticness",
          "acousticness",
          "acousticness",
          "acousticness",
          "acousticness",
          "acousticness",
          "acousticness",
          "acousticness",
          "acousticness",
          "acousticness",
          "liveness",
          "liveness",
          "liveness",
          "liveness",
          "liveness",
          "liveness",
          "liveness",
          "liveness",
          "liveness",
          "liveness",
          "liveness",
          "liveness",
          "liveness",
          "liveness",
          "liveness",
          "liveness",
          "liveness",
          "liveness",
          "liveness",
          "liveness",
          "liveness",
          "liveness",
          "liveness",
          "liveness",
          "liveness",
          "liveness",
          "liveness",
          "liveness",
          "liveness",
          "liveness",
          "liveness",
          "liveness",
          "liveness",
          "liveness",
          "liveness",
          "liveness",
          "liveness",
          "liveness",
          "liveness",
          "liveness",
          "liveness",
          "liveness",
          "liveness",
          "liveness",
          "liveness",
          "liveness",
          "speechiness",
          "speechiness",
          "speechiness",
          "speechiness",
          "speechiness",
          "speechiness",
          "speechiness",
          "speechiness",
          "speechiness",
          "speechiness",
          "speechiness",
          "speechiness",
          "speechiness",
          "speechiness",
          "speechiness",
          "speechiness",
          "speechiness",
          "speechiness",
          "speechiness",
          "speechiness",
          "speechiness",
          "speechiness",
          "speechiness",
          "speechiness",
          "speechiness",
          "speechiness",
          "speechiness",
          "speechiness",
          "speechiness",
          "speechiness",
          "speechiness",
          "speechiness",
          "speechiness",
          "speechiness",
          "speechiness",
          "speechiness",
          "speechiness",
          "speechiness",
          "speechiness",
          "speechiness",
          "speechiness",
          "speechiness",
          "speechiness",
          "speechiness",
          "speechiness",
          "speechiness",
          "valence",
          "valence",
          "valence",
          "valence",
          "valence",
          "valence",
          "valence",
          "valence",
          "valence",
          "valence",
          "valence",
          "valence",
          "valence",
          "valence",
          "valence",
          "valence",
          "valence",
          "valence",
          "valence",
          "valence",
          "valence",
          "valence",
          "valence",
          "valence",
          "valence",
          "valence",
          "valence",
          "valence",
          "valence",
          "valence",
          "valence",
          "valence",
          "valence",
          "valence",
          "valence",
          "valence",
          "valence",
          "valence",
          "valence",
          "valence",
          "valence",
          "valence",
          "valence",
          "valence",
          "valence",
          "valence"
         ],
         "x0": " ",
         "xaxis": "x",
         "y": [
          0.544,
          0.663,
          0.728,
          0.562,
          0.903,
          0.819,
          0.844,
          0.669,
          0.604,
          0.684,
          0.681,
          0.881,
          0.712,
          0.702,
          0.723,
          0.832,
          0.497,
          0.734,
          0.628,
          0.788,
          0.822,
          0.747,
          0.744,
          0.705,
          0.735,
          0.73,
          0.722,
          0.735,
          0.682,
          0.563,
          0.697,
          0.799,
          0.678,
          0.768,
          0.453,
          0.709,
          0.759,
          0.645,
          0.235,
          0.768,
          0.583,
          0.682,
          0.837,
          0.521,
          0.667,
          0.387,
          0.47,
          0.263,
          0.0392,
          0.144,
          0.155,
          0.172,
          0.136,
          0.386,
          0.159,
          0.244,
          0.202,
          0.0517,
          0.0741,
          0.0521,
          0.102,
          0.216,
          0.0379,
          0.468,
          0.246,
          0.0862,
          0.57,
          0.106,
          0.167,
          0.0958,
          0.371,
          0.61,
          0.19,
          0.282,
          0.0378,
          0.552,
          0.238,
          0.264,
          0.488,
          0.443,
          0.194,
          0.313,
          0.471,
          0.411,
          0.0987,
          0.175,
          0.173,
          0.574,
          0.271,
          0.402,
          0.314,
          0.0447,
          0,
          0.00000217,
          0.0431,
          0,
          0,
          0.0000409,
          0.00000524,
          0.000257,
          0.905,
          0,
          0,
          0,
          0,
          0.0000967,
          0,
          0.0000539,
          0,
          0,
          0.271,
          0,
          0.0000212,
          0,
          0.000346,
          0.00191,
          0.00000195,
          0.00000218,
          0.000271,
          0,
          0,
          0,
          0,
          0,
          0,
          0,
          0.761,
          0,
          0,
          0.00000448,
          0.055,
          0.00000269,
          0,
          0,
          0,
          0,
          0,
          0.943,
          0.859,
          0.847,
          0.964,
          0.455,
          0.731,
          0.84,
          0.749,
          0.398,
          0.774,
          0.876,
          0.698,
          0.846,
          0.851,
          0.954,
          0.871,
          0.511,
          0.908,
          0.649,
          0.922,
          0.797,
          0.45,
          0.802,
          0.951,
          0.929,
          0.594,
          0.577,
          0.89,
          0.755,
          0.807,
          0.358,
          0.767,
          0.694,
          0.635,
          0.702,
          0.988,
          0.799,
          0.421,
          0.39,
          0.942,
          0.872,
          0.769,
          0.549,
          0.719,
          0.679,
          0.587,
          0.898,
          0.346,
          0.452,
          0.167,
          0.102,
          0.0875,
          0.0728,
          0.0871,
          0.267,
          0.0991,
          0.171,
          0.208,
          0.166,
          0.156,
          0.116,
          0.636,
          0.107,
          0.124,
          0.306,
          0.0982,
          0.2,
          0.25,
          0.233,
          0.126,
          0.101,
          0.275,
          0.0724,
          0.105,
          0.151,
          0.167,
          0.948,
          0.108,
          0.232,
          0.0559,
          0.127,
          0.13,
          0.257,
          0.302,
          0.628,
          0.108,
          0.0903,
          0.103,
          0.0929,
          0.311,
          0.289,
          0.418,
          0.135,
          0.236,
          0.106,
          0.0354,
          0.0803,
          0.0691,
          0.105,
          0.067,
          0.0524,
          0.0288,
          0.119,
          0.0742,
          0.107,
          0.0433,
          0.0916,
          0.183,
          0.934,
          0.042,
          0.0837,
          0.028,
          0.108,
          0.0281,
          0.0518,
          0.0318,
          0.0344,
          0.0366,
          0.0406,
          0.0284,
          0.12,
          0.0774,
          0.055,
          0.0348,
          0.405,
          0.198,
          0.0292,
          0.0801,
          0.132,
          0.0276,
          0.0364,
          0.0354,
          0.0401,
          0.0295,
          0.0299,
          0.0332,
          0.0955,
          0.0305,
          0.0296,
          0.671,
          0.571,
          0.484,
          0.869,
          0.792,
          0.916,
          0.926,
          0.604,
          0.597,
          0.87,
          0.966,
          0.702,
          0.784,
          0.558,
          0.673,
          0.49,
          0.192,
          0.761,
          0.483,
          0.944,
          0.875,
          0.809,
          0.526,
          0.37,
          0.96,
          0.832,
          0.53,
          0.683,
          0.507,
          0.753,
          0.547,
          0.687,
          0.806,
          0.943,
          0.0564,
          0.648,
          0.801,
          0.961,
          0.29,
          0.763,
          0.561,
          0.882,
          0.669,
          0.668,
          0.885,
          0.189
         ],
         "y0": " ",
         "yaxis": "y"
        }
       ],
       "layout": {
        "boxmode": "group",
        "legend": {
         "tracegroupgap": 0
        },
        "margin": {
         "t": 60
        },
        "template": {
         "data": {
          "bar": [
           {
            "error_x": {
             "color": "#2a3f5f"
            },
            "error_y": {
             "color": "#2a3f5f"
            },
            "marker": {
             "line": {
              "color": "#E5ECF6",
              "width": 0.5
             },
             "pattern": {
              "fillmode": "overlay",
              "size": 10,
              "solidity": 0.2
             }
            },
            "type": "bar"
           }
          ],
          "barpolar": [
           {
            "marker": {
             "line": {
              "color": "#E5ECF6",
              "width": 0.5
             },
             "pattern": {
              "fillmode": "overlay",
              "size": 10,
              "solidity": 0.2
             }
            },
            "type": "barpolar"
           }
          ],
          "carpet": [
           {
            "aaxis": {
             "endlinecolor": "#2a3f5f",
             "gridcolor": "white",
             "linecolor": "white",
             "minorgridcolor": "white",
             "startlinecolor": "#2a3f5f"
            },
            "baxis": {
             "endlinecolor": "#2a3f5f",
             "gridcolor": "white",
             "linecolor": "white",
             "minorgridcolor": "white",
             "startlinecolor": "#2a3f5f"
            },
            "type": "carpet"
           }
          ],
          "choropleth": [
           {
            "colorbar": {
             "outlinewidth": 0,
             "ticks": ""
            },
            "type": "choropleth"
           }
          ],
          "contour": [
           {
            "colorbar": {
             "outlinewidth": 0,
             "ticks": ""
            },
            "colorscale": [
             [
              0,
              "#0d0887"
             ],
             [
              0.1111111111111111,
              "#46039f"
             ],
             [
              0.2222222222222222,
              "#7201a8"
             ],
             [
              0.3333333333333333,
              "#9c179e"
             ],
             [
              0.4444444444444444,
              "#bd3786"
             ],
             [
              0.5555555555555556,
              "#d8576b"
             ],
             [
              0.6666666666666666,
              "#ed7953"
             ],
             [
              0.7777777777777778,
              "#fb9f3a"
             ],
             [
              0.8888888888888888,
              "#fdca26"
             ],
             [
              1,
              "#f0f921"
             ]
            ],
            "type": "contour"
           }
          ],
          "contourcarpet": [
           {
            "colorbar": {
             "outlinewidth": 0,
             "ticks": ""
            },
            "type": "contourcarpet"
           }
          ],
          "heatmap": [
           {
            "colorbar": {
             "outlinewidth": 0,
             "ticks": ""
            },
            "colorscale": [
             [
              0,
              "#0d0887"
             ],
             [
              0.1111111111111111,
              "#46039f"
             ],
             [
              0.2222222222222222,
              "#7201a8"
             ],
             [
              0.3333333333333333,
              "#9c179e"
             ],
             [
              0.4444444444444444,
              "#bd3786"
             ],
             [
              0.5555555555555556,
              "#d8576b"
             ],
             [
              0.6666666666666666,
              "#ed7953"
             ],
             [
              0.7777777777777778,
              "#fb9f3a"
             ],
             [
              0.8888888888888888,
              "#fdca26"
             ],
             [
              1,
              "#f0f921"
             ]
            ],
            "type": "heatmap"
           }
          ],
          "heatmapgl": [
           {
            "colorbar": {
             "outlinewidth": 0,
             "ticks": ""
            },
            "colorscale": [
             [
              0,
              "#0d0887"
             ],
             [
              0.1111111111111111,
              "#46039f"
             ],
             [
              0.2222222222222222,
              "#7201a8"
             ],
             [
              0.3333333333333333,
              "#9c179e"
             ],
             [
              0.4444444444444444,
              "#bd3786"
             ],
             [
              0.5555555555555556,
              "#d8576b"
             ],
             [
              0.6666666666666666,
              "#ed7953"
             ],
             [
              0.7777777777777778,
              "#fb9f3a"
             ],
             [
              0.8888888888888888,
              "#fdca26"
             ],
             [
              1,
              "#f0f921"
             ]
            ],
            "type": "heatmapgl"
           }
          ],
          "histogram": [
           {
            "marker": {
             "pattern": {
              "fillmode": "overlay",
              "size": 10,
              "solidity": 0.2
             }
            },
            "type": "histogram"
           }
          ],
          "histogram2d": [
           {
            "colorbar": {
             "outlinewidth": 0,
             "ticks": ""
            },
            "colorscale": [
             [
              0,
              "#0d0887"
             ],
             [
              0.1111111111111111,
              "#46039f"
             ],
             [
              0.2222222222222222,
              "#7201a8"
             ],
             [
              0.3333333333333333,
              "#9c179e"
             ],
             [
              0.4444444444444444,
              "#bd3786"
             ],
             [
              0.5555555555555556,
              "#d8576b"
             ],
             [
              0.6666666666666666,
              "#ed7953"
             ],
             [
              0.7777777777777778,
              "#fb9f3a"
             ],
             [
              0.8888888888888888,
              "#fdca26"
             ],
             [
              1,
              "#f0f921"
             ]
            ],
            "type": "histogram2d"
           }
          ],
          "histogram2dcontour": [
           {
            "colorbar": {
             "outlinewidth": 0,
             "ticks": ""
            },
            "colorscale": [
             [
              0,
              "#0d0887"
             ],
             [
              0.1111111111111111,
              "#46039f"
             ],
             [
              0.2222222222222222,
              "#7201a8"
             ],
             [
              0.3333333333333333,
              "#9c179e"
             ],
             [
              0.4444444444444444,
              "#bd3786"
             ],
             [
              0.5555555555555556,
              "#d8576b"
             ],
             [
              0.6666666666666666,
              "#ed7953"
             ],
             [
              0.7777777777777778,
              "#fb9f3a"
             ],
             [
              0.8888888888888888,
              "#fdca26"
             ],
             [
              1,
              "#f0f921"
             ]
            ],
            "type": "histogram2dcontour"
           }
          ],
          "mesh3d": [
           {
            "colorbar": {
             "outlinewidth": 0,
             "ticks": ""
            },
            "type": "mesh3d"
           }
          ],
          "parcoords": [
           {
            "line": {
             "colorbar": {
              "outlinewidth": 0,
              "ticks": ""
             }
            },
            "type": "parcoords"
           }
          ],
          "pie": [
           {
            "automargin": true,
            "type": "pie"
           }
          ],
          "scatter": [
           {
            "fillpattern": {
             "fillmode": "overlay",
             "size": 10,
             "solidity": 0.2
            },
            "type": "scatter"
           }
          ],
          "scatter3d": [
           {
            "line": {
             "colorbar": {
              "outlinewidth": 0,
              "ticks": ""
             }
            },
            "marker": {
             "colorbar": {
              "outlinewidth": 0,
              "ticks": ""
             }
            },
            "type": "scatter3d"
           }
          ],
          "scattercarpet": [
           {
            "marker": {
             "colorbar": {
              "outlinewidth": 0,
              "ticks": ""
             }
            },
            "type": "scattercarpet"
           }
          ],
          "scattergeo": [
           {
            "marker": {
             "colorbar": {
              "outlinewidth": 0,
              "ticks": ""
             }
            },
            "type": "scattergeo"
           }
          ],
          "scattergl": [
           {
            "marker": {
             "colorbar": {
              "outlinewidth": 0,
              "ticks": ""
             }
            },
            "type": "scattergl"
           }
          ],
          "scattermapbox": [
           {
            "marker": {
             "colorbar": {
              "outlinewidth": 0,
              "ticks": ""
             }
            },
            "type": "scattermapbox"
           }
          ],
          "scatterpolar": [
           {
            "marker": {
             "colorbar": {
              "outlinewidth": 0,
              "ticks": ""
             }
            },
            "type": "scatterpolar"
           }
          ],
          "scatterpolargl": [
           {
            "marker": {
             "colorbar": {
              "outlinewidth": 0,
              "ticks": ""
             }
            },
            "type": "scatterpolargl"
           }
          ],
          "scatterternary": [
           {
            "marker": {
             "colorbar": {
              "outlinewidth": 0,
              "ticks": ""
             }
            },
            "type": "scatterternary"
           }
          ],
          "surface": [
           {
            "colorbar": {
             "outlinewidth": 0,
             "ticks": ""
            },
            "colorscale": [
             [
              0,
              "#0d0887"
             ],
             [
              0.1111111111111111,
              "#46039f"
             ],
             [
              0.2222222222222222,
              "#7201a8"
             ],
             [
              0.3333333333333333,
              "#9c179e"
             ],
             [
              0.4444444444444444,
              "#bd3786"
             ],
             [
              0.5555555555555556,
              "#d8576b"
             ],
             [
              0.6666666666666666,
              "#ed7953"
             ],
             [
              0.7777777777777778,
              "#fb9f3a"
             ],
             [
              0.8888888888888888,
              "#fdca26"
             ],
             [
              1,
              "#f0f921"
             ]
            ],
            "type": "surface"
           }
          ],
          "table": [
           {
            "cells": {
             "fill": {
              "color": "#EBF0F8"
             },
             "line": {
              "color": "white"
             }
            },
            "header": {
             "fill": {
              "color": "#C8D4E3"
             },
             "line": {
              "color": "white"
             }
            },
            "type": "table"
           }
          ]
         },
         "layout": {
          "annotationdefaults": {
           "arrowcolor": "#2a3f5f",
           "arrowhead": 0,
           "arrowwidth": 1
          },
          "autotypenumbers": "strict",
          "coloraxis": {
           "colorbar": {
            "outlinewidth": 0,
            "ticks": ""
           }
          },
          "colorscale": {
           "diverging": [
            [
             0,
             "#8e0152"
            ],
            [
             0.1,
             "#c51b7d"
            ],
            [
             0.2,
             "#de77ae"
            ],
            [
             0.3,
             "#f1b6da"
            ],
            [
             0.4,
             "#fde0ef"
            ],
            [
             0.5,
             "#f7f7f7"
            ],
            [
             0.6,
             "#e6f5d0"
            ],
            [
             0.7,
             "#b8e186"
            ],
            [
             0.8,
             "#7fbc41"
            ],
            [
             0.9,
             "#4d9221"
            ],
            [
             1,
             "#276419"
            ]
           ],
           "sequential": [
            [
             0,
             "#0d0887"
            ],
            [
             0.1111111111111111,
             "#46039f"
            ],
            [
             0.2222222222222222,
             "#7201a8"
            ],
            [
             0.3333333333333333,
             "#9c179e"
            ],
            [
             0.4444444444444444,
             "#bd3786"
            ],
            [
             0.5555555555555556,
             "#d8576b"
            ],
            [
             0.6666666666666666,
             "#ed7953"
            ],
            [
             0.7777777777777778,
             "#fb9f3a"
            ],
            [
             0.8888888888888888,
             "#fdca26"
            ],
            [
             1,
             "#f0f921"
            ]
           ],
           "sequentialminus": [
            [
             0,
             "#0d0887"
            ],
            [
             0.1111111111111111,
             "#46039f"
            ],
            [
             0.2222222222222222,
             "#7201a8"
            ],
            [
             0.3333333333333333,
             "#9c179e"
            ],
            [
             0.4444444444444444,
             "#bd3786"
            ],
            [
             0.5555555555555556,
             "#d8576b"
            ],
            [
             0.6666666666666666,
             "#ed7953"
            ],
            [
             0.7777777777777778,
             "#fb9f3a"
            ],
            [
             0.8888888888888888,
             "#fdca26"
            ],
            [
             1,
             "#f0f921"
            ]
           ]
          },
          "colorway": [
           "#636efa",
           "#EF553B",
           "#00cc96",
           "#ab63fa",
           "#FFA15A",
           "#19d3f3",
           "#FF6692",
           "#B6E880",
           "#FF97FF",
           "#FECB52"
          ],
          "font": {
           "color": "#2a3f5f"
          },
          "geo": {
           "bgcolor": "white",
           "lakecolor": "white",
           "landcolor": "#E5ECF6",
           "showlakes": true,
           "showland": true,
           "subunitcolor": "white"
          },
          "hoverlabel": {
           "align": "left"
          },
          "hovermode": "closest",
          "mapbox": {
           "style": "light"
          },
          "paper_bgcolor": "white",
          "plot_bgcolor": "#E5ECF6",
          "polar": {
           "angularaxis": {
            "gridcolor": "white",
            "linecolor": "white",
            "ticks": ""
           },
           "bgcolor": "#E5ECF6",
           "radialaxis": {
            "gridcolor": "white",
            "linecolor": "white",
            "ticks": ""
           }
          },
          "scene": {
           "xaxis": {
            "backgroundcolor": "#E5ECF6",
            "gridcolor": "white",
            "gridwidth": 2,
            "linecolor": "white",
            "showbackground": true,
            "ticks": "",
            "zerolinecolor": "white"
           },
           "yaxis": {
            "backgroundcolor": "#E5ECF6",
            "gridcolor": "white",
            "gridwidth": 2,
            "linecolor": "white",
            "showbackground": true,
            "ticks": "",
            "zerolinecolor": "white"
           },
           "zaxis": {
            "backgroundcolor": "#E5ECF6",
            "gridcolor": "white",
            "gridwidth": 2,
            "linecolor": "white",
            "showbackground": true,
            "ticks": "",
            "zerolinecolor": "white"
           }
          },
          "shapedefaults": {
           "line": {
            "color": "#2a3f5f"
           }
          },
          "ternary": {
           "aaxis": {
            "gridcolor": "white",
            "linecolor": "white",
            "ticks": ""
           },
           "baxis": {
            "gridcolor": "white",
            "linecolor": "white",
            "ticks": ""
           },
           "bgcolor": "#E5ECF6",
           "caxis": {
            "gridcolor": "white",
            "linecolor": "white",
            "ticks": ""
           }
          },
          "title": {
           "x": 0.05
          },
          "xaxis": {
           "automargin": true,
           "gridcolor": "white",
           "linecolor": "white",
           "ticks": "",
           "title": {
            "standoff": 15
           },
           "zerolinecolor": "white",
           "zerolinewidth": 2
          },
          "yaxis": {
           "automargin": true,
           "gridcolor": "white",
           "linecolor": "white",
           "ticks": "",
           "title": {
            "standoff": 15
           },
           "zerolinecolor": "white",
           "zerolinewidth": 2
          }
         }
        },
        "xaxis": {
         "anchor": "y",
         "domain": [
          0,
          1
         ],
         "title": {
          "text": "variable"
         }
        },
        "yaxis": {
         "anchor": "x",
         "domain": [
          0,
          1
         ],
         "title": {
          "text": "value"
         }
        }
       }
      }
     },
     "metadata": {},
     "output_type": "display_data"
    }
   ],
   "source": [
    "fig = px.box(df1, # what dataframe are we using?\n",
    "             # What df columns do we want to plot?\n",
    "             y=['danceability', 'energy', 'instrumentalness', 'acousticness', 'liveness', 'speechiness', 'valence'],\n",
    "             # Show the individual data points\n",
    "             points='all',\n",
    "             # Show the name of the song when hovering\n",
    "             hover_name='track.name')\n",
    "fig.show()"
   ]
  },
  {
   "cell_type": "code",
   "execution_count": 4,
   "id": "210c910a",
   "metadata": {},
   "outputs": [],
   "source": [
    "other_playlist_name = 'This Is Jools TV'\n",
    "df2 = pd.read_csv(f\"data/{other_playlist_name}.csv\")\n",
    "fix_df(df2, other_playlist_name)\n",
    "\n",
    "# stick this df at the bottom of the other df\n",
    "data = pd.concat([df1, df2])"
   ]
  },
  {
   "cell_type": "code",
   "execution_count": 5,
   "id": "095fdf34",
   "metadata": {},
   "outputs": [
    {
     "data": {
      "application/vnd.plotly.v1+json": {
       "config": {
        "plotlyServerURL": "https://plot.ly"
       },
       "data": [
        {
         "hovertemplate": "<b>%{hovertext}</b><br><br>playlist=This Is Raffi<br>track.duration_ms=%{x}<br>tempo=%{y}<extra></extra>",
         "hovertext": [
          "Shake My Sillies Out",
          "Baby Beluga",
          "Twinkle, Twinkle, Little Star",
          "Down By The Bay",
          "Going on a Picnic",
          "Six Little Ducks",
          "Apples And Bananas",
          "Mr. Sun",
          "Listen to the Horses",
          "If You're Happy And You Know It",
          "Oats and Beans and Barley",
          "Baa Baa Black Sheep",
          "Frere Jacques",
          "Eensy Weensy Spider",
          "Workin' on the Railroad",
          "Brush Your Teeth",
          "Row, Row, Row",
          "Peanut Butter Sandwich",
          "Spring Flowers",
          "The Sharing Song",
          "Everything Grows",
          "The Corner Grocery Store",
          "Fais Dodo",
          "Thanks A Lot",
          "Bathtime",
          "Bananaphone",
          "Like Me And You",
          "This Old Man",
          "Five Little Ducks",
          "Baby Beluga",
          "Mary Wore Her Red Dress",
          "Day O",
          "Let's Play",
          "Skip To My Lou",
          "Nursery Rhyme Instrumental",
          "Biscuits in the Oven",
          "This Little Light of Mine",
          "Octopus's Garden",
          "One Light, One Sun",
          "Luna's Song",
          "Rise And Shine",
          "Yellow Submarine",
          "Love Bug",
          "Going to the Zoo",
          "He's Got the Whole World",
          "Rock-A-Bye Baby"
         ],
         "legendgroup": "This Is Raffi",
         "marker": {
          "color": "#636efa",
          "symbol": "circle"
         },
         "mode": "markers",
         "name": "This Is Raffi",
         "orientation": "v",
         "showlegend": true,
         "type": "scatter",
         "x": [
          65053,
          160826,
          71160,
          128213,
          71040,
          93800,
          98040,
          76693,
          116120,
          74453,
          85133,
          59520,
          65186,
          88360,
          68146,
          72173,
          83493,
          58413,
          159840,
          65626,
          151906,
          112133,
          90573,
          147160,
          178533,
          194360,
          161533,
          143600,
          138426,
          162626,
          87466,
          179360,
          164146,
          129666,
          82706,
          144733,
          123040,
          174293,
          127533,
          122826,
          130000,
          175266,
          142720,
          100013,
          135786,
          69813
         ],
         "xaxis": "x",
         "y": [
          185.302,
          137.52,
          97.764,
          204.418,
          128.483,
          77.212,
          140.109,
          87.704,
          100.221,
          70.192,
          121.304,
          122.397,
          117.993,
          80.147,
          87.539,
          81.91,
          83.373,
          89.341,
          106.028,
          89.017,
          130.789,
          145.974,
          74.211,
          110.817,
          75.773,
          91.263,
          98.614,
          95.283,
          102.874,
          126.606,
          99.135,
          124.98,
          184.676,
          96.624,
          74.668,
          97.232,
          92.723,
          185.104,
          198.465,
          82.002,
          89.178,
          108.272,
          110.038,
          186.285,
          120.907,
          91.31
         ],
         "yaxis": "y"
        },
        {
         "alignmentgroup": "True",
         "hovertemplate": "<b>%{hovertext}</b><br><br>playlist=This Is Raffi<br>track.duration_ms=%{x}<extra></extra>",
         "hovertext": [
          "Shake My Sillies Out",
          "Baby Beluga",
          "Twinkle, Twinkle, Little Star",
          "Down By The Bay",
          "Going on a Picnic",
          "Six Little Ducks",
          "Apples And Bananas",
          "Mr. Sun",
          "Listen to the Horses",
          "If You're Happy And You Know It",
          "Oats and Beans and Barley",
          "Baa Baa Black Sheep",
          "Frere Jacques",
          "Eensy Weensy Spider",
          "Workin' on the Railroad",
          "Brush Your Teeth",
          "Row, Row, Row",
          "Peanut Butter Sandwich",
          "Spring Flowers",
          "The Sharing Song",
          "Everything Grows",
          "The Corner Grocery Store",
          "Fais Dodo",
          "Thanks A Lot",
          "Bathtime",
          "Bananaphone",
          "Like Me And You",
          "This Old Man",
          "Five Little Ducks",
          "Baby Beluga",
          "Mary Wore Her Red Dress",
          "Day O",
          "Let's Play",
          "Skip To My Lou",
          "Nursery Rhyme Instrumental",
          "Biscuits in the Oven",
          "This Little Light of Mine",
          "Octopus's Garden",
          "One Light, One Sun",
          "Luna's Song",
          "Rise And Shine",
          "Yellow Submarine",
          "Love Bug",
          "Going to the Zoo",
          "He's Got the Whole World",
          "Rock-A-Bye Baby"
         ],
         "legendgroup": "This Is Raffi",
         "marker": {
          "color": "#636efa",
          "symbol": "circle"
         },
         "name": "This Is Raffi",
         "notched": true,
         "offsetgroup": "This Is Raffi",
         "showlegend": false,
         "type": "box",
         "x": [
          65053,
          160826,
          71160,
          128213,
          71040,
          93800,
          98040,
          76693,
          116120,
          74453,
          85133,
          59520,
          65186,
          88360,
          68146,
          72173,
          83493,
          58413,
          159840,
          65626,
          151906,
          112133,
          90573,
          147160,
          178533,
          194360,
          161533,
          143600,
          138426,
          162626,
          87466,
          179360,
          164146,
          129666,
          82706,
          144733,
          123040,
          174293,
          127533,
          122826,
          130000,
          175266,
          142720,
          100013,
          135786,
          69813
         ],
         "xaxis": "x2",
         "yaxis": "y2"
        },
        {
         "hovertemplate": "<b>%{hovertext}</b><br><br>playlist=This Is Jools TV<br>track.duration_ms=%{x}<br>tempo=%{y}<extra></extra>",
         "hovertext": [
          "Big Bad Wolf",
          "Affirmations",
          "ABC Song Hip Hop Remix - Remix",
          "MKB (Mama Knows Best)",
          "Wheels On The Bus",
          "Brush",
          "Jumping in the bed",
          "Itsy Bitsy Spider",
          "Head, Shoulders, Knees, Toes",
          "Happy And You Know It",
          "Simon Says",
          "The Continents",
          "Count With Me",
          "Twinkle Twinkle Little Star",
          "How I Feel",
          "I Can",
          "Old McDonald",
          "Be Brave",
          "Clean up song",
          "Hickory Dickory Dock",
          "Color Song",
          "Good Morning",
          "Potty Song (Parody)",
          "Breathe",
          "Humpty Dumpty (Trap Nursery)",
          "Gingerbread Man",
          "BINGO",
          "Days Of The Week",
          "Get Fit",
          "Outside",
          "Zoo",
          "Months Of The Year",
          "Dream Big",
          "Rain Rain",
          "Veggies",
          "Wash Your Hands",
          "Ants Go Marching",
          "Errands",
          "Down by the bay",
          "Skidamarink",
          "New Year New Me",
          "Adding Song"
         ],
         "legendgroup": "This Is Jools TV",
         "marker": {
          "color": "#EF553B",
          "symbol": "circle"
         },
         "mode": "markers",
         "name": "This Is Jools TV",
         "orientation": "v",
         "showlegend": true,
         "type": "scatter",
         "x": [
          185840,
          157244,
          183065,
          167428,
          163071,
          122640,
          108435,
          212628,
          145266,
          185658,
          113057,
          130054,
          214762,
          170292,
          94103,
          172472,
          182073,
          203284,
          72620,
          205408,
          221753,
          189846,
          131186,
          164236,
          144220,
          195866,
          173294,
          178187,
          189432,
          194255,
          183012,
          163356,
          201305,
          184803,
          130187,
          141011,
          173680,
          148330,
          220379,
          201357,
          162234,
          174291
         ],
         "xaxis": "x",
         "y": [
          138.036,
          152.988,
          137.037,
          94.995,
          180.014,
          166.038,
          120.032,
          95.987,
          80.001,
          110.012,
          130.069,
          107.952,
          132.057,
          172.075,
          145.948,
          141.99,
          147.864,
          137.01,
          162.003,
          138.13,
          99.999,
          155.03,
          193.996,
          120.025,
          149.983,
          151.974,
          147.029,
          184.981,
          102.996,
          135.097,
          122.015,
          96.995,
          136.057,
          103.965,
          149.962,
          110.007,
          119.021,
          169.909,
          97,
          66.642,
          153.903,
          159.963
         ],
         "yaxis": "y"
        },
        {
         "alignmentgroup": "True",
         "hovertemplate": "<b>%{hovertext}</b><br><br>playlist=This Is Jools TV<br>track.duration_ms=%{x}<extra></extra>",
         "hovertext": [
          "Big Bad Wolf",
          "Affirmations",
          "ABC Song Hip Hop Remix - Remix",
          "MKB (Mama Knows Best)",
          "Wheels On The Bus",
          "Brush",
          "Jumping in the bed",
          "Itsy Bitsy Spider",
          "Head, Shoulders, Knees, Toes",
          "Happy And You Know It",
          "Simon Says",
          "The Continents",
          "Count With Me",
          "Twinkle Twinkle Little Star",
          "How I Feel",
          "I Can",
          "Old McDonald",
          "Be Brave",
          "Clean up song",
          "Hickory Dickory Dock",
          "Color Song",
          "Good Morning",
          "Potty Song (Parody)",
          "Breathe",
          "Humpty Dumpty (Trap Nursery)",
          "Gingerbread Man",
          "BINGO",
          "Days Of The Week",
          "Get Fit",
          "Outside",
          "Zoo",
          "Months Of The Year",
          "Dream Big",
          "Rain Rain",
          "Veggies",
          "Wash Your Hands",
          "Ants Go Marching",
          "Errands",
          "Down by the bay",
          "Skidamarink",
          "New Year New Me",
          "Adding Song"
         ],
         "legendgroup": "This Is Jools TV",
         "marker": {
          "color": "#EF553B",
          "symbol": "circle"
         },
         "name": "This Is Jools TV",
         "notched": true,
         "offsetgroup": "This Is Jools TV",
         "showlegend": false,
         "type": "box",
         "x": [
          185840,
          157244,
          183065,
          167428,
          163071,
          122640,
          108435,
          212628,
          145266,
          185658,
          113057,
          130054,
          214762,
          170292,
          94103,
          172472,
          182073,
          203284,
          72620,
          205408,
          221753,
          189846,
          131186,
          164236,
          144220,
          195866,
          173294,
          178187,
          189432,
          194255,
          183012,
          163356,
          201305,
          184803,
          130187,
          141011,
          173680,
          148330,
          220379,
          201357,
          162234,
          174291
         ],
         "xaxis": "x2",
         "yaxis": "y2"
        }
       ],
       "layout": {
        "legend": {
         "title": {
          "text": "playlist"
         },
         "tracegroupgap": 0
        },
        "margin": {
         "t": 60
        },
        "template": {
         "data": {
          "bar": [
           {
            "error_x": {
             "color": "#2a3f5f"
            },
            "error_y": {
             "color": "#2a3f5f"
            },
            "marker": {
             "line": {
              "color": "#E5ECF6",
              "width": 0.5
             },
             "pattern": {
              "fillmode": "overlay",
              "size": 10,
              "solidity": 0.2
             }
            },
            "type": "bar"
           }
          ],
          "barpolar": [
           {
            "marker": {
             "line": {
              "color": "#E5ECF6",
              "width": 0.5
             },
             "pattern": {
              "fillmode": "overlay",
              "size": 10,
              "solidity": 0.2
             }
            },
            "type": "barpolar"
           }
          ],
          "carpet": [
           {
            "aaxis": {
             "endlinecolor": "#2a3f5f",
             "gridcolor": "white",
             "linecolor": "white",
             "minorgridcolor": "white",
             "startlinecolor": "#2a3f5f"
            },
            "baxis": {
             "endlinecolor": "#2a3f5f",
             "gridcolor": "white",
             "linecolor": "white",
             "minorgridcolor": "white",
             "startlinecolor": "#2a3f5f"
            },
            "type": "carpet"
           }
          ],
          "choropleth": [
           {
            "colorbar": {
             "outlinewidth": 0,
             "ticks": ""
            },
            "type": "choropleth"
           }
          ],
          "contour": [
           {
            "colorbar": {
             "outlinewidth": 0,
             "ticks": ""
            },
            "colorscale": [
             [
              0,
              "#0d0887"
             ],
             [
              0.1111111111111111,
              "#46039f"
             ],
             [
              0.2222222222222222,
              "#7201a8"
             ],
             [
              0.3333333333333333,
              "#9c179e"
             ],
             [
              0.4444444444444444,
              "#bd3786"
             ],
             [
              0.5555555555555556,
              "#d8576b"
             ],
             [
              0.6666666666666666,
              "#ed7953"
             ],
             [
              0.7777777777777778,
              "#fb9f3a"
             ],
             [
              0.8888888888888888,
              "#fdca26"
             ],
             [
              1,
              "#f0f921"
             ]
            ],
            "type": "contour"
           }
          ],
          "contourcarpet": [
           {
            "colorbar": {
             "outlinewidth": 0,
             "ticks": ""
            },
            "type": "contourcarpet"
           }
          ],
          "heatmap": [
           {
            "colorbar": {
             "outlinewidth": 0,
             "ticks": ""
            },
            "colorscale": [
             [
              0,
              "#0d0887"
             ],
             [
              0.1111111111111111,
              "#46039f"
             ],
             [
              0.2222222222222222,
              "#7201a8"
             ],
             [
              0.3333333333333333,
              "#9c179e"
             ],
             [
              0.4444444444444444,
              "#bd3786"
             ],
             [
              0.5555555555555556,
              "#d8576b"
             ],
             [
              0.6666666666666666,
              "#ed7953"
             ],
             [
              0.7777777777777778,
              "#fb9f3a"
             ],
             [
              0.8888888888888888,
              "#fdca26"
             ],
             [
              1,
              "#f0f921"
             ]
            ],
            "type": "heatmap"
           }
          ],
          "heatmapgl": [
           {
            "colorbar": {
             "outlinewidth": 0,
             "ticks": ""
            },
            "colorscale": [
             [
              0,
              "#0d0887"
             ],
             [
              0.1111111111111111,
              "#46039f"
             ],
             [
              0.2222222222222222,
              "#7201a8"
             ],
             [
              0.3333333333333333,
              "#9c179e"
             ],
             [
              0.4444444444444444,
              "#bd3786"
             ],
             [
              0.5555555555555556,
              "#d8576b"
             ],
             [
              0.6666666666666666,
              "#ed7953"
             ],
             [
              0.7777777777777778,
              "#fb9f3a"
             ],
             [
              0.8888888888888888,
              "#fdca26"
             ],
             [
              1,
              "#f0f921"
             ]
            ],
            "type": "heatmapgl"
           }
          ],
          "histogram": [
           {
            "marker": {
             "pattern": {
              "fillmode": "overlay",
              "size": 10,
              "solidity": 0.2
             }
            },
            "type": "histogram"
           }
          ],
          "histogram2d": [
           {
            "colorbar": {
             "outlinewidth": 0,
             "ticks": ""
            },
            "colorscale": [
             [
              0,
              "#0d0887"
             ],
             [
              0.1111111111111111,
              "#46039f"
             ],
             [
              0.2222222222222222,
              "#7201a8"
             ],
             [
              0.3333333333333333,
              "#9c179e"
             ],
             [
              0.4444444444444444,
              "#bd3786"
             ],
             [
              0.5555555555555556,
              "#d8576b"
             ],
             [
              0.6666666666666666,
              "#ed7953"
             ],
             [
              0.7777777777777778,
              "#fb9f3a"
             ],
             [
              0.8888888888888888,
              "#fdca26"
             ],
             [
              1,
              "#f0f921"
             ]
            ],
            "type": "histogram2d"
           }
          ],
          "histogram2dcontour": [
           {
            "colorbar": {
             "outlinewidth": 0,
             "ticks": ""
            },
            "colorscale": [
             [
              0,
              "#0d0887"
             ],
             [
              0.1111111111111111,
              "#46039f"
             ],
             [
              0.2222222222222222,
              "#7201a8"
             ],
             [
              0.3333333333333333,
              "#9c179e"
             ],
             [
              0.4444444444444444,
              "#bd3786"
             ],
             [
              0.5555555555555556,
              "#d8576b"
             ],
             [
              0.6666666666666666,
              "#ed7953"
             ],
             [
              0.7777777777777778,
              "#fb9f3a"
             ],
             [
              0.8888888888888888,
              "#fdca26"
             ],
             [
              1,
              "#f0f921"
             ]
            ],
            "type": "histogram2dcontour"
           }
          ],
          "mesh3d": [
           {
            "colorbar": {
             "outlinewidth": 0,
             "ticks": ""
            },
            "type": "mesh3d"
           }
          ],
          "parcoords": [
           {
            "line": {
             "colorbar": {
              "outlinewidth": 0,
              "ticks": ""
             }
            },
            "type": "parcoords"
           }
          ],
          "pie": [
           {
            "automargin": true,
            "type": "pie"
           }
          ],
          "scatter": [
           {
            "fillpattern": {
             "fillmode": "overlay",
             "size": 10,
             "solidity": 0.2
            },
            "type": "scatter"
           }
          ],
          "scatter3d": [
           {
            "line": {
             "colorbar": {
              "outlinewidth": 0,
              "ticks": ""
             }
            },
            "marker": {
             "colorbar": {
              "outlinewidth": 0,
              "ticks": ""
             }
            },
            "type": "scatter3d"
           }
          ],
          "scattercarpet": [
           {
            "marker": {
             "colorbar": {
              "outlinewidth": 0,
              "ticks": ""
             }
            },
            "type": "scattercarpet"
           }
          ],
          "scattergeo": [
           {
            "marker": {
             "colorbar": {
              "outlinewidth": 0,
              "ticks": ""
             }
            },
            "type": "scattergeo"
           }
          ],
          "scattergl": [
           {
            "marker": {
             "colorbar": {
              "outlinewidth": 0,
              "ticks": ""
             }
            },
            "type": "scattergl"
           }
          ],
          "scattermapbox": [
           {
            "marker": {
             "colorbar": {
              "outlinewidth": 0,
              "ticks": ""
             }
            },
            "type": "scattermapbox"
           }
          ],
          "scatterpolar": [
           {
            "marker": {
             "colorbar": {
              "outlinewidth": 0,
              "ticks": ""
             }
            },
            "type": "scatterpolar"
           }
          ],
          "scatterpolargl": [
           {
            "marker": {
             "colorbar": {
              "outlinewidth": 0,
              "ticks": ""
             }
            },
            "type": "scatterpolargl"
           }
          ],
          "scatterternary": [
           {
            "marker": {
             "colorbar": {
              "outlinewidth": 0,
              "ticks": ""
             }
            },
            "type": "scatterternary"
           }
          ],
          "surface": [
           {
            "colorbar": {
             "outlinewidth": 0,
             "ticks": ""
            },
            "colorscale": [
             [
              0,
              "#0d0887"
             ],
             [
              0.1111111111111111,
              "#46039f"
             ],
             [
              0.2222222222222222,
              "#7201a8"
             ],
             [
              0.3333333333333333,
              "#9c179e"
             ],
             [
              0.4444444444444444,
              "#bd3786"
             ],
             [
              0.5555555555555556,
              "#d8576b"
             ],
             [
              0.6666666666666666,
              "#ed7953"
             ],
             [
              0.7777777777777778,
              "#fb9f3a"
             ],
             [
              0.8888888888888888,
              "#fdca26"
             ],
             [
              1,
              "#f0f921"
             ]
            ],
            "type": "surface"
           }
          ],
          "table": [
           {
            "cells": {
             "fill": {
              "color": "#EBF0F8"
             },
             "line": {
              "color": "white"
             }
            },
            "header": {
             "fill": {
              "color": "#C8D4E3"
             },
             "line": {
              "color": "white"
             }
            },
            "type": "table"
           }
          ]
         },
         "layout": {
          "annotationdefaults": {
           "arrowcolor": "#2a3f5f",
           "arrowhead": 0,
           "arrowwidth": 1
          },
          "autotypenumbers": "strict",
          "coloraxis": {
           "colorbar": {
            "outlinewidth": 0,
            "ticks": ""
           }
          },
          "colorscale": {
           "diverging": [
            [
             0,
             "#8e0152"
            ],
            [
             0.1,
             "#c51b7d"
            ],
            [
             0.2,
             "#de77ae"
            ],
            [
             0.3,
             "#f1b6da"
            ],
            [
             0.4,
             "#fde0ef"
            ],
            [
             0.5,
             "#f7f7f7"
            ],
            [
             0.6,
             "#e6f5d0"
            ],
            [
             0.7,
             "#b8e186"
            ],
            [
             0.8,
             "#7fbc41"
            ],
            [
             0.9,
             "#4d9221"
            ],
            [
             1,
             "#276419"
            ]
           ],
           "sequential": [
            [
             0,
             "#0d0887"
            ],
            [
             0.1111111111111111,
             "#46039f"
            ],
            [
             0.2222222222222222,
             "#7201a8"
            ],
            [
             0.3333333333333333,
             "#9c179e"
            ],
            [
             0.4444444444444444,
             "#bd3786"
            ],
            [
             0.5555555555555556,
             "#d8576b"
            ],
            [
             0.6666666666666666,
             "#ed7953"
            ],
            [
             0.7777777777777778,
             "#fb9f3a"
            ],
            [
             0.8888888888888888,
             "#fdca26"
            ],
            [
             1,
             "#f0f921"
            ]
           ],
           "sequentialminus": [
            [
             0,
             "#0d0887"
            ],
            [
             0.1111111111111111,
             "#46039f"
            ],
            [
             0.2222222222222222,
             "#7201a8"
            ],
            [
             0.3333333333333333,
             "#9c179e"
            ],
            [
             0.4444444444444444,
             "#bd3786"
            ],
            [
             0.5555555555555556,
             "#d8576b"
            ],
            [
             0.6666666666666666,
             "#ed7953"
            ],
            [
             0.7777777777777778,
             "#fb9f3a"
            ],
            [
             0.8888888888888888,
             "#fdca26"
            ],
            [
             1,
             "#f0f921"
            ]
           ]
          },
          "colorway": [
           "#636efa",
           "#EF553B",
           "#00cc96",
           "#ab63fa",
           "#FFA15A",
           "#19d3f3",
           "#FF6692",
           "#B6E880",
           "#FF97FF",
           "#FECB52"
          ],
          "font": {
           "color": "#2a3f5f"
          },
          "geo": {
           "bgcolor": "white",
           "lakecolor": "white",
           "landcolor": "#E5ECF6",
           "showlakes": true,
           "showland": true,
           "subunitcolor": "white"
          },
          "hoverlabel": {
           "align": "left"
          },
          "hovermode": "closest",
          "mapbox": {
           "style": "light"
          },
          "paper_bgcolor": "white",
          "plot_bgcolor": "#E5ECF6",
          "polar": {
           "angularaxis": {
            "gridcolor": "white",
            "linecolor": "white",
            "ticks": ""
           },
           "bgcolor": "#E5ECF6",
           "radialaxis": {
            "gridcolor": "white",
            "linecolor": "white",
            "ticks": ""
           }
          },
          "scene": {
           "xaxis": {
            "backgroundcolor": "#E5ECF6",
            "gridcolor": "white",
            "gridwidth": 2,
            "linecolor": "white",
            "showbackground": true,
            "ticks": "",
            "zerolinecolor": "white"
           },
           "yaxis": {
            "backgroundcolor": "#E5ECF6",
            "gridcolor": "white",
            "gridwidth": 2,
            "linecolor": "white",
            "showbackground": true,
            "ticks": "",
            "zerolinecolor": "white"
           },
           "zaxis": {
            "backgroundcolor": "#E5ECF6",
            "gridcolor": "white",
            "gridwidth": 2,
            "linecolor": "white",
            "showbackground": true,
            "ticks": "",
            "zerolinecolor": "white"
           }
          },
          "shapedefaults": {
           "line": {
            "color": "#2a3f5f"
           }
          },
          "ternary": {
           "aaxis": {
            "gridcolor": "white",
            "linecolor": "white",
            "ticks": ""
           },
           "baxis": {
            "gridcolor": "white",
            "linecolor": "white",
            "ticks": ""
           },
           "bgcolor": "#E5ECF6",
           "caxis": {
            "gridcolor": "white",
            "linecolor": "white",
            "ticks": ""
           }
          },
          "title": {
           "x": 0.05
          },
          "xaxis": {
           "automargin": true,
           "gridcolor": "white",
           "linecolor": "white",
           "ticks": "",
           "title": {
            "standoff": 15
           },
           "zerolinecolor": "white",
           "zerolinewidth": 2
          },
          "yaxis": {
           "automargin": true,
           "gridcolor": "white",
           "linecolor": "white",
           "ticks": "",
           "title": {
            "standoff": 15
           },
           "zerolinecolor": "white",
           "zerolinewidth": 2
          }
         }
        },
        "xaxis": {
         "anchor": "y",
         "domain": [
          0,
          1
         ],
         "title": {
          "text": "track.duration_ms"
         }
        },
        "xaxis2": {
         "anchor": "y2",
         "domain": [
          0,
          1
         ],
         "matches": "x",
         "showgrid": true,
         "showticklabels": false
        },
        "yaxis": {
         "anchor": "x",
         "domain": [
          0,
          0.7326
         ],
         "title": {
          "text": "tempo"
         }
        },
        "yaxis2": {
         "anchor": "x2",
         "domain": [
          0.7426,
          1
         ],
         "matches": "y2",
         "showgrid": false,
         "showline": false,
         "showticklabels": false,
         "ticks": ""
        }
       }
      }
     },
     "metadata": {},
     "output_type": "display_data"
    }
   ],
   "source": [
    "fig = px.scatter(data, # Which df for our scatterplot?\n",
    "                 x='track.duration_ms', # x-axis\n",
    "                 y='tempo', # y-axis\n",
    "                 hover_name='track.name', # show when hovering\n",
    "                 color='playlist', # color code the playlists\n",
    "                 marginal_x='box' # add a box plot for x-axis values\n",
    "                )\n",
    "fig.show()"
   ]
  },
  {
   "cell_type": "code",
   "execution_count": 6,
   "id": "e4b34346",
   "metadata": {},
   "outputs": [
    {
     "data": {
      "application/vnd.plotly.v1+json": {
       "config": {
        "plotlyServerURL": "https://plot.ly"
       },
       "data": [
        {
         "alignmentgroup": "True",
         "boxpoints": "all",
         "hovertemplate": "<b>%{hovertext}</b><br><br>playlist=This Is Raffi<br>variable=%{x}<br>value=%{y}<extra></extra>",
         "hovertext": [
          "Shake My Sillies Out",
          "Baby Beluga",
          "Twinkle, Twinkle, Little Star",
          "Down By The Bay",
          "Going on a Picnic",
          "Six Little Ducks",
          "Apples And Bananas",
          "Mr. Sun",
          "Listen to the Horses",
          "If You're Happy And You Know It",
          "Oats and Beans and Barley",
          "Baa Baa Black Sheep",
          "Frere Jacques",
          "Eensy Weensy Spider",
          "Workin' on the Railroad",
          "Brush Your Teeth",
          "Row, Row, Row",
          "Peanut Butter Sandwich",
          "Spring Flowers",
          "The Sharing Song",
          "Everything Grows",
          "The Corner Grocery Store",
          "Fais Dodo",
          "Thanks A Lot",
          "Bathtime",
          "Bananaphone",
          "Like Me And You",
          "This Old Man",
          "Five Little Ducks",
          "Baby Beluga",
          "Mary Wore Her Red Dress",
          "Day O",
          "Let's Play",
          "Skip To My Lou",
          "Nursery Rhyme Instrumental",
          "Biscuits in the Oven",
          "This Little Light of Mine",
          "Octopus's Garden",
          "One Light, One Sun",
          "Luna's Song",
          "Rise And Shine",
          "Yellow Submarine",
          "Love Bug",
          "Going to the Zoo",
          "He's Got the Whole World",
          "Rock-A-Bye Baby",
          "Shake My Sillies Out",
          "Baby Beluga",
          "Twinkle, Twinkle, Little Star",
          "Down By The Bay",
          "Going on a Picnic",
          "Six Little Ducks",
          "Apples And Bananas",
          "Mr. Sun",
          "Listen to the Horses",
          "If You're Happy And You Know It",
          "Oats and Beans and Barley",
          "Baa Baa Black Sheep",
          "Frere Jacques",
          "Eensy Weensy Spider",
          "Workin' on the Railroad",
          "Brush Your Teeth",
          "Row, Row, Row",
          "Peanut Butter Sandwich",
          "Spring Flowers",
          "The Sharing Song",
          "Everything Grows",
          "The Corner Grocery Store",
          "Fais Dodo",
          "Thanks A Lot",
          "Bathtime",
          "Bananaphone",
          "Like Me And You",
          "This Old Man",
          "Five Little Ducks",
          "Baby Beluga",
          "Mary Wore Her Red Dress",
          "Day O",
          "Let's Play",
          "Skip To My Lou",
          "Nursery Rhyme Instrumental",
          "Biscuits in the Oven",
          "This Little Light of Mine",
          "Octopus's Garden",
          "One Light, One Sun",
          "Luna's Song",
          "Rise And Shine",
          "Yellow Submarine",
          "Love Bug",
          "Going to the Zoo",
          "He's Got the Whole World",
          "Rock-A-Bye Baby",
          "Shake My Sillies Out",
          "Baby Beluga",
          "Twinkle, Twinkle, Little Star",
          "Down By The Bay",
          "Going on a Picnic",
          "Six Little Ducks",
          "Apples And Bananas",
          "Mr. Sun",
          "Listen to the Horses",
          "If You're Happy And You Know It",
          "Oats and Beans and Barley",
          "Baa Baa Black Sheep",
          "Frere Jacques",
          "Eensy Weensy Spider",
          "Workin' on the Railroad",
          "Brush Your Teeth",
          "Row, Row, Row",
          "Peanut Butter Sandwich",
          "Spring Flowers",
          "The Sharing Song",
          "Everything Grows",
          "The Corner Grocery Store",
          "Fais Dodo",
          "Thanks A Lot",
          "Bathtime",
          "Bananaphone",
          "Like Me And You",
          "This Old Man",
          "Five Little Ducks",
          "Baby Beluga",
          "Mary Wore Her Red Dress",
          "Day O",
          "Let's Play",
          "Skip To My Lou",
          "Nursery Rhyme Instrumental",
          "Biscuits in the Oven",
          "This Little Light of Mine",
          "Octopus's Garden",
          "One Light, One Sun",
          "Luna's Song",
          "Rise And Shine",
          "Yellow Submarine",
          "Love Bug",
          "Going to the Zoo",
          "He's Got the Whole World",
          "Rock-A-Bye Baby",
          "Shake My Sillies Out",
          "Baby Beluga",
          "Twinkle, Twinkle, Little Star",
          "Down By The Bay",
          "Going on a Picnic",
          "Six Little Ducks",
          "Apples And Bananas",
          "Mr. Sun",
          "Listen to the Horses",
          "If You're Happy And You Know It",
          "Oats and Beans and Barley",
          "Baa Baa Black Sheep",
          "Frere Jacques",
          "Eensy Weensy Spider",
          "Workin' on the Railroad",
          "Brush Your Teeth",
          "Row, Row, Row",
          "Peanut Butter Sandwich",
          "Spring Flowers",
          "The Sharing Song",
          "Everything Grows",
          "The Corner Grocery Store",
          "Fais Dodo",
          "Thanks A Lot",
          "Bathtime",
          "Bananaphone",
          "Like Me And You",
          "This Old Man",
          "Five Little Ducks",
          "Baby Beluga",
          "Mary Wore Her Red Dress",
          "Day O",
          "Let's Play",
          "Skip To My Lou",
          "Nursery Rhyme Instrumental",
          "Biscuits in the Oven",
          "This Little Light of Mine",
          "Octopus's Garden",
          "One Light, One Sun",
          "Luna's Song",
          "Rise And Shine",
          "Yellow Submarine",
          "Love Bug",
          "Going to the Zoo",
          "He's Got the Whole World",
          "Rock-A-Bye Baby",
          "Shake My Sillies Out",
          "Baby Beluga",
          "Twinkle, Twinkle, Little Star",
          "Down By The Bay",
          "Going on a Picnic",
          "Six Little Ducks",
          "Apples And Bananas",
          "Mr. Sun",
          "Listen to the Horses",
          "If You're Happy And You Know It",
          "Oats and Beans and Barley",
          "Baa Baa Black Sheep",
          "Frere Jacques",
          "Eensy Weensy Spider",
          "Workin' on the Railroad",
          "Brush Your Teeth",
          "Row, Row, Row",
          "Peanut Butter Sandwich",
          "Spring Flowers",
          "The Sharing Song",
          "Everything Grows",
          "The Corner Grocery Store",
          "Fais Dodo",
          "Thanks A Lot",
          "Bathtime",
          "Bananaphone",
          "Like Me And You",
          "This Old Man",
          "Five Little Ducks",
          "Baby Beluga",
          "Mary Wore Her Red Dress",
          "Day O",
          "Let's Play",
          "Skip To My Lou",
          "Nursery Rhyme Instrumental",
          "Biscuits in the Oven",
          "This Little Light of Mine",
          "Octopus's Garden",
          "One Light, One Sun",
          "Luna's Song",
          "Rise And Shine",
          "Yellow Submarine",
          "Love Bug",
          "Going to the Zoo",
          "He's Got the Whole World",
          "Rock-A-Bye Baby",
          "Shake My Sillies Out",
          "Baby Beluga",
          "Twinkle, Twinkle, Little Star",
          "Down By The Bay",
          "Going on a Picnic",
          "Six Little Ducks",
          "Apples And Bananas",
          "Mr. Sun",
          "Listen to the Horses",
          "If You're Happy And You Know It",
          "Oats and Beans and Barley",
          "Baa Baa Black Sheep",
          "Frere Jacques",
          "Eensy Weensy Spider",
          "Workin' on the Railroad",
          "Brush Your Teeth",
          "Row, Row, Row",
          "Peanut Butter Sandwich",
          "Spring Flowers",
          "The Sharing Song",
          "Everything Grows",
          "The Corner Grocery Store",
          "Fais Dodo",
          "Thanks A Lot",
          "Bathtime",
          "Bananaphone",
          "Like Me And You",
          "This Old Man",
          "Five Little Ducks",
          "Baby Beluga",
          "Mary Wore Her Red Dress",
          "Day O",
          "Let's Play",
          "Skip To My Lou",
          "Nursery Rhyme Instrumental",
          "Biscuits in the Oven",
          "This Little Light of Mine",
          "Octopus's Garden",
          "One Light, One Sun",
          "Luna's Song",
          "Rise And Shine",
          "Yellow Submarine",
          "Love Bug",
          "Going to the Zoo",
          "He's Got the Whole World",
          "Rock-A-Bye Baby",
          "Shake My Sillies Out",
          "Baby Beluga",
          "Twinkle, Twinkle, Little Star",
          "Down By The Bay",
          "Going on a Picnic",
          "Six Little Ducks",
          "Apples And Bananas",
          "Mr. Sun",
          "Listen to the Horses",
          "If You're Happy And You Know It",
          "Oats and Beans and Barley",
          "Baa Baa Black Sheep",
          "Frere Jacques",
          "Eensy Weensy Spider",
          "Workin' on the Railroad",
          "Brush Your Teeth",
          "Row, Row, Row",
          "Peanut Butter Sandwich",
          "Spring Flowers",
          "The Sharing Song",
          "Everything Grows",
          "The Corner Grocery Store",
          "Fais Dodo",
          "Thanks A Lot",
          "Bathtime",
          "Bananaphone",
          "Like Me And You",
          "This Old Man",
          "Five Little Ducks",
          "Baby Beluga",
          "Mary Wore Her Red Dress",
          "Day O",
          "Let's Play",
          "Skip To My Lou",
          "Nursery Rhyme Instrumental",
          "Biscuits in the Oven",
          "This Little Light of Mine",
          "Octopus's Garden",
          "One Light, One Sun",
          "Luna's Song",
          "Rise And Shine",
          "Yellow Submarine",
          "Love Bug",
          "Going to the Zoo",
          "He's Got the Whole World",
          "Rock-A-Bye Baby"
         ],
         "legendgroup": "This Is Raffi",
         "marker": {
          "color": "#636efa"
         },
         "name": "This Is Raffi",
         "notched": false,
         "offsetgroup": "This Is Raffi",
         "orientation": "v",
         "showlegend": true,
         "type": "box",
         "x": [
          "danceability",
          "danceability",
          "danceability",
          "danceability",
          "danceability",
          "danceability",
          "danceability",
          "danceability",
          "danceability",
          "danceability",
          "danceability",
          "danceability",
          "danceability",
          "danceability",
          "danceability",
          "danceability",
          "danceability",
          "danceability",
          "danceability",
          "danceability",
          "danceability",
          "danceability",
          "danceability",
          "danceability",
          "danceability",
          "danceability",
          "danceability",
          "danceability",
          "danceability",
          "danceability",
          "danceability",
          "danceability",
          "danceability",
          "danceability",
          "danceability",
          "danceability",
          "danceability",
          "danceability",
          "danceability",
          "danceability",
          "danceability",
          "danceability",
          "danceability",
          "danceability",
          "danceability",
          "danceability",
          "energy",
          "energy",
          "energy",
          "energy",
          "energy",
          "energy",
          "energy",
          "energy",
          "energy",
          "energy",
          "energy",
          "energy",
          "energy",
          "energy",
          "energy",
          "energy",
          "energy",
          "energy",
          "energy",
          "energy",
          "energy",
          "energy",
          "energy",
          "energy",
          "energy",
          "energy",
          "energy",
          "energy",
          "energy",
          "energy",
          "energy",
          "energy",
          "energy",
          "energy",
          "energy",
          "energy",
          "energy",
          "energy",
          "energy",
          "energy",
          "energy",
          "energy",
          "energy",
          "energy",
          "energy",
          "energy",
          "instrumentalness",
          "instrumentalness",
          "instrumentalness",
          "instrumentalness",
          "instrumentalness",
          "instrumentalness",
          "instrumentalness",
          "instrumentalness",
          "instrumentalness",
          "instrumentalness",
          "instrumentalness",
          "instrumentalness",
          "instrumentalness",
          "instrumentalness",
          "instrumentalness",
          "instrumentalness",
          "instrumentalness",
          "instrumentalness",
          "instrumentalness",
          "instrumentalness",
          "instrumentalness",
          "instrumentalness",
          "instrumentalness",
          "instrumentalness",
          "instrumentalness",
          "instrumentalness",
          "instrumentalness",
          "instrumentalness",
          "instrumentalness",
          "instrumentalness",
          "instrumentalness",
          "instrumentalness",
          "instrumentalness",
          "instrumentalness",
          "instrumentalness",
          "instrumentalness",
          "instrumentalness",
          "instrumentalness",
          "instrumentalness",
          "instrumentalness",
          "instrumentalness",
          "instrumentalness",
          "instrumentalness",
          "instrumentalness",
          "instrumentalness",
          "instrumentalness",
          "acousticness",
          "acousticness",
          "acousticness",
          "acousticness",
          "acousticness",
          "acousticness",
          "acousticness",
          "acousticness",
          "acousticness",
          "acousticness",
          "acousticness",
          "acousticness",
          "acousticness",
          "acousticness",
          "acousticness",
          "acousticness",
          "acousticness",
          "acousticness",
          "acousticness",
          "acousticness",
          "acousticness",
          "acousticness",
          "acousticness",
          "acousticness",
          "acousticness",
          "acousticness",
          "acousticness",
          "acousticness",
          "acousticness",
          "acousticness",
          "acousticness",
          "acousticness",
          "acousticness",
          "acousticness",
          "acousticness",
          "acousticness",
          "acousticness",
          "acousticness",
          "acousticness",
          "acousticness",
          "acousticness",
          "acousticness",
          "acousticness",
          "acousticness",
          "acousticness",
          "acousticness",
          "liveness",
          "liveness",
          "liveness",
          "liveness",
          "liveness",
          "liveness",
          "liveness",
          "liveness",
          "liveness",
          "liveness",
          "liveness",
          "liveness",
          "liveness",
          "liveness",
          "liveness",
          "liveness",
          "liveness",
          "liveness",
          "liveness",
          "liveness",
          "liveness",
          "liveness",
          "liveness",
          "liveness",
          "liveness",
          "liveness",
          "liveness",
          "liveness",
          "liveness",
          "liveness",
          "liveness",
          "liveness",
          "liveness",
          "liveness",
          "liveness",
          "liveness",
          "liveness",
          "liveness",
          "liveness",
          "liveness",
          "liveness",
          "liveness",
          "liveness",
          "liveness",
          "liveness",
          "liveness",
          "speechiness",
          "speechiness",
          "speechiness",
          "speechiness",
          "speechiness",
          "speechiness",
          "speechiness",
          "speechiness",
          "speechiness",
          "speechiness",
          "speechiness",
          "speechiness",
          "speechiness",
          "speechiness",
          "speechiness",
          "speechiness",
          "speechiness",
          "speechiness",
          "speechiness",
          "speechiness",
          "speechiness",
          "speechiness",
          "speechiness",
          "speechiness",
          "speechiness",
          "speechiness",
          "speechiness",
          "speechiness",
          "speechiness",
          "speechiness",
          "speechiness",
          "speechiness",
          "speechiness",
          "speechiness",
          "speechiness",
          "speechiness",
          "speechiness",
          "speechiness",
          "speechiness",
          "speechiness",
          "speechiness",
          "speechiness",
          "speechiness",
          "speechiness",
          "speechiness",
          "speechiness",
          "valence",
          "valence",
          "valence",
          "valence",
          "valence",
          "valence",
          "valence",
          "valence",
          "valence",
          "valence",
          "valence",
          "valence",
          "valence",
          "valence",
          "valence",
          "valence",
          "valence",
          "valence",
          "valence",
          "valence",
          "valence",
          "valence",
          "valence",
          "valence",
          "valence",
          "valence",
          "valence",
          "valence",
          "valence",
          "valence",
          "valence",
          "valence",
          "valence",
          "valence",
          "valence",
          "valence",
          "valence",
          "valence",
          "valence",
          "valence",
          "valence",
          "valence",
          "valence",
          "valence",
          "valence",
          "valence"
         ],
         "x0": " ",
         "xaxis": "x",
         "y": [
          0.544,
          0.663,
          0.728,
          0.562,
          0.903,
          0.819,
          0.844,
          0.669,
          0.604,
          0.684,
          0.681,
          0.881,
          0.712,
          0.702,
          0.723,
          0.832,
          0.497,
          0.734,
          0.628,
          0.788,
          0.822,
          0.747,
          0.744,
          0.705,
          0.735,
          0.73,
          0.722,
          0.735,
          0.682,
          0.563,
          0.697,
          0.799,
          0.678,
          0.768,
          0.453,
          0.709,
          0.759,
          0.645,
          0.235,
          0.768,
          0.583,
          0.682,
          0.837,
          0.521,
          0.667,
          0.387,
          0.47,
          0.263,
          0.0392,
          0.144,
          0.155,
          0.172,
          0.136,
          0.386,
          0.159,
          0.244,
          0.202,
          0.0517,
          0.0741,
          0.0521,
          0.102,
          0.216,
          0.0379,
          0.468,
          0.246,
          0.0862,
          0.57,
          0.106,
          0.167,
          0.0958,
          0.371,
          0.61,
          0.19,
          0.282,
          0.0378,
          0.552,
          0.238,
          0.264,
          0.488,
          0.443,
          0.194,
          0.313,
          0.471,
          0.411,
          0.0987,
          0.175,
          0.173,
          0.574,
          0.271,
          0.402,
          0.314,
          0.0447,
          0,
          0.00000217,
          0.0431,
          0,
          0,
          0.0000409,
          0.00000524,
          0.000257,
          0.905,
          0,
          0,
          0,
          0,
          0.0000967,
          0,
          0.0000539,
          0,
          0,
          0.271,
          0,
          0.0000212,
          0,
          0.000346,
          0.00191,
          0.00000195,
          0.00000218,
          0.000271,
          0,
          0,
          0,
          0,
          0,
          0,
          0,
          0.761,
          0,
          0,
          0.00000448,
          0.055,
          0.00000269,
          0,
          0,
          0,
          0,
          0,
          0.943,
          0.859,
          0.847,
          0.964,
          0.455,
          0.731,
          0.84,
          0.749,
          0.398,
          0.774,
          0.876,
          0.698,
          0.846,
          0.851,
          0.954,
          0.871,
          0.511,
          0.908,
          0.649,
          0.922,
          0.797,
          0.45,
          0.802,
          0.951,
          0.929,
          0.594,
          0.577,
          0.89,
          0.755,
          0.807,
          0.358,
          0.767,
          0.694,
          0.635,
          0.702,
          0.988,
          0.799,
          0.421,
          0.39,
          0.942,
          0.872,
          0.769,
          0.549,
          0.719,
          0.679,
          0.587,
          0.898,
          0.346,
          0.452,
          0.167,
          0.102,
          0.0875,
          0.0728,
          0.0871,
          0.267,
          0.0991,
          0.171,
          0.208,
          0.166,
          0.156,
          0.116,
          0.636,
          0.107,
          0.124,
          0.306,
          0.0982,
          0.2,
          0.25,
          0.233,
          0.126,
          0.101,
          0.275,
          0.0724,
          0.105,
          0.151,
          0.167,
          0.948,
          0.108,
          0.232,
          0.0559,
          0.127,
          0.13,
          0.257,
          0.302,
          0.628,
          0.108,
          0.0903,
          0.103,
          0.0929,
          0.311,
          0.289,
          0.418,
          0.135,
          0.236,
          0.106,
          0.0354,
          0.0803,
          0.0691,
          0.105,
          0.067,
          0.0524,
          0.0288,
          0.119,
          0.0742,
          0.107,
          0.0433,
          0.0916,
          0.183,
          0.934,
          0.042,
          0.0837,
          0.028,
          0.108,
          0.0281,
          0.0518,
          0.0318,
          0.0344,
          0.0366,
          0.0406,
          0.0284,
          0.12,
          0.0774,
          0.055,
          0.0348,
          0.405,
          0.198,
          0.0292,
          0.0801,
          0.132,
          0.0276,
          0.0364,
          0.0354,
          0.0401,
          0.0295,
          0.0299,
          0.0332,
          0.0955,
          0.0305,
          0.0296,
          0.671,
          0.571,
          0.484,
          0.869,
          0.792,
          0.916,
          0.926,
          0.604,
          0.597,
          0.87,
          0.966,
          0.702,
          0.784,
          0.558,
          0.673,
          0.49,
          0.192,
          0.761,
          0.483,
          0.944,
          0.875,
          0.809,
          0.526,
          0.37,
          0.96,
          0.832,
          0.53,
          0.683,
          0.507,
          0.753,
          0.547,
          0.687,
          0.806,
          0.943,
          0.0564,
          0.648,
          0.801,
          0.961,
          0.29,
          0.763,
          0.561,
          0.882,
          0.669,
          0.668,
          0.885,
          0.189
         ],
         "y0": " ",
         "yaxis": "y"
        },
        {
         "alignmentgroup": "True",
         "boxpoints": "all",
         "hovertemplate": "<b>%{hovertext}</b><br><br>playlist=This Is Jools TV<br>variable=%{x}<br>value=%{y}<extra></extra>",
         "hovertext": [
          "Big Bad Wolf",
          "Affirmations",
          "ABC Song Hip Hop Remix - Remix",
          "MKB (Mama Knows Best)",
          "Wheels On The Bus",
          "Brush",
          "Jumping in the bed",
          "Itsy Bitsy Spider",
          "Head, Shoulders, Knees, Toes",
          "Happy And You Know It",
          "Simon Says",
          "The Continents",
          "Count With Me",
          "Twinkle Twinkle Little Star",
          "How I Feel",
          "I Can",
          "Old McDonald",
          "Be Brave",
          "Clean up song",
          "Hickory Dickory Dock",
          "Color Song",
          "Good Morning",
          "Potty Song (Parody)",
          "Breathe",
          "Humpty Dumpty (Trap Nursery)",
          "Gingerbread Man",
          "BINGO",
          "Days Of The Week",
          "Get Fit",
          "Outside",
          "Zoo",
          "Months Of The Year",
          "Dream Big",
          "Rain Rain",
          "Veggies",
          "Wash Your Hands",
          "Ants Go Marching",
          "Errands",
          "Down by the bay",
          "Skidamarink",
          "New Year New Me",
          "Adding Song",
          "Big Bad Wolf",
          "Affirmations",
          "ABC Song Hip Hop Remix - Remix",
          "MKB (Mama Knows Best)",
          "Wheels On The Bus",
          "Brush",
          "Jumping in the bed",
          "Itsy Bitsy Spider",
          "Head, Shoulders, Knees, Toes",
          "Happy And You Know It",
          "Simon Says",
          "The Continents",
          "Count With Me",
          "Twinkle Twinkle Little Star",
          "How I Feel",
          "I Can",
          "Old McDonald",
          "Be Brave",
          "Clean up song",
          "Hickory Dickory Dock",
          "Color Song",
          "Good Morning",
          "Potty Song (Parody)",
          "Breathe",
          "Humpty Dumpty (Trap Nursery)",
          "Gingerbread Man",
          "BINGO",
          "Days Of The Week",
          "Get Fit",
          "Outside",
          "Zoo",
          "Months Of The Year",
          "Dream Big",
          "Rain Rain",
          "Veggies",
          "Wash Your Hands",
          "Ants Go Marching",
          "Errands",
          "Down by the bay",
          "Skidamarink",
          "New Year New Me",
          "Adding Song",
          "Big Bad Wolf",
          "Affirmations",
          "ABC Song Hip Hop Remix - Remix",
          "MKB (Mama Knows Best)",
          "Wheels On The Bus",
          "Brush",
          "Jumping in the bed",
          "Itsy Bitsy Spider",
          "Head, Shoulders, Knees, Toes",
          "Happy And You Know It",
          "Simon Says",
          "The Continents",
          "Count With Me",
          "Twinkle Twinkle Little Star",
          "How I Feel",
          "I Can",
          "Old McDonald",
          "Be Brave",
          "Clean up song",
          "Hickory Dickory Dock",
          "Color Song",
          "Good Morning",
          "Potty Song (Parody)",
          "Breathe",
          "Humpty Dumpty (Trap Nursery)",
          "Gingerbread Man",
          "BINGO",
          "Days Of The Week",
          "Get Fit",
          "Outside",
          "Zoo",
          "Months Of The Year",
          "Dream Big",
          "Rain Rain",
          "Veggies",
          "Wash Your Hands",
          "Ants Go Marching",
          "Errands",
          "Down by the bay",
          "Skidamarink",
          "New Year New Me",
          "Adding Song",
          "Big Bad Wolf",
          "Affirmations",
          "ABC Song Hip Hop Remix - Remix",
          "MKB (Mama Knows Best)",
          "Wheels On The Bus",
          "Brush",
          "Jumping in the bed",
          "Itsy Bitsy Spider",
          "Head, Shoulders, Knees, Toes",
          "Happy And You Know It",
          "Simon Says",
          "The Continents",
          "Count With Me",
          "Twinkle Twinkle Little Star",
          "How I Feel",
          "I Can",
          "Old McDonald",
          "Be Brave",
          "Clean up song",
          "Hickory Dickory Dock",
          "Color Song",
          "Good Morning",
          "Potty Song (Parody)",
          "Breathe",
          "Humpty Dumpty (Trap Nursery)",
          "Gingerbread Man",
          "BINGO",
          "Days Of The Week",
          "Get Fit",
          "Outside",
          "Zoo",
          "Months Of The Year",
          "Dream Big",
          "Rain Rain",
          "Veggies",
          "Wash Your Hands",
          "Ants Go Marching",
          "Errands",
          "Down by the bay",
          "Skidamarink",
          "New Year New Me",
          "Adding Song",
          "Big Bad Wolf",
          "Affirmations",
          "ABC Song Hip Hop Remix - Remix",
          "MKB (Mama Knows Best)",
          "Wheels On The Bus",
          "Brush",
          "Jumping in the bed",
          "Itsy Bitsy Spider",
          "Head, Shoulders, Knees, Toes",
          "Happy And You Know It",
          "Simon Says",
          "The Continents",
          "Count With Me",
          "Twinkle Twinkle Little Star",
          "How I Feel",
          "I Can",
          "Old McDonald",
          "Be Brave",
          "Clean up song",
          "Hickory Dickory Dock",
          "Color Song",
          "Good Morning",
          "Potty Song (Parody)",
          "Breathe",
          "Humpty Dumpty (Trap Nursery)",
          "Gingerbread Man",
          "BINGO",
          "Days Of The Week",
          "Get Fit",
          "Outside",
          "Zoo",
          "Months Of The Year",
          "Dream Big",
          "Rain Rain",
          "Veggies",
          "Wash Your Hands",
          "Ants Go Marching",
          "Errands",
          "Down by the bay",
          "Skidamarink",
          "New Year New Me",
          "Adding Song",
          "Big Bad Wolf",
          "Affirmations",
          "ABC Song Hip Hop Remix - Remix",
          "MKB (Mama Knows Best)",
          "Wheels On The Bus",
          "Brush",
          "Jumping in the bed",
          "Itsy Bitsy Spider",
          "Head, Shoulders, Knees, Toes",
          "Happy And You Know It",
          "Simon Says",
          "The Continents",
          "Count With Me",
          "Twinkle Twinkle Little Star",
          "How I Feel",
          "I Can",
          "Old McDonald",
          "Be Brave",
          "Clean up song",
          "Hickory Dickory Dock",
          "Color Song",
          "Good Morning",
          "Potty Song (Parody)",
          "Breathe",
          "Humpty Dumpty (Trap Nursery)",
          "Gingerbread Man",
          "BINGO",
          "Days Of The Week",
          "Get Fit",
          "Outside",
          "Zoo",
          "Months Of The Year",
          "Dream Big",
          "Rain Rain",
          "Veggies",
          "Wash Your Hands",
          "Ants Go Marching",
          "Errands",
          "Down by the bay",
          "Skidamarink",
          "New Year New Me",
          "Adding Song",
          "Big Bad Wolf",
          "Affirmations",
          "ABC Song Hip Hop Remix - Remix",
          "MKB (Mama Knows Best)",
          "Wheels On The Bus",
          "Brush",
          "Jumping in the bed",
          "Itsy Bitsy Spider",
          "Head, Shoulders, Knees, Toes",
          "Happy And You Know It",
          "Simon Says",
          "The Continents",
          "Count With Me",
          "Twinkle Twinkle Little Star",
          "How I Feel",
          "I Can",
          "Old McDonald",
          "Be Brave",
          "Clean up song",
          "Hickory Dickory Dock",
          "Color Song",
          "Good Morning",
          "Potty Song (Parody)",
          "Breathe",
          "Humpty Dumpty (Trap Nursery)",
          "Gingerbread Man",
          "BINGO",
          "Days Of The Week",
          "Get Fit",
          "Outside",
          "Zoo",
          "Months Of The Year",
          "Dream Big",
          "Rain Rain",
          "Veggies",
          "Wash Your Hands",
          "Ants Go Marching",
          "Errands",
          "Down by the bay",
          "Skidamarink",
          "New Year New Me",
          "Adding Song"
         ],
         "legendgroup": "This Is Jools TV",
         "marker": {
          "color": "#EF553B"
         },
         "name": "This Is Jools TV",
         "notched": false,
         "offsetgroup": "This Is Jools TV",
         "orientation": "v",
         "showlegend": true,
         "type": "box",
         "x": [
          "danceability",
          "danceability",
          "danceability",
          "danceability",
          "danceability",
          "danceability",
          "danceability",
          "danceability",
          "danceability",
          "danceability",
          "danceability",
          "danceability",
          "danceability",
          "danceability",
          "danceability",
          "danceability",
          "danceability",
          "danceability",
          "danceability",
          "danceability",
          "danceability",
          "danceability",
          "danceability",
          "danceability",
          "danceability",
          "danceability",
          "danceability",
          "danceability",
          "danceability",
          "danceability",
          "danceability",
          "danceability",
          "danceability",
          "danceability",
          "danceability",
          "danceability",
          "danceability",
          "danceability",
          "danceability",
          "danceability",
          "danceability",
          "danceability",
          "energy",
          "energy",
          "energy",
          "energy",
          "energy",
          "energy",
          "energy",
          "energy",
          "energy",
          "energy",
          "energy",
          "energy",
          "energy",
          "energy",
          "energy",
          "energy",
          "energy",
          "energy",
          "energy",
          "energy",
          "energy",
          "energy",
          "energy",
          "energy",
          "energy",
          "energy",
          "energy",
          "energy",
          "energy",
          "energy",
          "energy",
          "energy",
          "energy",
          "energy",
          "energy",
          "energy",
          "energy",
          "energy",
          "energy",
          "energy",
          "energy",
          "energy",
          "instrumentalness",
          "instrumentalness",
          "instrumentalness",
          "instrumentalness",
          "instrumentalness",
          "instrumentalness",
          "instrumentalness",
          "instrumentalness",
          "instrumentalness",
          "instrumentalness",
          "instrumentalness",
          "instrumentalness",
          "instrumentalness",
          "instrumentalness",
          "instrumentalness",
          "instrumentalness",
          "instrumentalness",
          "instrumentalness",
          "instrumentalness",
          "instrumentalness",
          "instrumentalness",
          "instrumentalness",
          "instrumentalness",
          "instrumentalness",
          "instrumentalness",
          "instrumentalness",
          "instrumentalness",
          "instrumentalness",
          "instrumentalness",
          "instrumentalness",
          "instrumentalness",
          "instrumentalness",
          "instrumentalness",
          "instrumentalness",
          "instrumentalness",
          "instrumentalness",
          "instrumentalness",
          "instrumentalness",
          "instrumentalness",
          "instrumentalness",
          "instrumentalness",
          "instrumentalness",
          "acousticness",
          "acousticness",
          "acousticness",
          "acousticness",
          "acousticness",
          "acousticness",
          "acousticness",
          "acousticness",
          "acousticness",
          "acousticness",
          "acousticness",
          "acousticness",
          "acousticness",
          "acousticness",
          "acousticness",
          "acousticness",
          "acousticness",
          "acousticness",
          "acousticness",
          "acousticness",
          "acousticness",
          "acousticness",
          "acousticness",
          "acousticness",
          "acousticness",
          "acousticness",
          "acousticness",
          "acousticness",
          "acousticness",
          "acousticness",
          "acousticness",
          "acousticness",
          "acousticness",
          "acousticness",
          "acousticness",
          "acousticness",
          "acousticness",
          "acousticness",
          "acousticness",
          "acousticness",
          "acousticness",
          "acousticness",
          "liveness",
          "liveness",
          "liveness",
          "liveness",
          "liveness",
          "liveness",
          "liveness",
          "liveness",
          "liveness",
          "liveness",
          "liveness",
          "liveness",
          "liveness",
          "liveness",
          "liveness",
          "liveness",
          "liveness",
          "liveness",
          "liveness",
          "liveness",
          "liveness",
          "liveness",
          "liveness",
          "liveness",
          "liveness",
          "liveness",
          "liveness",
          "liveness",
          "liveness",
          "liveness",
          "liveness",
          "liveness",
          "liveness",
          "liveness",
          "liveness",
          "liveness",
          "liveness",
          "liveness",
          "liveness",
          "liveness",
          "liveness",
          "liveness",
          "speechiness",
          "speechiness",
          "speechiness",
          "speechiness",
          "speechiness",
          "speechiness",
          "speechiness",
          "speechiness",
          "speechiness",
          "speechiness",
          "speechiness",
          "speechiness",
          "speechiness",
          "speechiness",
          "speechiness",
          "speechiness",
          "speechiness",
          "speechiness",
          "speechiness",
          "speechiness",
          "speechiness",
          "speechiness",
          "speechiness",
          "speechiness",
          "speechiness",
          "speechiness",
          "speechiness",
          "speechiness",
          "speechiness",
          "speechiness",
          "speechiness",
          "speechiness",
          "speechiness",
          "speechiness",
          "speechiness",
          "speechiness",
          "speechiness",
          "speechiness",
          "speechiness",
          "speechiness",
          "speechiness",
          "speechiness",
          "valence",
          "valence",
          "valence",
          "valence",
          "valence",
          "valence",
          "valence",
          "valence",
          "valence",
          "valence",
          "valence",
          "valence",
          "valence",
          "valence",
          "valence",
          "valence",
          "valence",
          "valence",
          "valence",
          "valence",
          "valence",
          "valence",
          "valence",
          "valence",
          "valence",
          "valence",
          "valence",
          "valence",
          "valence",
          "valence",
          "valence",
          "valence",
          "valence",
          "valence",
          "valence",
          "valence",
          "valence",
          "valence",
          "valence",
          "valence",
          "valence",
          "valence"
         ],
         "x0": " ",
         "xaxis": "x",
         "y": [
          0.933,
          0.771,
          0.931,
          0.754,
          0.759,
          0.87,
          0.912,
          0.809,
          0.762,
          0.843,
          0.929,
          0.72,
          0.941,
          0.664,
          0.764,
          0.811,
          0.767,
          0.892,
          0.785,
          0.925,
          0.645,
          0.784,
          0.777,
          0.816,
          0.878,
          0.846,
          0.709,
          0.706,
          0.949,
          0.8,
          0.86,
          0.861,
          0.878,
          0.923,
          0.721,
          0.837,
          0.78,
          0.78,
          0.701,
          0.592,
          0.823,
          0.658,
          0.586,
          0.37,
          0.475,
          0.612,
          0.628,
          0.615,
          0.411,
          0.594,
          0.704,
          0.584,
          0.659,
          0.717,
          0.542,
          0.7,
          0.64,
          0.449,
          0.807,
          0.46,
          0.662,
          0.439,
          0.797,
          0.743,
          0.52,
          0.405,
          0.443,
          0.7,
          0.491,
          0.83,
          0.751,
          0.561,
          0.544,
          0.743,
          0.49,
          0.748,
          0.804,
          0.522,
          0.595,
          0.483,
          0.127,
          0.542,
          0.548,
          0.61,
          0.0000035,
          0.000302,
          0.00000649,
          0,
          0,
          0.00000222,
          0.000343,
          0.0000114,
          0.00293,
          0,
          0.0000032,
          0.000498,
          0,
          0.0000148,
          0,
          0,
          0,
          0.00115,
          0.0000209,
          0.00143,
          0.00000396,
          0.00000399,
          0.000234,
          0.000015,
          0,
          0.000802,
          0.0000417,
          0.00000353,
          0.00000275,
          0.0000989,
          0.0133,
          0,
          0,
          0,
          0,
          0,
          0,
          0.00000606,
          0.00185,
          0.0000152,
          0.000264,
          0.339,
          0.121,
          0.526,
          0.126,
          0.0269,
          0.138,
          0.0072,
          0.882,
          0.136,
          0.0302,
          0.257,
          0.591,
          0.206,
          0.0184,
          0.0711,
          0.477,
          0.142,
          0.559,
          0.667,
          0.665,
          0.203,
          0.568,
          0.0138,
          0.00206,
          0.39,
          0.0111,
          0.0908,
          0.39,
          0.0302,
          0.02,
          0.187,
          0.0153,
          0.113,
          0.125,
          0.0257,
          0.045,
          0.473,
          0.411,
          0.0565,
          0.255,
          0.838,
          0.786,
          0.000336,
          0.0883,
          0.105,
          0.182,
          0.121,
          0.121,
          0.0956,
          0.0826,
          0.117,
          0.518,
          0.109,
          0.156,
          0.126,
          0.118,
          0.237,
          0.0701,
          0.11,
          0.227,
          0.0832,
          0.217,
          0.0902,
          0.154,
          0.152,
          0.0545,
          0.143,
          0.083,
          0.1,
          0.346,
          0.0732,
          0.0833,
          0.116,
          0.124,
          0.0721,
          0.184,
          0.0587,
          0.0757,
          0.17,
          0.098,
          0.106,
          0.084,
          0.109,
          0.113,
          0.17,
          0.35,
          0.066,
          0.292,
          0.0546,
          0.377,
          0.284,
          0.0789,
          0.0724,
          0.301,
          0.0652,
          0.314,
          0.197,
          0.104,
          0.292,
          0.183,
          0.117,
          0.177,
          0.047,
          0.175,
          0.24,
          0.397,
          0.0492,
          0.288,
          0.0439,
          0.097,
          0.306,
          0.0841,
          0.0544,
          0.134,
          0.156,
          0.111,
          0.316,
          0.0857,
          0.147,
          0.0365,
          0.0424,
          0.0807,
          0.137,
          0.0474,
          0.0897,
          0.084,
          0.0359,
          0.687,
          0.411,
          0.531,
          0.523,
          0.531,
          0.569,
          0.826,
          0.526,
          0.636,
          0.65,
          0.517,
          0.421,
          0.223,
          0.228,
          0.722,
          0.657,
          0.828,
          0.568,
          0.517,
          0.435,
          0.936,
          0.616,
          0.481,
          0.467,
          0.387,
          0.589,
          0.549,
          0.681,
          0.529,
          0.348,
          0.456,
          0.572,
          0.392,
          0.712,
          0.911,
          0.52,
          0.752,
          0.621,
          0.511,
          0.76,
          0.629,
          0.507
         ],
         "y0": " ",
         "yaxis": "y"
        }
       ],
       "layout": {
        "boxmode": "group",
        "legend": {
         "title": {
          "text": "playlist"
         },
         "tracegroupgap": 0
        },
        "margin": {
         "t": 60
        },
        "template": {
         "data": {
          "bar": [
           {
            "error_x": {
             "color": "#2a3f5f"
            },
            "error_y": {
             "color": "#2a3f5f"
            },
            "marker": {
             "line": {
              "color": "#E5ECF6",
              "width": 0.5
             },
             "pattern": {
              "fillmode": "overlay",
              "size": 10,
              "solidity": 0.2
             }
            },
            "type": "bar"
           }
          ],
          "barpolar": [
           {
            "marker": {
             "line": {
              "color": "#E5ECF6",
              "width": 0.5
             },
             "pattern": {
              "fillmode": "overlay",
              "size": 10,
              "solidity": 0.2
             }
            },
            "type": "barpolar"
           }
          ],
          "carpet": [
           {
            "aaxis": {
             "endlinecolor": "#2a3f5f",
             "gridcolor": "white",
             "linecolor": "white",
             "minorgridcolor": "white",
             "startlinecolor": "#2a3f5f"
            },
            "baxis": {
             "endlinecolor": "#2a3f5f",
             "gridcolor": "white",
             "linecolor": "white",
             "minorgridcolor": "white",
             "startlinecolor": "#2a3f5f"
            },
            "type": "carpet"
           }
          ],
          "choropleth": [
           {
            "colorbar": {
             "outlinewidth": 0,
             "ticks": ""
            },
            "type": "choropleth"
           }
          ],
          "contour": [
           {
            "colorbar": {
             "outlinewidth": 0,
             "ticks": ""
            },
            "colorscale": [
             [
              0,
              "#0d0887"
             ],
             [
              0.1111111111111111,
              "#46039f"
             ],
             [
              0.2222222222222222,
              "#7201a8"
             ],
             [
              0.3333333333333333,
              "#9c179e"
             ],
             [
              0.4444444444444444,
              "#bd3786"
             ],
             [
              0.5555555555555556,
              "#d8576b"
             ],
             [
              0.6666666666666666,
              "#ed7953"
             ],
             [
              0.7777777777777778,
              "#fb9f3a"
             ],
             [
              0.8888888888888888,
              "#fdca26"
             ],
             [
              1,
              "#f0f921"
             ]
            ],
            "type": "contour"
           }
          ],
          "contourcarpet": [
           {
            "colorbar": {
             "outlinewidth": 0,
             "ticks": ""
            },
            "type": "contourcarpet"
           }
          ],
          "heatmap": [
           {
            "colorbar": {
             "outlinewidth": 0,
             "ticks": ""
            },
            "colorscale": [
             [
              0,
              "#0d0887"
             ],
             [
              0.1111111111111111,
              "#46039f"
             ],
             [
              0.2222222222222222,
              "#7201a8"
             ],
             [
              0.3333333333333333,
              "#9c179e"
             ],
             [
              0.4444444444444444,
              "#bd3786"
             ],
             [
              0.5555555555555556,
              "#d8576b"
             ],
             [
              0.6666666666666666,
              "#ed7953"
             ],
             [
              0.7777777777777778,
              "#fb9f3a"
             ],
             [
              0.8888888888888888,
              "#fdca26"
             ],
             [
              1,
              "#f0f921"
             ]
            ],
            "type": "heatmap"
           }
          ],
          "heatmapgl": [
           {
            "colorbar": {
             "outlinewidth": 0,
             "ticks": ""
            },
            "colorscale": [
             [
              0,
              "#0d0887"
             ],
             [
              0.1111111111111111,
              "#46039f"
             ],
             [
              0.2222222222222222,
              "#7201a8"
             ],
             [
              0.3333333333333333,
              "#9c179e"
             ],
             [
              0.4444444444444444,
              "#bd3786"
             ],
             [
              0.5555555555555556,
              "#d8576b"
             ],
             [
              0.6666666666666666,
              "#ed7953"
             ],
             [
              0.7777777777777778,
              "#fb9f3a"
             ],
             [
              0.8888888888888888,
              "#fdca26"
             ],
             [
              1,
              "#f0f921"
             ]
            ],
            "type": "heatmapgl"
           }
          ],
          "histogram": [
           {
            "marker": {
             "pattern": {
              "fillmode": "overlay",
              "size": 10,
              "solidity": 0.2
             }
            },
            "type": "histogram"
           }
          ],
          "histogram2d": [
           {
            "colorbar": {
             "outlinewidth": 0,
             "ticks": ""
            },
            "colorscale": [
             [
              0,
              "#0d0887"
             ],
             [
              0.1111111111111111,
              "#46039f"
             ],
             [
              0.2222222222222222,
              "#7201a8"
             ],
             [
              0.3333333333333333,
              "#9c179e"
             ],
             [
              0.4444444444444444,
              "#bd3786"
             ],
             [
              0.5555555555555556,
              "#d8576b"
             ],
             [
              0.6666666666666666,
              "#ed7953"
             ],
             [
              0.7777777777777778,
              "#fb9f3a"
             ],
             [
              0.8888888888888888,
              "#fdca26"
             ],
             [
              1,
              "#f0f921"
             ]
            ],
            "type": "histogram2d"
           }
          ],
          "histogram2dcontour": [
           {
            "colorbar": {
             "outlinewidth": 0,
             "ticks": ""
            },
            "colorscale": [
             [
              0,
              "#0d0887"
             ],
             [
              0.1111111111111111,
              "#46039f"
             ],
             [
              0.2222222222222222,
              "#7201a8"
             ],
             [
              0.3333333333333333,
              "#9c179e"
             ],
             [
              0.4444444444444444,
              "#bd3786"
             ],
             [
              0.5555555555555556,
              "#d8576b"
             ],
             [
              0.6666666666666666,
              "#ed7953"
             ],
             [
              0.7777777777777778,
              "#fb9f3a"
             ],
             [
              0.8888888888888888,
              "#fdca26"
             ],
             [
              1,
              "#f0f921"
             ]
            ],
            "type": "histogram2dcontour"
           }
          ],
          "mesh3d": [
           {
            "colorbar": {
             "outlinewidth": 0,
             "ticks": ""
            },
            "type": "mesh3d"
           }
          ],
          "parcoords": [
           {
            "line": {
             "colorbar": {
              "outlinewidth": 0,
              "ticks": ""
             }
            },
            "type": "parcoords"
           }
          ],
          "pie": [
           {
            "automargin": true,
            "type": "pie"
           }
          ],
          "scatter": [
           {
            "fillpattern": {
             "fillmode": "overlay",
             "size": 10,
             "solidity": 0.2
            },
            "type": "scatter"
           }
          ],
          "scatter3d": [
           {
            "line": {
             "colorbar": {
              "outlinewidth": 0,
              "ticks": ""
             }
            },
            "marker": {
             "colorbar": {
              "outlinewidth": 0,
              "ticks": ""
             }
            },
            "type": "scatter3d"
           }
          ],
          "scattercarpet": [
           {
            "marker": {
             "colorbar": {
              "outlinewidth": 0,
              "ticks": ""
             }
            },
            "type": "scattercarpet"
           }
          ],
          "scattergeo": [
           {
            "marker": {
             "colorbar": {
              "outlinewidth": 0,
              "ticks": ""
             }
            },
            "type": "scattergeo"
           }
          ],
          "scattergl": [
           {
            "marker": {
             "colorbar": {
              "outlinewidth": 0,
              "ticks": ""
             }
            },
            "type": "scattergl"
           }
          ],
          "scattermapbox": [
           {
            "marker": {
             "colorbar": {
              "outlinewidth": 0,
              "ticks": ""
             }
            },
            "type": "scattermapbox"
           }
          ],
          "scatterpolar": [
           {
            "marker": {
             "colorbar": {
              "outlinewidth": 0,
              "ticks": ""
             }
            },
            "type": "scatterpolar"
           }
          ],
          "scatterpolargl": [
           {
            "marker": {
             "colorbar": {
              "outlinewidth": 0,
              "ticks": ""
             }
            },
            "type": "scatterpolargl"
           }
          ],
          "scatterternary": [
           {
            "marker": {
             "colorbar": {
              "outlinewidth": 0,
              "ticks": ""
             }
            },
            "type": "scatterternary"
           }
          ],
          "surface": [
           {
            "colorbar": {
             "outlinewidth": 0,
             "ticks": ""
            },
            "colorscale": [
             [
              0,
              "#0d0887"
             ],
             [
              0.1111111111111111,
              "#46039f"
             ],
             [
              0.2222222222222222,
              "#7201a8"
             ],
             [
              0.3333333333333333,
              "#9c179e"
             ],
             [
              0.4444444444444444,
              "#bd3786"
             ],
             [
              0.5555555555555556,
              "#d8576b"
             ],
             [
              0.6666666666666666,
              "#ed7953"
             ],
             [
              0.7777777777777778,
              "#fb9f3a"
             ],
             [
              0.8888888888888888,
              "#fdca26"
             ],
             [
              1,
              "#f0f921"
             ]
            ],
            "type": "surface"
           }
          ],
          "table": [
           {
            "cells": {
             "fill": {
              "color": "#EBF0F8"
             },
             "line": {
              "color": "white"
             }
            },
            "header": {
             "fill": {
              "color": "#C8D4E3"
             },
             "line": {
              "color": "white"
             }
            },
            "type": "table"
           }
          ]
         },
         "layout": {
          "annotationdefaults": {
           "arrowcolor": "#2a3f5f",
           "arrowhead": 0,
           "arrowwidth": 1
          },
          "autotypenumbers": "strict",
          "coloraxis": {
           "colorbar": {
            "outlinewidth": 0,
            "ticks": ""
           }
          },
          "colorscale": {
           "diverging": [
            [
             0,
             "#8e0152"
            ],
            [
             0.1,
             "#c51b7d"
            ],
            [
             0.2,
             "#de77ae"
            ],
            [
             0.3,
             "#f1b6da"
            ],
            [
             0.4,
             "#fde0ef"
            ],
            [
             0.5,
             "#f7f7f7"
            ],
            [
             0.6,
             "#e6f5d0"
            ],
            [
             0.7,
             "#b8e186"
            ],
            [
             0.8,
             "#7fbc41"
            ],
            [
             0.9,
             "#4d9221"
            ],
            [
             1,
             "#276419"
            ]
           ],
           "sequential": [
            [
             0,
             "#0d0887"
            ],
            [
             0.1111111111111111,
             "#46039f"
            ],
            [
             0.2222222222222222,
             "#7201a8"
            ],
            [
             0.3333333333333333,
             "#9c179e"
            ],
            [
             0.4444444444444444,
             "#bd3786"
            ],
            [
             0.5555555555555556,
             "#d8576b"
            ],
            [
             0.6666666666666666,
             "#ed7953"
            ],
            [
             0.7777777777777778,
             "#fb9f3a"
            ],
            [
             0.8888888888888888,
             "#fdca26"
            ],
            [
             1,
             "#f0f921"
            ]
           ],
           "sequentialminus": [
            [
             0,
             "#0d0887"
            ],
            [
             0.1111111111111111,
             "#46039f"
            ],
            [
             0.2222222222222222,
             "#7201a8"
            ],
            [
             0.3333333333333333,
             "#9c179e"
            ],
            [
             0.4444444444444444,
             "#bd3786"
            ],
            [
             0.5555555555555556,
             "#d8576b"
            ],
            [
             0.6666666666666666,
             "#ed7953"
            ],
            [
             0.7777777777777778,
             "#fb9f3a"
            ],
            [
             0.8888888888888888,
             "#fdca26"
            ],
            [
             1,
             "#f0f921"
            ]
           ]
          },
          "colorway": [
           "#636efa",
           "#EF553B",
           "#00cc96",
           "#ab63fa",
           "#FFA15A",
           "#19d3f3",
           "#FF6692",
           "#B6E880",
           "#FF97FF",
           "#FECB52"
          ],
          "font": {
           "color": "#2a3f5f"
          },
          "geo": {
           "bgcolor": "white",
           "lakecolor": "white",
           "landcolor": "#E5ECF6",
           "showlakes": true,
           "showland": true,
           "subunitcolor": "white"
          },
          "hoverlabel": {
           "align": "left"
          },
          "hovermode": "closest",
          "mapbox": {
           "style": "light"
          },
          "paper_bgcolor": "white",
          "plot_bgcolor": "#E5ECF6",
          "polar": {
           "angularaxis": {
            "gridcolor": "white",
            "linecolor": "white",
            "ticks": ""
           },
           "bgcolor": "#E5ECF6",
           "radialaxis": {
            "gridcolor": "white",
            "linecolor": "white",
            "ticks": ""
           }
          },
          "scene": {
           "xaxis": {
            "backgroundcolor": "#E5ECF6",
            "gridcolor": "white",
            "gridwidth": 2,
            "linecolor": "white",
            "showbackground": true,
            "ticks": "",
            "zerolinecolor": "white"
           },
           "yaxis": {
            "backgroundcolor": "#E5ECF6",
            "gridcolor": "white",
            "gridwidth": 2,
            "linecolor": "white",
            "showbackground": true,
            "ticks": "",
            "zerolinecolor": "white"
           },
           "zaxis": {
            "backgroundcolor": "#E5ECF6",
            "gridcolor": "white",
            "gridwidth": 2,
            "linecolor": "white",
            "showbackground": true,
            "ticks": "",
            "zerolinecolor": "white"
           }
          },
          "shapedefaults": {
           "line": {
            "color": "#2a3f5f"
           }
          },
          "ternary": {
           "aaxis": {
            "gridcolor": "white",
            "linecolor": "white",
            "ticks": ""
           },
           "baxis": {
            "gridcolor": "white",
            "linecolor": "white",
            "ticks": ""
           },
           "bgcolor": "#E5ECF6",
           "caxis": {
            "gridcolor": "white",
            "linecolor": "white",
            "ticks": ""
           }
          },
          "title": {
           "x": 0.05
          },
          "xaxis": {
           "automargin": true,
           "gridcolor": "white",
           "linecolor": "white",
           "ticks": "",
           "title": {
            "standoff": 15
           },
           "zerolinecolor": "white",
           "zerolinewidth": 2
          },
          "yaxis": {
           "automargin": true,
           "gridcolor": "white",
           "linecolor": "white",
           "ticks": "",
           "title": {
            "standoff": 15
           },
           "zerolinecolor": "white",
           "zerolinewidth": 2
          }
         }
        },
        "xaxis": {
         "anchor": "y",
         "domain": [
          0,
          1
         ],
         "title": {
          "text": "variable"
         }
        },
        "yaxis": {
         "anchor": "x",
         "domain": [
          0,
          1
         ],
         "title": {
          "text": "value"
         }
        }
       }
      }
     },
     "metadata": {},
     "output_type": "display_data"
    }
   ],
   "source": [
    "fig = px.box(data,\n",
    "             y=['danceability', 'energy', 'instrumentalness', 'acousticness', 'liveness', 'speechiness', 'valence'],\n",
    "             points='all',\n",
    "             hover_name='track.name',\n",
    "             color='playlist')\n",
    "fig.show()"
   ]
  },
  {
   "cell_type": "code",
   "execution_count": 7,
   "id": "1fb8d7dd",
   "metadata": {},
   "outputs": [
    {
     "data": {
      "application/vnd.plotly.v1+json": {
       "config": {
        "plotlyServerURL": "https://plot.ly"
       },
       "data": [
        {
         "hovertemplate": "<b>%{hovertext}</b><br><br>playlist=This Is Raffi<br>energy=%{x}<br>acousticness=%{y}<br>track.duration_ms=%{marker.size}<extra></extra>",
         "hovertext": [
          "Shake My Sillies Out",
          "Baby Beluga",
          "Twinkle, Twinkle, Little Star",
          "Down By The Bay",
          "Going on a Picnic",
          "Six Little Ducks",
          "Apples And Bananas",
          "Mr. Sun",
          "Listen to the Horses",
          "If You're Happy And You Know It",
          "Oats and Beans and Barley",
          "Baa Baa Black Sheep",
          "Frere Jacques",
          "Eensy Weensy Spider",
          "Workin' on the Railroad",
          "Brush Your Teeth",
          "Row, Row, Row",
          "Peanut Butter Sandwich",
          "Spring Flowers",
          "The Sharing Song",
          "Everything Grows",
          "The Corner Grocery Store",
          "Fais Dodo",
          "Thanks A Lot",
          "Bathtime",
          "Bananaphone",
          "Like Me And You",
          "This Old Man",
          "Five Little Ducks",
          "Baby Beluga",
          "Mary Wore Her Red Dress",
          "Day O",
          "Let's Play",
          "Skip To My Lou",
          "Nursery Rhyme Instrumental",
          "Biscuits in the Oven",
          "This Little Light of Mine",
          "Octopus's Garden",
          "One Light, One Sun",
          "Luna's Song",
          "Rise And Shine",
          "Yellow Submarine",
          "Love Bug",
          "Going to the Zoo",
          "He's Got the Whole World",
          "Rock-A-Bye Baby"
         ],
         "legendgroup": "This Is Raffi",
         "marker": {
          "color": "#636efa",
          "size": [
           65053,
           160826,
           71160,
           128213,
           71040,
           93800,
           98040,
           76693,
           116120,
           74453,
           85133,
           59520,
           65186,
           88360,
           68146,
           72173,
           83493,
           58413,
           159840,
           65626,
           151906,
           112133,
           90573,
           147160,
           178533,
           194360,
           161533,
           143600,
           138426,
           162626,
           87466,
           179360,
           164146,
           129666,
           82706,
           144733,
           123040,
           174293,
           127533,
           122826,
           130000,
           175266,
           142720,
           100013,
           135786,
           69813
          ],
          "sizemode": "area",
          "sizeref": 554.3825,
          "symbol": "circle"
         },
         "mode": "markers",
         "name": "This Is Raffi",
         "orientation": "v",
         "showlegend": true,
         "type": "scatter",
         "x": [
          0.47,
          0.263,
          0.0392,
          0.144,
          0.155,
          0.172,
          0.136,
          0.386,
          0.159,
          0.244,
          0.202,
          0.0517,
          0.0741,
          0.0521,
          0.102,
          0.216,
          0.0379,
          0.468,
          0.246,
          0.0862,
          0.57,
          0.106,
          0.167,
          0.0958,
          0.371,
          0.61,
          0.19,
          0.282,
          0.0378,
          0.552,
          0.238,
          0.264,
          0.488,
          0.443,
          0.194,
          0.313,
          0.471,
          0.411,
          0.0987,
          0.175,
          0.173,
          0.574,
          0.271,
          0.402,
          0.314,
          0.0447
         ],
         "xaxis": "x",
         "y": [
          0.859,
          0.847,
          0.964,
          0.455,
          0.731,
          0.84,
          0.749,
          0.398,
          0.774,
          0.876,
          0.698,
          0.846,
          0.851,
          0.954,
          0.871,
          0.511,
          0.908,
          0.649,
          0.922,
          0.797,
          0.45,
          0.802,
          0.951,
          0.929,
          0.594,
          0.577,
          0.89,
          0.755,
          0.807,
          0.358,
          0.767,
          0.694,
          0.635,
          0.702,
          0.988,
          0.799,
          0.421,
          0.39,
          0.942,
          0.872,
          0.769,
          0.549,
          0.719,
          0.679,
          0.587,
          0.898
         ],
         "yaxis": "y"
        },
        {
         "hovertemplate": "<b>%{hovertext}</b><br><br>playlist=This Is Jools TV<br>energy=%{x}<br>acousticness=%{y}<br>track.duration_ms=%{marker.size}<extra></extra>",
         "hovertext": [
          "Big Bad Wolf",
          "Affirmations",
          "ABC Song Hip Hop Remix - Remix",
          "MKB (Mama Knows Best)",
          "Wheels On The Bus",
          "Brush",
          "Jumping in the bed",
          "Itsy Bitsy Spider",
          "Head, Shoulders, Knees, Toes",
          "Happy And You Know It",
          "Simon Says",
          "The Continents",
          "Count With Me",
          "Twinkle Twinkle Little Star",
          "How I Feel",
          "I Can",
          "Old McDonald",
          "Be Brave",
          "Clean up song",
          "Hickory Dickory Dock",
          "Color Song",
          "Good Morning",
          "Potty Song (Parody)",
          "Breathe",
          "Humpty Dumpty (Trap Nursery)",
          "Gingerbread Man",
          "BINGO",
          "Days Of The Week",
          "Get Fit",
          "Outside",
          "Zoo",
          "Months Of The Year",
          "Dream Big",
          "Rain Rain",
          "Veggies",
          "Wash Your Hands",
          "Ants Go Marching",
          "Errands",
          "Down by the bay",
          "Skidamarink",
          "New Year New Me",
          "Adding Song"
         ],
         "legendgroup": "This Is Jools TV",
         "marker": {
          "color": "#EF553B",
          "size": [
           185840,
           157244,
           183065,
           167428,
           163071,
           122640,
           108435,
           212628,
           145266,
           185658,
           113057,
           130054,
           214762,
           170292,
           94103,
           172472,
           182073,
           203284,
           72620,
           205408,
           221753,
           189846,
           131186,
           164236,
           144220,
           195866,
           173294,
           178187,
           189432,
           194255,
           183012,
           163356,
           201305,
           184803,
           130187,
           141011,
           173680,
           148330,
           220379,
           201357,
           162234,
           174291
          ],
          "sizemode": "area",
          "sizeref": 554.3825,
          "symbol": "circle"
         },
         "mode": "markers",
         "name": "This Is Jools TV",
         "orientation": "v",
         "showlegend": true,
         "type": "scatter",
         "x": [
          0.586,
          0.37,
          0.475,
          0.612,
          0.628,
          0.615,
          0.411,
          0.594,
          0.704,
          0.584,
          0.659,
          0.717,
          0.542,
          0.7,
          0.64,
          0.449,
          0.807,
          0.46,
          0.662,
          0.439,
          0.797,
          0.743,
          0.52,
          0.405,
          0.443,
          0.7,
          0.491,
          0.83,
          0.751,
          0.561,
          0.544,
          0.743,
          0.49,
          0.748,
          0.804,
          0.522,
          0.595,
          0.483,
          0.127,
          0.542,
          0.548,
          0.61
         ],
         "xaxis": "x",
         "y": [
          0.121,
          0.526,
          0.126,
          0.0269,
          0.138,
          0.0072,
          0.882,
          0.136,
          0.0302,
          0.257,
          0.591,
          0.206,
          0.0184,
          0.0711,
          0.477,
          0.142,
          0.559,
          0.667,
          0.665,
          0.203,
          0.568,
          0.0138,
          0.00206,
          0.39,
          0.0111,
          0.0908,
          0.39,
          0.0302,
          0.02,
          0.187,
          0.0153,
          0.113,
          0.125,
          0.0257,
          0.045,
          0.473,
          0.411,
          0.0565,
          0.255,
          0.838,
          0.786,
          0.000336
         ],
         "yaxis": "y"
        }
       ],
       "layout": {
        "legend": {
         "itemsizing": "constant",
         "title": {
          "text": "playlist"
         },
         "tracegroupgap": 0
        },
        "margin": {
         "t": 60
        },
        "template": {
         "data": {
          "bar": [
           {
            "error_x": {
             "color": "#2a3f5f"
            },
            "error_y": {
             "color": "#2a3f5f"
            },
            "marker": {
             "line": {
              "color": "#E5ECF6",
              "width": 0.5
             },
             "pattern": {
              "fillmode": "overlay",
              "size": 10,
              "solidity": 0.2
             }
            },
            "type": "bar"
           }
          ],
          "barpolar": [
           {
            "marker": {
             "line": {
              "color": "#E5ECF6",
              "width": 0.5
             },
             "pattern": {
              "fillmode": "overlay",
              "size": 10,
              "solidity": 0.2
             }
            },
            "type": "barpolar"
           }
          ],
          "carpet": [
           {
            "aaxis": {
             "endlinecolor": "#2a3f5f",
             "gridcolor": "white",
             "linecolor": "white",
             "minorgridcolor": "white",
             "startlinecolor": "#2a3f5f"
            },
            "baxis": {
             "endlinecolor": "#2a3f5f",
             "gridcolor": "white",
             "linecolor": "white",
             "minorgridcolor": "white",
             "startlinecolor": "#2a3f5f"
            },
            "type": "carpet"
           }
          ],
          "choropleth": [
           {
            "colorbar": {
             "outlinewidth": 0,
             "ticks": ""
            },
            "type": "choropleth"
           }
          ],
          "contour": [
           {
            "colorbar": {
             "outlinewidth": 0,
             "ticks": ""
            },
            "colorscale": [
             [
              0,
              "#0d0887"
             ],
             [
              0.1111111111111111,
              "#46039f"
             ],
             [
              0.2222222222222222,
              "#7201a8"
             ],
             [
              0.3333333333333333,
              "#9c179e"
             ],
             [
              0.4444444444444444,
              "#bd3786"
             ],
             [
              0.5555555555555556,
              "#d8576b"
             ],
             [
              0.6666666666666666,
              "#ed7953"
             ],
             [
              0.7777777777777778,
              "#fb9f3a"
             ],
             [
              0.8888888888888888,
              "#fdca26"
             ],
             [
              1,
              "#f0f921"
             ]
            ],
            "type": "contour"
           }
          ],
          "contourcarpet": [
           {
            "colorbar": {
             "outlinewidth": 0,
             "ticks": ""
            },
            "type": "contourcarpet"
           }
          ],
          "heatmap": [
           {
            "colorbar": {
             "outlinewidth": 0,
             "ticks": ""
            },
            "colorscale": [
             [
              0,
              "#0d0887"
             ],
             [
              0.1111111111111111,
              "#46039f"
             ],
             [
              0.2222222222222222,
              "#7201a8"
             ],
             [
              0.3333333333333333,
              "#9c179e"
             ],
             [
              0.4444444444444444,
              "#bd3786"
             ],
             [
              0.5555555555555556,
              "#d8576b"
             ],
             [
              0.6666666666666666,
              "#ed7953"
             ],
             [
              0.7777777777777778,
              "#fb9f3a"
             ],
             [
              0.8888888888888888,
              "#fdca26"
             ],
             [
              1,
              "#f0f921"
             ]
            ],
            "type": "heatmap"
           }
          ],
          "heatmapgl": [
           {
            "colorbar": {
             "outlinewidth": 0,
             "ticks": ""
            },
            "colorscale": [
             [
              0,
              "#0d0887"
             ],
             [
              0.1111111111111111,
              "#46039f"
             ],
             [
              0.2222222222222222,
              "#7201a8"
             ],
             [
              0.3333333333333333,
              "#9c179e"
             ],
             [
              0.4444444444444444,
              "#bd3786"
             ],
             [
              0.5555555555555556,
              "#d8576b"
             ],
             [
              0.6666666666666666,
              "#ed7953"
             ],
             [
              0.7777777777777778,
              "#fb9f3a"
             ],
             [
              0.8888888888888888,
              "#fdca26"
             ],
             [
              1,
              "#f0f921"
             ]
            ],
            "type": "heatmapgl"
           }
          ],
          "histogram": [
           {
            "marker": {
             "pattern": {
              "fillmode": "overlay",
              "size": 10,
              "solidity": 0.2
             }
            },
            "type": "histogram"
           }
          ],
          "histogram2d": [
           {
            "colorbar": {
             "outlinewidth": 0,
             "ticks": ""
            },
            "colorscale": [
             [
              0,
              "#0d0887"
             ],
             [
              0.1111111111111111,
              "#46039f"
             ],
             [
              0.2222222222222222,
              "#7201a8"
             ],
             [
              0.3333333333333333,
              "#9c179e"
             ],
             [
              0.4444444444444444,
              "#bd3786"
             ],
             [
              0.5555555555555556,
              "#d8576b"
             ],
             [
              0.6666666666666666,
              "#ed7953"
             ],
             [
              0.7777777777777778,
              "#fb9f3a"
             ],
             [
              0.8888888888888888,
              "#fdca26"
             ],
             [
              1,
              "#f0f921"
             ]
            ],
            "type": "histogram2d"
           }
          ],
          "histogram2dcontour": [
           {
            "colorbar": {
             "outlinewidth": 0,
             "ticks": ""
            },
            "colorscale": [
             [
              0,
              "#0d0887"
             ],
             [
              0.1111111111111111,
              "#46039f"
             ],
             [
              0.2222222222222222,
              "#7201a8"
             ],
             [
              0.3333333333333333,
              "#9c179e"
             ],
             [
              0.4444444444444444,
              "#bd3786"
             ],
             [
              0.5555555555555556,
              "#d8576b"
             ],
             [
              0.6666666666666666,
              "#ed7953"
             ],
             [
              0.7777777777777778,
              "#fb9f3a"
             ],
             [
              0.8888888888888888,
              "#fdca26"
             ],
             [
              1,
              "#f0f921"
             ]
            ],
            "type": "histogram2dcontour"
           }
          ],
          "mesh3d": [
           {
            "colorbar": {
             "outlinewidth": 0,
             "ticks": ""
            },
            "type": "mesh3d"
           }
          ],
          "parcoords": [
           {
            "line": {
             "colorbar": {
              "outlinewidth": 0,
              "ticks": ""
             }
            },
            "type": "parcoords"
           }
          ],
          "pie": [
           {
            "automargin": true,
            "type": "pie"
           }
          ],
          "scatter": [
           {
            "fillpattern": {
             "fillmode": "overlay",
             "size": 10,
             "solidity": 0.2
            },
            "type": "scatter"
           }
          ],
          "scatter3d": [
           {
            "line": {
             "colorbar": {
              "outlinewidth": 0,
              "ticks": ""
             }
            },
            "marker": {
             "colorbar": {
              "outlinewidth": 0,
              "ticks": ""
             }
            },
            "type": "scatter3d"
           }
          ],
          "scattercarpet": [
           {
            "marker": {
             "colorbar": {
              "outlinewidth": 0,
              "ticks": ""
             }
            },
            "type": "scattercarpet"
           }
          ],
          "scattergeo": [
           {
            "marker": {
             "colorbar": {
              "outlinewidth": 0,
              "ticks": ""
             }
            },
            "type": "scattergeo"
           }
          ],
          "scattergl": [
           {
            "marker": {
             "colorbar": {
              "outlinewidth": 0,
              "ticks": ""
             }
            },
            "type": "scattergl"
           }
          ],
          "scattermapbox": [
           {
            "marker": {
             "colorbar": {
              "outlinewidth": 0,
              "ticks": ""
             }
            },
            "type": "scattermapbox"
           }
          ],
          "scatterpolar": [
           {
            "marker": {
             "colorbar": {
              "outlinewidth": 0,
              "ticks": ""
             }
            },
            "type": "scatterpolar"
           }
          ],
          "scatterpolargl": [
           {
            "marker": {
             "colorbar": {
              "outlinewidth": 0,
              "ticks": ""
             }
            },
            "type": "scatterpolargl"
           }
          ],
          "scatterternary": [
           {
            "marker": {
             "colorbar": {
              "outlinewidth": 0,
              "ticks": ""
             }
            },
            "type": "scatterternary"
           }
          ],
          "surface": [
           {
            "colorbar": {
             "outlinewidth": 0,
             "ticks": ""
            },
            "colorscale": [
             [
              0,
              "#0d0887"
             ],
             [
              0.1111111111111111,
              "#46039f"
             ],
             [
              0.2222222222222222,
              "#7201a8"
             ],
             [
              0.3333333333333333,
              "#9c179e"
             ],
             [
              0.4444444444444444,
              "#bd3786"
             ],
             [
              0.5555555555555556,
              "#d8576b"
             ],
             [
              0.6666666666666666,
              "#ed7953"
             ],
             [
              0.7777777777777778,
              "#fb9f3a"
             ],
             [
              0.8888888888888888,
              "#fdca26"
             ],
             [
              1,
              "#f0f921"
             ]
            ],
            "type": "surface"
           }
          ],
          "table": [
           {
            "cells": {
             "fill": {
              "color": "#EBF0F8"
             },
             "line": {
              "color": "white"
             }
            },
            "header": {
             "fill": {
              "color": "#C8D4E3"
             },
             "line": {
              "color": "white"
             }
            },
            "type": "table"
           }
          ]
         },
         "layout": {
          "annotationdefaults": {
           "arrowcolor": "#2a3f5f",
           "arrowhead": 0,
           "arrowwidth": 1
          },
          "autotypenumbers": "strict",
          "coloraxis": {
           "colorbar": {
            "outlinewidth": 0,
            "ticks": ""
           }
          },
          "colorscale": {
           "diverging": [
            [
             0,
             "#8e0152"
            ],
            [
             0.1,
             "#c51b7d"
            ],
            [
             0.2,
             "#de77ae"
            ],
            [
             0.3,
             "#f1b6da"
            ],
            [
             0.4,
             "#fde0ef"
            ],
            [
             0.5,
             "#f7f7f7"
            ],
            [
             0.6,
             "#e6f5d0"
            ],
            [
             0.7,
             "#b8e186"
            ],
            [
             0.8,
             "#7fbc41"
            ],
            [
             0.9,
             "#4d9221"
            ],
            [
             1,
             "#276419"
            ]
           ],
           "sequential": [
            [
             0,
             "#0d0887"
            ],
            [
             0.1111111111111111,
             "#46039f"
            ],
            [
             0.2222222222222222,
             "#7201a8"
            ],
            [
             0.3333333333333333,
             "#9c179e"
            ],
            [
             0.4444444444444444,
             "#bd3786"
            ],
            [
             0.5555555555555556,
             "#d8576b"
            ],
            [
             0.6666666666666666,
             "#ed7953"
            ],
            [
             0.7777777777777778,
             "#fb9f3a"
            ],
            [
             0.8888888888888888,
             "#fdca26"
            ],
            [
             1,
             "#f0f921"
            ]
           ],
           "sequentialminus": [
            [
             0,
             "#0d0887"
            ],
            [
             0.1111111111111111,
             "#46039f"
            ],
            [
             0.2222222222222222,
             "#7201a8"
            ],
            [
             0.3333333333333333,
             "#9c179e"
            ],
            [
             0.4444444444444444,
             "#bd3786"
            ],
            [
             0.5555555555555556,
             "#d8576b"
            ],
            [
             0.6666666666666666,
             "#ed7953"
            ],
            [
             0.7777777777777778,
             "#fb9f3a"
            ],
            [
             0.8888888888888888,
             "#fdca26"
            ],
            [
             1,
             "#f0f921"
            ]
           ]
          },
          "colorway": [
           "#636efa",
           "#EF553B",
           "#00cc96",
           "#ab63fa",
           "#FFA15A",
           "#19d3f3",
           "#FF6692",
           "#B6E880",
           "#FF97FF",
           "#FECB52"
          ],
          "font": {
           "color": "#2a3f5f"
          },
          "geo": {
           "bgcolor": "white",
           "lakecolor": "white",
           "landcolor": "#E5ECF6",
           "showlakes": true,
           "showland": true,
           "subunitcolor": "white"
          },
          "hoverlabel": {
           "align": "left"
          },
          "hovermode": "closest",
          "mapbox": {
           "style": "light"
          },
          "paper_bgcolor": "white",
          "plot_bgcolor": "#E5ECF6",
          "polar": {
           "angularaxis": {
            "gridcolor": "white",
            "linecolor": "white",
            "ticks": ""
           },
           "bgcolor": "#E5ECF6",
           "radialaxis": {
            "gridcolor": "white",
            "linecolor": "white",
            "ticks": ""
           }
          },
          "scene": {
           "xaxis": {
            "backgroundcolor": "#E5ECF6",
            "gridcolor": "white",
            "gridwidth": 2,
            "linecolor": "white",
            "showbackground": true,
            "ticks": "",
            "zerolinecolor": "white"
           },
           "yaxis": {
            "backgroundcolor": "#E5ECF6",
            "gridcolor": "white",
            "gridwidth": 2,
            "linecolor": "white",
            "showbackground": true,
            "ticks": "",
            "zerolinecolor": "white"
           },
           "zaxis": {
            "backgroundcolor": "#E5ECF6",
            "gridcolor": "white",
            "gridwidth": 2,
            "linecolor": "white",
            "showbackground": true,
            "ticks": "",
            "zerolinecolor": "white"
           }
          },
          "shapedefaults": {
           "line": {
            "color": "#2a3f5f"
           }
          },
          "ternary": {
           "aaxis": {
            "gridcolor": "white",
            "linecolor": "white",
            "ticks": ""
           },
           "baxis": {
            "gridcolor": "white",
            "linecolor": "white",
            "ticks": ""
           },
           "bgcolor": "#E5ECF6",
           "caxis": {
            "gridcolor": "white",
            "linecolor": "white",
            "ticks": ""
           }
          },
          "title": {
           "x": 0.05
          },
          "xaxis": {
           "automargin": true,
           "gridcolor": "white",
           "linecolor": "white",
           "ticks": "",
           "title": {
            "standoff": 15
           },
           "zerolinecolor": "white",
           "zerolinewidth": 2
          },
          "yaxis": {
           "automargin": true,
           "gridcolor": "white",
           "linecolor": "white",
           "ticks": "",
           "title": {
            "standoff": 15
           },
           "zerolinecolor": "white",
           "zerolinewidth": 2
          }
         }
        },
        "xaxis": {
         "anchor": "y",
         "domain": [
          0,
          1
         ],
         "title": {
          "text": "energy"
         }
        },
        "yaxis": {
         "anchor": "x",
         "domain": [
          0,
          1
         ],
         "title": {
          "text": "acousticness"
         }
        }
       }
      }
     },
     "metadata": {},
     "output_type": "display_data"
    }
   ],
   "source": [
    "fig = px.scatter(data,\n",
    "                 x='energy',\n",
    "                 y='acousticness',\n",
    "                 size='track.duration_ms', # bubble size proportional to track duration\n",
    "                 hover_name='track.name',\n",
    "                 color='playlist')\n",
    "fig.show()"
   ]
  },
  {
   "cell_type": "code",
   "execution_count": 8,
   "id": "19e02616",
   "metadata": {},
   "outputs": [
    {
     "data": {
      "application/vnd.plotly.v1+json": {
       "config": {
        "plotlyServerURL": "https://plot.ly"
       },
       "data": [
        {
         "alignmentgroup": "True",
         "bingroup": "x",
         "hovertemplate": "playlist=This Is Raffi<br>track.popularity=%{x}<br>count=%{y}<extra></extra>",
         "legendgroup": "This Is Raffi",
         "marker": {
          "color": "#636efa",
          "pattern": {
           "shape": ""
          }
         },
         "name": "This Is Raffi",
         "offsetgroup": "This Is Raffi",
         "orientation": "v",
         "showlegend": true,
         "type": "histogram",
         "x": [
          63,
          64,
          58,
          62,
          55,
          53,
          59,
          58,
          53,
          53,
          52,
          57,
          52,
          51,
          51,
          56,
          50,
          49,
          50,
          48,
          49,
          48,
          49,
          49,
          49,
          56,
          48,
          47,
          47,
          46,
          46,
          48,
          46,
          45,
          47,
          46,
          46,
          45,
          45,
          43,
          44,
          43,
          44,
          42,
          43,
          42
         ],
         "xaxis": "x",
         "yaxis": "y"
        },
        {
         "alignmentgroup": "True",
         "boxpoints": "all",
         "fillcolor": "rgba(255,255,255,0)",
         "hoveron": "points",
         "hovertemplate": "playlist=This Is Raffi<br>track.popularity=%{x}<extra></extra>",
         "jitter": 0,
         "legendgroup": "This Is Raffi",
         "line": {
          "color": "rgba(255,255,255,0)"
         },
         "marker": {
          "color": "#636efa",
          "symbol": "line-ns-open"
         },
         "name": "This Is Raffi",
         "offsetgroup": "This Is Raffi",
         "showlegend": false,
         "type": "box",
         "x": [
          63,
          64,
          58,
          62,
          55,
          53,
          59,
          58,
          53,
          53,
          52,
          57,
          52,
          51,
          51,
          56,
          50,
          49,
          50,
          48,
          49,
          48,
          49,
          49,
          49,
          56,
          48,
          47,
          47,
          46,
          46,
          48,
          46,
          45,
          47,
          46,
          46,
          45,
          45,
          43,
          44,
          43,
          44,
          42,
          43,
          42
         ],
         "xaxis": "x2",
         "yaxis": "y2"
        },
        {
         "alignmentgroup": "True",
         "bingroup": "x",
         "hovertemplate": "playlist=This Is Jools TV<br>track.popularity=%{x}<br>count=%{y}<extra></extra>",
         "legendgroup": "This Is Jools TV",
         "marker": {
          "color": "#EF553B",
          "pattern": {
           "shape": ""
          }
         },
         "name": "This Is Jools TV",
         "offsetgroup": "This Is Jools TV",
         "orientation": "v",
         "showlegend": true,
         "type": "histogram",
         "x": [
          40,
          36,
          37,
          31,
          38,
          30,
          29,
          28,
          35,
          26,
          27,
          25,
          31,
          24,
          25,
          24,
          29,
          25,
          26,
          24,
          28,
          23,
          27,
          21,
          23,
          22,
          22,
          23,
          23,
          21,
          21,
          21,
          21,
          21,
          20,
          21,
          21,
          20,
          20,
          20,
          19,
          17
         ],
         "xaxis": "x",
         "yaxis": "y"
        },
        {
         "alignmentgroup": "True",
         "boxpoints": "all",
         "fillcolor": "rgba(255,255,255,0)",
         "hoveron": "points",
         "hovertemplate": "playlist=This Is Jools TV<br>track.popularity=%{x}<extra></extra>",
         "jitter": 0,
         "legendgroup": "This Is Jools TV",
         "line": {
          "color": "rgba(255,255,255,0)"
         },
         "marker": {
          "color": "#EF553B",
          "symbol": "line-ns-open"
         },
         "name": "This Is Jools TV",
         "offsetgroup": "This Is Jools TV",
         "showlegend": false,
         "type": "box",
         "x": [
          40,
          36,
          37,
          31,
          38,
          30,
          29,
          28,
          35,
          26,
          27,
          25,
          31,
          24,
          25,
          24,
          29,
          25,
          26,
          24,
          28,
          23,
          27,
          21,
          23,
          22,
          22,
          23,
          23,
          21,
          21,
          21,
          21,
          21,
          20,
          21,
          21,
          20,
          20,
          20,
          19,
          17
         ],
         "xaxis": "x2",
         "yaxis": "y2"
        }
       ],
       "layout": {
        "barmode": "relative",
        "legend": {
         "title": {
          "text": "playlist"
         },
         "tracegroupgap": 0
        },
        "margin": {
         "t": 60
        },
        "template": {
         "data": {
          "bar": [
           {
            "error_x": {
             "color": "#2a3f5f"
            },
            "error_y": {
             "color": "#2a3f5f"
            },
            "marker": {
             "line": {
              "color": "#E5ECF6",
              "width": 0.5
             },
             "pattern": {
              "fillmode": "overlay",
              "size": 10,
              "solidity": 0.2
             }
            },
            "type": "bar"
           }
          ],
          "barpolar": [
           {
            "marker": {
             "line": {
              "color": "#E5ECF6",
              "width": 0.5
             },
             "pattern": {
              "fillmode": "overlay",
              "size": 10,
              "solidity": 0.2
             }
            },
            "type": "barpolar"
           }
          ],
          "carpet": [
           {
            "aaxis": {
             "endlinecolor": "#2a3f5f",
             "gridcolor": "white",
             "linecolor": "white",
             "minorgridcolor": "white",
             "startlinecolor": "#2a3f5f"
            },
            "baxis": {
             "endlinecolor": "#2a3f5f",
             "gridcolor": "white",
             "linecolor": "white",
             "minorgridcolor": "white",
             "startlinecolor": "#2a3f5f"
            },
            "type": "carpet"
           }
          ],
          "choropleth": [
           {
            "colorbar": {
             "outlinewidth": 0,
             "ticks": ""
            },
            "type": "choropleth"
           }
          ],
          "contour": [
           {
            "colorbar": {
             "outlinewidth": 0,
             "ticks": ""
            },
            "colorscale": [
             [
              0,
              "#0d0887"
             ],
             [
              0.1111111111111111,
              "#46039f"
             ],
             [
              0.2222222222222222,
              "#7201a8"
             ],
             [
              0.3333333333333333,
              "#9c179e"
             ],
             [
              0.4444444444444444,
              "#bd3786"
             ],
             [
              0.5555555555555556,
              "#d8576b"
             ],
             [
              0.6666666666666666,
              "#ed7953"
             ],
             [
              0.7777777777777778,
              "#fb9f3a"
             ],
             [
              0.8888888888888888,
              "#fdca26"
             ],
             [
              1,
              "#f0f921"
             ]
            ],
            "type": "contour"
           }
          ],
          "contourcarpet": [
           {
            "colorbar": {
             "outlinewidth": 0,
             "ticks": ""
            },
            "type": "contourcarpet"
           }
          ],
          "heatmap": [
           {
            "colorbar": {
             "outlinewidth": 0,
             "ticks": ""
            },
            "colorscale": [
             [
              0,
              "#0d0887"
             ],
             [
              0.1111111111111111,
              "#46039f"
             ],
             [
              0.2222222222222222,
              "#7201a8"
             ],
             [
              0.3333333333333333,
              "#9c179e"
             ],
             [
              0.4444444444444444,
              "#bd3786"
             ],
             [
              0.5555555555555556,
              "#d8576b"
             ],
             [
              0.6666666666666666,
              "#ed7953"
             ],
             [
              0.7777777777777778,
              "#fb9f3a"
             ],
             [
              0.8888888888888888,
              "#fdca26"
             ],
             [
              1,
              "#f0f921"
             ]
            ],
            "type": "heatmap"
           }
          ],
          "heatmapgl": [
           {
            "colorbar": {
             "outlinewidth": 0,
             "ticks": ""
            },
            "colorscale": [
             [
              0,
              "#0d0887"
             ],
             [
              0.1111111111111111,
              "#46039f"
             ],
             [
              0.2222222222222222,
              "#7201a8"
             ],
             [
              0.3333333333333333,
              "#9c179e"
             ],
             [
              0.4444444444444444,
              "#bd3786"
             ],
             [
              0.5555555555555556,
              "#d8576b"
             ],
             [
              0.6666666666666666,
              "#ed7953"
             ],
             [
              0.7777777777777778,
              "#fb9f3a"
             ],
             [
              0.8888888888888888,
              "#fdca26"
             ],
             [
              1,
              "#f0f921"
             ]
            ],
            "type": "heatmapgl"
           }
          ],
          "histogram": [
           {
            "marker": {
             "pattern": {
              "fillmode": "overlay",
              "size": 10,
              "solidity": 0.2
             }
            },
            "type": "histogram"
           }
          ],
          "histogram2d": [
           {
            "colorbar": {
             "outlinewidth": 0,
             "ticks": ""
            },
            "colorscale": [
             [
              0,
              "#0d0887"
             ],
             [
              0.1111111111111111,
              "#46039f"
             ],
             [
              0.2222222222222222,
              "#7201a8"
             ],
             [
              0.3333333333333333,
              "#9c179e"
             ],
             [
              0.4444444444444444,
              "#bd3786"
             ],
             [
              0.5555555555555556,
              "#d8576b"
             ],
             [
              0.6666666666666666,
              "#ed7953"
             ],
             [
              0.7777777777777778,
              "#fb9f3a"
             ],
             [
              0.8888888888888888,
              "#fdca26"
             ],
             [
              1,
              "#f0f921"
             ]
            ],
            "type": "histogram2d"
           }
          ],
          "histogram2dcontour": [
           {
            "colorbar": {
             "outlinewidth": 0,
             "ticks": ""
            },
            "colorscale": [
             [
              0,
              "#0d0887"
             ],
             [
              0.1111111111111111,
              "#46039f"
             ],
             [
              0.2222222222222222,
              "#7201a8"
             ],
             [
              0.3333333333333333,
              "#9c179e"
             ],
             [
              0.4444444444444444,
              "#bd3786"
             ],
             [
              0.5555555555555556,
              "#d8576b"
             ],
             [
              0.6666666666666666,
              "#ed7953"
             ],
             [
              0.7777777777777778,
              "#fb9f3a"
             ],
             [
              0.8888888888888888,
              "#fdca26"
             ],
             [
              1,
              "#f0f921"
             ]
            ],
            "type": "histogram2dcontour"
           }
          ],
          "mesh3d": [
           {
            "colorbar": {
             "outlinewidth": 0,
             "ticks": ""
            },
            "type": "mesh3d"
           }
          ],
          "parcoords": [
           {
            "line": {
             "colorbar": {
              "outlinewidth": 0,
              "ticks": ""
             }
            },
            "type": "parcoords"
           }
          ],
          "pie": [
           {
            "automargin": true,
            "type": "pie"
           }
          ],
          "scatter": [
           {
            "fillpattern": {
             "fillmode": "overlay",
             "size": 10,
             "solidity": 0.2
            },
            "type": "scatter"
           }
          ],
          "scatter3d": [
           {
            "line": {
             "colorbar": {
              "outlinewidth": 0,
              "ticks": ""
             }
            },
            "marker": {
             "colorbar": {
              "outlinewidth": 0,
              "ticks": ""
             }
            },
            "type": "scatter3d"
           }
          ],
          "scattercarpet": [
           {
            "marker": {
             "colorbar": {
              "outlinewidth": 0,
              "ticks": ""
             }
            },
            "type": "scattercarpet"
           }
          ],
          "scattergeo": [
           {
            "marker": {
             "colorbar": {
              "outlinewidth": 0,
              "ticks": ""
             }
            },
            "type": "scattergeo"
           }
          ],
          "scattergl": [
           {
            "marker": {
             "colorbar": {
              "outlinewidth": 0,
              "ticks": ""
             }
            },
            "type": "scattergl"
           }
          ],
          "scattermapbox": [
           {
            "marker": {
             "colorbar": {
              "outlinewidth": 0,
              "ticks": ""
             }
            },
            "type": "scattermapbox"
           }
          ],
          "scatterpolar": [
           {
            "marker": {
             "colorbar": {
              "outlinewidth": 0,
              "ticks": ""
             }
            },
            "type": "scatterpolar"
           }
          ],
          "scatterpolargl": [
           {
            "marker": {
             "colorbar": {
              "outlinewidth": 0,
              "ticks": ""
             }
            },
            "type": "scatterpolargl"
           }
          ],
          "scatterternary": [
           {
            "marker": {
             "colorbar": {
              "outlinewidth": 0,
              "ticks": ""
             }
            },
            "type": "scatterternary"
           }
          ],
          "surface": [
           {
            "colorbar": {
             "outlinewidth": 0,
             "ticks": ""
            },
            "colorscale": [
             [
              0,
              "#0d0887"
             ],
             [
              0.1111111111111111,
              "#46039f"
             ],
             [
              0.2222222222222222,
              "#7201a8"
             ],
             [
              0.3333333333333333,
              "#9c179e"
             ],
             [
              0.4444444444444444,
              "#bd3786"
             ],
             [
              0.5555555555555556,
              "#d8576b"
             ],
             [
              0.6666666666666666,
              "#ed7953"
             ],
             [
              0.7777777777777778,
              "#fb9f3a"
             ],
             [
              0.8888888888888888,
              "#fdca26"
             ],
             [
              1,
              "#f0f921"
             ]
            ],
            "type": "surface"
           }
          ],
          "table": [
           {
            "cells": {
             "fill": {
              "color": "#EBF0F8"
             },
             "line": {
              "color": "white"
             }
            },
            "header": {
             "fill": {
              "color": "#C8D4E3"
             },
             "line": {
              "color": "white"
             }
            },
            "type": "table"
           }
          ]
         },
         "layout": {
          "annotationdefaults": {
           "arrowcolor": "#2a3f5f",
           "arrowhead": 0,
           "arrowwidth": 1
          },
          "autotypenumbers": "strict",
          "coloraxis": {
           "colorbar": {
            "outlinewidth": 0,
            "ticks": ""
           }
          },
          "colorscale": {
           "diverging": [
            [
             0,
             "#8e0152"
            ],
            [
             0.1,
             "#c51b7d"
            ],
            [
             0.2,
             "#de77ae"
            ],
            [
             0.3,
             "#f1b6da"
            ],
            [
             0.4,
             "#fde0ef"
            ],
            [
             0.5,
             "#f7f7f7"
            ],
            [
             0.6,
             "#e6f5d0"
            ],
            [
             0.7,
             "#b8e186"
            ],
            [
             0.8,
             "#7fbc41"
            ],
            [
             0.9,
             "#4d9221"
            ],
            [
             1,
             "#276419"
            ]
           ],
           "sequential": [
            [
             0,
             "#0d0887"
            ],
            [
             0.1111111111111111,
             "#46039f"
            ],
            [
             0.2222222222222222,
             "#7201a8"
            ],
            [
             0.3333333333333333,
             "#9c179e"
            ],
            [
             0.4444444444444444,
             "#bd3786"
            ],
            [
             0.5555555555555556,
             "#d8576b"
            ],
            [
             0.6666666666666666,
             "#ed7953"
            ],
            [
             0.7777777777777778,
             "#fb9f3a"
            ],
            [
             0.8888888888888888,
             "#fdca26"
            ],
            [
             1,
             "#f0f921"
            ]
           ],
           "sequentialminus": [
            [
             0,
             "#0d0887"
            ],
            [
             0.1111111111111111,
             "#46039f"
            ],
            [
             0.2222222222222222,
             "#7201a8"
            ],
            [
             0.3333333333333333,
             "#9c179e"
            ],
            [
             0.4444444444444444,
             "#bd3786"
            ],
            [
             0.5555555555555556,
             "#d8576b"
            ],
            [
             0.6666666666666666,
             "#ed7953"
            ],
            [
             0.7777777777777778,
             "#fb9f3a"
            ],
            [
             0.8888888888888888,
             "#fdca26"
            ],
            [
             1,
             "#f0f921"
            ]
           ]
          },
          "colorway": [
           "#636efa",
           "#EF553B",
           "#00cc96",
           "#ab63fa",
           "#FFA15A",
           "#19d3f3",
           "#FF6692",
           "#B6E880",
           "#FF97FF",
           "#FECB52"
          ],
          "font": {
           "color": "#2a3f5f"
          },
          "geo": {
           "bgcolor": "white",
           "lakecolor": "white",
           "landcolor": "#E5ECF6",
           "showlakes": true,
           "showland": true,
           "subunitcolor": "white"
          },
          "hoverlabel": {
           "align": "left"
          },
          "hovermode": "closest",
          "mapbox": {
           "style": "light"
          },
          "paper_bgcolor": "white",
          "plot_bgcolor": "#E5ECF6",
          "polar": {
           "angularaxis": {
            "gridcolor": "white",
            "linecolor": "white",
            "ticks": ""
           },
           "bgcolor": "#E5ECF6",
           "radialaxis": {
            "gridcolor": "white",
            "linecolor": "white",
            "ticks": ""
           }
          },
          "scene": {
           "xaxis": {
            "backgroundcolor": "#E5ECF6",
            "gridcolor": "white",
            "gridwidth": 2,
            "linecolor": "white",
            "showbackground": true,
            "ticks": "",
            "zerolinecolor": "white"
           },
           "yaxis": {
            "backgroundcolor": "#E5ECF6",
            "gridcolor": "white",
            "gridwidth": 2,
            "linecolor": "white",
            "showbackground": true,
            "ticks": "",
            "zerolinecolor": "white"
           },
           "zaxis": {
            "backgroundcolor": "#E5ECF6",
            "gridcolor": "white",
            "gridwidth": 2,
            "linecolor": "white",
            "showbackground": true,
            "ticks": "",
            "zerolinecolor": "white"
           }
          },
          "shapedefaults": {
           "line": {
            "color": "#2a3f5f"
           }
          },
          "ternary": {
           "aaxis": {
            "gridcolor": "white",
            "linecolor": "white",
            "ticks": ""
           },
           "baxis": {
            "gridcolor": "white",
            "linecolor": "white",
            "ticks": ""
           },
           "bgcolor": "#E5ECF6",
           "caxis": {
            "gridcolor": "white",
            "linecolor": "white",
            "ticks": ""
           }
          },
          "title": {
           "x": 0.05
          },
          "xaxis": {
           "automargin": true,
           "gridcolor": "white",
           "linecolor": "white",
           "ticks": "",
           "title": {
            "standoff": 15
           },
           "zerolinecolor": "white",
           "zerolinewidth": 2
          },
          "yaxis": {
           "automargin": true,
           "gridcolor": "white",
           "linecolor": "white",
           "ticks": "",
           "title": {
            "standoff": 15
           },
           "zerolinecolor": "white",
           "zerolinewidth": 2
          }
         }
        },
        "xaxis": {
         "anchor": "y",
         "domain": [
          0,
          1
         ],
         "title": {
          "text": "track.popularity"
         }
        },
        "xaxis2": {
         "anchor": "y2",
         "domain": [
          0,
          1
         ],
         "matches": "x",
         "showgrid": true,
         "showticklabels": false
        },
        "yaxis": {
         "anchor": "x",
         "domain": [
          0,
          0.7326
         ],
         "title": {
          "text": "count"
         }
        },
        "yaxis2": {
         "anchor": "x2",
         "domain": [
          0.7426,
          1
         ],
         "matches": "y2",
         "showgrid": false,
         "showline": false,
         "showticklabels": false,
         "ticks": ""
        }
       }
      }
     },
     "metadata": {},
     "output_type": "display_data"
    }
   ],
   "source": [
    "fig = px.histogram(data, x='track.popularity', color='playlist', marginal='rug')\n",
    "fig.show()"
   ]
  },
  {
   "cell_type": "code",
   "execution_count": null,
   "id": "737baa93",
   "metadata": {},
   "outputs": [],
   "source": []
  }
 ],
 "metadata": {
  "kernelspec": {
   "display_name": "Python 3 (ipykernel)",
   "language": "python",
   "name": "python3"
  },
  "language_info": {
   "codemirror_mode": {
    "name": "ipython",
    "version": 3
   },
   "file_extension": ".py",
   "mimetype": "text/x-python",
   "name": "python",
   "nbconvert_exporter": "python",
   "pygments_lexer": "ipython3",
   "version": "3.9.16"
  }
 },
 "nbformat": 4,
 "nbformat_minor": 5
}
