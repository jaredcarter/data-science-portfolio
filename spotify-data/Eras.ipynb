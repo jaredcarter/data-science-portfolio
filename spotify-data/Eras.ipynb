{
 "cells": [
  {
   "cell_type": "markdown",
   "metadata": {},
   "source": [
    "My household listens to a lot of Taylor Swift music.\n",
    "Inspired by this and her Eras tour, I decided to take a look at some of her song data available on Spotify.\n",
    "In this example, I'm visualizing the data with plotly.\n",
    "These plots are more interactive, but will not render correctly in Github, so I would recommend viewing the notebook using nbviewer.\n",
    "\n",
    "**Follow the link below to view the interactive plots!**\n",
    "\n",
    "[nbviewer link](https://www.google.com)"
   ]
  },
  {
   "cell_type": "code",
   "execution_count": 6,
   "metadata": {},
   "outputs": [
    {
     "data": {
      "text/html": [
       "        <script type=\"text/javascript\">\n",
       "        window.PlotlyConfig = {MathJaxConfig: 'local'};\n",
       "        if (window.MathJax && window.MathJax.Hub && window.MathJax.Hub.Config) {window.MathJax.Hub.Config({SVG: {font: \"STIX-Web\"}});}\n",
       "        if (typeof require !== 'undefined') {\n",
       "        require.undef(\"plotly\");\n",
       "        requirejs.config({\n",
       "            paths: {\n",
       "                'plotly': ['https://cdn.plot.ly/plotly-2.24.1.min']\n",
       "            }\n",
       "        });\n",
       "        require(['plotly'], function(Plotly) {\n",
       "            window._Plotly = Plotly;\n",
       "        });\n",
       "        }\n",
       "        </script>\n",
       "        "
      ]
     },
     "metadata": {},
     "output_type": "display_data"
    }
   ],
   "source": [
    "import pandas as pd\n",
    "from plotly.offline import init_notebook_mode\n",
    "init_notebook_mode(connected=True)\n",
    "import plotly.express as px\n"
   ]
  },
  {
   "cell_type": "code",
   "execution_count": 7,
   "metadata": {},
   "outputs": [
    {
     "name": "stdout",
     "output_type": "stream",
     "text": [
      "<class 'pandas.core.frame.DataFrame'>\n",
      "RangeIndex: 254 entries, 0 to 253\n",
      "Data columns (total 57 columns):\n",
      " #   Column                              Non-Null Count  Dtype  \n",
      "---  ------                              --------------  -----  \n",
      " 0   added_at                            254 non-null    object \n",
      " 1   is_local                            254 non-null    bool   \n",
      " 2   primary_color                       0 non-null      float64\n",
      " 3   added_by.external_urls.spotify      254 non-null    object \n",
      " 4   added_by.href                       254 non-null    object \n",
      " 5   added_by.id                         254 non-null    object \n",
      " 6   added_by.type                       254 non-null    object \n",
      " 7   added_by.uri                        254 non-null    object \n",
      " 8   track.album.album_type              254 non-null    object \n",
      " 9   track.album.artists                 254 non-null    object \n",
      " 10  track.album.available_markets       254 non-null    object \n",
      " 11  track.album.external_urls.spotify   254 non-null    object \n",
      " 12  track.album.href                    254 non-null    object \n",
      " 13  track.album.id                      254 non-null    object \n",
      " 14  track.album.images                  254 non-null    object \n",
      " 15  track.album.name                    254 non-null    object \n",
      " 16  track.album.release_date            254 non-null    object \n",
      " 17  track.album.release_date_precision  254 non-null    object \n",
      " 18  track.album.total_tracks            254 non-null    int64  \n",
      " 19  track.album.type                    254 non-null    object \n",
      " 20  track.album.uri                     254 non-null    object \n",
      " 21  track.artists                       254 non-null    object \n",
      " 22  track.available_markets             254 non-null    object \n",
      " 23  track.disc_number                   254 non-null    int64  \n",
      " 24  track.duration_ms                   254 non-null    int64  \n",
      " 25  track.episode                       254 non-null    bool   \n",
      " 26  track.explicit                      254 non-null    bool   \n",
      " 27  track.external_ids.isrc             254 non-null    object \n",
      " 28  track.external_urls.spotify         254 non-null    object \n",
      " 29  track.href                          254 non-null    object \n",
      " 30  track.id                            254 non-null    object \n",
      " 31  track.is_local                      254 non-null    bool   \n",
      " 32  track.name                          254 non-null    object \n",
      " 33  track.popularity                    254 non-null    int64  \n",
      " 34  track.preview_url                   0 non-null      float64\n",
      " 35  track.track                         254 non-null    bool   \n",
      " 36  track.track_number                  254 non-null    int64  \n",
      " 37  track.type                          254 non-null    object \n",
      " 38  track.uri                           254 non-null    object \n",
      " 39  video_thumbnail.url                 0 non-null      float64\n",
      " 40  danceability                        254 non-null    float64\n",
      " 41  energy                              254 non-null    float64\n",
      " 42  key                                 254 non-null    int64  \n",
      " 43  loudness                            254 non-null    float64\n",
      " 44  mode                                254 non-null    int64  \n",
      " 45  speechiness                         254 non-null    float64\n",
      " 46  acousticness                        254 non-null    float64\n",
      " 47  instrumentalness                    254 non-null    float64\n",
      " 48  liveness                            254 non-null    float64\n",
      " 49  valence                             254 non-null    float64\n",
      " 50  tempo                               254 non-null    float64\n",
      " 51  type                                254 non-null    object \n",
      " 52  uri                                 254 non-null    object \n",
      " 53  track_href                          254 non-null    object \n",
      " 54  analysis_url                        254 non-null    object \n",
      " 55  duration_ms                         254 non-null    int64  \n",
      " 56  time_signature                      254 non-null    int64  \n",
      "dtypes: bool(5), float64(12), int64(9), object(31)\n",
      "memory usage: 104.6+ KB\n"
     ]
    }
   ],
   "source": [
    "df = pd.read_csv(\"data/Taylor Swift.csv\")\n",
    "df.info()"
   ]
  },
  {
   "cell_type": "code",
   "execution_count": 5,
   "metadata": {},
   "outputs": [],
   "source": [
    "df['track.album.release_date'] = pd.to_datetime(df['track.album.release_date'])"
   ]
  },
  {
   "cell_type": "code",
   "execution_count": 11,
   "metadata": {},
   "outputs": [
    {
     "data": {
      "application/vnd.plotly.v1+json": {
       "config": {
        "plotlyServerURL": "https://plot.ly"
       },
       "data": [
        {
         "alignmentgroup": "True",
         "boxpoints": "all",
         "hovertemplate": "<b>%{hovertext}</b><br><br>track.album.name=%{x}<br>track.popularity=%{y}<extra></extra>",
         "hovertext": [
          "Tim McGraw",
          "Picture To Burn",
          "Teardrops On My Guitar - Radio Single Remix",
          "A Place in this World",
          "Cold As You",
          "The Outside",
          "Tied Together with a Smile",
          "Stay Beautiful",
          "Should've Said No",
          "Mary's Song (Oh My My My)",
          "Our Song",
          "I'm Only Me When I'm With You",
          "Invisible",
          "A Perfectly Good Heart",
          "Teardrops on My Guitar - Pop Version",
          "Fearless",
          "Fifteen",
          "Love Story",
          "Hey Stephen",
          "White Horse",
          "You Belong With Me",
          "Breathe",
          "Tell Me Why",
          "You're Not Sorry",
          "The Way I Loved You",
          "Forever & Always",
          "The Best Day",
          "Change",
          "Mine",
          "Sparks Fly",
          "Back To December",
          "Speak Now",
          "Dear John",
          "Mean",
          "The Story Of Us",
          "Never Grow Up",
          "Enchanted",
          "Better Than Revenge",
          "Innocent",
          "Haunted",
          "Last Kiss",
          "Long Live",
          "State Of Grace",
          "Red",
          "Treacherous",
          "I Knew You Were Trouble.",
          "All Too Well",
          "22",
          "I Almost Do",
          "We Are Never Ever Getting Back Together",
          "Stay Stay Stay",
          "The Last Time",
          "Holy Ground",
          "Sad Beautiful Tragic",
          "The Lucky One",
          "Everything Has Changed",
          "Starlight",
          "Begin Again",
          "Welcome To New York",
          "Blank Space",
          "Style",
          "Out Of The Woods",
          "All You Had To Do Was Stay",
          "Shake It Off",
          "I Wish You Would",
          "Bad Blood",
          "Wildest Dreams",
          "How You Get The Girl",
          "This Love",
          "I Know Places",
          "Clean",
          "...Ready For It?",
          "End Game",
          "I Did Something Bad",
          "Don’t Blame Me",
          "Delicate",
          "Look What You Made Me Do",
          "So It Goes...",
          "Gorgeous",
          "Getaway Car",
          "King Of My Heart",
          "Dancing With Our Hands Tied",
          "Dress",
          "This Is Why We Can't Have Nice Things",
          "Call It What You Want",
          "New Year’s Day",
          "I Forgot That You Existed",
          "Cruel Summer",
          "Lover",
          "The Man",
          "The Archer",
          "I Think He Knows",
          "Miss Americana & The Heartbreak Prince",
          "Paper Rings",
          "Cornelia Street",
          "Death By A Thousand Cuts",
          "London Boy",
          "Soon You’ll Get Better (feat. The Chicks)",
          "False God",
          "You Need To Calm Down",
          "Afterglow",
          "ME! (feat. Brendon Urie of Panic! At The Disco)",
          "It’s Nice To Have A Friend",
          "Daylight",
          "the 1",
          "cardigan",
          "the last great american dynasty",
          "exile (feat. Bon Iver)",
          "my tears ricochet",
          "mirrorball",
          "seven",
          "august",
          "this is me trying",
          "illicit affairs",
          "invisible string",
          "mad woman",
          "epiphany",
          "betty",
          "peace",
          "hoax",
          "willow",
          "champagne problems",
          "gold rush",
          "‘tis the damn season",
          "tolerate it",
          "no body, no crime (feat. HAIM)",
          "happiness",
          "dorothea",
          "coney island (feat. The National)",
          "ivy",
          "cowboy like me",
          "long story short",
          "marjorie",
          "closure",
          "evermore (feat. Bon Iver)",
          "Fearless (Taylor’s Version)",
          "Fifteen (Taylor’s Version)",
          "Love Story (Taylor’s Version)",
          "Hey Stephen (Taylor’s Version)",
          "White Horse (Taylor’s Version)",
          "You Belong With Me (Taylor’s Version)",
          "Breathe (feat. Colbie Caillat) (Taylor’s Version)",
          "Tell Me Why (Taylor’s Version)",
          "You’re Not Sorry (Taylor’s Version)",
          "The Way I Loved You (Taylor’s Version)",
          "Forever & Always (Taylor’s Version)",
          "The Best Day (Taylor’s Version)",
          "Change (Taylor’s Version)",
          "Jump Then Fall (Taylor’s Version)",
          "Untouchable (Taylor’s Version)",
          "Forever & Always (Piano Version) (Taylor’s Version)",
          "Come In With The Rain (Taylor’s Version)",
          "Superstar (Taylor’s Version)",
          "The Other Side Of The Door (Taylor’s Version)",
          "Today Was A Fairytale (Taylor’s Version)",
          "You All Over Me (feat. Maren Morris) (Taylor’s Version) (From The Vault)",
          "Mr. Perfectly Fine (Taylor’s Version) (From The Vault)",
          "We Were Happy (Taylor’s Version) (From The Vault)",
          "That’s When (feat. Keith Urban) (Taylor’s Version) (From The Vault)",
          "Don’t You (Taylor’s Version) (From The Vault)",
          "Bye Bye Baby (Taylor’s Version) (From The Vault)",
          "State Of Grace (Taylor's Version)",
          "Red (Taylor's Version)",
          "Treacherous (Taylor's Version)",
          "I Knew You Were Trouble (Taylor's Version)",
          "All Too Well (Taylor's Version)",
          "22 (Taylor's Version)",
          "I Almost Do (Taylor's Version)",
          "We Are Never Ever Getting Back Together (Taylor's Version)",
          "Stay Stay Stay (Taylor's Version)",
          "The Last Time (feat. Gary Lightbody of Snow Patrol) (Taylor’s Version)",
          "Holy Ground (Taylor's Version)",
          "Sad Beautiful Tragic (Taylor's Version)",
          "The Lucky One (Taylor's Version)",
          "Everything Has Changed (feat. Ed Sheeran) (Taylor’s Version)",
          "Starlight (Taylor's Version)",
          "Begin Again (Taylor's Version)",
          "The Moment I Knew (Taylor's Version)",
          "Come Back...Be Here (Taylor's Version)",
          "Girl At Home (Taylor's Version)",
          "State Of Grace (Acoustic Version) (Taylor's Version)",
          "Ronan (Taylor's Version)",
          "Better Man (Taylor's Version) (From The Vault)",
          "Nothing New (feat. Phoebe Bridgers) (Taylor’s Version) (From The Vault)",
          "Babe (Taylor's Version) (From The Vault)",
          "Message In A Bottle (Taylor's Version) (From The Vault)",
          "I Bet You Think About Me (feat. Chris Stapleton) (Taylor’s Version) (From The Vault)",
          "Forever Winter (Taylor's Version) (From The Vault)",
          "Run (feat. Ed Sheeran) (Taylor’s Version) (From The Vault)",
          "The Very First Night (Taylor's Version) (From The Vault)",
          "All Too Well (10 Minute Version) (Taylor's Version) (From The Vault)",
          "Lavender Haze",
          "Maroon",
          "Anti-Hero",
          "Snow On The Beach (feat. Lana Del Rey)",
          "You're On Your Own, Kid",
          "Midnight Rain",
          "Question...?",
          "Vigilante Shit",
          "Bejeweled",
          "Labyrinth",
          "Karma",
          "Sweet Nothing",
          "Mastermind",
          "The Great War",
          "Bigger Than The Whole Sky",
          "Paris",
          "High Infidelity",
          "Glitch",
          "Would've, Could've, Should've",
          "Dear Reader",
          "Mine (Taylor's Version)",
          "Sparks Fly (Taylor’s Version)",
          "Speak Now (Taylor's Version)",
          "Back To December (Taylor's Version)",
          "Dear John (Taylor's Version)",
          "Mean (Taylor's Version)",
          "The Story Of Us (Taylor's Version)",
          "Never Grow Up (Taylor's Version)",
          "Enchanted (Taylor's Version)",
          "Better Than Revenge (Taylor's Version)",
          "Innocent (Taylor's Version)",
          "Haunted (Taylor's Version)",
          "Last Kiss (Taylor's Version)",
          "Long Live (Taylor's Version)",
          "Ours (Taylor’s Version)",
          "Superman (Taylor’s Version)",
          "Electric Touch (feat. Fall Out Boy) (Taylor’s Version) (From The Vault)",
          "When Emma Falls in Love (Taylor’s Version) (From The Vault)",
          "I Can See You (Taylor’s Version) (From The Vault)",
          "Castles Crumbling (feat. Hayley Williams) (Taylor’s Version) (From The Vault)",
          "Timeless (Taylor’s Version) (From The Vault)",
          "Welcome To New York (Taylor's Version)",
          "Blank Space (Taylor's Version)",
          "Style (Taylor's Version)",
          "Out Of The Woods (Taylor's Version)",
          "All You Had To Do Was Stay (Taylor's Version)",
          "Shake It Off (Taylor's Version)",
          "I Wish You Would (Taylor's Version)",
          "Bad Blood (Taylor's Version)",
          "Wildest Dreams (Taylor's Version)",
          "How You Get The Girl (Taylor's Version)",
          "This Love (Taylor’s Version)",
          "I Know Places (Taylor's Version)",
          "Clean (Taylor's Version)",
          "Wonderland (Taylor's Version)",
          "You Are In Love (Taylor's Version)",
          "New Romantics (Taylor's Version)",
          "\"Slut!\" (Taylor's Version) (From The Vault)",
          "Say Don't Go (Taylor's Version) (From The Vault)",
          "Now That We Don't Talk (Taylor's Version) (From The Vault)",
          "Suburban Legends (Taylor's Version) (From The Vault)",
          "Is It Over Now? (Taylor's Version) (From The Vault)",
          "Bad Blood (feat. Kendrick Lamar) (Taylor's Version)"
         ],
         "legendgroup": "",
         "marker": {
          "color": "#636efa"
         },
         "name": "",
         "notched": false,
         "offsetgroup": "",
         "orientation": "v",
         "showlegend": false,
         "type": "box",
         "x": [
          "Taylor Swift",
          "Taylor Swift",
          "Taylor Swift",
          "Taylor Swift",
          "Taylor Swift",
          "Taylor Swift",
          "Taylor Swift",
          "Taylor Swift",
          "Taylor Swift",
          "Taylor Swift",
          "Taylor Swift",
          "Taylor Swift",
          "Taylor Swift",
          "Taylor Swift",
          "Taylor Swift",
          "Fearless",
          "Fearless",
          "Fearless",
          "Fearless",
          "Fearless",
          "Fearless",
          "Fearless",
          "Fearless",
          "Fearless",
          "Fearless",
          "Fearless",
          "Fearless",
          "Fearless",
          "Speak Now",
          "Speak Now",
          "Speak Now",
          "Speak Now",
          "Speak Now",
          "Speak Now",
          "Speak Now",
          "Speak Now",
          "Speak Now",
          "Speak Now",
          "Speak Now",
          "Speak Now",
          "Speak Now",
          "Speak Now",
          "Red",
          "Red",
          "Red",
          "Red",
          "Red",
          "Red",
          "Red",
          "Red",
          "Red",
          "Red",
          "Red",
          "Red",
          "Red",
          "Red",
          "Red",
          "Red",
          "1989",
          "1989",
          "1989",
          "1989",
          "1989",
          "1989",
          "1989",
          "1989",
          "1989",
          "1989",
          "1989",
          "1989",
          "1989",
          "reputation",
          "reputation",
          "reputation",
          "reputation",
          "reputation",
          "reputation",
          "reputation",
          "reputation",
          "reputation",
          "reputation",
          "reputation",
          "reputation",
          "reputation",
          "reputation",
          "reputation",
          "Lover",
          "Lover",
          "Lover",
          "Lover",
          "Lover",
          "Lover",
          "Lover",
          "Lover",
          "Lover",
          "Lover",
          "Lover",
          "Lover",
          "Lover",
          "Lover",
          "Lover",
          "Lover",
          "Lover",
          "Lover",
          "folklore",
          "folklore",
          "folklore",
          "folklore",
          "folklore",
          "folklore",
          "folklore",
          "folklore",
          "folklore",
          "folklore",
          "folklore",
          "folklore",
          "folklore",
          "folklore",
          "folklore",
          "folklore",
          "evermore",
          "evermore",
          "evermore",
          "evermore",
          "evermore",
          "evermore",
          "evermore",
          "evermore",
          "evermore",
          "evermore",
          "evermore",
          "evermore",
          "evermore",
          "evermore",
          "evermore",
          "Fearless (Taylor's Version)",
          "Fearless (Taylor's Version)",
          "Fearless (Taylor's Version)",
          "Fearless (Taylor's Version)",
          "Fearless (Taylor's Version)",
          "Fearless (Taylor's Version)",
          "Fearless (Taylor's Version)",
          "Fearless (Taylor's Version)",
          "Fearless (Taylor's Version)",
          "Fearless (Taylor's Version)",
          "Fearless (Taylor's Version)",
          "Fearless (Taylor's Version)",
          "Fearless (Taylor's Version)",
          "Fearless (Taylor's Version)",
          "Fearless (Taylor's Version)",
          "Fearless (Taylor's Version)",
          "Fearless (Taylor's Version)",
          "Fearless (Taylor's Version)",
          "Fearless (Taylor's Version)",
          "Fearless (Taylor's Version)",
          "Fearless (Taylor's Version)",
          "Fearless (Taylor's Version)",
          "Fearless (Taylor's Version)",
          "Fearless (Taylor's Version)",
          "Fearless (Taylor's Version)",
          "Fearless (Taylor's Version)",
          "Red (Taylor's Version)",
          "Red (Taylor's Version)",
          "Red (Taylor's Version)",
          "Red (Taylor's Version)",
          "Red (Taylor's Version)",
          "Red (Taylor's Version)",
          "Red (Taylor's Version)",
          "Red (Taylor's Version)",
          "Red (Taylor's Version)",
          "Red (Taylor's Version)",
          "Red (Taylor's Version)",
          "Red (Taylor's Version)",
          "Red (Taylor's Version)",
          "Red (Taylor's Version)",
          "Red (Taylor's Version)",
          "Red (Taylor's Version)",
          "Red (Taylor's Version)",
          "Red (Taylor's Version)",
          "Red (Taylor's Version)",
          "Red (Taylor's Version)",
          "Red (Taylor's Version)",
          "Red (Taylor's Version)",
          "Red (Taylor's Version)",
          "Red (Taylor's Version)",
          "Red (Taylor's Version)",
          "Red (Taylor's Version)",
          "Red (Taylor's Version)",
          "Red (Taylor's Version)",
          "Red (Taylor's Version)",
          "Red (Taylor's Version)",
          "Midnights (3am Edition)",
          "Midnights (3am Edition)",
          "Midnights (3am Edition)",
          "Midnights (3am Edition)",
          "Midnights (3am Edition)",
          "Midnights (3am Edition)",
          "Midnights (3am Edition)",
          "Midnights (3am Edition)",
          "Midnights (3am Edition)",
          "Midnights (3am Edition)",
          "Midnights (3am Edition)",
          "Midnights (3am Edition)",
          "Midnights (3am Edition)",
          "Midnights (3am Edition)",
          "Midnights (3am Edition)",
          "Midnights (3am Edition)",
          "Midnights (3am Edition)",
          "Midnights (3am Edition)",
          "Midnights (3am Edition)",
          "Midnights (3am Edition)",
          "Speak Now (Taylor's Version)",
          "Speak Now (Taylor's Version)",
          "Speak Now (Taylor's Version)",
          "Speak Now (Taylor's Version)",
          "Speak Now (Taylor's Version)",
          "Speak Now (Taylor's Version)",
          "Speak Now (Taylor's Version)",
          "Speak Now (Taylor's Version)",
          "Speak Now (Taylor's Version)",
          "Speak Now (Taylor's Version)",
          "Speak Now (Taylor's Version)",
          "Speak Now (Taylor's Version)",
          "Speak Now (Taylor's Version)",
          "Speak Now (Taylor's Version)",
          "Speak Now (Taylor's Version)",
          "Speak Now (Taylor's Version)",
          "Speak Now (Taylor's Version)",
          "Speak Now (Taylor's Version)",
          "Speak Now (Taylor's Version)",
          "Speak Now (Taylor's Version)",
          "Speak Now (Taylor's Version)",
          "1989 (Taylor's Version) [Deluxe]",
          "1989 (Taylor's Version) [Deluxe]",
          "1989 (Taylor's Version) [Deluxe]",
          "1989 (Taylor's Version) [Deluxe]",
          "1989 (Taylor's Version) [Deluxe]",
          "1989 (Taylor's Version) [Deluxe]",
          "1989 (Taylor's Version) [Deluxe]",
          "1989 (Taylor's Version) [Deluxe]",
          "1989 (Taylor's Version) [Deluxe]",
          "1989 (Taylor's Version) [Deluxe]",
          "1989 (Taylor's Version) [Deluxe]",
          "1989 (Taylor's Version) [Deluxe]",
          "1989 (Taylor's Version) [Deluxe]",
          "1989 (Taylor's Version) [Deluxe]",
          "1989 (Taylor's Version) [Deluxe]",
          "1989 (Taylor's Version) [Deluxe]",
          "1989 (Taylor's Version) [Deluxe]",
          "1989 (Taylor's Version) [Deluxe]",
          "1989 (Taylor's Version) [Deluxe]",
          "1989 (Taylor's Version) [Deluxe]",
          "1989 (Taylor's Version) [Deluxe]",
          "1989 (Taylor's Version) [Deluxe]"
         ],
         "x0": " ",
         "xaxis": "x",
         "y": [
          67,
          71,
          68,
          60,
          60,
          58,
          59,
          59,
          68,
          61,
          76,
          61,
          58,
          57,
          57,
          60,
          58,
          70,
          48,
          54,
          70,
          46,
          45,
          47,
          54,
          49,
          47,
          42,
          61,
          60,
          64,
          55,
          53,
          62,
          56,
          52,
          71,
          58,
          46,
          53,
          55,
          53,
          42,
          59,
          41,
          63,
          48,
          53,
          43,
          61,
          42,
          40,
          40,
          38,
          39,
          53,
          39,
          57,
          63,
          78,
          77,
          63,
          59,
          75,
          51,
          70,
          73,
          52,
          49,
          49,
          51,
          85,
          82,
          83,
          91,
          87,
          88,
          77,
          83,
          87,
          80,
          79,
          82,
          78,
          82,
          79,
          77,
          99,
          92,
          86,
          82,
          78,
          83,
          85,
          80,
          79,
          80,
          72,
          78,
          84,
          81,
          81,
          72,
          85,
          81,
          90,
          77,
          83,
          82,
          81,
          77,
          90,
          80,
          82,
          79,
          72,
          70,
          78,
          72,
          72,
          82,
          83,
          75,
          75,
          80,
          72,
          71,
          69,
          68,
          73,
          72,
          69,
          74,
          66,
          70,
          83,
          72,
          82,
          71,
          72,
          86,
          69,
          68,
          70,
          82,
          73,
          67,
          66,
          68,
          69,
          67,
          65,
          65,
          69,
          67,
          66,
          77,
          68,
          69,
          70,
          68,
          72,
          80,
          72,
          80,
          77,
          79,
          71,
          80,
          70,
          74,
          70,
          72,
          69,
          76,
          69,
          72,
          69,
          73,
          68,
          67,
          65,
          74,
          78,
          74,
          74,
          76,
          70,
          71,
          76,
          87,
          69,
          69,
          70,
          68,
          70,
          69,
          66,
          69,
          70,
          67,
          74,
          68,
          73,
          76,
          74,
          72,
          71,
          70,
          75,
          71,
          82,
          78,
          77,
          83,
          78,
          77,
          77,
          72,
          86,
          79,
          71,
          75,
          76,
          80,
          72,
          69,
          75,
          74,
          83,
          75,
          76,
          73,
          74,
          75,
          74,
          72,
          72,
          71,
          71,
          72,
          71,
          70,
          72,
          72,
          71,
          71,
          72,
          77,
          76,
          77,
          74,
          80,
          80
         ],
         "y0": " ",
         "yaxis": "y"
        }
       ],
       "layout": {
        "boxmode": "group",
        "legend": {
         "tracegroupgap": 0
        },
        "margin": {
         "t": 60
        },
        "template": {
         "data": {
          "bar": [
           {
            "error_x": {
             "color": "#2a3f5f"
            },
            "error_y": {
             "color": "#2a3f5f"
            },
            "marker": {
             "line": {
              "color": "#E5ECF6",
              "width": 0.5
             },
             "pattern": {
              "fillmode": "overlay",
              "size": 10,
              "solidity": 0.2
             }
            },
            "type": "bar"
           }
          ],
          "barpolar": [
           {
            "marker": {
             "line": {
              "color": "#E5ECF6",
              "width": 0.5
             },
             "pattern": {
              "fillmode": "overlay",
              "size": 10,
              "solidity": 0.2
             }
            },
            "type": "barpolar"
           }
          ],
          "carpet": [
           {
            "aaxis": {
             "endlinecolor": "#2a3f5f",
             "gridcolor": "white",
             "linecolor": "white",
             "minorgridcolor": "white",
             "startlinecolor": "#2a3f5f"
            },
            "baxis": {
             "endlinecolor": "#2a3f5f",
             "gridcolor": "white",
             "linecolor": "white",
             "minorgridcolor": "white",
             "startlinecolor": "#2a3f5f"
            },
            "type": "carpet"
           }
          ],
          "choropleth": [
           {
            "colorbar": {
             "outlinewidth": 0,
             "ticks": ""
            },
            "type": "choropleth"
           }
          ],
          "contour": [
           {
            "colorbar": {
             "outlinewidth": 0,
             "ticks": ""
            },
            "colorscale": [
             [
              0,
              "#0d0887"
             ],
             [
              0.1111111111111111,
              "#46039f"
             ],
             [
              0.2222222222222222,
              "#7201a8"
             ],
             [
              0.3333333333333333,
              "#9c179e"
             ],
             [
              0.4444444444444444,
              "#bd3786"
             ],
             [
              0.5555555555555556,
              "#d8576b"
             ],
             [
              0.6666666666666666,
              "#ed7953"
             ],
             [
              0.7777777777777778,
              "#fb9f3a"
             ],
             [
              0.8888888888888888,
              "#fdca26"
             ],
             [
              1,
              "#f0f921"
             ]
            ],
            "type": "contour"
           }
          ],
          "contourcarpet": [
           {
            "colorbar": {
             "outlinewidth": 0,
             "ticks": ""
            },
            "type": "contourcarpet"
           }
          ],
          "heatmap": [
           {
            "colorbar": {
             "outlinewidth": 0,
             "ticks": ""
            },
            "colorscale": [
             [
              0,
              "#0d0887"
             ],
             [
              0.1111111111111111,
              "#46039f"
             ],
             [
              0.2222222222222222,
              "#7201a8"
             ],
             [
              0.3333333333333333,
              "#9c179e"
             ],
             [
              0.4444444444444444,
              "#bd3786"
             ],
             [
              0.5555555555555556,
              "#d8576b"
             ],
             [
              0.6666666666666666,
              "#ed7953"
             ],
             [
              0.7777777777777778,
              "#fb9f3a"
             ],
             [
              0.8888888888888888,
              "#fdca26"
             ],
             [
              1,
              "#f0f921"
             ]
            ],
            "type": "heatmap"
           }
          ],
          "heatmapgl": [
           {
            "colorbar": {
             "outlinewidth": 0,
             "ticks": ""
            },
            "colorscale": [
             [
              0,
              "#0d0887"
             ],
             [
              0.1111111111111111,
              "#46039f"
             ],
             [
              0.2222222222222222,
              "#7201a8"
             ],
             [
              0.3333333333333333,
              "#9c179e"
             ],
             [
              0.4444444444444444,
              "#bd3786"
             ],
             [
              0.5555555555555556,
              "#d8576b"
             ],
             [
              0.6666666666666666,
              "#ed7953"
             ],
             [
              0.7777777777777778,
              "#fb9f3a"
             ],
             [
              0.8888888888888888,
              "#fdca26"
             ],
             [
              1,
              "#f0f921"
             ]
            ],
            "type": "heatmapgl"
           }
          ],
          "histogram": [
           {
            "marker": {
             "pattern": {
              "fillmode": "overlay",
              "size": 10,
              "solidity": 0.2
             }
            },
            "type": "histogram"
           }
          ],
          "histogram2d": [
           {
            "colorbar": {
             "outlinewidth": 0,
             "ticks": ""
            },
            "colorscale": [
             [
              0,
              "#0d0887"
             ],
             [
              0.1111111111111111,
              "#46039f"
             ],
             [
              0.2222222222222222,
              "#7201a8"
             ],
             [
              0.3333333333333333,
              "#9c179e"
             ],
             [
              0.4444444444444444,
              "#bd3786"
             ],
             [
              0.5555555555555556,
              "#d8576b"
             ],
             [
              0.6666666666666666,
              "#ed7953"
             ],
             [
              0.7777777777777778,
              "#fb9f3a"
             ],
             [
              0.8888888888888888,
              "#fdca26"
             ],
             [
              1,
              "#f0f921"
             ]
            ],
            "type": "histogram2d"
           }
          ],
          "histogram2dcontour": [
           {
            "colorbar": {
             "outlinewidth": 0,
             "ticks": ""
            },
            "colorscale": [
             [
              0,
              "#0d0887"
             ],
             [
              0.1111111111111111,
              "#46039f"
             ],
             [
              0.2222222222222222,
              "#7201a8"
             ],
             [
              0.3333333333333333,
              "#9c179e"
             ],
             [
              0.4444444444444444,
              "#bd3786"
             ],
             [
              0.5555555555555556,
              "#d8576b"
             ],
             [
              0.6666666666666666,
              "#ed7953"
             ],
             [
              0.7777777777777778,
              "#fb9f3a"
             ],
             [
              0.8888888888888888,
              "#fdca26"
             ],
             [
              1,
              "#f0f921"
             ]
            ],
            "type": "histogram2dcontour"
           }
          ],
          "mesh3d": [
           {
            "colorbar": {
             "outlinewidth": 0,
             "ticks": ""
            },
            "type": "mesh3d"
           }
          ],
          "parcoords": [
           {
            "line": {
             "colorbar": {
              "outlinewidth": 0,
              "ticks": ""
             }
            },
            "type": "parcoords"
           }
          ],
          "pie": [
           {
            "automargin": true,
            "type": "pie"
           }
          ],
          "scatter": [
           {
            "fillpattern": {
             "fillmode": "overlay",
             "size": 10,
             "solidity": 0.2
            },
            "type": "scatter"
           }
          ],
          "scatter3d": [
           {
            "line": {
             "colorbar": {
              "outlinewidth": 0,
              "ticks": ""
             }
            },
            "marker": {
             "colorbar": {
              "outlinewidth": 0,
              "ticks": ""
             }
            },
            "type": "scatter3d"
           }
          ],
          "scattercarpet": [
           {
            "marker": {
             "colorbar": {
              "outlinewidth": 0,
              "ticks": ""
             }
            },
            "type": "scattercarpet"
           }
          ],
          "scattergeo": [
           {
            "marker": {
             "colorbar": {
              "outlinewidth": 0,
              "ticks": ""
             }
            },
            "type": "scattergeo"
           }
          ],
          "scattergl": [
           {
            "marker": {
             "colorbar": {
              "outlinewidth": 0,
              "ticks": ""
             }
            },
            "type": "scattergl"
           }
          ],
          "scattermapbox": [
           {
            "marker": {
             "colorbar": {
              "outlinewidth": 0,
              "ticks": ""
             }
            },
            "type": "scattermapbox"
           }
          ],
          "scatterpolar": [
           {
            "marker": {
             "colorbar": {
              "outlinewidth": 0,
              "ticks": ""
             }
            },
            "type": "scatterpolar"
           }
          ],
          "scatterpolargl": [
           {
            "marker": {
             "colorbar": {
              "outlinewidth": 0,
              "ticks": ""
             }
            },
            "type": "scatterpolargl"
           }
          ],
          "scatterternary": [
           {
            "marker": {
             "colorbar": {
              "outlinewidth": 0,
              "ticks": ""
             }
            },
            "type": "scatterternary"
           }
          ],
          "surface": [
           {
            "colorbar": {
             "outlinewidth": 0,
             "ticks": ""
            },
            "colorscale": [
             [
              0,
              "#0d0887"
             ],
             [
              0.1111111111111111,
              "#46039f"
             ],
             [
              0.2222222222222222,
              "#7201a8"
             ],
             [
              0.3333333333333333,
              "#9c179e"
             ],
             [
              0.4444444444444444,
              "#bd3786"
             ],
             [
              0.5555555555555556,
              "#d8576b"
             ],
             [
              0.6666666666666666,
              "#ed7953"
             ],
             [
              0.7777777777777778,
              "#fb9f3a"
             ],
             [
              0.8888888888888888,
              "#fdca26"
             ],
             [
              1,
              "#f0f921"
             ]
            ],
            "type": "surface"
           }
          ],
          "table": [
           {
            "cells": {
             "fill": {
              "color": "#EBF0F8"
             },
             "line": {
              "color": "white"
             }
            },
            "header": {
             "fill": {
              "color": "#C8D4E3"
             },
             "line": {
              "color": "white"
             }
            },
            "type": "table"
           }
          ]
         },
         "layout": {
          "annotationdefaults": {
           "arrowcolor": "#2a3f5f",
           "arrowhead": 0,
           "arrowwidth": 1
          },
          "autotypenumbers": "strict",
          "coloraxis": {
           "colorbar": {
            "outlinewidth": 0,
            "ticks": ""
           }
          },
          "colorscale": {
           "diverging": [
            [
             0,
             "#8e0152"
            ],
            [
             0.1,
             "#c51b7d"
            ],
            [
             0.2,
             "#de77ae"
            ],
            [
             0.3,
             "#f1b6da"
            ],
            [
             0.4,
             "#fde0ef"
            ],
            [
             0.5,
             "#f7f7f7"
            ],
            [
             0.6,
             "#e6f5d0"
            ],
            [
             0.7,
             "#b8e186"
            ],
            [
             0.8,
             "#7fbc41"
            ],
            [
             0.9,
             "#4d9221"
            ],
            [
             1,
             "#276419"
            ]
           ],
           "sequential": [
            [
             0,
             "#0d0887"
            ],
            [
             0.1111111111111111,
             "#46039f"
            ],
            [
             0.2222222222222222,
             "#7201a8"
            ],
            [
             0.3333333333333333,
             "#9c179e"
            ],
            [
             0.4444444444444444,
             "#bd3786"
            ],
            [
             0.5555555555555556,
             "#d8576b"
            ],
            [
             0.6666666666666666,
             "#ed7953"
            ],
            [
             0.7777777777777778,
             "#fb9f3a"
            ],
            [
             0.8888888888888888,
             "#fdca26"
            ],
            [
             1,
             "#f0f921"
            ]
           ],
           "sequentialminus": [
            [
             0,
             "#0d0887"
            ],
            [
             0.1111111111111111,
             "#46039f"
            ],
            [
             0.2222222222222222,
             "#7201a8"
            ],
            [
             0.3333333333333333,
             "#9c179e"
            ],
            [
             0.4444444444444444,
             "#bd3786"
            ],
            [
             0.5555555555555556,
             "#d8576b"
            ],
            [
             0.6666666666666666,
             "#ed7953"
            ],
            [
             0.7777777777777778,
             "#fb9f3a"
            ],
            [
             0.8888888888888888,
             "#fdca26"
            ],
            [
             1,
             "#f0f921"
            ]
           ]
          },
          "colorway": [
           "#636efa",
           "#EF553B",
           "#00cc96",
           "#ab63fa",
           "#FFA15A",
           "#19d3f3",
           "#FF6692",
           "#B6E880",
           "#FF97FF",
           "#FECB52"
          ],
          "font": {
           "color": "#2a3f5f"
          },
          "geo": {
           "bgcolor": "white",
           "lakecolor": "white",
           "landcolor": "#E5ECF6",
           "showlakes": true,
           "showland": true,
           "subunitcolor": "white"
          },
          "hoverlabel": {
           "align": "left"
          },
          "hovermode": "closest",
          "mapbox": {
           "style": "light"
          },
          "paper_bgcolor": "white",
          "plot_bgcolor": "#E5ECF6",
          "polar": {
           "angularaxis": {
            "gridcolor": "white",
            "linecolor": "white",
            "ticks": ""
           },
           "bgcolor": "#E5ECF6",
           "radialaxis": {
            "gridcolor": "white",
            "linecolor": "white",
            "ticks": ""
           }
          },
          "scene": {
           "xaxis": {
            "backgroundcolor": "#E5ECF6",
            "gridcolor": "white",
            "gridwidth": 2,
            "linecolor": "white",
            "showbackground": true,
            "ticks": "",
            "zerolinecolor": "white"
           },
           "yaxis": {
            "backgroundcolor": "#E5ECF6",
            "gridcolor": "white",
            "gridwidth": 2,
            "linecolor": "white",
            "showbackground": true,
            "ticks": "",
            "zerolinecolor": "white"
           },
           "zaxis": {
            "backgroundcolor": "#E5ECF6",
            "gridcolor": "white",
            "gridwidth": 2,
            "linecolor": "white",
            "showbackground": true,
            "ticks": "",
            "zerolinecolor": "white"
           }
          },
          "shapedefaults": {
           "line": {
            "color": "#2a3f5f"
           }
          },
          "ternary": {
           "aaxis": {
            "gridcolor": "white",
            "linecolor": "white",
            "ticks": ""
           },
           "baxis": {
            "gridcolor": "white",
            "linecolor": "white",
            "ticks": ""
           },
           "bgcolor": "#E5ECF6",
           "caxis": {
            "gridcolor": "white",
            "linecolor": "white",
            "ticks": ""
           }
          },
          "title": {
           "x": 0.05
          },
          "xaxis": {
           "automargin": true,
           "gridcolor": "white",
           "linecolor": "white",
           "ticks": "",
           "title": {
            "standoff": 15
           },
           "zerolinecolor": "white",
           "zerolinewidth": 2
          },
          "yaxis": {
           "automargin": true,
           "gridcolor": "white",
           "linecolor": "white",
           "ticks": "",
           "title": {
            "standoff": 15
           },
           "zerolinecolor": "white",
           "zerolinewidth": 2
          }
         }
        },
        "xaxis": {
         "anchor": "y",
         "domain": [
          0,
          1
         ],
         "title": {
          "text": "track.album.name"
         }
        },
        "yaxis": {
         "anchor": "x",
         "domain": [
          0,
          1
         ],
         "title": {
          "text": "track.popularity"
         }
        }
       }
      },
      "text/html": [
       "<div>                            <div id=\"f062cbe9-9917-4dae-a3c1-9108475c76b6\" class=\"plotly-graph-div\" style=\"height:525px; width:100%;\"></div>            <script type=\"text/javascript\">                require([\"plotly\"], function(Plotly) {                    window.PLOTLYENV=window.PLOTLYENV || {};                                    if (document.getElementById(\"f062cbe9-9917-4dae-a3c1-9108475c76b6\")) {                    Plotly.newPlot(                        \"f062cbe9-9917-4dae-a3c1-9108475c76b6\",                        [{\"alignmentgroup\":\"True\",\"boxpoints\":\"all\",\"hovertemplate\":\"\\u003cb\\u003e%{hovertext}\\u003c\\u002fb\\u003e\\u003cbr\\u003e\\u003cbr\\u003etrack.album.name=%{x}\\u003cbr\\u003etrack.popularity=%{y}\\u003cextra\\u003e\\u003c\\u002fextra\\u003e\",\"hovertext\":[\"Tim McGraw\",\"Picture To Burn\",\"Teardrops On My Guitar - Radio Single Remix\",\"A Place in this World\",\"Cold As You\",\"The Outside\",\"Tied Together with a Smile\",\"Stay Beautiful\",\"Should've Said No\",\"Mary's Song (Oh My My My)\",\"Our Song\",\"I'm Only Me When I'm With You\",\"Invisible\",\"A Perfectly Good Heart\",\"Teardrops on My Guitar - Pop Version\",\"Fearless\",\"Fifteen\",\"Love Story\",\"Hey Stephen\",\"White Horse\",\"You Belong With Me\",\"Breathe\",\"Tell Me Why\",\"You're Not Sorry\",\"The Way I Loved You\",\"Forever & Always\",\"The Best Day\",\"Change\",\"Mine\",\"Sparks Fly\",\"Back To December\",\"Speak Now\",\"Dear John\",\"Mean\",\"The Story Of Us\",\"Never Grow Up\",\"Enchanted\",\"Better Than Revenge\",\"Innocent\",\"Haunted\",\"Last Kiss\",\"Long Live\",\"State Of Grace\",\"Red\",\"Treacherous\",\"I Knew You Were Trouble.\",\"All Too Well\",\"22\",\"I Almost Do\",\"We Are Never Ever Getting Back Together\",\"Stay Stay Stay\",\"The Last Time\",\"Holy Ground\",\"Sad Beautiful Tragic\",\"The Lucky One\",\"Everything Has Changed\",\"Starlight\",\"Begin Again\",\"Welcome To New York\",\"Blank Space\",\"Style\",\"Out Of The Woods\",\"All You Had To Do Was Stay\",\"Shake It Off\",\"I Wish You Would\",\"Bad Blood\",\"Wildest Dreams\",\"How You Get The Girl\",\"This Love\",\"I Know Places\",\"Clean\",\"...Ready For It?\",\"End Game\",\"I Did Something Bad\",\"Don\\u2019t Blame Me\",\"Delicate\",\"Look What You Made Me Do\",\"So It Goes...\",\"Gorgeous\",\"Getaway Car\",\"King Of My Heart\",\"Dancing With Our Hands Tied\",\"Dress\",\"This Is Why We Can't Have Nice Things\",\"Call It What You Want\",\"New Year\\u2019s Day\",\"I Forgot That You Existed\",\"Cruel Summer\",\"Lover\",\"The Man\",\"The Archer\",\"I Think He Knows\",\"Miss Americana & The Heartbreak Prince\",\"Paper Rings\",\"Cornelia Street\",\"Death By A Thousand Cuts\",\"London Boy\",\"Soon You\\u2019ll Get Better (feat. The Chicks)\",\"False God\",\"You Need To Calm Down\",\"Afterglow\",\"ME! (feat. Brendon Urie of Panic! At The Disco)\",\"It\\u2019s Nice To Have A Friend\",\"Daylight\",\"the 1\",\"cardigan\",\"the last great american dynasty\",\"exile (feat. Bon Iver)\",\"my tears ricochet\",\"mirrorball\",\"seven\",\"august\",\"this is me trying\",\"illicit affairs\",\"invisible string\",\"mad woman\",\"epiphany\",\"betty\",\"peace\",\"hoax\",\"willow\",\"champagne problems\",\"gold rush\",\"\\u2018tis the damn season\",\"tolerate it\",\"no body, no crime (feat. HAIM)\",\"happiness\",\"dorothea\",\"coney island (feat. The National)\",\"ivy\",\"cowboy like me\",\"long story short\",\"marjorie\",\"closure\",\"evermore (feat. Bon Iver)\",\"Fearless (Taylor\\u2019s Version)\",\"Fifteen (Taylor\\u2019s Version)\",\"Love Story (Taylor\\u2019s Version)\",\"Hey Stephen (Taylor\\u2019s Version)\",\"White Horse (Taylor\\u2019s Version)\",\"You Belong With Me (Taylor\\u2019s Version)\",\"Breathe (feat. Colbie Caillat) (Taylor\\u2019s Version)\",\"Tell Me Why (Taylor\\u2019s Version)\",\"You\\u2019re Not Sorry (Taylor\\u2019s Version)\",\"The Way I Loved You (Taylor\\u2019s Version)\",\"Forever & Always (Taylor\\u2019s Version)\",\"The Best Day (Taylor\\u2019s Version)\",\"Change (Taylor\\u2019s Version)\",\"Jump Then Fall (Taylor\\u2019s Version)\",\"Untouchable (Taylor\\u2019s Version)\",\"Forever & Always (Piano Version) (Taylor\\u2019s Version)\",\"Come In With The Rain (Taylor\\u2019s Version)\",\"Superstar (Taylor\\u2019s Version)\",\"The Other Side Of The Door (Taylor\\u2019s Version)\",\"Today Was A Fairytale (Taylor\\u2019s Version)\",\"You All Over Me (feat. Maren Morris) (Taylor\\u2019s Version) (From The Vault)\",\"Mr. Perfectly Fine (Taylor\\u2019s Version) (From The Vault)\",\"We Were Happy (Taylor\\u2019s Version) (From The Vault)\",\"That\\u2019s When (feat. Keith Urban) (Taylor\\u2019s Version) (From The Vault)\",\"Don\\u2019t You (Taylor\\u2019s Version) (From The Vault)\",\"Bye Bye Baby (Taylor\\u2019s Version) (From The Vault)\",\"State Of Grace (Taylor's Version)\",\"Red (Taylor's Version)\",\"Treacherous (Taylor's Version)\",\"I Knew You Were Trouble (Taylor's Version)\",\"All Too Well (Taylor's Version)\",\"22 (Taylor's Version)\",\"I Almost Do (Taylor's Version)\",\"We Are Never Ever Getting Back Together (Taylor's Version)\",\"Stay Stay Stay (Taylor's Version)\",\"The Last Time (feat. Gary Lightbody of Snow Patrol) (Taylor\\u2019s Version)\",\"Holy Ground (Taylor's Version)\",\"Sad Beautiful Tragic (Taylor's Version)\",\"The Lucky One (Taylor's Version)\",\"Everything Has Changed (feat. Ed Sheeran) (Taylor\\u2019s Version)\",\"Starlight (Taylor's Version)\",\"Begin Again (Taylor's Version)\",\"The Moment I Knew (Taylor's Version)\",\"Come Back...Be Here (Taylor's Version)\",\"Girl At Home (Taylor's Version)\",\"State Of Grace (Acoustic Version) (Taylor's Version)\",\"Ronan (Taylor's Version)\",\"Better Man (Taylor's Version) (From The Vault)\",\"Nothing New (feat. Phoebe Bridgers) (Taylor\\u2019s Version) (From The Vault)\",\"Babe (Taylor's Version) (From The Vault)\",\"Message In A Bottle (Taylor's Version) (From The Vault)\",\"I Bet You Think About Me (feat. Chris Stapleton) (Taylor\\u2019s Version) (From The Vault)\",\"Forever Winter (Taylor's Version) (From The Vault)\",\"Run (feat. Ed Sheeran) (Taylor\\u2019s Version) (From The Vault)\",\"The Very First Night (Taylor's Version) (From The Vault)\",\"All Too Well (10 Minute Version) (Taylor's Version) (From The Vault)\",\"Lavender Haze\",\"Maroon\",\"Anti-Hero\",\"Snow On The Beach (feat. Lana Del Rey)\",\"You're On Your Own, Kid\",\"Midnight Rain\",\"Question...?\",\"Vigilante Shit\",\"Bejeweled\",\"Labyrinth\",\"Karma\",\"Sweet Nothing\",\"Mastermind\",\"The Great War\",\"Bigger Than The Whole Sky\",\"Paris\",\"High Infidelity\",\"Glitch\",\"Would've, Could've, Should've\",\"Dear Reader\",\"Mine (Taylor's Version)\",\"Sparks Fly (Taylor\\u2019s Version)\",\"Speak Now (Taylor's Version)\",\"Back To December (Taylor's Version)\",\"Dear John (Taylor's Version)\",\"Mean (Taylor's Version)\",\"The Story Of Us (Taylor's Version)\",\"Never Grow Up (Taylor's Version)\",\"Enchanted (Taylor's Version)\",\"Better Than Revenge (Taylor's Version)\",\"Innocent (Taylor's Version)\",\"Haunted (Taylor's Version)\",\"Last Kiss (Taylor's Version)\",\"Long Live (Taylor's Version)\",\"Ours (Taylor\\u2019s Version)\",\"Superman (Taylor\\u2019s Version)\",\"Electric Touch (feat. Fall Out Boy) (Taylor\\u2019s Version) (From The Vault)\",\"When Emma Falls in Love (Taylor\\u2019s Version) (From The Vault)\",\"I Can See You (Taylor\\u2019s Version) (From The Vault)\",\"Castles Crumbling (feat. Hayley Williams) (Taylor\\u2019s Version) (From The Vault)\",\"Timeless (Taylor\\u2019s Version) (From The Vault)\",\"Welcome To New York (Taylor's Version)\",\"Blank Space (Taylor's Version)\",\"Style (Taylor's Version)\",\"Out Of The Woods (Taylor's Version)\",\"All You Had To Do Was Stay (Taylor's Version)\",\"Shake It Off (Taylor's Version)\",\"I Wish You Would (Taylor's Version)\",\"Bad Blood (Taylor's Version)\",\"Wildest Dreams (Taylor's Version)\",\"How You Get The Girl (Taylor's Version)\",\"This Love (Taylor\\u2019s Version)\",\"I Know Places (Taylor's Version)\",\"Clean (Taylor's Version)\",\"Wonderland (Taylor's Version)\",\"You Are In Love (Taylor's Version)\",\"New Romantics (Taylor's Version)\",\"\\\"Slut!\\\" (Taylor's Version) (From The Vault)\",\"Say Don't Go (Taylor's Version) (From The Vault)\",\"Now That We Don't Talk (Taylor's Version) (From The Vault)\",\"Suburban Legends (Taylor's Version) (From The Vault)\",\"Is It Over Now? (Taylor's Version) (From The Vault)\",\"Bad Blood (feat. Kendrick Lamar) (Taylor's Version)\"],\"legendgroup\":\"\",\"marker\":{\"color\":\"#636efa\"},\"name\":\"\",\"notched\":false,\"offsetgroup\":\"\",\"orientation\":\"v\",\"showlegend\":false,\"x\":[\"Taylor Swift\",\"Taylor Swift\",\"Taylor Swift\",\"Taylor Swift\",\"Taylor Swift\",\"Taylor Swift\",\"Taylor Swift\",\"Taylor Swift\",\"Taylor Swift\",\"Taylor Swift\",\"Taylor Swift\",\"Taylor Swift\",\"Taylor Swift\",\"Taylor Swift\",\"Taylor Swift\",\"Fearless\",\"Fearless\",\"Fearless\",\"Fearless\",\"Fearless\",\"Fearless\",\"Fearless\",\"Fearless\",\"Fearless\",\"Fearless\",\"Fearless\",\"Fearless\",\"Fearless\",\"Speak Now\",\"Speak Now\",\"Speak Now\",\"Speak Now\",\"Speak Now\",\"Speak Now\",\"Speak Now\",\"Speak Now\",\"Speak Now\",\"Speak Now\",\"Speak Now\",\"Speak Now\",\"Speak Now\",\"Speak Now\",\"Red\",\"Red\",\"Red\",\"Red\",\"Red\",\"Red\",\"Red\",\"Red\",\"Red\",\"Red\",\"Red\",\"Red\",\"Red\",\"Red\",\"Red\",\"Red\",\"1989\",\"1989\",\"1989\",\"1989\",\"1989\",\"1989\",\"1989\",\"1989\",\"1989\",\"1989\",\"1989\",\"1989\",\"1989\",\"reputation\",\"reputation\",\"reputation\",\"reputation\",\"reputation\",\"reputation\",\"reputation\",\"reputation\",\"reputation\",\"reputation\",\"reputation\",\"reputation\",\"reputation\",\"reputation\",\"reputation\",\"Lover\",\"Lover\",\"Lover\",\"Lover\",\"Lover\",\"Lover\",\"Lover\",\"Lover\",\"Lover\",\"Lover\",\"Lover\",\"Lover\",\"Lover\",\"Lover\",\"Lover\",\"Lover\",\"Lover\",\"Lover\",\"folklore\",\"folklore\",\"folklore\",\"folklore\",\"folklore\",\"folklore\",\"folklore\",\"folklore\",\"folklore\",\"folklore\",\"folklore\",\"folklore\",\"folklore\",\"folklore\",\"folklore\",\"folklore\",\"evermore\",\"evermore\",\"evermore\",\"evermore\",\"evermore\",\"evermore\",\"evermore\",\"evermore\",\"evermore\",\"evermore\",\"evermore\",\"evermore\",\"evermore\",\"evermore\",\"evermore\",\"Fearless (Taylor's Version)\",\"Fearless (Taylor's Version)\",\"Fearless (Taylor's Version)\",\"Fearless (Taylor's Version)\",\"Fearless (Taylor's Version)\",\"Fearless (Taylor's Version)\",\"Fearless (Taylor's Version)\",\"Fearless (Taylor's Version)\",\"Fearless (Taylor's Version)\",\"Fearless (Taylor's Version)\",\"Fearless (Taylor's Version)\",\"Fearless (Taylor's Version)\",\"Fearless (Taylor's Version)\",\"Fearless (Taylor's Version)\",\"Fearless (Taylor's Version)\",\"Fearless (Taylor's Version)\",\"Fearless (Taylor's Version)\",\"Fearless (Taylor's Version)\",\"Fearless (Taylor's Version)\",\"Fearless (Taylor's Version)\",\"Fearless (Taylor's Version)\",\"Fearless (Taylor's Version)\",\"Fearless (Taylor's Version)\",\"Fearless (Taylor's Version)\",\"Fearless (Taylor's Version)\",\"Fearless (Taylor's Version)\",\"Red (Taylor's Version)\",\"Red (Taylor's Version)\",\"Red (Taylor's Version)\",\"Red (Taylor's Version)\",\"Red (Taylor's Version)\",\"Red (Taylor's Version)\",\"Red (Taylor's Version)\",\"Red (Taylor's Version)\",\"Red (Taylor's Version)\",\"Red (Taylor's Version)\",\"Red (Taylor's Version)\",\"Red (Taylor's Version)\",\"Red (Taylor's Version)\",\"Red (Taylor's Version)\",\"Red (Taylor's Version)\",\"Red (Taylor's Version)\",\"Red (Taylor's Version)\",\"Red (Taylor's Version)\",\"Red (Taylor's Version)\",\"Red (Taylor's Version)\",\"Red (Taylor's Version)\",\"Red (Taylor's Version)\",\"Red (Taylor's Version)\",\"Red (Taylor's Version)\",\"Red (Taylor's Version)\",\"Red (Taylor's Version)\",\"Red (Taylor's Version)\",\"Red (Taylor's Version)\",\"Red (Taylor's Version)\",\"Red (Taylor's Version)\",\"Midnights (3am Edition)\",\"Midnights (3am Edition)\",\"Midnights (3am Edition)\",\"Midnights (3am Edition)\",\"Midnights (3am Edition)\",\"Midnights (3am Edition)\",\"Midnights (3am Edition)\",\"Midnights (3am Edition)\",\"Midnights (3am Edition)\",\"Midnights (3am Edition)\",\"Midnights (3am Edition)\",\"Midnights (3am Edition)\",\"Midnights (3am Edition)\",\"Midnights (3am Edition)\",\"Midnights (3am Edition)\",\"Midnights (3am Edition)\",\"Midnights (3am Edition)\",\"Midnights (3am Edition)\",\"Midnights (3am Edition)\",\"Midnights (3am Edition)\",\"Speak Now (Taylor's Version)\",\"Speak Now (Taylor's Version)\",\"Speak Now (Taylor's Version)\",\"Speak Now (Taylor's Version)\",\"Speak Now (Taylor's Version)\",\"Speak Now (Taylor's Version)\",\"Speak Now (Taylor's Version)\",\"Speak Now (Taylor's Version)\",\"Speak Now (Taylor's Version)\",\"Speak Now (Taylor's Version)\",\"Speak Now (Taylor's Version)\",\"Speak Now (Taylor's Version)\",\"Speak Now (Taylor's Version)\",\"Speak Now (Taylor's Version)\",\"Speak Now (Taylor's Version)\",\"Speak Now (Taylor's Version)\",\"Speak Now (Taylor's Version)\",\"Speak Now (Taylor's Version)\",\"Speak Now (Taylor's Version)\",\"Speak Now (Taylor's Version)\",\"Speak Now (Taylor's Version)\",\"1989 (Taylor's Version) [Deluxe]\",\"1989 (Taylor's Version) [Deluxe]\",\"1989 (Taylor's Version) [Deluxe]\",\"1989 (Taylor's Version) [Deluxe]\",\"1989 (Taylor's Version) [Deluxe]\",\"1989 (Taylor's Version) [Deluxe]\",\"1989 (Taylor's Version) [Deluxe]\",\"1989 (Taylor's Version) [Deluxe]\",\"1989 (Taylor's Version) [Deluxe]\",\"1989 (Taylor's Version) [Deluxe]\",\"1989 (Taylor's Version) [Deluxe]\",\"1989 (Taylor's Version) [Deluxe]\",\"1989 (Taylor's Version) [Deluxe]\",\"1989 (Taylor's Version) [Deluxe]\",\"1989 (Taylor's Version) [Deluxe]\",\"1989 (Taylor's Version) [Deluxe]\",\"1989 (Taylor's Version) [Deluxe]\",\"1989 (Taylor's Version) [Deluxe]\",\"1989 (Taylor's Version) [Deluxe]\",\"1989 (Taylor's Version) [Deluxe]\",\"1989 (Taylor's Version) [Deluxe]\",\"1989 (Taylor's Version) [Deluxe]\"],\"x0\":\" \",\"xaxis\":\"x\",\"y\":[67,71,68,60,60,58,59,59,68,61,76,61,58,57,57,60,58,70,48,54,70,46,45,47,54,49,47,42,61,60,64,55,53,62,56,52,71,58,46,53,55,53,42,59,41,63,48,53,43,61,42,40,40,38,39,53,39,57,63,78,77,63,59,75,51,70,73,52,49,49,51,85,82,83,91,87,88,77,83,87,80,79,82,78,82,79,77,99,92,86,82,78,83,85,80,79,80,72,78,84,81,81,72,85,81,90,77,83,82,81,77,90,80,82,79,72,70,78,72,72,82,83,75,75,80,72,71,69,68,73,72,69,74,66,70,83,72,82,71,72,86,69,68,70,82,73,67,66,68,69,67,65,65,69,67,66,77,68,69,70,68,72,80,72,80,77,79,71,80,70,74,70,72,69,76,69,72,69,73,68,67,65,74,78,74,74,76,70,71,76,87,69,69,70,68,70,69,66,69,70,67,74,68,73,76,74,72,71,70,75,71,82,78,77,83,78,77,77,72,86,79,71,75,76,80,72,69,75,74,83,75,76,73,74,75,74,72,72,71,71,72,71,70,72,72,71,71,72,77,76,77,74,80,80],\"y0\":\" \",\"yaxis\":\"y\",\"type\":\"box\"}],                        {\"template\":{\"data\":{\"histogram2dcontour\":[{\"type\":\"histogram2dcontour\",\"colorbar\":{\"outlinewidth\":0,\"ticks\":\"\"},\"colorscale\":[[0.0,\"#0d0887\"],[0.1111111111111111,\"#46039f\"],[0.2222222222222222,\"#7201a8\"],[0.3333333333333333,\"#9c179e\"],[0.4444444444444444,\"#bd3786\"],[0.5555555555555556,\"#d8576b\"],[0.6666666666666666,\"#ed7953\"],[0.7777777777777778,\"#fb9f3a\"],[0.8888888888888888,\"#fdca26\"],[1.0,\"#f0f921\"]]}],\"choropleth\":[{\"type\":\"choropleth\",\"colorbar\":{\"outlinewidth\":0,\"ticks\":\"\"}}],\"histogram2d\":[{\"type\":\"histogram2d\",\"colorbar\":{\"outlinewidth\":0,\"ticks\":\"\"},\"colorscale\":[[0.0,\"#0d0887\"],[0.1111111111111111,\"#46039f\"],[0.2222222222222222,\"#7201a8\"],[0.3333333333333333,\"#9c179e\"],[0.4444444444444444,\"#bd3786\"],[0.5555555555555556,\"#d8576b\"],[0.6666666666666666,\"#ed7953\"],[0.7777777777777778,\"#fb9f3a\"],[0.8888888888888888,\"#fdca26\"],[1.0,\"#f0f921\"]]}],\"heatmap\":[{\"type\":\"heatmap\",\"colorbar\":{\"outlinewidth\":0,\"ticks\":\"\"},\"colorscale\":[[0.0,\"#0d0887\"],[0.1111111111111111,\"#46039f\"],[0.2222222222222222,\"#7201a8\"],[0.3333333333333333,\"#9c179e\"],[0.4444444444444444,\"#bd3786\"],[0.5555555555555556,\"#d8576b\"],[0.6666666666666666,\"#ed7953\"],[0.7777777777777778,\"#fb9f3a\"],[0.8888888888888888,\"#fdca26\"],[1.0,\"#f0f921\"]]}],\"heatmapgl\":[{\"type\":\"heatmapgl\",\"colorbar\":{\"outlinewidth\":0,\"ticks\":\"\"},\"colorscale\":[[0.0,\"#0d0887\"],[0.1111111111111111,\"#46039f\"],[0.2222222222222222,\"#7201a8\"],[0.3333333333333333,\"#9c179e\"],[0.4444444444444444,\"#bd3786\"],[0.5555555555555556,\"#d8576b\"],[0.6666666666666666,\"#ed7953\"],[0.7777777777777778,\"#fb9f3a\"],[0.8888888888888888,\"#fdca26\"],[1.0,\"#f0f921\"]]}],\"contourcarpet\":[{\"type\":\"contourcarpet\",\"colorbar\":{\"outlinewidth\":0,\"ticks\":\"\"}}],\"contour\":[{\"type\":\"contour\",\"colorbar\":{\"outlinewidth\":0,\"ticks\":\"\"},\"colorscale\":[[0.0,\"#0d0887\"],[0.1111111111111111,\"#46039f\"],[0.2222222222222222,\"#7201a8\"],[0.3333333333333333,\"#9c179e\"],[0.4444444444444444,\"#bd3786\"],[0.5555555555555556,\"#d8576b\"],[0.6666666666666666,\"#ed7953\"],[0.7777777777777778,\"#fb9f3a\"],[0.8888888888888888,\"#fdca26\"],[1.0,\"#f0f921\"]]}],\"surface\":[{\"type\":\"surface\",\"colorbar\":{\"outlinewidth\":0,\"ticks\":\"\"},\"colorscale\":[[0.0,\"#0d0887\"],[0.1111111111111111,\"#46039f\"],[0.2222222222222222,\"#7201a8\"],[0.3333333333333333,\"#9c179e\"],[0.4444444444444444,\"#bd3786\"],[0.5555555555555556,\"#d8576b\"],[0.6666666666666666,\"#ed7953\"],[0.7777777777777778,\"#fb9f3a\"],[0.8888888888888888,\"#fdca26\"],[1.0,\"#f0f921\"]]}],\"mesh3d\":[{\"type\":\"mesh3d\",\"colorbar\":{\"outlinewidth\":0,\"ticks\":\"\"}}],\"scatter\":[{\"fillpattern\":{\"fillmode\":\"overlay\",\"size\":10,\"solidity\":0.2},\"type\":\"scatter\"}],\"parcoords\":[{\"type\":\"parcoords\",\"line\":{\"colorbar\":{\"outlinewidth\":0,\"ticks\":\"\"}}}],\"scatterpolargl\":[{\"type\":\"scatterpolargl\",\"marker\":{\"colorbar\":{\"outlinewidth\":0,\"ticks\":\"\"}}}],\"bar\":[{\"error_x\":{\"color\":\"#2a3f5f\"},\"error_y\":{\"color\":\"#2a3f5f\"},\"marker\":{\"line\":{\"color\":\"#E5ECF6\",\"width\":0.5},\"pattern\":{\"fillmode\":\"overlay\",\"size\":10,\"solidity\":0.2}},\"type\":\"bar\"}],\"scattergeo\":[{\"type\":\"scattergeo\",\"marker\":{\"colorbar\":{\"outlinewidth\":0,\"ticks\":\"\"}}}],\"scatterpolar\":[{\"type\":\"scatterpolar\",\"marker\":{\"colorbar\":{\"outlinewidth\":0,\"ticks\":\"\"}}}],\"histogram\":[{\"marker\":{\"pattern\":{\"fillmode\":\"overlay\",\"size\":10,\"solidity\":0.2}},\"type\":\"histogram\"}],\"scattergl\":[{\"type\":\"scattergl\",\"marker\":{\"colorbar\":{\"outlinewidth\":0,\"ticks\":\"\"}}}],\"scatter3d\":[{\"type\":\"scatter3d\",\"line\":{\"colorbar\":{\"outlinewidth\":0,\"ticks\":\"\"}},\"marker\":{\"colorbar\":{\"outlinewidth\":0,\"ticks\":\"\"}}}],\"scattermapbox\":[{\"type\":\"scattermapbox\",\"marker\":{\"colorbar\":{\"outlinewidth\":0,\"ticks\":\"\"}}}],\"scatterternary\":[{\"type\":\"scatterternary\",\"marker\":{\"colorbar\":{\"outlinewidth\":0,\"ticks\":\"\"}}}],\"scattercarpet\":[{\"type\":\"scattercarpet\",\"marker\":{\"colorbar\":{\"outlinewidth\":0,\"ticks\":\"\"}}}],\"carpet\":[{\"aaxis\":{\"endlinecolor\":\"#2a3f5f\",\"gridcolor\":\"white\",\"linecolor\":\"white\",\"minorgridcolor\":\"white\",\"startlinecolor\":\"#2a3f5f\"},\"baxis\":{\"endlinecolor\":\"#2a3f5f\",\"gridcolor\":\"white\",\"linecolor\":\"white\",\"minorgridcolor\":\"white\",\"startlinecolor\":\"#2a3f5f\"},\"type\":\"carpet\"}],\"table\":[{\"cells\":{\"fill\":{\"color\":\"#EBF0F8\"},\"line\":{\"color\":\"white\"}},\"header\":{\"fill\":{\"color\":\"#C8D4E3\"},\"line\":{\"color\":\"white\"}},\"type\":\"table\"}],\"barpolar\":[{\"marker\":{\"line\":{\"color\":\"#E5ECF6\",\"width\":0.5},\"pattern\":{\"fillmode\":\"overlay\",\"size\":10,\"solidity\":0.2}},\"type\":\"barpolar\"}],\"pie\":[{\"automargin\":true,\"type\":\"pie\"}]},\"layout\":{\"autotypenumbers\":\"strict\",\"colorway\":[\"#636efa\",\"#EF553B\",\"#00cc96\",\"#ab63fa\",\"#FFA15A\",\"#19d3f3\",\"#FF6692\",\"#B6E880\",\"#FF97FF\",\"#FECB52\"],\"font\":{\"color\":\"#2a3f5f\"},\"hovermode\":\"closest\",\"hoverlabel\":{\"align\":\"left\"},\"paper_bgcolor\":\"white\",\"plot_bgcolor\":\"#E5ECF6\",\"polar\":{\"bgcolor\":\"#E5ECF6\",\"angularaxis\":{\"gridcolor\":\"white\",\"linecolor\":\"white\",\"ticks\":\"\"},\"radialaxis\":{\"gridcolor\":\"white\",\"linecolor\":\"white\",\"ticks\":\"\"}},\"ternary\":{\"bgcolor\":\"#E5ECF6\",\"aaxis\":{\"gridcolor\":\"white\",\"linecolor\":\"white\",\"ticks\":\"\"},\"baxis\":{\"gridcolor\":\"white\",\"linecolor\":\"white\",\"ticks\":\"\"},\"caxis\":{\"gridcolor\":\"white\",\"linecolor\":\"white\",\"ticks\":\"\"}},\"coloraxis\":{\"colorbar\":{\"outlinewidth\":0,\"ticks\":\"\"}},\"colorscale\":{\"sequential\":[[0.0,\"#0d0887\"],[0.1111111111111111,\"#46039f\"],[0.2222222222222222,\"#7201a8\"],[0.3333333333333333,\"#9c179e\"],[0.4444444444444444,\"#bd3786\"],[0.5555555555555556,\"#d8576b\"],[0.6666666666666666,\"#ed7953\"],[0.7777777777777778,\"#fb9f3a\"],[0.8888888888888888,\"#fdca26\"],[1.0,\"#f0f921\"]],\"sequentialminus\":[[0.0,\"#0d0887\"],[0.1111111111111111,\"#46039f\"],[0.2222222222222222,\"#7201a8\"],[0.3333333333333333,\"#9c179e\"],[0.4444444444444444,\"#bd3786\"],[0.5555555555555556,\"#d8576b\"],[0.6666666666666666,\"#ed7953\"],[0.7777777777777778,\"#fb9f3a\"],[0.8888888888888888,\"#fdca26\"],[1.0,\"#f0f921\"]],\"diverging\":[[0,\"#8e0152\"],[0.1,\"#c51b7d\"],[0.2,\"#de77ae\"],[0.3,\"#f1b6da\"],[0.4,\"#fde0ef\"],[0.5,\"#f7f7f7\"],[0.6,\"#e6f5d0\"],[0.7,\"#b8e186\"],[0.8,\"#7fbc41\"],[0.9,\"#4d9221\"],[1,\"#276419\"]]},\"xaxis\":{\"gridcolor\":\"white\",\"linecolor\":\"white\",\"ticks\":\"\",\"title\":{\"standoff\":15},\"zerolinecolor\":\"white\",\"automargin\":true,\"zerolinewidth\":2},\"yaxis\":{\"gridcolor\":\"white\",\"linecolor\":\"white\",\"ticks\":\"\",\"title\":{\"standoff\":15},\"zerolinecolor\":\"white\",\"automargin\":true,\"zerolinewidth\":2},\"scene\":{\"xaxis\":{\"backgroundcolor\":\"#E5ECF6\",\"gridcolor\":\"white\",\"linecolor\":\"white\",\"showbackground\":true,\"ticks\":\"\",\"zerolinecolor\":\"white\",\"gridwidth\":2},\"yaxis\":{\"backgroundcolor\":\"#E5ECF6\",\"gridcolor\":\"white\",\"linecolor\":\"white\",\"showbackground\":true,\"ticks\":\"\",\"zerolinecolor\":\"white\",\"gridwidth\":2},\"zaxis\":{\"backgroundcolor\":\"#E5ECF6\",\"gridcolor\":\"white\",\"linecolor\":\"white\",\"showbackground\":true,\"ticks\":\"\",\"zerolinecolor\":\"white\",\"gridwidth\":2}},\"shapedefaults\":{\"line\":{\"color\":\"#2a3f5f\"}},\"annotationdefaults\":{\"arrowcolor\":\"#2a3f5f\",\"arrowhead\":0,\"arrowwidth\":1},\"geo\":{\"bgcolor\":\"white\",\"landcolor\":\"#E5ECF6\",\"subunitcolor\":\"white\",\"showland\":true,\"showlakes\":true,\"lakecolor\":\"white\"},\"title\":{\"x\":0.05},\"mapbox\":{\"style\":\"light\"}}},\"xaxis\":{\"anchor\":\"y\",\"domain\":[0.0,1.0],\"title\":{\"text\":\"track.album.name\"}},\"yaxis\":{\"anchor\":\"x\",\"domain\":[0.0,1.0],\"title\":{\"text\":\"track.popularity\"}},\"legend\":{\"tracegroupgap\":0},\"margin\":{\"t\":60},\"boxmode\":\"group\"},                        {\"responsive\": true}                    ).then(function(){\n",
       "                            \n",
       "var gd = document.getElementById('f062cbe9-9917-4dae-a3c1-9108475c76b6');\n",
       "var x = new MutationObserver(function (mutations, observer) {{\n",
       "        var display = window.getComputedStyle(gd).display;\n",
       "        if (!display || display === 'none') {{\n",
       "            console.log([gd, 'removed!']);\n",
       "            Plotly.purge(gd);\n",
       "            observer.disconnect();\n",
       "        }}\n",
       "}});\n",
       "\n",
       "// Listen for the removal of the full notebook cells\n",
       "var notebookContainer = gd.closest('#notebook-container');\n",
       "if (notebookContainer) {{\n",
       "    x.observe(notebookContainer, {childList: true});\n",
       "}}\n",
       "\n",
       "// Listen for the clearing of the current output cell\n",
       "var outputEl = gd.closest('.output');\n",
       "if (outputEl) {{\n",
       "    x.observe(outputEl, {childList: true});\n",
       "}}\n",
       "\n",
       "                        })                };                });            </script>        </div>"
      ]
     },
     "metadata": {},
     "output_type": "display_data"
    }
   ],
   "source": [
    "figure = px.box(df, x=\"track.album.name\", y=\"track.popularity\", points='all', hover_name='track.name')\n",
    "figure"
   ]
  },
  {
   "cell_type": "code",
   "execution_count": null,
   "metadata": {},
   "outputs": [],
   "source": []
  }
 ],
 "metadata": {
  "kernelspec": {
   "display_name": "base",
   "language": "python",
   "name": "python3"
  },
  "language_info": {
   "codemirror_mode": {
    "name": "ipython",
    "version": 3
   },
   "file_extension": ".py",
   "mimetype": "text/x-python",
   "name": "python",
   "nbconvert_exporter": "python",
   "pygments_lexer": "ipython3",
   "version": "3.9.16"
  }
 },
 "nbformat": 4,
 "nbformat_minor": 2
}
