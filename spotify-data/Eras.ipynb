{
 "cells": [
  {
   "cell_type": "markdown",
   "metadata": {},
   "source": [
    "My household listens to a lot of Taylor Swift music.\n",
    "Inspired by this and her Eras tour, I decided to take a look at some of her song data available on Spotify.\n",
    "In this example, I'm visualizing the data with plotly.\n",
    "These plots are more interactive, but will not render correctly in Github, so I would recommend viewing the notebook using nbviewer.\n",
    "\n",
    "**Follow the link below to view the interactive plots!**\n",
    "\n",
    "[nbviewer link](https://nbviewer.org/github/jaredcarter/data-science-portfolio/blob/main/spotify-data/Eras.ipynb?flush_cache=True)\n",
    "\n",
    "First we have to import the required packages."
   ]
  },
  {
   "cell_type": "code",
   "execution_count": 1,
   "metadata": {},
   "outputs": [
    {
     "data": {
      "text/html": [
       "        <script type=\"text/javascript\">\n",
       "        window.PlotlyConfig = {MathJaxConfig: 'local'};\n",
       "        if (window.MathJax && window.MathJax.Hub && window.MathJax.Hub.Config) {window.MathJax.Hub.Config({SVG: {font: \"STIX-Web\"}});}\n",
       "        if (typeof require !== 'undefined') {\n",
       "        require.undef(\"plotly\");\n",
       "        requirejs.config({\n",
       "            paths: {\n",
       "                'plotly': ['https://cdn.plot.ly/plotly-2.24.1.min']\n",
       "            }\n",
       "        });\n",
       "        require(['plotly'], function(Plotly) {\n",
       "            window._Plotly = Plotly;\n",
       "        });\n",
       "        }\n",
       "        </script>\n",
       "        "
      ]
     },
     "metadata": {},
     "output_type": "display_data"
    }
   ],
   "source": [
    "import pandas as pd\n",
    "from plotly.offline import init_notebook_mode\n",
    "init_notebook_mode(connected=True)\n",
    "import plotly.express as px\n",
    "import plotly.graph_objects as go\n",
    "import matplotlib.pyplot as plt\n",
    "import seaborn as sns\n"
   ]
  },
  {
   "cell_type": "markdown",
   "metadata": {},
   "source": [
    "Next, we need to import the data.\n",
    "This data was pulled from Spotify using the [Get Spotify Playlist Data](Get%20Spotify%20Playlist%20Data.ipynb) notebook."
   ]
  },
  {
   "cell_type": "code",
   "execution_count": 2,
   "metadata": {},
   "outputs": [
    {
     "name": "stdout",
     "output_type": "stream",
     "text": [
      "<class 'pandas.core.frame.DataFrame'>\n",
      "RangeIndex: 254 entries, 0 to 253\n",
      "Data columns (total 57 columns):\n",
      " #   Column                              Non-Null Count  Dtype  \n",
      "---  ------                              --------------  -----  \n",
      " 0   added_at                            254 non-null    object \n",
      " 1   is_local                            254 non-null    bool   \n",
      " 2   primary_color                       0 non-null      float64\n",
      " 3   added_by.external_urls.spotify      254 non-null    object \n",
      " 4   added_by.href                       254 non-null    object \n",
      " 5   added_by.id                         254 non-null    object \n",
      " 6   added_by.type                       254 non-null    object \n",
      " 7   added_by.uri                        254 non-null    object \n",
      " 8   track.album.album_type              254 non-null    object \n",
      " 9   track.album.artists                 254 non-null    object \n",
      " 10  track.album.available_markets       254 non-null    object \n",
      " 11  track.album.external_urls.spotify   254 non-null    object \n",
      " 12  track.album.href                    254 non-null    object \n",
      " 13  track.album.id                      254 non-null    object \n",
      " 14  track.album.images                  254 non-null    object \n",
      " 15  track.album.name                    254 non-null    object \n",
      " 16  track.album.release_date            254 non-null    object \n",
      " 17  track.album.release_date_precision  254 non-null    object \n",
      " 18  track.album.total_tracks            254 non-null    int64  \n",
      " 19  track.album.type                    254 non-null    object \n",
      " 20  track.album.uri                     254 non-null    object \n",
      " 21  track.artists                       254 non-null    object \n",
      " 22  track.available_markets             254 non-null    object \n",
      " 23  track.disc_number                   254 non-null    int64  \n",
      " 24  track.duration_ms                   254 non-null    int64  \n",
      " 25  track.episode                       254 non-null    bool   \n",
      " 26  track.explicit                      254 non-null    bool   \n",
      " 27  track.external_ids.isrc             254 non-null    object \n",
      " 28  track.external_urls.spotify         254 non-null    object \n",
      " 29  track.href                          254 non-null    object \n",
      " 30  track.id                            254 non-null    object \n",
      " 31  track.is_local                      254 non-null    bool   \n",
      " 32  track.name                          254 non-null    object \n",
      " 33  track.popularity                    254 non-null    int64  \n",
      " 34  track.preview_url                   0 non-null      float64\n",
      " 35  track.track                         254 non-null    bool   \n",
      " 36  track.track_number                  254 non-null    int64  \n",
      " 37  track.type                          254 non-null    object \n",
      " 38  track.uri                           254 non-null    object \n",
      " 39  video_thumbnail.url                 0 non-null      float64\n",
      " 40  danceability                        254 non-null    float64\n",
      " 41  energy                              254 non-null    float64\n",
      " 42  key                                 254 non-null    int64  \n",
      " 43  loudness                            254 non-null    float64\n",
      " 44  mode                                254 non-null    int64  \n",
      " 45  speechiness                         254 non-null    float64\n",
      " 46  acousticness                        254 non-null    float64\n",
      " 47  instrumentalness                    254 non-null    float64\n",
      " 48  liveness                            254 non-null    float64\n",
      " 49  valence                             254 non-null    float64\n",
      " 50  tempo                               254 non-null    float64\n",
      " 51  type                                254 non-null    object \n",
      " 52  uri                                 254 non-null    object \n",
      " 53  track_href                          254 non-null    object \n",
      " 54  analysis_url                        254 non-null    object \n",
      " 55  duration_ms                         254 non-null    int64  \n",
      " 56  time_signature                      254 non-null    int64  \n",
      "dtypes: bool(5), float64(12), int64(9), object(31)\n",
      "memory usage: 104.6+ KB\n"
     ]
    }
   ],
   "source": [
    "df = pd.read_csv(\"data/Taylor Swift.csv\")\n",
    "df.info()"
   ]
  },
  {
   "cell_type": "markdown",
   "metadata": {},
   "source": [
    "The output above shows what columns of data are available to us.\n",
    "Some of the not-so-straightforward column names are explained in [Spotify's API documentation](https://developer.spotify.com/documentation/web-api/reference/get-several-audio-features).\n",
    "The last bit of pre-processing for now is to format the `track.album.release_date` as a datetime object."
   ]
  },
  {
   "cell_type": "code",
   "execution_count": 3,
   "metadata": {},
   "outputs": [],
   "source": [
    "df['track.album.release_date'] = pd.to_datetime(df['track.album.release_date'])"
   ]
  },
  {
   "cell_type": "markdown",
   "metadata": {},
   "source": [
    "Let's look at the album release dates in chronological order.\n",
    "To achieve this, we will use a scatter plot.\n",
    "The x-axis will be the release date and the y-axis will show the average popularity.\n",
    "The size of the marker will be proportional to the number of tracks on each album."
   ]
  },
  {
   "cell_type": "code",
   "execution_count": 4,
   "metadata": {},
   "outputs": [
    {
     "data": {
      "application/vnd.plotly.v1+json": {
       "config": {
        "plotlyServerURL": "https://plot.ly"
       },
       "data": [
        {
         "hovertemplate": "Album Name=1989<br>Release Date=%{x}<br>Average Popularity=%{y}<br>Count of Album Tracks=%{marker.size}<extra></extra>",
         "legendgroup": "1989",
         "marker": {
          "color": "#636efa",
          "size": [
           13
          ],
          "sizemode": "area",
          "sizeref": 0.075,
          "symbol": "circle"
         },
         "mode": "markers",
         "name": "1989",
         "orientation": "v",
         "showlegend": true,
         "type": "scatter",
         "x": [
          "2014-10-27T00:00:00"
         ],
         "xaxis": "x",
         "y": [
          62.30769230769231
         ],
         "yaxis": "y"
        },
        {
         "hovertemplate": "Album Name=1989 (Taylor's Version) [Deluxe]<br>Release Date=%{x}<br>Average Popularity=%{y}<br>Count of Album Tracks=%{marker.size}<extra></extra>",
         "legendgroup": "1989 (Taylor's Version) [Deluxe]",
         "marker": {
          "color": "#EF553B",
          "size": [
           22
          ],
          "sizemode": "area",
          "sizeref": 0.075,
          "symbol": "circle"
         },
         "mode": "markers",
         "name": "1989 (Taylor's Version) [Deluxe]",
         "orientation": "v",
         "showlegend": true,
         "type": "scatter",
         "x": [
          "2023-10-27T00:00:00"
         ],
         "xaxis": "x",
         "y": [
          73.5
         ],
         "yaxis": "y"
        },
        {
         "hovertemplate": "Album Name=Fearless<br>Release Date=%{x}<br>Average Popularity=%{y}<br>Count of Album Tracks=%{marker.size}<extra></extra>",
         "legendgroup": "Fearless",
         "marker": {
          "color": "#00cc96",
          "size": [
           13
          ],
          "sizemode": "area",
          "sizeref": 0.075,
          "symbol": "circle"
         },
         "mode": "markers",
         "name": "Fearless",
         "orientation": "v",
         "showlegend": true,
         "type": "scatter",
         "x": [
          "2008-11-11T00:00:00"
         ],
         "xaxis": "x",
         "y": [
          53.07692307692308
         ],
         "yaxis": "y"
        },
        {
         "hovertemplate": "Album Name=Fearless (Taylor's Version)<br>Release Date=%{x}<br>Average Popularity=%{y}<br>Count of Album Tracks=%{marker.size}<extra></extra>",
         "legendgroup": "Fearless (Taylor's Version)",
         "marker": {
          "color": "#ab63fa",
          "size": [
           26
          ],
          "sizemode": "area",
          "sizeref": 0.075,
          "symbol": "circle"
         },
         "mode": "markers",
         "name": "Fearless (Taylor's Version)",
         "orientation": "v",
         "showlegend": true,
         "type": "scatter",
         "x": [
          "2021-04-09T00:00:00"
         ],
         "xaxis": "x",
         "y": [
          71.11538461538461
         ],
         "yaxis": "y"
        },
        {
         "hovertemplate": "Album Name=Lover<br>Release Date=%{x}<br>Average Popularity=%{y}<br>Count of Album Tracks=%{marker.size}<extra></extra>",
         "legendgroup": "Lover",
         "marker": {
          "color": "#FFA15A",
          "size": [
           18
          ],
          "sizemode": "area",
          "sizeref": 0.075,
          "symbol": "circle"
         },
         "mode": "markers",
         "name": "Lover",
         "orientation": "v",
         "showlegend": true,
         "type": "scatter",
         "x": [
          "2019-08-23T00:00:00"
         ],
         "xaxis": "x",
         "y": [
          81.88888888888889
         ],
         "yaxis": "y"
        },
        {
         "hovertemplate": "Album Name=Midnights (3am Edition)<br>Release Date=%{x}<br>Average Popularity=%{y}<br>Count of Album Tracks=%{marker.size}<extra></extra>",
         "legendgroup": "Midnights (3am Edition)",
         "marker": {
          "color": "#19d3f3",
          "size": [
           20
          ],
          "sizemode": "area",
          "sizeref": 0.075,
          "symbol": "circle"
         },
         "mode": "markers",
         "name": "Midnights (3am Edition)",
         "orientation": "v",
         "showlegend": true,
         "type": "scatter",
         "x": [
          "2022-10-22T00:00:00"
         ],
         "xaxis": "x",
         "y": [
          70.55
         ],
         "yaxis": "y"
        },
        {
         "hovertemplate": "Album Name=Red<br>Release Date=%{x}<br>Average Popularity=%{y}<br>Count of Album Tracks=%{marker.size}<extra></extra>",
         "legendgroup": "Red",
         "marker": {
          "color": "#FF6692",
          "size": [
           16
          ],
          "sizemode": "area",
          "sizeref": 0.075,
          "symbol": "circle"
         },
         "mode": "markers",
         "name": "Red",
         "orientation": "v",
         "showlegend": true,
         "type": "scatter",
         "x": [
          "2012-10-22T00:00:00"
         ],
         "xaxis": "x",
         "y": [
          47.375
         ],
         "yaxis": "y"
        },
        {
         "hovertemplate": "Album Name=Red (Taylor's Version)<br>Release Date=%{x}<br>Average Popularity=%{y}<br>Count of Album Tracks=%{marker.size}<extra></extra>",
         "legendgroup": "Red (Taylor's Version)",
         "marker": {
          "color": "#B6E880",
          "size": [
           30
          ],
          "sizemode": "area",
          "sizeref": 0.075,
          "symbol": "circle"
         },
         "mode": "markers",
         "name": "Red (Taylor's Version)",
         "orientation": "v",
         "showlegend": true,
         "type": "scatter",
         "x": [
          "2021-11-12T00:00:00"
         ],
         "xaxis": "x",
         "y": [
          73.5
         ],
         "yaxis": "y"
        },
        {
         "hovertemplate": "Album Name=Speak Now<br>Release Date=%{x}<br>Average Popularity=%{y}<br>Count of Album Tracks=%{marker.size}<extra></extra>",
         "legendgroup": "Speak Now",
         "marker": {
          "color": "#FF97FF",
          "size": [
           14
          ],
          "sizemode": "area",
          "sizeref": 0.075,
          "symbol": "circle"
         },
         "mode": "markers",
         "name": "Speak Now",
         "orientation": "v",
         "showlegend": true,
         "type": "scatter",
         "x": [
          "2010-10-25T00:00:00"
         ],
         "xaxis": "x",
         "y": [
          57.07142857142857
         ],
         "yaxis": "y"
        },
        {
         "hovertemplate": "Album Name=Speak Now (Taylor's Version)<br>Release Date=%{x}<br>Average Popularity=%{y}<br>Count of Album Tracks=%{marker.size}<extra></extra>",
         "legendgroup": "Speak Now (Taylor's Version)",
         "marker": {
          "color": "#FECB52",
          "size": [
           21
          ],
          "sizemode": "area",
          "sizeref": 0.075,
          "symbol": "circle"
         },
         "mode": "markers",
         "name": "Speak Now (Taylor's Version)",
         "orientation": "v",
         "showlegend": true,
         "type": "scatter",
         "x": [
          "2023-07-07T00:00:00"
         ],
         "xaxis": "x",
         "y": [
          76.9047619047619
         ],
         "yaxis": "y"
        },
        {
         "hovertemplate": "Album Name=Taylor Swift<br>Release Date=%{x}<br>Average Popularity=%{y}<br>Count of Album Tracks=%{marker.size}<extra></extra>",
         "legendgroup": "Taylor Swift",
         "marker": {
          "color": "#636efa",
          "size": [
           15
          ],
          "sizemode": "area",
          "sizeref": 0.075,
          "symbol": "circle"
         },
         "mode": "markers",
         "name": "Taylor Swift",
         "orientation": "v",
         "showlegend": true,
         "type": "scatter",
         "x": [
          "2006-10-24T00:00:00"
         ],
         "xaxis": "x",
         "y": [
          62.666666666666664
         ],
         "yaxis": "y"
        },
        {
         "hovertemplate": "Album Name=evermore<br>Release Date=%{x}<br>Average Popularity=%{y}<br>Count of Album Tracks=%{marker.size}<extra></extra>",
         "legendgroup": "evermore",
         "marker": {
          "color": "#EF553B",
          "size": [
           15
          ],
          "sizemode": "area",
          "sizeref": 0.075,
          "symbol": "circle"
         },
         "mode": "markers",
         "name": "evermore",
         "orientation": "v",
         "showlegend": true,
         "type": "scatter",
         "x": [
          "2020-12-11T00:00:00"
         ],
         "xaxis": "x",
         "y": [
          73.26666666666667
         ],
         "yaxis": "y"
        },
        {
         "hovertemplate": "Album Name=folklore<br>Release Date=%{x}<br>Average Popularity=%{y}<br>Count of Album Tracks=%{marker.size}<extra></extra>",
         "legendgroup": "folklore",
         "marker": {
          "color": "#00cc96",
          "size": [
           16
          ],
          "sizemode": "area",
          "sizeref": 0.075,
          "symbol": "circle"
         },
         "mode": "markers",
         "name": "folklore",
         "orientation": "v",
         "showlegend": true,
         "type": "scatter",
         "x": [
          "2020-07-24T00:00:00"
         ],
         "xaxis": "x",
         "y": [
          79.125
         ],
         "yaxis": "y"
        },
        {
         "hovertemplate": "Album Name=reputation<br>Release Date=%{x}<br>Average Popularity=%{y}<br>Count of Album Tracks=%{marker.size}<extra></extra>",
         "legendgroup": "reputation",
         "marker": {
          "color": "#ab63fa",
          "size": [
           15
          ],
          "sizemode": "area",
          "sizeref": 0.075,
          "symbol": "circle"
         },
         "mode": "markers",
         "name": "reputation",
         "orientation": "v",
         "showlegend": true,
         "type": "scatter",
         "x": [
          "2017-11-10T00:00:00"
         ],
         "xaxis": "x",
         "y": [
          82.86666666666666
         ],
         "yaxis": "y"
        }
       ],
       "layout": {
        "legend": {
         "itemsizing": "constant",
         "title": {
          "text": "Album Name"
         },
         "tracegroupgap": 0
        },
        "margin": {
         "t": 60
        },
        "template": {
         "data": {
          "bar": [
           {
            "error_x": {
             "color": "#2a3f5f"
            },
            "error_y": {
             "color": "#2a3f5f"
            },
            "marker": {
             "line": {
              "color": "#E5ECF6",
              "width": 0.5
             },
             "pattern": {
              "fillmode": "overlay",
              "size": 10,
              "solidity": 0.2
             }
            },
            "type": "bar"
           }
          ],
          "barpolar": [
           {
            "marker": {
             "line": {
              "color": "#E5ECF6",
              "width": 0.5
             },
             "pattern": {
              "fillmode": "overlay",
              "size": 10,
              "solidity": 0.2
             }
            },
            "type": "barpolar"
           }
          ],
          "carpet": [
           {
            "aaxis": {
             "endlinecolor": "#2a3f5f",
             "gridcolor": "white",
             "linecolor": "white",
             "minorgridcolor": "white",
             "startlinecolor": "#2a3f5f"
            },
            "baxis": {
             "endlinecolor": "#2a3f5f",
             "gridcolor": "white",
             "linecolor": "white",
             "minorgridcolor": "white",
             "startlinecolor": "#2a3f5f"
            },
            "type": "carpet"
           }
          ],
          "choropleth": [
           {
            "colorbar": {
             "outlinewidth": 0,
             "ticks": ""
            },
            "type": "choropleth"
           }
          ],
          "contour": [
           {
            "colorbar": {
             "outlinewidth": 0,
             "ticks": ""
            },
            "colorscale": [
             [
              0,
              "#0d0887"
             ],
             [
              0.1111111111111111,
              "#46039f"
             ],
             [
              0.2222222222222222,
              "#7201a8"
             ],
             [
              0.3333333333333333,
              "#9c179e"
             ],
             [
              0.4444444444444444,
              "#bd3786"
             ],
             [
              0.5555555555555556,
              "#d8576b"
             ],
             [
              0.6666666666666666,
              "#ed7953"
             ],
             [
              0.7777777777777778,
              "#fb9f3a"
             ],
             [
              0.8888888888888888,
              "#fdca26"
             ],
             [
              1,
              "#f0f921"
             ]
            ],
            "type": "contour"
           }
          ],
          "contourcarpet": [
           {
            "colorbar": {
             "outlinewidth": 0,
             "ticks": ""
            },
            "type": "contourcarpet"
           }
          ],
          "heatmap": [
           {
            "colorbar": {
             "outlinewidth": 0,
             "ticks": ""
            },
            "colorscale": [
             [
              0,
              "#0d0887"
             ],
             [
              0.1111111111111111,
              "#46039f"
             ],
             [
              0.2222222222222222,
              "#7201a8"
             ],
             [
              0.3333333333333333,
              "#9c179e"
             ],
             [
              0.4444444444444444,
              "#bd3786"
             ],
             [
              0.5555555555555556,
              "#d8576b"
             ],
             [
              0.6666666666666666,
              "#ed7953"
             ],
             [
              0.7777777777777778,
              "#fb9f3a"
             ],
             [
              0.8888888888888888,
              "#fdca26"
             ],
             [
              1,
              "#f0f921"
             ]
            ],
            "type": "heatmap"
           }
          ],
          "heatmapgl": [
           {
            "colorbar": {
             "outlinewidth": 0,
             "ticks": ""
            },
            "colorscale": [
             [
              0,
              "#0d0887"
             ],
             [
              0.1111111111111111,
              "#46039f"
             ],
             [
              0.2222222222222222,
              "#7201a8"
             ],
             [
              0.3333333333333333,
              "#9c179e"
             ],
             [
              0.4444444444444444,
              "#bd3786"
             ],
             [
              0.5555555555555556,
              "#d8576b"
             ],
             [
              0.6666666666666666,
              "#ed7953"
             ],
             [
              0.7777777777777778,
              "#fb9f3a"
             ],
             [
              0.8888888888888888,
              "#fdca26"
             ],
             [
              1,
              "#f0f921"
             ]
            ],
            "type": "heatmapgl"
           }
          ],
          "histogram": [
           {
            "marker": {
             "pattern": {
              "fillmode": "overlay",
              "size": 10,
              "solidity": 0.2
             }
            },
            "type": "histogram"
           }
          ],
          "histogram2d": [
           {
            "colorbar": {
             "outlinewidth": 0,
             "ticks": ""
            },
            "colorscale": [
             [
              0,
              "#0d0887"
             ],
             [
              0.1111111111111111,
              "#46039f"
             ],
             [
              0.2222222222222222,
              "#7201a8"
             ],
             [
              0.3333333333333333,
              "#9c179e"
             ],
             [
              0.4444444444444444,
              "#bd3786"
             ],
             [
              0.5555555555555556,
              "#d8576b"
             ],
             [
              0.6666666666666666,
              "#ed7953"
             ],
             [
              0.7777777777777778,
              "#fb9f3a"
             ],
             [
              0.8888888888888888,
              "#fdca26"
             ],
             [
              1,
              "#f0f921"
             ]
            ],
            "type": "histogram2d"
           }
          ],
          "histogram2dcontour": [
           {
            "colorbar": {
             "outlinewidth": 0,
             "ticks": ""
            },
            "colorscale": [
             [
              0,
              "#0d0887"
             ],
             [
              0.1111111111111111,
              "#46039f"
             ],
             [
              0.2222222222222222,
              "#7201a8"
             ],
             [
              0.3333333333333333,
              "#9c179e"
             ],
             [
              0.4444444444444444,
              "#bd3786"
             ],
             [
              0.5555555555555556,
              "#d8576b"
             ],
             [
              0.6666666666666666,
              "#ed7953"
             ],
             [
              0.7777777777777778,
              "#fb9f3a"
             ],
             [
              0.8888888888888888,
              "#fdca26"
             ],
             [
              1,
              "#f0f921"
             ]
            ],
            "type": "histogram2dcontour"
           }
          ],
          "mesh3d": [
           {
            "colorbar": {
             "outlinewidth": 0,
             "ticks": ""
            },
            "type": "mesh3d"
           }
          ],
          "parcoords": [
           {
            "line": {
             "colorbar": {
              "outlinewidth": 0,
              "ticks": ""
             }
            },
            "type": "parcoords"
           }
          ],
          "pie": [
           {
            "automargin": true,
            "type": "pie"
           }
          ],
          "scatter": [
           {
            "fillpattern": {
             "fillmode": "overlay",
             "size": 10,
             "solidity": 0.2
            },
            "type": "scatter"
           }
          ],
          "scatter3d": [
           {
            "line": {
             "colorbar": {
              "outlinewidth": 0,
              "ticks": ""
             }
            },
            "marker": {
             "colorbar": {
              "outlinewidth": 0,
              "ticks": ""
             }
            },
            "type": "scatter3d"
           }
          ],
          "scattercarpet": [
           {
            "marker": {
             "colorbar": {
              "outlinewidth": 0,
              "ticks": ""
             }
            },
            "type": "scattercarpet"
           }
          ],
          "scattergeo": [
           {
            "marker": {
             "colorbar": {
              "outlinewidth": 0,
              "ticks": ""
             }
            },
            "type": "scattergeo"
           }
          ],
          "scattergl": [
           {
            "marker": {
             "colorbar": {
              "outlinewidth": 0,
              "ticks": ""
             }
            },
            "type": "scattergl"
           }
          ],
          "scattermapbox": [
           {
            "marker": {
             "colorbar": {
              "outlinewidth": 0,
              "ticks": ""
             }
            },
            "type": "scattermapbox"
           }
          ],
          "scatterpolar": [
           {
            "marker": {
             "colorbar": {
              "outlinewidth": 0,
              "ticks": ""
             }
            },
            "type": "scatterpolar"
           }
          ],
          "scatterpolargl": [
           {
            "marker": {
             "colorbar": {
              "outlinewidth": 0,
              "ticks": ""
             }
            },
            "type": "scatterpolargl"
           }
          ],
          "scatterternary": [
           {
            "marker": {
             "colorbar": {
              "outlinewidth": 0,
              "ticks": ""
             }
            },
            "type": "scatterternary"
           }
          ],
          "surface": [
           {
            "colorbar": {
             "outlinewidth": 0,
             "ticks": ""
            },
            "colorscale": [
             [
              0,
              "#0d0887"
             ],
             [
              0.1111111111111111,
              "#46039f"
             ],
             [
              0.2222222222222222,
              "#7201a8"
             ],
             [
              0.3333333333333333,
              "#9c179e"
             ],
             [
              0.4444444444444444,
              "#bd3786"
             ],
             [
              0.5555555555555556,
              "#d8576b"
             ],
             [
              0.6666666666666666,
              "#ed7953"
             ],
             [
              0.7777777777777778,
              "#fb9f3a"
             ],
             [
              0.8888888888888888,
              "#fdca26"
             ],
             [
              1,
              "#f0f921"
             ]
            ],
            "type": "surface"
           }
          ],
          "table": [
           {
            "cells": {
             "fill": {
              "color": "#EBF0F8"
             },
             "line": {
              "color": "white"
             }
            },
            "header": {
             "fill": {
              "color": "#C8D4E3"
             },
             "line": {
              "color": "white"
             }
            },
            "type": "table"
           }
          ]
         },
         "layout": {
          "annotationdefaults": {
           "arrowcolor": "#2a3f5f",
           "arrowhead": 0,
           "arrowwidth": 1
          },
          "autotypenumbers": "strict",
          "coloraxis": {
           "colorbar": {
            "outlinewidth": 0,
            "ticks": ""
           }
          },
          "colorscale": {
           "diverging": [
            [
             0,
             "#8e0152"
            ],
            [
             0.1,
             "#c51b7d"
            ],
            [
             0.2,
             "#de77ae"
            ],
            [
             0.3,
             "#f1b6da"
            ],
            [
             0.4,
             "#fde0ef"
            ],
            [
             0.5,
             "#f7f7f7"
            ],
            [
             0.6,
             "#e6f5d0"
            ],
            [
             0.7,
             "#b8e186"
            ],
            [
             0.8,
             "#7fbc41"
            ],
            [
             0.9,
             "#4d9221"
            ],
            [
             1,
             "#276419"
            ]
           ],
           "sequential": [
            [
             0,
             "#0d0887"
            ],
            [
             0.1111111111111111,
             "#46039f"
            ],
            [
             0.2222222222222222,
             "#7201a8"
            ],
            [
             0.3333333333333333,
             "#9c179e"
            ],
            [
             0.4444444444444444,
             "#bd3786"
            ],
            [
             0.5555555555555556,
             "#d8576b"
            ],
            [
             0.6666666666666666,
             "#ed7953"
            ],
            [
             0.7777777777777778,
             "#fb9f3a"
            ],
            [
             0.8888888888888888,
             "#fdca26"
            ],
            [
             1,
             "#f0f921"
            ]
           ],
           "sequentialminus": [
            [
             0,
             "#0d0887"
            ],
            [
             0.1111111111111111,
             "#46039f"
            ],
            [
             0.2222222222222222,
             "#7201a8"
            ],
            [
             0.3333333333333333,
             "#9c179e"
            ],
            [
             0.4444444444444444,
             "#bd3786"
            ],
            [
             0.5555555555555556,
             "#d8576b"
            ],
            [
             0.6666666666666666,
             "#ed7953"
            ],
            [
             0.7777777777777778,
             "#fb9f3a"
            ],
            [
             0.8888888888888888,
             "#fdca26"
            ],
            [
             1,
             "#f0f921"
            ]
           ]
          },
          "colorway": [
           "#636efa",
           "#EF553B",
           "#00cc96",
           "#ab63fa",
           "#FFA15A",
           "#19d3f3",
           "#FF6692",
           "#B6E880",
           "#FF97FF",
           "#FECB52"
          ],
          "font": {
           "color": "#2a3f5f"
          },
          "geo": {
           "bgcolor": "white",
           "lakecolor": "white",
           "landcolor": "#E5ECF6",
           "showlakes": true,
           "showland": true,
           "subunitcolor": "white"
          },
          "hoverlabel": {
           "align": "left"
          },
          "hovermode": "closest",
          "mapbox": {
           "style": "light"
          },
          "paper_bgcolor": "white",
          "plot_bgcolor": "#E5ECF6",
          "polar": {
           "angularaxis": {
            "gridcolor": "white",
            "linecolor": "white",
            "ticks": ""
           },
           "bgcolor": "#E5ECF6",
           "radialaxis": {
            "gridcolor": "white",
            "linecolor": "white",
            "ticks": ""
           }
          },
          "scene": {
           "xaxis": {
            "backgroundcolor": "#E5ECF6",
            "gridcolor": "white",
            "gridwidth": 2,
            "linecolor": "white",
            "showbackground": true,
            "ticks": "",
            "zerolinecolor": "white"
           },
           "yaxis": {
            "backgroundcolor": "#E5ECF6",
            "gridcolor": "white",
            "gridwidth": 2,
            "linecolor": "white",
            "showbackground": true,
            "ticks": "",
            "zerolinecolor": "white"
           },
           "zaxis": {
            "backgroundcolor": "#E5ECF6",
            "gridcolor": "white",
            "gridwidth": 2,
            "linecolor": "white",
            "showbackground": true,
            "ticks": "",
            "zerolinecolor": "white"
           }
          },
          "shapedefaults": {
           "line": {
            "color": "#2a3f5f"
           }
          },
          "ternary": {
           "aaxis": {
            "gridcolor": "white",
            "linecolor": "white",
            "ticks": ""
           },
           "baxis": {
            "gridcolor": "white",
            "linecolor": "white",
            "ticks": ""
           },
           "bgcolor": "#E5ECF6",
           "caxis": {
            "gridcolor": "white",
            "linecolor": "white",
            "ticks": ""
           }
          },
          "title": {
           "x": 0.05
          },
          "xaxis": {
           "automargin": true,
           "gridcolor": "white",
           "linecolor": "white",
           "ticks": "",
           "title": {
            "standoff": 15
           },
           "zerolinecolor": "white",
           "zerolinewidth": 2
          },
          "yaxis": {
           "automargin": true,
           "gridcolor": "white",
           "linecolor": "white",
           "ticks": "",
           "title": {
            "standoff": 15
           },
           "zerolinecolor": "white",
           "zerolinewidth": 2
          }
         }
        },
        "xaxis": {
         "anchor": "y",
         "domain": [
          0,
          1
         ],
         "title": {
          "text": "Release Date"
         }
        },
        "yaxis": {
         "anchor": "x",
         "domain": [
          0,
          1
         ],
         "title": {
          "text": "Average Popularity"
         }
        }
       }
      },
      "text/html": [
       "<div>                            <div id=\"de7a9a5e-722c-4958-95c6-2d283f4384f8\" class=\"plotly-graph-div\" style=\"height:525px; width:100%;\"></div>            <script type=\"text/javascript\">                require([\"plotly\"], function(Plotly) {                    window.PLOTLYENV=window.PLOTLYENV || {};                                    if (document.getElementById(\"de7a9a5e-722c-4958-95c6-2d283f4384f8\")) {                    Plotly.newPlot(                        \"de7a9a5e-722c-4958-95c6-2d283f4384f8\",                        [{\"hovertemplate\":\"Album Name=1989\\u003cbr\\u003eRelease Date=%{x}\\u003cbr\\u003eAverage Popularity=%{y}\\u003cbr\\u003eCount of Album Tracks=%{marker.size}\\u003cextra\\u003e\\u003c\\u002fextra\\u003e\",\"legendgroup\":\"1989\",\"marker\":{\"color\":\"#636efa\",\"size\":[13],\"sizemode\":\"area\",\"sizeref\":0.075,\"symbol\":\"circle\"},\"mode\":\"markers\",\"name\":\"1989\",\"orientation\":\"v\",\"showlegend\":true,\"x\":[\"2014-10-27T00:00:00\"],\"xaxis\":\"x\",\"y\":[62.30769230769231],\"yaxis\":\"y\",\"type\":\"scatter\"},{\"hovertemplate\":\"Album Name=1989 (Taylor's Version) [Deluxe]\\u003cbr\\u003eRelease Date=%{x}\\u003cbr\\u003eAverage Popularity=%{y}\\u003cbr\\u003eCount of Album Tracks=%{marker.size}\\u003cextra\\u003e\\u003c\\u002fextra\\u003e\",\"legendgroup\":\"1989 (Taylor's Version) [Deluxe]\",\"marker\":{\"color\":\"#EF553B\",\"size\":[22],\"sizemode\":\"area\",\"sizeref\":0.075,\"symbol\":\"circle\"},\"mode\":\"markers\",\"name\":\"1989 (Taylor's Version) [Deluxe]\",\"orientation\":\"v\",\"showlegend\":true,\"x\":[\"2023-10-27T00:00:00\"],\"xaxis\":\"x\",\"y\":[73.5],\"yaxis\":\"y\",\"type\":\"scatter\"},{\"hovertemplate\":\"Album Name=Fearless\\u003cbr\\u003eRelease Date=%{x}\\u003cbr\\u003eAverage Popularity=%{y}\\u003cbr\\u003eCount of Album Tracks=%{marker.size}\\u003cextra\\u003e\\u003c\\u002fextra\\u003e\",\"legendgroup\":\"Fearless\",\"marker\":{\"color\":\"#00cc96\",\"size\":[13],\"sizemode\":\"area\",\"sizeref\":0.075,\"symbol\":\"circle\"},\"mode\":\"markers\",\"name\":\"Fearless\",\"orientation\":\"v\",\"showlegend\":true,\"x\":[\"2008-11-11T00:00:00\"],\"xaxis\":\"x\",\"y\":[53.07692307692308],\"yaxis\":\"y\",\"type\":\"scatter\"},{\"hovertemplate\":\"Album Name=Fearless (Taylor's Version)\\u003cbr\\u003eRelease Date=%{x}\\u003cbr\\u003eAverage Popularity=%{y}\\u003cbr\\u003eCount of Album Tracks=%{marker.size}\\u003cextra\\u003e\\u003c\\u002fextra\\u003e\",\"legendgroup\":\"Fearless (Taylor's Version)\",\"marker\":{\"color\":\"#ab63fa\",\"size\":[26],\"sizemode\":\"area\",\"sizeref\":0.075,\"symbol\":\"circle\"},\"mode\":\"markers\",\"name\":\"Fearless (Taylor's Version)\",\"orientation\":\"v\",\"showlegend\":true,\"x\":[\"2021-04-09T00:00:00\"],\"xaxis\":\"x\",\"y\":[71.11538461538461],\"yaxis\":\"y\",\"type\":\"scatter\"},{\"hovertemplate\":\"Album Name=Lover\\u003cbr\\u003eRelease Date=%{x}\\u003cbr\\u003eAverage Popularity=%{y}\\u003cbr\\u003eCount of Album Tracks=%{marker.size}\\u003cextra\\u003e\\u003c\\u002fextra\\u003e\",\"legendgroup\":\"Lover\",\"marker\":{\"color\":\"#FFA15A\",\"size\":[18],\"sizemode\":\"area\",\"sizeref\":0.075,\"symbol\":\"circle\"},\"mode\":\"markers\",\"name\":\"Lover\",\"orientation\":\"v\",\"showlegend\":true,\"x\":[\"2019-08-23T00:00:00\"],\"xaxis\":\"x\",\"y\":[81.88888888888889],\"yaxis\":\"y\",\"type\":\"scatter\"},{\"hovertemplate\":\"Album Name=Midnights (3am Edition)\\u003cbr\\u003eRelease Date=%{x}\\u003cbr\\u003eAverage Popularity=%{y}\\u003cbr\\u003eCount of Album Tracks=%{marker.size}\\u003cextra\\u003e\\u003c\\u002fextra\\u003e\",\"legendgroup\":\"Midnights (3am Edition)\",\"marker\":{\"color\":\"#19d3f3\",\"size\":[20],\"sizemode\":\"area\",\"sizeref\":0.075,\"symbol\":\"circle\"},\"mode\":\"markers\",\"name\":\"Midnights (3am Edition)\",\"orientation\":\"v\",\"showlegend\":true,\"x\":[\"2022-10-22T00:00:00\"],\"xaxis\":\"x\",\"y\":[70.55],\"yaxis\":\"y\",\"type\":\"scatter\"},{\"hovertemplate\":\"Album Name=Red\\u003cbr\\u003eRelease Date=%{x}\\u003cbr\\u003eAverage Popularity=%{y}\\u003cbr\\u003eCount of Album Tracks=%{marker.size}\\u003cextra\\u003e\\u003c\\u002fextra\\u003e\",\"legendgroup\":\"Red\",\"marker\":{\"color\":\"#FF6692\",\"size\":[16],\"sizemode\":\"area\",\"sizeref\":0.075,\"symbol\":\"circle\"},\"mode\":\"markers\",\"name\":\"Red\",\"orientation\":\"v\",\"showlegend\":true,\"x\":[\"2012-10-22T00:00:00\"],\"xaxis\":\"x\",\"y\":[47.375],\"yaxis\":\"y\",\"type\":\"scatter\"},{\"hovertemplate\":\"Album Name=Red (Taylor's Version)\\u003cbr\\u003eRelease Date=%{x}\\u003cbr\\u003eAverage Popularity=%{y}\\u003cbr\\u003eCount of Album Tracks=%{marker.size}\\u003cextra\\u003e\\u003c\\u002fextra\\u003e\",\"legendgroup\":\"Red (Taylor's Version)\",\"marker\":{\"color\":\"#B6E880\",\"size\":[30],\"sizemode\":\"area\",\"sizeref\":0.075,\"symbol\":\"circle\"},\"mode\":\"markers\",\"name\":\"Red (Taylor's Version)\",\"orientation\":\"v\",\"showlegend\":true,\"x\":[\"2021-11-12T00:00:00\"],\"xaxis\":\"x\",\"y\":[73.5],\"yaxis\":\"y\",\"type\":\"scatter\"},{\"hovertemplate\":\"Album Name=Speak Now\\u003cbr\\u003eRelease Date=%{x}\\u003cbr\\u003eAverage Popularity=%{y}\\u003cbr\\u003eCount of Album Tracks=%{marker.size}\\u003cextra\\u003e\\u003c\\u002fextra\\u003e\",\"legendgroup\":\"Speak Now\",\"marker\":{\"color\":\"#FF97FF\",\"size\":[14],\"sizemode\":\"area\",\"sizeref\":0.075,\"symbol\":\"circle\"},\"mode\":\"markers\",\"name\":\"Speak Now\",\"orientation\":\"v\",\"showlegend\":true,\"x\":[\"2010-10-25T00:00:00\"],\"xaxis\":\"x\",\"y\":[57.07142857142857],\"yaxis\":\"y\",\"type\":\"scatter\"},{\"hovertemplate\":\"Album Name=Speak Now (Taylor's Version)\\u003cbr\\u003eRelease Date=%{x}\\u003cbr\\u003eAverage Popularity=%{y}\\u003cbr\\u003eCount of Album Tracks=%{marker.size}\\u003cextra\\u003e\\u003c\\u002fextra\\u003e\",\"legendgroup\":\"Speak Now (Taylor's Version)\",\"marker\":{\"color\":\"#FECB52\",\"size\":[21],\"sizemode\":\"area\",\"sizeref\":0.075,\"symbol\":\"circle\"},\"mode\":\"markers\",\"name\":\"Speak Now (Taylor's Version)\",\"orientation\":\"v\",\"showlegend\":true,\"x\":[\"2023-07-07T00:00:00\"],\"xaxis\":\"x\",\"y\":[76.9047619047619],\"yaxis\":\"y\",\"type\":\"scatter\"},{\"hovertemplate\":\"Album Name=Taylor Swift\\u003cbr\\u003eRelease Date=%{x}\\u003cbr\\u003eAverage Popularity=%{y}\\u003cbr\\u003eCount of Album Tracks=%{marker.size}\\u003cextra\\u003e\\u003c\\u002fextra\\u003e\",\"legendgroup\":\"Taylor Swift\",\"marker\":{\"color\":\"#636efa\",\"size\":[15],\"sizemode\":\"area\",\"sizeref\":0.075,\"symbol\":\"circle\"},\"mode\":\"markers\",\"name\":\"Taylor Swift\",\"orientation\":\"v\",\"showlegend\":true,\"x\":[\"2006-10-24T00:00:00\"],\"xaxis\":\"x\",\"y\":[62.666666666666664],\"yaxis\":\"y\",\"type\":\"scatter\"},{\"hovertemplate\":\"Album Name=evermore\\u003cbr\\u003eRelease Date=%{x}\\u003cbr\\u003eAverage Popularity=%{y}\\u003cbr\\u003eCount of Album Tracks=%{marker.size}\\u003cextra\\u003e\\u003c\\u002fextra\\u003e\",\"legendgroup\":\"evermore\",\"marker\":{\"color\":\"#EF553B\",\"size\":[15],\"sizemode\":\"area\",\"sizeref\":0.075,\"symbol\":\"circle\"},\"mode\":\"markers\",\"name\":\"evermore\",\"orientation\":\"v\",\"showlegend\":true,\"x\":[\"2020-12-11T00:00:00\"],\"xaxis\":\"x\",\"y\":[73.26666666666667],\"yaxis\":\"y\",\"type\":\"scatter\"},{\"hovertemplate\":\"Album Name=folklore\\u003cbr\\u003eRelease Date=%{x}\\u003cbr\\u003eAverage Popularity=%{y}\\u003cbr\\u003eCount of Album Tracks=%{marker.size}\\u003cextra\\u003e\\u003c\\u002fextra\\u003e\",\"legendgroup\":\"folklore\",\"marker\":{\"color\":\"#00cc96\",\"size\":[16],\"sizemode\":\"area\",\"sizeref\":0.075,\"symbol\":\"circle\"},\"mode\":\"markers\",\"name\":\"folklore\",\"orientation\":\"v\",\"showlegend\":true,\"x\":[\"2020-07-24T00:00:00\"],\"xaxis\":\"x\",\"y\":[79.125],\"yaxis\":\"y\",\"type\":\"scatter\"},{\"hovertemplate\":\"Album Name=reputation\\u003cbr\\u003eRelease Date=%{x}\\u003cbr\\u003eAverage Popularity=%{y}\\u003cbr\\u003eCount of Album Tracks=%{marker.size}\\u003cextra\\u003e\\u003c\\u002fextra\\u003e\",\"legendgroup\":\"reputation\",\"marker\":{\"color\":\"#ab63fa\",\"size\":[15],\"sizemode\":\"area\",\"sizeref\":0.075,\"symbol\":\"circle\"},\"mode\":\"markers\",\"name\":\"reputation\",\"orientation\":\"v\",\"showlegend\":true,\"x\":[\"2017-11-10T00:00:00\"],\"xaxis\":\"x\",\"y\":[82.86666666666666],\"yaxis\":\"y\",\"type\":\"scatter\"}],                        {\"template\":{\"data\":{\"histogram2dcontour\":[{\"type\":\"histogram2dcontour\",\"colorbar\":{\"outlinewidth\":0,\"ticks\":\"\"},\"colorscale\":[[0.0,\"#0d0887\"],[0.1111111111111111,\"#46039f\"],[0.2222222222222222,\"#7201a8\"],[0.3333333333333333,\"#9c179e\"],[0.4444444444444444,\"#bd3786\"],[0.5555555555555556,\"#d8576b\"],[0.6666666666666666,\"#ed7953\"],[0.7777777777777778,\"#fb9f3a\"],[0.8888888888888888,\"#fdca26\"],[1.0,\"#f0f921\"]]}],\"choropleth\":[{\"type\":\"choropleth\",\"colorbar\":{\"outlinewidth\":0,\"ticks\":\"\"}}],\"histogram2d\":[{\"type\":\"histogram2d\",\"colorbar\":{\"outlinewidth\":0,\"ticks\":\"\"},\"colorscale\":[[0.0,\"#0d0887\"],[0.1111111111111111,\"#46039f\"],[0.2222222222222222,\"#7201a8\"],[0.3333333333333333,\"#9c179e\"],[0.4444444444444444,\"#bd3786\"],[0.5555555555555556,\"#d8576b\"],[0.6666666666666666,\"#ed7953\"],[0.7777777777777778,\"#fb9f3a\"],[0.8888888888888888,\"#fdca26\"],[1.0,\"#f0f921\"]]}],\"heatmap\":[{\"type\":\"heatmap\",\"colorbar\":{\"outlinewidth\":0,\"ticks\":\"\"},\"colorscale\":[[0.0,\"#0d0887\"],[0.1111111111111111,\"#46039f\"],[0.2222222222222222,\"#7201a8\"],[0.3333333333333333,\"#9c179e\"],[0.4444444444444444,\"#bd3786\"],[0.5555555555555556,\"#d8576b\"],[0.6666666666666666,\"#ed7953\"],[0.7777777777777778,\"#fb9f3a\"],[0.8888888888888888,\"#fdca26\"],[1.0,\"#f0f921\"]]}],\"heatmapgl\":[{\"type\":\"heatmapgl\",\"colorbar\":{\"outlinewidth\":0,\"ticks\":\"\"},\"colorscale\":[[0.0,\"#0d0887\"],[0.1111111111111111,\"#46039f\"],[0.2222222222222222,\"#7201a8\"],[0.3333333333333333,\"#9c179e\"],[0.4444444444444444,\"#bd3786\"],[0.5555555555555556,\"#d8576b\"],[0.6666666666666666,\"#ed7953\"],[0.7777777777777778,\"#fb9f3a\"],[0.8888888888888888,\"#fdca26\"],[1.0,\"#f0f921\"]]}],\"contourcarpet\":[{\"type\":\"contourcarpet\",\"colorbar\":{\"outlinewidth\":0,\"ticks\":\"\"}}],\"contour\":[{\"type\":\"contour\",\"colorbar\":{\"outlinewidth\":0,\"ticks\":\"\"},\"colorscale\":[[0.0,\"#0d0887\"],[0.1111111111111111,\"#46039f\"],[0.2222222222222222,\"#7201a8\"],[0.3333333333333333,\"#9c179e\"],[0.4444444444444444,\"#bd3786\"],[0.5555555555555556,\"#d8576b\"],[0.6666666666666666,\"#ed7953\"],[0.7777777777777778,\"#fb9f3a\"],[0.8888888888888888,\"#fdca26\"],[1.0,\"#f0f921\"]]}],\"surface\":[{\"type\":\"surface\",\"colorbar\":{\"outlinewidth\":0,\"ticks\":\"\"},\"colorscale\":[[0.0,\"#0d0887\"],[0.1111111111111111,\"#46039f\"],[0.2222222222222222,\"#7201a8\"],[0.3333333333333333,\"#9c179e\"],[0.4444444444444444,\"#bd3786\"],[0.5555555555555556,\"#d8576b\"],[0.6666666666666666,\"#ed7953\"],[0.7777777777777778,\"#fb9f3a\"],[0.8888888888888888,\"#fdca26\"],[1.0,\"#f0f921\"]]}],\"mesh3d\":[{\"type\":\"mesh3d\",\"colorbar\":{\"outlinewidth\":0,\"ticks\":\"\"}}],\"scatter\":[{\"fillpattern\":{\"fillmode\":\"overlay\",\"size\":10,\"solidity\":0.2},\"type\":\"scatter\"}],\"parcoords\":[{\"type\":\"parcoords\",\"line\":{\"colorbar\":{\"outlinewidth\":0,\"ticks\":\"\"}}}],\"scatterpolargl\":[{\"type\":\"scatterpolargl\",\"marker\":{\"colorbar\":{\"outlinewidth\":0,\"ticks\":\"\"}}}],\"bar\":[{\"error_x\":{\"color\":\"#2a3f5f\"},\"error_y\":{\"color\":\"#2a3f5f\"},\"marker\":{\"line\":{\"color\":\"#E5ECF6\",\"width\":0.5},\"pattern\":{\"fillmode\":\"overlay\",\"size\":10,\"solidity\":0.2}},\"type\":\"bar\"}],\"scattergeo\":[{\"type\":\"scattergeo\",\"marker\":{\"colorbar\":{\"outlinewidth\":0,\"ticks\":\"\"}}}],\"scatterpolar\":[{\"type\":\"scatterpolar\",\"marker\":{\"colorbar\":{\"outlinewidth\":0,\"ticks\":\"\"}}}],\"histogram\":[{\"marker\":{\"pattern\":{\"fillmode\":\"overlay\",\"size\":10,\"solidity\":0.2}},\"type\":\"histogram\"}],\"scattergl\":[{\"type\":\"scattergl\",\"marker\":{\"colorbar\":{\"outlinewidth\":0,\"ticks\":\"\"}}}],\"scatter3d\":[{\"type\":\"scatter3d\",\"line\":{\"colorbar\":{\"outlinewidth\":0,\"ticks\":\"\"}},\"marker\":{\"colorbar\":{\"outlinewidth\":0,\"ticks\":\"\"}}}],\"scattermapbox\":[{\"type\":\"scattermapbox\",\"marker\":{\"colorbar\":{\"outlinewidth\":0,\"ticks\":\"\"}}}],\"scatterternary\":[{\"type\":\"scatterternary\",\"marker\":{\"colorbar\":{\"outlinewidth\":0,\"ticks\":\"\"}}}],\"scattercarpet\":[{\"type\":\"scattercarpet\",\"marker\":{\"colorbar\":{\"outlinewidth\":0,\"ticks\":\"\"}}}],\"carpet\":[{\"aaxis\":{\"endlinecolor\":\"#2a3f5f\",\"gridcolor\":\"white\",\"linecolor\":\"white\",\"minorgridcolor\":\"white\",\"startlinecolor\":\"#2a3f5f\"},\"baxis\":{\"endlinecolor\":\"#2a3f5f\",\"gridcolor\":\"white\",\"linecolor\":\"white\",\"minorgridcolor\":\"white\",\"startlinecolor\":\"#2a3f5f\"},\"type\":\"carpet\"}],\"table\":[{\"cells\":{\"fill\":{\"color\":\"#EBF0F8\"},\"line\":{\"color\":\"white\"}},\"header\":{\"fill\":{\"color\":\"#C8D4E3\"},\"line\":{\"color\":\"white\"}},\"type\":\"table\"}],\"barpolar\":[{\"marker\":{\"line\":{\"color\":\"#E5ECF6\",\"width\":0.5},\"pattern\":{\"fillmode\":\"overlay\",\"size\":10,\"solidity\":0.2}},\"type\":\"barpolar\"}],\"pie\":[{\"automargin\":true,\"type\":\"pie\"}]},\"layout\":{\"autotypenumbers\":\"strict\",\"colorway\":[\"#636efa\",\"#EF553B\",\"#00cc96\",\"#ab63fa\",\"#FFA15A\",\"#19d3f3\",\"#FF6692\",\"#B6E880\",\"#FF97FF\",\"#FECB52\"],\"font\":{\"color\":\"#2a3f5f\"},\"hovermode\":\"closest\",\"hoverlabel\":{\"align\":\"left\"},\"paper_bgcolor\":\"white\",\"plot_bgcolor\":\"#E5ECF6\",\"polar\":{\"bgcolor\":\"#E5ECF6\",\"angularaxis\":{\"gridcolor\":\"white\",\"linecolor\":\"white\",\"ticks\":\"\"},\"radialaxis\":{\"gridcolor\":\"white\",\"linecolor\":\"white\",\"ticks\":\"\"}},\"ternary\":{\"bgcolor\":\"#E5ECF6\",\"aaxis\":{\"gridcolor\":\"white\",\"linecolor\":\"white\",\"ticks\":\"\"},\"baxis\":{\"gridcolor\":\"white\",\"linecolor\":\"white\",\"ticks\":\"\"},\"caxis\":{\"gridcolor\":\"white\",\"linecolor\":\"white\",\"ticks\":\"\"}},\"coloraxis\":{\"colorbar\":{\"outlinewidth\":0,\"ticks\":\"\"}},\"colorscale\":{\"sequential\":[[0.0,\"#0d0887\"],[0.1111111111111111,\"#46039f\"],[0.2222222222222222,\"#7201a8\"],[0.3333333333333333,\"#9c179e\"],[0.4444444444444444,\"#bd3786\"],[0.5555555555555556,\"#d8576b\"],[0.6666666666666666,\"#ed7953\"],[0.7777777777777778,\"#fb9f3a\"],[0.8888888888888888,\"#fdca26\"],[1.0,\"#f0f921\"]],\"sequentialminus\":[[0.0,\"#0d0887\"],[0.1111111111111111,\"#46039f\"],[0.2222222222222222,\"#7201a8\"],[0.3333333333333333,\"#9c179e\"],[0.4444444444444444,\"#bd3786\"],[0.5555555555555556,\"#d8576b\"],[0.6666666666666666,\"#ed7953\"],[0.7777777777777778,\"#fb9f3a\"],[0.8888888888888888,\"#fdca26\"],[1.0,\"#f0f921\"]],\"diverging\":[[0,\"#8e0152\"],[0.1,\"#c51b7d\"],[0.2,\"#de77ae\"],[0.3,\"#f1b6da\"],[0.4,\"#fde0ef\"],[0.5,\"#f7f7f7\"],[0.6,\"#e6f5d0\"],[0.7,\"#b8e186\"],[0.8,\"#7fbc41\"],[0.9,\"#4d9221\"],[1,\"#276419\"]]},\"xaxis\":{\"gridcolor\":\"white\",\"linecolor\":\"white\",\"ticks\":\"\",\"title\":{\"standoff\":15},\"zerolinecolor\":\"white\",\"automargin\":true,\"zerolinewidth\":2},\"yaxis\":{\"gridcolor\":\"white\",\"linecolor\":\"white\",\"ticks\":\"\",\"title\":{\"standoff\":15},\"zerolinecolor\":\"white\",\"automargin\":true,\"zerolinewidth\":2},\"scene\":{\"xaxis\":{\"backgroundcolor\":\"#E5ECF6\",\"gridcolor\":\"white\",\"linecolor\":\"white\",\"showbackground\":true,\"ticks\":\"\",\"zerolinecolor\":\"white\",\"gridwidth\":2},\"yaxis\":{\"backgroundcolor\":\"#E5ECF6\",\"gridcolor\":\"white\",\"linecolor\":\"white\",\"showbackground\":true,\"ticks\":\"\",\"zerolinecolor\":\"white\",\"gridwidth\":2},\"zaxis\":{\"backgroundcolor\":\"#E5ECF6\",\"gridcolor\":\"white\",\"linecolor\":\"white\",\"showbackground\":true,\"ticks\":\"\",\"zerolinecolor\":\"white\",\"gridwidth\":2}},\"shapedefaults\":{\"line\":{\"color\":\"#2a3f5f\"}},\"annotationdefaults\":{\"arrowcolor\":\"#2a3f5f\",\"arrowhead\":0,\"arrowwidth\":1},\"geo\":{\"bgcolor\":\"white\",\"landcolor\":\"#E5ECF6\",\"subunitcolor\":\"white\",\"showland\":true,\"showlakes\":true,\"lakecolor\":\"white\"},\"title\":{\"x\":0.05},\"mapbox\":{\"style\":\"light\"}}},\"xaxis\":{\"anchor\":\"y\",\"domain\":[0.0,1.0],\"title\":{\"text\":\"Release Date\"}},\"yaxis\":{\"anchor\":\"x\",\"domain\":[0.0,1.0],\"title\":{\"text\":\"Average Popularity\"}},\"legend\":{\"title\":{\"text\":\"Album Name\"},\"tracegroupgap\":0,\"itemsizing\":\"constant\"},\"margin\":{\"t\":60}},                        {\"responsive\": true}                    ).then(function(){\n",
       "                            \n",
       "var gd = document.getElementById('de7a9a5e-722c-4958-95c6-2d283f4384f8');\n",
       "var x = new MutationObserver(function (mutations, observer) {{\n",
       "        var display = window.getComputedStyle(gd).display;\n",
       "        if (!display || display === 'none') {{\n",
       "            console.log([gd, 'removed!']);\n",
       "            Plotly.purge(gd);\n",
       "            observer.disconnect();\n",
       "        }}\n",
       "}});\n",
       "\n",
       "// Listen for the removal of the full notebook cells\n",
       "var notebookContainer = gd.closest('#notebook-container');\n",
       "if (notebookContainer) {{\n",
       "    x.observe(notebookContainer, {childList: true});\n",
       "}}\n",
       "\n",
       "// Listen for the clearing of the current output cell\n",
       "var outputEl = gd.closest('.output');\n",
       "if (outputEl) {{\n",
       "    x.observe(outputEl, {childList: true});\n",
       "}}\n",
       "\n",
       "                        })                };                });            </script>        </div>"
      ]
     },
     "metadata": {},
     "output_type": "display_data"
    }
   ],
   "source": [
    "date_pop_data = (df.groupby('track.album.name')\n",
    "                 # aggregate different columns differently\n",
    "                 # find the median release date\n",
    "                 .agg({'track.album.release_date': 'median',\n",
    "                       # find the mean popularity\n",
    "                       'track.popularity': 'mean',\n",
    "                       # find the number of tracks\n",
    "                       'track.id': 'count'})\n",
    "                       .reset_index())\n",
    "\n",
    "# Create figure using plotly\n",
    "figure = px.scatter(date_pop_data,\n",
    "    # x axis is the median release date\n",
    "    x='track.album.release_date',\n",
    "    # y axis is mean popularity\n",
    "    y='track.popularity',\n",
    "    # size is count of tracks\n",
    "    size='track.id',\n",
    "    # color by album name\n",
    "    color='track.album.name',\n",
    "    # make labels more accurate\n",
    "    labels={'track.album.release_date': 'Release Date',\n",
    "            'track.popularity': 'Average Popularity',\n",
    "            'track.id': 'Count of Album Tracks',\n",
    "            'track.album.name': 'Album Name'})\n",
    "figure"
   ]
  },
  {
   "cell_type": "markdown",
   "metadata": {},
   "source": [
    "If you are viewing this notebook in nbviewer, feel free to hover over the data points to see more information. You can also click on the legend to show/hide particular albums.\n",
    "\n",
    "The first observation that one might make from this figure is that Taylor Swift's recent albums are more popular than her older music, but that isn't entirely accurate.\n",
    "Loyal Taylor Swift fans only stream [Taylor's Version](https://cherokeehighnews.com/2022/03/11/taylors-version-vs-the-original-whats-the-difference/) of her albums, for reasons described in the linked article.\n",
    "This results in a lower average popularity for albums which have a corresponding Taylor's version.\n",
    "\n",
    "Now I'm curious about the popularity of songs in albums that have a corresponding Taylor's version.\n",
    "This will be plotted using a split violin plot in plotly\n"
   ]
  },
  {
   "cell_type": "code",
   "execution_count": 5,
   "metadata": {},
   "outputs": [
    {
     "data": {
      "application/vnd.plotly.v1+json": {
       "config": {
        "plotlyServerURL": "https://plot.ly"
       },
       "data": [
        {
         "hoverinfo": "text",
         "legendgroup": "No",
         "meanline": {
          "visible": true
         },
         "name": "No",
         "points": "all",
         "scalegroup": "No",
         "side": "negative",
         "text": [
          "Fearless",
          "Fifteen",
          "Love Story",
          "Hey Stephen",
          "White Horse",
          "You Belong With Me",
          "Breathe",
          "Tell Me Why",
          "You're Not Sorry",
          "The Way I Loved You",
          "Forever & Always",
          "The Best Day",
          "Change",
          "Mine",
          "Sparks Fly",
          "Back To December",
          "Speak Now",
          "Dear John",
          "Mean",
          "The Story Of Us",
          "Never Grow Up",
          "Enchanted",
          "Better Than Revenge",
          "Innocent",
          "Haunted",
          "Last Kiss",
          "Long Live",
          "State Of Grace",
          "Red",
          "Treacherous",
          "I Knew You Were Trouble.",
          "All Too Well",
          "22",
          "I Almost Do",
          "We Are Never Ever Getting Back Together",
          "Stay Stay Stay",
          "The Last Time",
          "Holy Ground",
          "Sad Beautiful Tragic",
          "The Lucky One",
          "Everything Has Changed",
          "Starlight",
          "Begin Again",
          "Welcome To New York",
          "Blank Space",
          "Style",
          "Out Of The Woods",
          "All You Had To Do Was Stay",
          "Shake It Off",
          "I Wish You Would",
          "Bad Blood",
          "Wildest Dreams",
          "How You Get The Girl",
          "This Love",
          "I Know Places",
          "Clean"
         ],
         "type": "violin",
         "x": [
          "Fearless",
          "Fearless",
          "Fearless",
          "Fearless",
          "Fearless",
          "Fearless",
          "Fearless",
          "Fearless",
          "Fearless",
          "Fearless",
          "Fearless",
          "Fearless",
          "Fearless",
          "Speak Now",
          "Speak Now",
          "Speak Now",
          "Speak Now",
          "Speak Now",
          "Speak Now",
          "Speak Now",
          "Speak Now",
          "Speak Now",
          "Speak Now",
          "Speak Now",
          "Speak Now",
          "Speak Now",
          "Speak Now",
          "Red",
          "Red",
          "Red",
          "Red",
          "Red",
          "Red",
          "Red",
          "Red",
          "Red",
          "Red",
          "Red",
          "Red",
          "Red",
          "Red",
          "Red",
          "Red",
          "1989",
          "1989",
          "1989",
          "1989",
          "1989",
          "1989",
          "1989",
          "1989",
          "1989",
          "1989",
          "1989",
          "1989",
          "1989"
         ],
         "y": [
          60,
          58,
          70,
          48,
          54,
          70,
          46,
          45,
          47,
          54,
          49,
          47,
          42,
          61,
          60,
          64,
          55,
          53,
          62,
          56,
          52,
          71,
          58,
          46,
          53,
          55,
          53,
          42,
          59,
          41,
          63,
          48,
          53,
          43,
          61,
          42,
          40,
          40,
          38,
          39,
          53,
          39,
          57,
          63,
          78,
          77,
          63,
          59,
          75,
          51,
          70,
          73,
          52,
          49,
          49,
          51
         ]
        },
        {
         "hoverinfo": "text",
         "legendgroup": "Yes",
         "meanline": {
          "visible": true
         },
         "name": "Yes",
         "points": "all",
         "scalegroup": "Yes",
         "side": "positive",
         "text": [
          "Fearless (Taylor’s Version)",
          "Fifteen (Taylor’s Version)",
          "Love Story (Taylor’s Version)",
          "Hey Stephen (Taylor’s Version)",
          "White Horse (Taylor’s Version)",
          "You Belong With Me (Taylor’s Version)",
          "Breathe (feat. Colbie Caillat) (Taylor’s Version)",
          "Tell Me Why (Taylor’s Version)",
          "You’re Not Sorry (Taylor’s Version)",
          "The Way I Loved You (Taylor’s Version)",
          "Forever & Always (Taylor’s Version)",
          "The Best Day (Taylor’s Version)",
          "Change (Taylor’s Version)",
          "Jump Then Fall (Taylor’s Version)",
          "Untouchable (Taylor’s Version)",
          "Forever & Always (Piano Version) (Taylor’s Version)",
          "Come In With The Rain (Taylor’s Version)",
          "Superstar (Taylor’s Version)",
          "The Other Side Of The Door (Taylor’s Version)",
          "Today Was A Fairytale (Taylor’s Version)",
          "You All Over Me (feat. Maren Morris) (Taylor’s Version) (From The Vault)",
          "Mr. Perfectly Fine (Taylor’s Version) (From The Vault)",
          "We Were Happy (Taylor’s Version) (From The Vault)",
          "That’s When (feat. Keith Urban) (Taylor’s Version) (From The Vault)",
          "Don’t You (Taylor’s Version) (From The Vault)",
          "Bye Bye Baby (Taylor’s Version) (From The Vault)",
          "State Of Grace (Taylor's Version)",
          "Red (Taylor's Version)",
          "Treacherous (Taylor's Version)",
          "I Knew You Were Trouble (Taylor's Version)",
          "All Too Well (Taylor's Version)",
          "22 (Taylor's Version)",
          "I Almost Do (Taylor's Version)",
          "We Are Never Ever Getting Back Together (Taylor's Version)",
          "Stay Stay Stay (Taylor's Version)",
          "The Last Time (feat. Gary Lightbody of Snow Patrol) (Taylor’s Version)",
          "Holy Ground (Taylor's Version)",
          "Sad Beautiful Tragic (Taylor's Version)",
          "The Lucky One (Taylor's Version)",
          "Everything Has Changed (feat. Ed Sheeran) (Taylor’s Version)",
          "Starlight (Taylor's Version)",
          "Begin Again (Taylor's Version)",
          "The Moment I Knew (Taylor's Version)",
          "Come Back...Be Here (Taylor's Version)",
          "Girl At Home (Taylor's Version)",
          "State Of Grace (Acoustic Version) (Taylor's Version)",
          "Ronan (Taylor's Version)",
          "Better Man (Taylor's Version) (From The Vault)",
          "Nothing New (feat. Phoebe Bridgers) (Taylor’s Version) (From The Vault)",
          "Babe (Taylor's Version) (From The Vault)",
          "Message In A Bottle (Taylor's Version) (From The Vault)",
          "I Bet You Think About Me (feat. Chris Stapleton) (Taylor’s Version) (From The Vault)",
          "Forever Winter (Taylor's Version) (From The Vault)",
          "Run (feat. Ed Sheeran) (Taylor’s Version) (From The Vault)",
          "The Very First Night (Taylor's Version) (From The Vault)",
          "All Too Well (10 Minute Version) (Taylor's Version) (From The Vault)",
          "Mine (Taylor's Version)",
          "Sparks Fly (Taylor’s Version)",
          "Speak Now (Taylor's Version)",
          "Back To December (Taylor's Version)",
          "Dear John (Taylor's Version)",
          "Mean (Taylor's Version)",
          "The Story Of Us (Taylor's Version)",
          "Never Grow Up (Taylor's Version)",
          "Enchanted (Taylor's Version)",
          "Better Than Revenge (Taylor's Version)",
          "Innocent (Taylor's Version)",
          "Haunted (Taylor's Version)",
          "Last Kiss (Taylor's Version)",
          "Long Live (Taylor's Version)",
          "Ours (Taylor’s Version)",
          "Superman (Taylor’s Version)",
          "Electric Touch (feat. Fall Out Boy) (Taylor’s Version) (From The Vault)",
          "When Emma Falls in Love (Taylor’s Version) (From The Vault)",
          "I Can See You (Taylor’s Version) (From The Vault)",
          "Castles Crumbling (feat. Hayley Williams) (Taylor’s Version) (From The Vault)",
          "Timeless (Taylor’s Version) (From The Vault)",
          "Welcome To New York (Taylor's Version)",
          "Blank Space (Taylor's Version)",
          "Style (Taylor's Version)",
          "Out Of The Woods (Taylor's Version)",
          "All You Had To Do Was Stay (Taylor's Version)",
          "Shake It Off (Taylor's Version)",
          "I Wish You Would (Taylor's Version)",
          "Bad Blood (Taylor's Version)",
          "Wildest Dreams (Taylor's Version)",
          "How You Get The Girl (Taylor's Version)",
          "This Love (Taylor’s Version)",
          "I Know Places (Taylor's Version)",
          "Clean (Taylor's Version)",
          "Wonderland (Taylor's Version)",
          "You Are In Love (Taylor's Version)",
          "New Romantics (Taylor's Version)",
          "\"Slut!\" (Taylor's Version) (From The Vault)",
          "Say Don't Go (Taylor's Version) (From The Vault)",
          "Now That We Don't Talk (Taylor's Version) (From The Vault)",
          "Suburban Legends (Taylor's Version) (From The Vault)",
          "Is It Over Now? (Taylor's Version) (From The Vault)",
          "Bad Blood (feat. Kendrick Lamar) (Taylor's Version)"
         ],
         "type": "violin",
         "x": [
          "Fearless",
          "Fearless",
          "Fearless",
          "Fearless",
          "Fearless",
          "Fearless",
          "Fearless",
          "Fearless",
          "Fearless",
          "Fearless",
          "Fearless",
          "Fearless",
          "Fearless",
          "Fearless",
          "Fearless",
          "Fearless",
          "Fearless",
          "Fearless",
          "Fearless",
          "Fearless",
          "Fearless",
          "Fearless",
          "Fearless",
          "Fearless",
          "Fearless",
          "Fearless",
          "Red",
          "Red",
          "Red",
          "Red",
          "Red",
          "Red",
          "Red",
          "Red",
          "Red",
          "Red",
          "Red",
          "Red",
          "Red",
          "Red",
          "Red",
          "Red",
          "Red",
          "Red",
          "Red",
          "Red",
          "Red",
          "Red",
          "Red",
          "Red",
          "Red",
          "Red",
          "Red",
          "Red",
          "Red",
          "Red",
          "Speak Now",
          "Speak Now",
          "Speak Now",
          "Speak Now",
          "Speak Now",
          "Speak Now",
          "Speak Now",
          "Speak Now",
          "Speak Now",
          "Speak Now",
          "Speak Now",
          "Speak Now",
          "Speak Now",
          "Speak Now",
          "Speak Now",
          "Speak Now",
          "Speak Now",
          "Speak Now",
          "Speak Now",
          "Speak Now",
          "Speak Now",
          "1989",
          "1989",
          "1989",
          "1989",
          "1989",
          "1989",
          "1989",
          "1989",
          "1989",
          "1989",
          "1989",
          "1989",
          "1989",
          "1989",
          "1989",
          "1989",
          "1989",
          "1989",
          "1989",
          "1989",
          "1989",
          "1989"
         ],
         "y": [
          83,
          72,
          82,
          71,
          72,
          86,
          69,
          68,
          70,
          82,
          73,
          67,
          66,
          68,
          69,
          67,
          65,
          65,
          69,
          67,
          66,
          77,
          68,
          69,
          70,
          68,
          72,
          80,
          72,
          80,
          77,
          79,
          71,
          80,
          70,
          74,
          70,
          72,
          69,
          76,
          69,
          72,
          69,
          73,
          68,
          67,
          65,
          74,
          78,
          74,
          74,
          76,
          70,
          71,
          76,
          87,
          82,
          78,
          77,
          83,
          78,
          77,
          77,
          72,
          86,
          79,
          71,
          75,
          76,
          80,
          72,
          69,
          75,
          74,
          83,
          75,
          76,
          73,
          74,
          75,
          74,
          72,
          72,
          71,
          71,
          72,
          71,
          70,
          72,
          72,
          71,
          71,
          72,
          77,
          76,
          77,
          74,
          80,
          80
         ]
        }
       ],
       "layout": {
        "template": {
         "data": {
          "bar": [
           {
            "error_x": {
             "color": "#2a3f5f"
            },
            "error_y": {
             "color": "#2a3f5f"
            },
            "marker": {
             "line": {
              "color": "#E5ECF6",
              "width": 0.5
             },
             "pattern": {
              "fillmode": "overlay",
              "size": 10,
              "solidity": 0.2
             }
            },
            "type": "bar"
           }
          ],
          "barpolar": [
           {
            "marker": {
             "line": {
              "color": "#E5ECF6",
              "width": 0.5
             },
             "pattern": {
              "fillmode": "overlay",
              "size": 10,
              "solidity": 0.2
             }
            },
            "type": "barpolar"
           }
          ],
          "carpet": [
           {
            "aaxis": {
             "endlinecolor": "#2a3f5f",
             "gridcolor": "white",
             "linecolor": "white",
             "minorgridcolor": "white",
             "startlinecolor": "#2a3f5f"
            },
            "baxis": {
             "endlinecolor": "#2a3f5f",
             "gridcolor": "white",
             "linecolor": "white",
             "minorgridcolor": "white",
             "startlinecolor": "#2a3f5f"
            },
            "type": "carpet"
           }
          ],
          "choropleth": [
           {
            "colorbar": {
             "outlinewidth": 0,
             "ticks": ""
            },
            "type": "choropleth"
           }
          ],
          "contour": [
           {
            "colorbar": {
             "outlinewidth": 0,
             "ticks": ""
            },
            "colorscale": [
             [
              0,
              "#0d0887"
             ],
             [
              0.1111111111111111,
              "#46039f"
             ],
             [
              0.2222222222222222,
              "#7201a8"
             ],
             [
              0.3333333333333333,
              "#9c179e"
             ],
             [
              0.4444444444444444,
              "#bd3786"
             ],
             [
              0.5555555555555556,
              "#d8576b"
             ],
             [
              0.6666666666666666,
              "#ed7953"
             ],
             [
              0.7777777777777778,
              "#fb9f3a"
             ],
             [
              0.8888888888888888,
              "#fdca26"
             ],
             [
              1,
              "#f0f921"
             ]
            ],
            "type": "contour"
           }
          ],
          "contourcarpet": [
           {
            "colorbar": {
             "outlinewidth": 0,
             "ticks": ""
            },
            "type": "contourcarpet"
           }
          ],
          "heatmap": [
           {
            "colorbar": {
             "outlinewidth": 0,
             "ticks": ""
            },
            "colorscale": [
             [
              0,
              "#0d0887"
             ],
             [
              0.1111111111111111,
              "#46039f"
             ],
             [
              0.2222222222222222,
              "#7201a8"
             ],
             [
              0.3333333333333333,
              "#9c179e"
             ],
             [
              0.4444444444444444,
              "#bd3786"
             ],
             [
              0.5555555555555556,
              "#d8576b"
             ],
             [
              0.6666666666666666,
              "#ed7953"
             ],
             [
              0.7777777777777778,
              "#fb9f3a"
             ],
             [
              0.8888888888888888,
              "#fdca26"
             ],
             [
              1,
              "#f0f921"
             ]
            ],
            "type": "heatmap"
           }
          ],
          "heatmapgl": [
           {
            "colorbar": {
             "outlinewidth": 0,
             "ticks": ""
            },
            "colorscale": [
             [
              0,
              "#0d0887"
             ],
             [
              0.1111111111111111,
              "#46039f"
             ],
             [
              0.2222222222222222,
              "#7201a8"
             ],
             [
              0.3333333333333333,
              "#9c179e"
             ],
             [
              0.4444444444444444,
              "#bd3786"
             ],
             [
              0.5555555555555556,
              "#d8576b"
             ],
             [
              0.6666666666666666,
              "#ed7953"
             ],
             [
              0.7777777777777778,
              "#fb9f3a"
             ],
             [
              0.8888888888888888,
              "#fdca26"
             ],
             [
              1,
              "#f0f921"
             ]
            ],
            "type": "heatmapgl"
           }
          ],
          "histogram": [
           {
            "marker": {
             "pattern": {
              "fillmode": "overlay",
              "size": 10,
              "solidity": 0.2
             }
            },
            "type": "histogram"
           }
          ],
          "histogram2d": [
           {
            "colorbar": {
             "outlinewidth": 0,
             "ticks": ""
            },
            "colorscale": [
             [
              0,
              "#0d0887"
             ],
             [
              0.1111111111111111,
              "#46039f"
             ],
             [
              0.2222222222222222,
              "#7201a8"
             ],
             [
              0.3333333333333333,
              "#9c179e"
             ],
             [
              0.4444444444444444,
              "#bd3786"
             ],
             [
              0.5555555555555556,
              "#d8576b"
             ],
             [
              0.6666666666666666,
              "#ed7953"
             ],
             [
              0.7777777777777778,
              "#fb9f3a"
             ],
             [
              0.8888888888888888,
              "#fdca26"
             ],
             [
              1,
              "#f0f921"
             ]
            ],
            "type": "histogram2d"
           }
          ],
          "histogram2dcontour": [
           {
            "colorbar": {
             "outlinewidth": 0,
             "ticks": ""
            },
            "colorscale": [
             [
              0,
              "#0d0887"
             ],
             [
              0.1111111111111111,
              "#46039f"
             ],
             [
              0.2222222222222222,
              "#7201a8"
             ],
             [
              0.3333333333333333,
              "#9c179e"
             ],
             [
              0.4444444444444444,
              "#bd3786"
             ],
             [
              0.5555555555555556,
              "#d8576b"
             ],
             [
              0.6666666666666666,
              "#ed7953"
             ],
             [
              0.7777777777777778,
              "#fb9f3a"
             ],
             [
              0.8888888888888888,
              "#fdca26"
             ],
             [
              1,
              "#f0f921"
             ]
            ],
            "type": "histogram2dcontour"
           }
          ],
          "mesh3d": [
           {
            "colorbar": {
             "outlinewidth": 0,
             "ticks": ""
            },
            "type": "mesh3d"
           }
          ],
          "parcoords": [
           {
            "line": {
             "colorbar": {
              "outlinewidth": 0,
              "ticks": ""
             }
            },
            "type": "parcoords"
           }
          ],
          "pie": [
           {
            "automargin": true,
            "type": "pie"
           }
          ],
          "scatter": [
           {
            "fillpattern": {
             "fillmode": "overlay",
             "size": 10,
             "solidity": 0.2
            },
            "type": "scatter"
           }
          ],
          "scatter3d": [
           {
            "line": {
             "colorbar": {
              "outlinewidth": 0,
              "ticks": ""
             }
            },
            "marker": {
             "colorbar": {
              "outlinewidth": 0,
              "ticks": ""
             }
            },
            "type": "scatter3d"
           }
          ],
          "scattercarpet": [
           {
            "marker": {
             "colorbar": {
              "outlinewidth": 0,
              "ticks": ""
             }
            },
            "type": "scattercarpet"
           }
          ],
          "scattergeo": [
           {
            "marker": {
             "colorbar": {
              "outlinewidth": 0,
              "ticks": ""
             }
            },
            "type": "scattergeo"
           }
          ],
          "scattergl": [
           {
            "marker": {
             "colorbar": {
              "outlinewidth": 0,
              "ticks": ""
             }
            },
            "type": "scattergl"
           }
          ],
          "scattermapbox": [
           {
            "marker": {
             "colorbar": {
              "outlinewidth": 0,
              "ticks": ""
             }
            },
            "type": "scattermapbox"
           }
          ],
          "scatterpolar": [
           {
            "marker": {
             "colorbar": {
              "outlinewidth": 0,
              "ticks": ""
             }
            },
            "type": "scatterpolar"
           }
          ],
          "scatterpolargl": [
           {
            "marker": {
             "colorbar": {
              "outlinewidth": 0,
              "ticks": ""
             }
            },
            "type": "scatterpolargl"
           }
          ],
          "scatterternary": [
           {
            "marker": {
             "colorbar": {
              "outlinewidth": 0,
              "ticks": ""
             }
            },
            "type": "scatterternary"
           }
          ],
          "surface": [
           {
            "colorbar": {
             "outlinewidth": 0,
             "ticks": ""
            },
            "colorscale": [
             [
              0,
              "#0d0887"
             ],
             [
              0.1111111111111111,
              "#46039f"
             ],
             [
              0.2222222222222222,
              "#7201a8"
             ],
             [
              0.3333333333333333,
              "#9c179e"
             ],
             [
              0.4444444444444444,
              "#bd3786"
             ],
             [
              0.5555555555555556,
              "#d8576b"
             ],
             [
              0.6666666666666666,
              "#ed7953"
             ],
             [
              0.7777777777777778,
              "#fb9f3a"
             ],
             [
              0.8888888888888888,
              "#fdca26"
             ],
             [
              1,
              "#f0f921"
             ]
            ],
            "type": "surface"
           }
          ],
          "table": [
           {
            "cells": {
             "fill": {
              "color": "#EBF0F8"
             },
             "line": {
              "color": "white"
             }
            },
            "header": {
             "fill": {
              "color": "#C8D4E3"
             },
             "line": {
              "color": "white"
             }
            },
            "type": "table"
           }
          ]
         },
         "layout": {
          "annotationdefaults": {
           "arrowcolor": "#2a3f5f",
           "arrowhead": 0,
           "arrowwidth": 1
          },
          "autotypenumbers": "strict",
          "coloraxis": {
           "colorbar": {
            "outlinewidth": 0,
            "ticks": ""
           }
          },
          "colorscale": {
           "diverging": [
            [
             0,
             "#8e0152"
            ],
            [
             0.1,
             "#c51b7d"
            ],
            [
             0.2,
             "#de77ae"
            ],
            [
             0.3,
             "#f1b6da"
            ],
            [
             0.4,
             "#fde0ef"
            ],
            [
             0.5,
             "#f7f7f7"
            ],
            [
             0.6,
             "#e6f5d0"
            ],
            [
             0.7,
             "#b8e186"
            ],
            [
             0.8,
             "#7fbc41"
            ],
            [
             0.9,
             "#4d9221"
            ],
            [
             1,
             "#276419"
            ]
           ],
           "sequential": [
            [
             0,
             "#0d0887"
            ],
            [
             0.1111111111111111,
             "#46039f"
            ],
            [
             0.2222222222222222,
             "#7201a8"
            ],
            [
             0.3333333333333333,
             "#9c179e"
            ],
            [
             0.4444444444444444,
             "#bd3786"
            ],
            [
             0.5555555555555556,
             "#d8576b"
            ],
            [
             0.6666666666666666,
             "#ed7953"
            ],
            [
             0.7777777777777778,
             "#fb9f3a"
            ],
            [
             0.8888888888888888,
             "#fdca26"
            ],
            [
             1,
             "#f0f921"
            ]
           ],
           "sequentialminus": [
            [
             0,
             "#0d0887"
            ],
            [
             0.1111111111111111,
             "#46039f"
            ],
            [
             0.2222222222222222,
             "#7201a8"
            ],
            [
             0.3333333333333333,
             "#9c179e"
            ],
            [
             0.4444444444444444,
             "#bd3786"
            ],
            [
             0.5555555555555556,
             "#d8576b"
            ],
            [
             0.6666666666666666,
             "#ed7953"
            ],
            [
             0.7777777777777778,
             "#fb9f3a"
            ],
            [
             0.8888888888888888,
             "#fdca26"
            ],
            [
             1,
             "#f0f921"
            ]
           ]
          },
          "colorway": [
           "#636efa",
           "#EF553B",
           "#00cc96",
           "#ab63fa",
           "#FFA15A",
           "#19d3f3",
           "#FF6692",
           "#B6E880",
           "#FF97FF",
           "#FECB52"
          ],
          "font": {
           "color": "#2a3f5f"
          },
          "geo": {
           "bgcolor": "white",
           "lakecolor": "white",
           "landcolor": "#E5ECF6",
           "showlakes": true,
           "showland": true,
           "subunitcolor": "white"
          },
          "hoverlabel": {
           "align": "left"
          },
          "hovermode": "closest",
          "mapbox": {
           "style": "light"
          },
          "paper_bgcolor": "white",
          "plot_bgcolor": "#E5ECF6",
          "polar": {
           "angularaxis": {
            "gridcolor": "white",
            "linecolor": "white",
            "ticks": ""
           },
           "bgcolor": "#E5ECF6",
           "radialaxis": {
            "gridcolor": "white",
            "linecolor": "white",
            "ticks": ""
           }
          },
          "scene": {
           "xaxis": {
            "backgroundcolor": "#E5ECF6",
            "gridcolor": "white",
            "gridwidth": 2,
            "linecolor": "white",
            "showbackground": true,
            "ticks": "",
            "zerolinecolor": "white"
           },
           "yaxis": {
            "backgroundcolor": "#E5ECF6",
            "gridcolor": "white",
            "gridwidth": 2,
            "linecolor": "white",
            "showbackground": true,
            "ticks": "",
            "zerolinecolor": "white"
           },
           "zaxis": {
            "backgroundcolor": "#E5ECF6",
            "gridcolor": "white",
            "gridwidth": 2,
            "linecolor": "white",
            "showbackground": true,
            "ticks": "",
            "zerolinecolor": "white"
           }
          },
          "shapedefaults": {
           "line": {
            "color": "#2a3f5f"
           }
          },
          "ternary": {
           "aaxis": {
            "gridcolor": "white",
            "linecolor": "white",
            "ticks": ""
           },
           "baxis": {
            "gridcolor": "white",
            "linecolor": "white",
            "ticks": ""
           },
           "bgcolor": "#E5ECF6",
           "caxis": {
            "gridcolor": "white",
            "linecolor": "white",
            "ticks": ""
           }
          },
          "title": {
           "x": 0.05
          },
          "xaxis": {
           "automargin": true,
           "gridcolor": "white",
           "linecolor": "white",
           "ticks": "",
           "title": {
            "standoff": 15
           },
           "zerolinecolor": "white",
           "zerolinewidth": 2
          },
          "yaxis": {
           "automargin": true,
           "gridcolor": "white",
           "linecolor": "white",
           "ticks": "",
           "title": {
            "standoff": 15
           },
           "zerolinecolor": "white",
           "zerolinewidth": 2
          }
         }
        },
        "title": {
         "text": "Popularity of Taylor Swift Songs by album and Taylor's Version Status"
        },
        "xaxis": {
         "title": {
          "text": "Album"
         }
        },
        "yaxis": {
         "title": {
          "text": "Popularity"
         }
        }
       }
      },
      "text/html": [
       "<div>                            <div id=\"c4a25e12-8341-4df4-a804-8963e1e23c34\" class=\"plotly-graph-div\" style=\"height:525px; width:100%;\"></div>            <script type=\"text/javascript\">                require([\"plotly\"], function(Plotly) {                    window.PLOTLYENV=window.PLOTLYENV || {};                                    if (document.getElementById(\"c4a25e12-8341-4df4-a804-8963e1e23c34\")) {                    Plotly.newPlot(                        \"c4a25e12-8341-4df4-a804-8963e1e23c34\",                        [{\"hoverinfo\":\"text\",\"legendgroup\":\"No\",\"meanline\":{\"visible\":true},\"name\":\"No\",\"points\":\"all\",\"scalegroup\":\"No\",\"side\":\"negative\",\"text\":[\"Fearless\",\"Fifteen\",\"Love Story\",\"Hey Stephen\",\"White Horse\",\"You Belong With Me\",\"Breathe\",\"Tell Me Why\",\"You're Not Sorry\",\"The Way I Loved You\",\"Forever & Always\",\"The Best Day\",\"Change\",\"Mine\",\"Sparks Fly\",\"Back To December\",\"Speak Now\",\"Dear John\",\"Mean\",\"The Story Of Us\",\"Never Grow Up\",\"Enchanted\",\"Better Than Revenge\",\"Innocent\",\"Haunted\",\"Last Kiss\",\"Long Live\",\"State Of Grace\",\"Red\",\"Treacherous\",\"I Knew You Were Trouble.\",\"All Too Well\",\"22\",\"I Almost Do\",\"We Are Never Ever Getting Back Together\",\"Stay Stay Stay\",\"The Last Time\",\"Holy Ground\",\"Sad Beautiful Tragic\",\"The Lucky One\",\"Everything Has Changed\",\"Starlight\",\"Begin Again\",\"Welcome To New York\",\"Blank Space\",\"Style\",\"Out Of The Woods\",\"All You Had To Do Was Stay\",\"Shake It Off\",\"I Wish You Would\",\"Bad Blood\",\"Wildest Dreams\",\"How You Get The Girl\",\"This Love\",\"I Know Places\",\"Clean\"],\"x\":[\"Fearless\",\"Fearless\",\"Fearless\",\"Fearless\",\"Fearless\",\"Fearless\",\"Fearless\",\"Fearless\",\"Fearless\",\"Fearless\",\"Fearless\",\"Fearless\",\"Fearless\",\"Speak Now\",\"Speak Now\",\"Speak Now\",\"Speak Now\",\"Speak Now\",\"Speak Now\",\"Speak Now\",\"Speak Now\",\"Speak Now\",\"Speak Now\",\"Speak Now\",\"Speak Now\",\"Speak Now\",\"Speak Now\",\"Red\",\"Red\",\"Red\",\"Red\",\"Red\",\"Red\",\"Red\",\"Red\",\"Red\",\"Red\",\"Red\",\"Red\",\"Red\",\"Red\",\"Red\",\"Red\",\"1989\",\"1989\",\"1989\",\"1989\",\"1989\",\"1989\",\"1989\",\"1989\",\"1989\",\"1989\",\"1989\",\"1989\",\"1989\"],\"y\":[60,58,70,48,54,70,46,45,47,54,49,47,42,61,60,64,55,53,62,56,52,71,58,46,53,55,53,42,59,41,63,48,53,43,61,42,40,40,38,39,53,39,57,63,78,77,63,59,75,51,70,73,52,49,49,51],\"type\":\"violin\"},{\"hoverinfo\":\"text\",\"legendgroup\":\"Yes\",\"meanline\":{\"visible\":true},\"name\":\"Yes\",\"points\":\"all\",\"scalegroup\":\"Yes\",\"side\":\"positive\",\"text\":[\"Fearless (Taylor\\u2019s Version)\",\"Fifteen (Taylor\\u2019s Version)\",\"Love Story (Taylor\\u2019s Version)\",\"Hey Stephen (Taylor\\u2019s Version)\",\"White Horse (Taylor\\u2019s Version)\",\"You Belong With Me (Taylor\\u2019s Version)\",\"Breathe (feat. Colbie Caillat) (Taylor\\u2019s Version)\",\"Tell Me Why (Taylor\\u2019s Version)\",\"You\\u2019re Not Sorry (Taylor\\u2019s Version)\",\"The Way I Loved You (Taylor\\u2019s Version)\",\"Forever & Always (Taylor\\u2019s Version)\",\"The Best Day (Taylor\\u2019s Version)\",\"Change (Taylor\\u2019s Version)\",\"Jump Then Fall (Taylor\\u2019s Version)\",\"Untouchable (Taylor\\u2019s Version)\",\"Forever & Always (Piano Version) (Taylor\\u2019s Version)\",\"Come In With The Rain (Taylor\\u2019s Version)\",\"Superstar (Taylor\\u2019s Version)\",\"The Other Side Of The Door (Taylor\\u2019s Version)\",\"Today Was A Fairytale (Taylor\\u2019s Version)\",\"You All Over Me (feat. Maren Morris) (Taylor\\u2019s Version) (From The Vault)\",\"Mr. Perfectly Fine (Taylor\\u2019s Version) (From The Vault)\",\"We Were Happy (Taylor\\u2019s Version) (From The Vault)\",\"That\\u2019s When (feat. Keith Urban) (Taylor\\u2019s Version) (From The Vault)\",\"Don\\u2019t You (Taylor\\u2019s Version) (From The Vault)\",\"Bye Bye Baby (Taylor\\u2019s Version) (From The Vault)\",\"State Of Grace (Taylor's Version)\",\"Red (Taylor's Version)\",\"Treacherous (Taylor's Version)\",\"I Knew You Were Trouble (Taylor's Version)\",\"All Too Well (Taylor's Version)\",\"22 (Taylor's Version)\",\"I Almost Do (Taylor's Version)\",\"We Are Never Ever Getting Back Together (Taylor's Version)\",\"Stay Stay Stay (Taylor's Version)\",\"The Last Time (feat. Gary Lightbody of Snow Patrol) (Taylor\\u2019s Version)\",\"Holy Ground (Taylor's Version)\",\"Sad Beautiful Tragic (Taylor's Version)\",\"The Lucky One (Taylor's Version)\",\"Everything Has Changed (feat. Ed Sheeran) (Taylor\\u2019s Version)\",\"Starlight (Taylor's Version)\",\"Begin Again (Taylor's Version)\",\"The Moment I Knew (Taylor's Version)\",\"Come Back...Be Here (Taylor's Version)\",\"Girl At Home (Taylor's Version)\",\"State Of Grace (Acoustic Version) (Taylor's Version)\",\"Ronan (Taylor's Version)\",\"Better Man (Taylor's Version) (From The Vault)\",\"Nothing New (feat. Phoebe Bridgers) (Taylor\\u2019s Version) (From The Vault)\",\"Babe (Taylor's Version) (From The Vault)\",\"Message In A Bottle (Taylor's Version) (From The Vault)\",\"I Bet You Think About Me (feat. Chris Stapleton) (Taylor\\u2019s Version) (From The Vault)\",\"Forever Winter (Taylor's Version) (From The Vault)\",\"Run (feat. Ed Sheeran) (Taylor\\u2019s Version) (From The Vault)\",\"The Very First Night (Taylor's Version) (From The Vault)\",\"All Too Well (10 Minute Version) (Taylor's Version) (From The Vault)\",\"Mine (Taylor's Version)\",\"Sparks Fly (Taylor\\u2019s Version)\",\"Speak Now (Taylor's Version)\",\"Back To December (Taylor's Version)\",\"Dear John (Taylor's Version)\",\"Mean (Taylor's Version)\",\"The Story Of Us (Taylor's Version)\",\"Never Grow Up (Taylor's Version)\",\"Enchanted (Taylor's Version)\",\"Better Than Revenge (Taylor's Version)\",\"Innocent (Taylor's Version)\",\"Haunted (Taylor's Version)\",\"Last Kiss (Taylor's Version)\",\"Long Live (Taylor's Version)\",\"Ours (Taylor\\u2019s Version)\",\"Superman (Taylor\\u2019s Version)\",\"Electric Touch (feat. Fall Out Boy) (Taylor\\u2019s Version) (From The Vault)\",\"When Emma Falls in Love (Taylor\\u2019s Version) (From The Vault)\",\"I Can See You (Taylor\\u2019s Version) (From The Vault)\",\"Castles Crumbling (feat. Hayley Williams) (Taylor\\u2019s Version) (From The Vault)\",\"Timeless (Taylor\\u2019s Version) (From The Vault)\",\"Welcome To New York (Taylor's Version)\",\"Blank Space (Taylor's Version)\",\"Style (Taylor's Version)\",\"Out Of The Woods (Taylor's Version)\",\"All You Had To Do Was Stay (Taylor's Version)\",\"Shake It Off (Taylor's Version)\",\"I Wish You Would (Taylor's Version)\",\"Bad Blood (Taylor's Version)\",\"Wildest Dreams (Taylor's Version)\",\"How You Get The Girl (Taylor's Version)\",\"This Love (Taylor\\u2019s Version)\",\"I Know Places (Taylor's Version)\",\"Clean (Taylor's Version)\",\"Wonderland (Taylor's Version)\",\"You Are In Love (Taylor's Version)\",\"New Romantics (Taylor's Version)\",\"\\\"Slut!\\\" (Taylor's Version) (From The Vault)\",\"Say Don't Go (Taylor's Version) (From The Vault)\",\"Now That We Don't Talk (Taylor's Version) (From The Vault)\",\"Suburban Legends (Taylor's Version) (From The Vault)\",\"Is It Over Now? (Taylor's Version) (From The Vault)\",\"Bad Blood (feat. Kendrick Lamar) (Taylor's Version)\"],\"x\":[\"Fearless\",\"Fearless\",\"Fearless\",\"Fearless\",\"Fearless\",\"Fearless\",\"Fearless\",\"Fearless\",\"Fearless\",\"Fearless\",\"Fearless\",\"Fearless\",\"Fearless\",\"Fearless\",\"Fearless\",\"Fearless\",\"Fearless\",\"Fearless\",\"Fearless\",\"Fearless\",\"Fearless\",\"Fearless\",\"Fearless\",\"Fearless\",\"Fearless\",\"Fearless\",\"Red\",\"Red\",\"Red\",\"Red\",\"Red\",\"Red\",\"Red\",\"Red\",\"Red\",\"Red\",\"Red\",\"Red\",\"Red\",\"Red\",\"Red\",\"Red\",\"Red\",\"Red\",\"Red\",\"Red\",\"Red\",\"Red\",\"Red\",\"Red\",\"Red\",\"Red\",\"Red\",\"Red\",\"Red\",\"Red\",\"Speak Now\",\"Speak Now\",\"Speak Now\",\"Speak Now\",\"Speak Now\",\"Speak Now\",\"Speak Now\",\"Speak Now\",\"Speak Now\",\"Speak Now\",\"Speak Now\",\"Speak Now\",\"Speak Now\",\"Speak Now\",\"Speak Now\",\"Speak Now\",\"Speak Now\",\"Speak Now\",\"Speak Now\",\"Speak Now\",\"Speak Now\",\"1989\",\"1989\",\"1989\",\"1989\",\"1989\",\"1989\",\"1989\",\"1989\",\"1989\",\"1989\",\"1989\",\"1989\",\"1989\",\"1989\",\"1989\",\"1989\",\"1989\",\"1989\",\"1989\",\"1989\",\"1989\",\"1989\"],\"y\":[83,72,82,71,72,86,69,68,70,82,73,67,66,68,69,67,65,65,69,67,66,77,68,69,70,68,72,80,72,80,77,79,71,80,70,74,70,72,69,76,69,72,69,73,68,67,65,74,78,74,74,76,70,71,76,87,82,78,77,83,78,77,77,72,86,79,71,75,76,80,72,69,75,74,83,75,76,73,74,75,74,72,72,71,71,72,71,70,72,72,71,71,72,77,76,77,74,80,80],\"type\":\"violin\"}],                        {\"template\":{\"data\":{\"histogram2dcontour\":[{\"type\":\"histogram2dcontour\",\"colorbar\":{\"outlinewidth\":0,\"ticks\":\"\"},\"colorscale\":[[0.0,\"#0d0887\"],[0.1111111111111111,\"#46039f\"],[0.2222222222222222,\"#7201a8\"],[0.3333333333333333,\"#9c179e\"],[0.4444444444444444,\"#bd3786\"],[0.5555555555555556,\"#d8576b\"],[0.6666666666666666,\"#ed7953\"],[0.7777777777777778,\"#fb9f3a\"],[0.8888888888888888,\"#fdca26\"],[1.0,\"#f0f921\"]]}],\"choropleth\":[{\"type\":\"choropleth\",\"colorbar\":{\"outlinewidth\":0,\"ticks\":\"\"}}],\"histogram2d\":[{\"type\":\"histogram2d\",\"colorbar\":{\"outlinewidth\":0,\"ticks\":\"\"},\"colorscale\":[[0.0,\"#0d0887\"],[0.1111111111111111,\"#46039f\"],[0.2222222222222222,\"#7201a8\"],[0.3333333333333333,\"#9c179e\"],[0.4444444444444444,\"#bd3786\"],[0.5555555555555556,\"#d8576b\"],[0.6666666666666666,\"#ed7953\"],[0.7777777777777778,\"#fb9f3a\"],[0.8888888888888888,\"#fdca26\"],[1.0,\"#f0f921\"]]}],\"heatmap\":[{\"type\":\"heatmap\",\"colorbar\":{\"outlinewidth\":0,\"ticks\":\"\"},\"colorscale\":[[0.0,\"#0d0887\"],[0.1111111111111111,\"#46039f\"],[0.2222222222222222,\"#7201a8\"],[0.3333333333333333,\"#9c179e\"],[0.4444444444444444,\"#bd3786\"],[0.5555555555555556,\"#d8576b\"],[0.6666666666666666,\"#ed7953\"],[0.7777777777777778,\"#fb9f3a\"],[0.8888888888888888,\"#fdca26\"],[1.0,\"#f0f921\"]]}],\"heatmapgl\":[{\"type\":\"heatmapgl\",\"colorbar\":{\"outlinewidth\":0,\"ticks\":\"\"},\"colorscale\":[[0.0,\"#0d0887\"],[0.1111111111111111,\"#46039f\"],[0.2222222222222222,\"#7201a8\"],[0.3333333333333333,\"#9c179e\"],[0.4444444444444444,\"#bd3786\"],[0.5555555555555556,\"#d8576b\"],[0.6666666666666666,\"#ed7953\"],[0.7777777777777778,\"#fb9f3a\"],[0.8888888888888888,\"#fdca26\"],[1.0,\"#f0f921\"]]}],\"contourcarpet\":[{\"type\":\"contourcarpet\",\"colorbar\":{\"outlinewidth\":0,\"ticks\":\"\"}}],\"contour\":[{\"type\":\"contour\",\"colorbar\":{\"outlinewidth\":0,\"ticks\":\"\"},\"colorscale\":[[0.0,\"#0d0887\"],[0.1111111111111111,\"#46039f\"],[0.2222222222222222,\"#7201a8\"],[0.3333333333333333,\"#9c179e\"],[0.4444444444444444,\"#bd3786\"],[0.5555555555555556,\"#d8576b\"],[0.6666666666666666,\"#ed7953\"],[0.7777777777777778,\"#fb9f3a\"],[0.8888888888888888,\"#fdca26\"],[1.0,\"#f0f921\"]]}],\"surface\":[{\"type\":\"surface\",\"colorbar\":{\"outlinewidth\":0,\"ticks\":\"\"},\"colorscale\":[[0.0,\"#0d0887\"],[0.1111111111111111,\"#46039f\"],[0.2222222222222222,\"#7201a8\"],[0.3333333333333333,\"#9c179e\"],[0.4444444444444444,\"#bd3786\"],[0.5555555555555556,\"#d8576b\"],[0.6666666666666666,\"#ed7953\"],[0.7777777777777778,\"#fb9f3a\"],[0.8888888888888888,\"#fdca26\"],[1.0,\"#f0f921\"]]}],\"mesh3d\":[{\"type\":\"mesh3d\",\"colorbar\":{\"outlinewidth\":0,\"ticks\":\"\"}}],\"scatter\":[{\"fillpattern\":{\"fillmode\":\"overlay\",\"size\":10,\"solidity\":0.2},\"type\":\"scatter\"}],\"parcoords\":[{\"type\":\"parcoords\",\"line\":{\"colorbar\":{\"outlinewidth\":0,\"ticks\":\"\"}}}],\"scatterpolargl\":[{\"type\":\"scatterpolargl\",\"marker\":{\"colorbar\":{\"outlinewidth\":0,\"ticks\":\"\"}}}],\"bar\":[{\"error_x\":{\"color\":\"#2a3f5f\"},\"error_y\":{\"color\":\"#2a3f5f\"},\"marker\":{\"line\":{\"color\":\"#E5ECF6\",\"width\":0.5},\"pattern\":{\"fillmode\":\"overlay\",\"size\":10,\"solidity\":0.2}},\"type\":\"bar\"}],\"scattergeo\":[{\"type\":\"scattergeo\",\"marker\":{\"colorbar\":{\"outlinewidth\":0,\"ticks\":\"\"}}}],\"scatterpolar\":[{\"type\":\"scatterpolar\",\"marker\":{\"colorbar\":{\"outlinewidth\":0,\"ticks\":\"\"}}}],\"histogram\":[{\"marker\":{\"pattern\":{\"fillmode\":\"overlay\",\"size\":10,\"solidity\":0.2}},\"type\":\"histogram\"}],\"scattergl\":[{\"type\":\"scattergl\",\"marker\":{\"colorbar\":{\"outlinewidth\":0,\"ticks\":\"\"}}}],\"scatter3d\":[{\"type\":\"scatter3d\",\"line\":{\"colorbar\":{\"outlinewidth\":0,\"ticks\":\"\"}},\"marker\":{\"colorbar\":{\"outlinewidth\":0,\"ticks\":\"\"}}}],\"scattermapbox\":[{\"type\":\"scattermapbox\",\"marker\":{\"colorbar\":{\"outlinewidth\":0,\"ticks\":\"\"}}}],\"scatterternary\":[{\"type\":\"scatterternary\",\"marker\":{\"colorbar\":{\"outlinewidth\":0,\"ticks\":\"\"}}}],\"scattercarpet\":[{\"type\":\"scattercarpet\",\"marker\":{\"colorbar\":{\"outlinewidth\":0,\"ticks\":\"\"}}}],\"carpet\":[{\"aaxis\":{\"endlinecolor\":\"#2a3f5f\",\"gridcolor\":\"white\",\"linecolor\":\"white\",\"minorgridcolor\":\"white\",\"startlinecolor\":\"#2a3f5f\"},\"baxis\":{\"endlinecolor\":\"#2a3f5f\",\"gridcolor\":\"white\",\"linecolor\":\"white\",\"minorgridcolor\":\"white\",\"startlinecolor\":\"#2a3f5f\"},\"type\":\"carpet\"}],\"table\":[{\"cells\":{\"fill\":{\"color\":\"#EBF0F8\"},\"line\":{\"color\":\"white\"}},\"header\":{\"fill\":{\"color\":\"#C8D4E3\"},\"line\":{\"color\":\"white\"}},\"type\":\"table\"}],\"barpolar\":[{\"marker\":{\"line\":{\"color\":\"#E5ECF6\",\"width\":0.5},\"pattern\":{\"fillmode\":\"overlay\",\"size\":10,\"solidity\":0.2}},\"type\":\"barpolar\"}],\"pie\":[{\"automargin\":true,\"type\":\"pie\"}]},\"layout\":{\"autotypenumbers\":\"strict\",\"colorway\":[\"#636efa\",\"#EF553B\",\"#00cc96\",\"#ab63fa\",\"#FFA15A\",\"#19d3f3\",\"#FF6692\",\"#B6E880\",\"#FF97FF\",\"#FECB52\"],\"font\":{\"color\":\"#2a3f5f\"},\"hovermode\":\"closest\",\"hoverlabel\":{\"align\":\"left\"},\"paper_bgcolor\":\"white\",\"plot_bgcolor\":\"#E5ECF6\",\"polar\":{\"bgcolor\":\"#E5ECF6\",\"angularaxis\":{\"gridcolor\":\"white\",\"linecolor\":\"white\",\"ticks\":\"\"},\"radialaxis\":{\"gridcolor\":\"white\",\"linecolor\":\"white\",\"ticks\":\"\"}},\"ternary\":{\"bgcolor\":\"#E5ECF6\",\"aaxis\":{\"gridcolor\":\"white\",\"linecolor\":\"white\",\"ticks\":\"\"},\"baxis\":{\"gridcolor\":\"white\",\"linecolor\":\"white\",\"ticks\":\"\"},\"caxis\":{\"gridcolor\":\"white\",\"linecolor\":\"white\",\"ticks\":\"\"}},\"coloraxis\":{\"colorbar\":{\"outlinewidth\":0,\"ticks\":\"\"}},\"colorscale\":{\"sequential\":[[0.0,\"#0d0887\"],[0.1111111111111111,\"#46039f\"],[0.2222222222222222,\"#7201a8\"],[0.3333333333333333,\"#9c179e\"],[0.4444444444444444,\"#bd3786\"],[0.5555555555555556,\"#d8576b\"],[0.6666666666666666,\"#ed7953\"],[0.7777777777777778,\"#fb9f3a\"],[0.8888888888888888,\"#fdca26\"],[1.0,\"#f0f921\"]],\"sequentialminus\":[[0.0,\"#0d0887\"],[0.1111111111111111,\"#46039f\"],[0.2222222222222222,\"#7201a8\"],[0.3333333333333333,\"#9c179e\"],[0.4444444444444444,\"#bd3786\"],[0.5555555555555556,\"#d8576b\"],[0.6666666666666666,\"#ed7953\"],[0.7777777777777778,\"#fb9f3a\"],[0.8888888888888888,\"#fdca26\"],[1.0,\"#f0f921\"]],\"diverging\":[[0,\"#8e0152\"],[0.1,\"#c51b7d\"],[0.2,\"#de77ae\"],[0.3,\"#f1b6da\"],[0.4,\"#fde0ef\"],[0.5,\"#f7f7f7\"],[0.6,\"#e6f5d0\"],[0.7,\"#b8e186\"],[0.8,\"#7fbc41\"],[0.9,\"#4d9221\"],[1,\"#276419\"]]},\"xaxis\":{\"gridcolor\":\"white\",\"linecolor\":\"white\",\"ticks\":\"\",\"title\":{\"standoff\":15},\"zerolinecolor\":\"white\",\"automargin\":true,\"zerolinewidth\":2},\"yaxis\":{\"gridcolor\":\"white\",\"linecolor\":\"white\",\"ticks\":\"\",\"title\":{\"standoff\":15},\"zerolinecolor\":\"white\",\"automargin\":true,\"zerolinewidth\":2},\"scene\":{\"xaxis\":{\"backgroundcolor\":\"#E5ECF6\",\"gridcolor\":\"white\",\"linecolor\":\"white\",\"showbackground\":true,\"ticks\":\"\",\"zerolinecolor\":\"white\",\"gridwidth\":2},\"yaxis\":{\"backgroundcolor\":\"#E5ECF6\",\"gridcolor\":\"white\",\"linecolor\":\"white\",\"showbackground\":true,\"ticks\":\"\",\"zerolinecolor\":\"white\",\"gridwidth\":2},\"zaxis\":{\"backgroundcolor\":\"#E5ECF6\",\"gridcolor\":\"white\",\"linecolor\":\"white\",\"showbackground\":true,\"ticks\":\"\",\"zerolinecolor\":\"white\",\"gridwidth\":2}},\"shapedefaults\":{\"line\":{\"color\":\"#2a3f5f\"}},\"annotationdefaults\":{\"arrowcolor\":\"#2a3f5f\",\"arrowhead\":0,\"arrowwidth\":1},\"geo\":{\"bgcolor\":\"white\",\"landcolor\":\"#E5ECF6\",\"subunitcolor\":\"white\",\"showland\":true,\"showlakes\":true,\"lakecolor\":\"white\"},\"title\":{\"x\":0.05},\"mapbox\":{\"style\":\"light\"}}},\"title\":{\"text\":\"Popularity of Taylor Swift Songs by album and Taylor's Version Status\"},\"xaxis\":{\"title\":{\"text\":\"Album\"}},\"yaxis\":{\"title\":{\"text\":\"Popularity\"}}},                        {\"responsive\": true}                    ).then(function(){\n",
       "                            \n",
       "var gd = document.getElementById('c4a25e12-8341-4df4-a804-8963e1e23c34');\n",
       "var x = new MutationObserver(function (mutations, observer) {{\n",
       "        var display = window.getComputedStyle(gd).display;\n",
       "        if (!display || display === 'none') {{\n",
       "            console.log([gd, 'removed!']);\n",
       "            Plotly.purge(gd);\n",
       "            observer.disconnect();\n",
       "        }}\n",
       "}});\n",
       "\n",
       "// Listen for the removal of the full notebook cells\n",
       "var notebookContainer = gd.closest('#notebook-container');\n",
       "if (notebookContainer) {{\n",
       "    x.observe(notebookContainer, {childList: true});\n",
       "}}\n",
       "\n",
       "// Listen for the clearing of the current output cell\n",
       "var outputEl = gd.closest('.output');\n",
       "if (outputEl) {{\n",
       "    x.observe(outputEl, {childList: true});\n",
       "}}\n",
       "\n",
       "                        })                };                });            </script>        </div>"
      ]
     },
     "metadata": {},
     "output_type": "display_data"
    }
   ],
   "source": [
    "# Get first word of album name to group Taylor and non-taylor versions of songs\n",
    "df['track.album.group'] = df['track.album.name'].str.replace(\" (Taylor's Version)\", \"\").str.replace(\" [Deluxe]\", \"\")\n",
    "# True if Taylor owns the song\n",
    "df['track.taylor_owns'] = df['track.album.release_date'] > '2018-11-01'\n",
    "# only look at albums with a Taylor and non-Taylor version\n",
    "taylor_vs_non = df[df['track.album.group'].isin(['1989', 'Fearless', 'Red', 'Speak Now'])]\n",
    "\n",
    "# initialize the graph object\n",
    "fig = go.Figure()\n",
    "\n",
    "# Plot the non-Taylor's version violin plot\n",
    "# x-axis is the album group\n",
    "fig.add_trace(go.Violin(x=taylor_vs_non['track.album.group'][taylor_vs_non['track.taylor_owns'] == False],\n",
    "                        # y-axis is the popularity\n",
    "                        y=taylor_vs_non['track.popularity'][taylor_vs_non['track.taylor_owns'] == False],\n",
    "                        # descriptive text is the track name\n",
    "                        text=taylor_vs_non['track.name'][taylor_vs_non['track.taylor_owns'] == False],\n",
    "                        # Label the legend and show all data points\n",
    "                        legendgroup='No', scalegroup='No', name='No', points='all', hoverinfo='text',\n",
    "                        # make the mean line visible\n",
    "                        meanline_visible=True,\n",
    "                        side='negative'))\n",
    "\n",
    "fig.add_trace(go.Violin(x=taylor_vs_non['track.album.group'][taylor_vs_non['track.taylor_owns'] == True],\n",
    "                        y=taylor_vs_non['track.popularity'][taylor_vs_non['track.taylor_owns'] == True],\n",
    "                        text=taylor_vs_non['track.name'][taylor_vs_non['track.taylor_owns'] == True],\n",
    "                        legendgroup='Yes', scalegroup='Yes', name='Yes', points='all', hoverinfo='text',\n",
    "                        meanline_visible=True,\n",
    "                        side='positive'))\n",
    "\n",
    "fig.update_layout(title_text=\"Popularity of Taylor Swift Songs by album and Taylor's Version Status\")\n",
    "fig.update_xaxes(title_text='Album')\n",
    "fig.update_yaxes(title_text=\"Popularity\")\n",
    "\n",
    "fig"
   ]
  },
  {
   "cell_type": "markdown",
   "metadata": {},
   "source": [
    "In the figure above, the red data points and violin plot correspond to Taylor's Version of songs, while the blue points are from the older version of the album.\n",
    "For all albums, Taylor's version has a higher mean popularity than the older version.\n",
    "The only album where there isn't a profound separation between album types is 1989, which is probably because Taylor's version was released less than three months before the time of writing this article.\n",
    "Some of the songs on the Taylor's Version albums do not appear in the original album.\n",
    "These tracks are labeled with (From the Vault) and appear to be among the most popular songs in the album.\n",
    "Let's flag the Vault tracks to see if they are more or less popular than average."
   ]
  },
  {
   "cell_type": "code",
   "execution_count": 6,
   "metadata": {},
   "outputs": [
    {
     "data": {
      "application/vnd.plotly.v1+json": {
       "config": {
        "plotlyServerURL": "https://plot.ly"
       },
       "data": [
        {
         "hovertemplate": "<b>%{hovertext}</b><br><br>From the Vault=False<br>Album Name=Fearless (Taylor's Version)<br>valence=%{x}<br>Average Popularity=%{y}<extra></extra>",
         "hovertext": [
          "Fearless (Taylor’s Version)",
          "Fifteen (Taylor’s Version)",
          "Love Story (Taylor’s Version)",
          "Hey Stephen (Taylor’s Version)",
          "White Horse (Taylor’s Version)",
          "You Belong With Me (Taylor’s Version)",
          "Breathe (feat. Colbie Caillat) (Taylor’s Version)",
          "Tell Me Why (Taylor’s Version)",
          "You’re Not Sorry (Taylor’s Version)",
          "The Way I Loved You (Taylor’s Version)",
          "Forever & Always (Taylor’s Version)",
          "The Best Day (Taylor’s Version)",
          "Change (Taylor’s Version)",
          "Jump Then Fall (Taylor’s Version)",
          "Untouchable (Taylor’s Version)",
          "Forever & Always (Piano Version) (Taylor’s Version)",
          "Come In With The Rain (Taylor’s Version)",
          "Superstar (Taylor’s Version)",
          "The Other Side Of The Door (Taylor’s Version)",
          "Today Was A Fairytale (Taylor’s Version)"
         ],
         "legendgroup": "False",
         "marker": {
          "color": "#636efa",
          "symbol": "circle"
         },
         "mode": "markers",
         "name": "False",
         "orientation": "v",
         "showlegend": true,
         "type": "scatter",
         "x": [
          0.43,
          0.289,
          0.415,
          0.797,
          0.366,
          0.474,
          0.321,
          0.541,
          0.241,
          0.472,
          0.673,
          0.469,
          0.344,
          0.624,
          0.224,
          0.271,
          0.167,
          0.171,
          0.629,
          0.328
         ],
         "xaxis": "x3",
         "y": [
          83,
          72,
          82,
          71,
          72,
          86,
          69,
          68,
          70,
          82,
          73,
          67,
          66,
          68,
          69,
          67,
          65,
          65,
          69,
          67
         ],
         "yaxis": "y3"
        },
        {
         "hovertemplate": "<b>%{hovertext}</b><br><br>From the Vault=False<br>Album Name=Red (Taylor's Version)<br>valence=%{x}<br>Average Popularity=%{y}<extra></extra>",
         "hovertext": [
          "State Of Grace (Taylor's Version)",
          "Red (Taylor's Version)",
          "Treacherous (Taylor's Version)",
          "I Knew You Were Trouble (Taylor's Version)",
          "All Too Well (Taylor's Version)",
          "22 (Taylor's Version)",
          "I Almost Do (Taylor's Version)",
          "We Are Never Ever Getting Back Together (Taylor's Version)",
          "Stay Stay Stay (Taylor's Version)",
          "The Last Time (feat. Gary Lightbody of Snow Patrol) (Taylor’s Version)",
          "Holy Ground (Taylor's Version)",
          "Sad Beautiful Tragic (Taylor's Version)",
          "The Lucky One (Taylor's Version)",
          "Everything Has Changed (feat. Ed Sheeran) (Taylor’s Version)",
          "Starlight (Taylor's Version)",
          "Begin Again (Taylor's Version)",
          "The Moment I Knew (Taylor's Version)",
          "Come Back...Be Here (Taylor's Version)",
          "Girl At Home (Taylor's Version)",
          "State Of Grace (Acoustic Version) (Taylor's Version)",
          "Ronan (Taylor's Version)"
         ],
         "legendgroup": "False",
         "marker": {
          "color": "#636efa",
          "symbol": "circle"
         },
         "mode": "markers",
         "name": "False",
         "orientation": "v",
         "showlegend": false,
         "type": "scatter",
         "x": [
          0.328,
          0.408,
          0.299,
          0.767,
          0.132,
          0.642,
          0.248,
          0.716,
          0.663,
          0.155,
          0.511,
          0.232,
          0.538,
          0.474,
          0.605,
          0.267,
          0.208,
          0.399,
          0.612,
          0.101,
          0.38
         ],
         "xaxis": "x4",
         "y": [
          72,
          80,
          72,
          80,
          77,
          79,
          71,
          80,
          70,
          74,
          70,
          72,
          69,
          76,
          69,
          72,
          69,
          73,
          68,
          67,
          65
         ],
         "yaxis": "y4"
        },
        {
         "hovertemplate": "<b>%{hovertext}</b><br><br>From the Vault=False<br>Album Name=Speak Now (Taylor's Version)<br>valence=%{x}<br>Average Popularity=%{y}<extra></extra>",
         "hovertext": [
          "Mine (Taylor's Version)",
          "Sparks Fly (Taylor’s Version)",
          "Speak Now (Taylor's Version)",
          "Back To December (Taylor's Version)",
          "Dear John (Taylor's Version)",
          "Mean (Taylor's Version)",
          "The Story Of Us (Taylor's Version)",
          "Never Grow Up (Taylor's Version)",
          "Enchanted (Taylor's Version)",
          "Better Than Revenge (Taylor's Version)",
          "Innocent (Taylor's Version)",
          "Haunted (Taylor's Version)",
          "Last Kiss (Taylor's Version)",
          "Long Live (Taylor's Version)",
          "Ours (Taylor’s Version)",
          "Superman (Taylor’s Version)"
         ],
         "legendgroup": "False",
         "marker": {
          "color": "#636efa",
          "symbol": "circle"
         },
         "mode": "markers",
         "name": "False",
         "orientation": "v",
         "showlegend": false,
         "type": "scatter",
         "x": [
          0.49,
          0.387,
          0.639,
          0.203,
          0.133,
          0.621,
          0.57,
          0.569,
          0.216,
          0.665,
          0.149,
          0.355,
          0.16,
          0.0752,
          0.348,
          0.356
         ],
         "xaxis": "x",
         "y": [
          82,
          78,
          77,
          83,
          78,
          77,
          77,
          72,
          86,
          79,
          71,
          75,
          76,
          80,
          72,
          69
         ],
         "yaxis": "y"
        },
        {
         "hovertemplate": "<b>%{hovertext}</b><br><br>From the Vault=False<br>Album Name=1989 (Taylor's Version) [Deluxe]<br>valence=%{x}<br>Average Popularity=%{y}<extra></extra>",
         "hovertext": [
          "Welcome To New York (Taylor's Version)",
          "Blank Space (Taylor's Version)",
          "Style (Taylor's Version)",
          "Out Of The Woods (Taylor's Version)",
          "All You Had To Do Was Stay (Taylor's Version)",
          "Shake It Off (Taylor's Version)",
          "I Wish You Would (Taylor's Version)",
          "Bad Blood (Taylor's Version)",
          "Wildest Dreams (Taylor's Version)",
          "How You Get The Girl (Taylor's Version)",
          "This Love (Taylor’s Version)",
          "I Know Places (Taylor's Version)",
          "Clean (Taylor's Version)",
          "Wonderland (Taylor's Version)",
          "You Are In Love (Taylor's Version)",
          "New Romantics (Taylor's Version)",
          "Bad Blood (feat. Kendrick Lamar) (Taylor's Version)"
         ],
         "legendgroup": "False",
         "marker": {
          "color": "#636efa",
          "symbol": "circle"
         },
         "mode": "markers",
         "name": "False",
         "orientation": "v",
         "showlegend": false,
         "type": "scatter",
         "x": [
          0.685,
          0.701,
          0.305,
          0.206,
          0.52,
          0.917,
          0.539,
          0.363,
          0.514,
          0.538,
          0.0567,
          0.652,
          0.258,
          0.385,
          0.477,
          0.698,
          0.174
         ],
         "xaxis": "x2",
         "y": [
          73,
          74,
          75,
          74,
          72,
          72,
          71,
          71,
          72,
          71,
          70,
          72,
          72,
          71,
          71,
          72,
          80
         ],
         "yaxis": "y2"
        },
        {
         "hovertemplate": "<b>%{hovertext}</b><br><br>From the Vault=True<br>Album Name=Fearless (Taylor's Version)<br>valence=%{x}<br>Average Popularity=%{y}<extra></extra>",
         "hovertext": [
          "You All Over Me (feat. Maren Morris) (Taylor’s Version) (From The Vault)",
          "Mr. Perfectly Fine (Taylor’s Version) (From The Vault)",
          "We Were Happy (Taylor’s Version) (From The Vault)",
          "That’s When (feat. Keith Urban) (Taylor’s Version) (From The Vault)",
          "Don’t You (Taylor’s Version) (From The Vault)",
          "Bye Bye Baby (Taylor’s Version) (From The Vault)"
         ],
         "legendgroup": "True",
         "marker": {
          "color": "#EF553B",
          "symbol": "circle"
         },
         "mode": "markers",
         "name": "True",
         "orientation": "v",
         "showlegend": true,
         "type": "scatter",
         "x": [
          0.44,
          0.714,
          0.13,
          0.508,
          0.405,
          0.527
         ],
         "xaxis": "x3",
         "y": [
          66,
          77,
          68,
          69,
          70,
          68
         ],
         "yaxis": "y3"
        },
        {
         "hovertemplate": "<b>%{hovertext}</b><br><br>From the Vault=True<br>Album Name=Red (Taylor's Version)<br>valence=%{x}<br>Average Popularity=%{y}<extra></extra>",
         "hovertext": [
          "Better Man (Taylor's Version) (From The Vault)",
          "Nothing New (feat. Phoebe Bridgers) (Taylor’s Version) (From The Vault)",
          "Babe (Taylor's Version) (From The Vault)",
          "Message In A Bottle (Taylor's Version) (From The Vault)",
          "I Bet You Think About Me (feat. Chris Stapleton) (Taylor’s Version) (From The Vault)",
          "Forever Winter (Taylor's Version) (From The Vault)",
          "Run (feat. Ed Sheeran) (Taylor’s Version) (From The Vault)",
          "The Very First Night (Taylor's Version) (From The Vault)",
          "All Too Well (10 Minute Version) (Taylor's Version) (From The Vault)"
         ],
         "legendgroup": "True",
         "marker": {
          "color": "#EF553B",
          "symbol": "circle"
         },
         "mode": "markers",
         "name": "True",
         "orientation": "v",
         "showlegend": false,
         "type": "scatter",
         "x": [
          0.255,
          0.446,
          0.746,
          0.494,
          0.473,
          0.41,
          0.443,
          0.581,
          0.205
         ],
         "xaxis": "x4",
         "y": [
          74,
          78,
          74,
          74,
          76,
          70,
          71,
          76,
          87
         ],
         "yaxis": "y4"
        },
        {
         "hovertemplate": "<b>%{hovertext}</b><br><br>From the Vault=True<br>Album Name=Speak Now (Taylor's Version)<br>valence=%{x}<br>Average Popularity=%{y}<extra></extra>",
         "hovertext": [
          "Electric Touch (feat. Fall Out Boy) (Taylor’s Version) (From The Vault)",
          "When Emma Falls in Love (Taylor’s Version) (From The Vault)",
          "I Can See You (Taylor’s Version) (From The Vault)",
          "Castles Crumbling (feat. Hayley Williams) (Taylor’s Version) (From The Vault)",
          "Timeless (Taylor’s Version) (From The Vault)"
         ],
         "legendgroup": "True",
         "marker": {
          "color": "#EF553B",
          "symbol": "circle"
         },
         "mode": "markers",
         "name": "True",
         "orientation": "v",
         "showlegend": false,
         "type": "scatter",
         "x": [
          0.282,
          0.231,
          0.819,
          0.378,
          0.65
         ],
         "xaxis": "x",
         "y": [
          75,
          74,
          83,
          75,
          76
         ],
         "yaxis": "y"
        },
        {
         "hovertemplate": "<b>%{hovertext}</b><br><br>From the Vault=True<br>Album Name=1989 (Taylor's Version) [Deluxe]<br>valence=%{x}<br>Average Popularity=%{y}<extra></extra>",
         "hovertext": [
          "\"Slut!\" (Taylor's Version) (From The Vault)",
          "Say Don't Go (Taylor's Version) (From The Vault)",
          "Now That We Don't Talk (Taylor's Version) (From The Vault)",
          "Suburban Legends (Taylor's Version) (From The Vault)",
          "Is It Over Now? (Taylor's Version) (From The Vault)"
         ],
         "legendgroup": "True",
         "marker": {
          "color": "#EF553B",
          "symbol": "circle"
         },
         "mode": "markers",
         "name": "True",
         "orientation": "v",
         "showlegend": false,
         "type": "scatter",
         "x": [
          0.328,
          0.164,
          0.0831,
          0.323,
          0.191
         ],
         "xaxis": "x2",
         "y": [
          77,
          76,
          77,
          74,
          80
         ],
         "yaxis": "y2"
        }
       ],
       "layout": {
        "annotations": [
         {
          "font": {},
          "showarrow": false,
          "text": "Album Name=Speak Now (Taylor's Version)",
          "x": 0.245,
          "xanchor": "center",
          "xref": "paper",
          "y": 0.46499999999999997,
          "yanchor": "bottom",
          "yref": "paper"
         },
         {
          "font": {},
          "showarrow": false,
          "text": "Album Name=1989 (Taylor's Version) [Deluxe]",
          "x": 0.755,
          "xanchor": "center",
          "xref": "paper",
          "y": 0.46499999999999997,
          "yanchor": "bottom",
          "yref": "paper"
         },
         {
          "font": {},
          "showarrow": false,
          "text": "Album Name=Fearless (Taylor's Version)",
          "x": 0.245,
          "xanchor": "center",
          "xref": "paper",
          "y": 0.9999999999999999,
          "yanchor": "bottom",
          "yref": "paper"
         },
         {
          "font": {},
          "showarrow": false,
          "text": "Album Name=Red (Taylor's Version)",
          "x": 0.755,
          "xanchor": "center",
          "xref": "paper",
          "y": 0.9999999999999999,
          "yanchor": "bottom",
          "yref": "paper"
         }
        ],
        "legend": {
         "title": {
          "text": "From the Vault"
         },
         "tracegroupgap": 0
        },
        "margin": {
         "t": 60
        },
        "template": {
         "data": {
          "bar": [
           {
            "error_x": {
             "color": "#2a3f5f"
            },
            "error_y": {
             "color": "#2a3f5f"
            },
            "marker": {
             "line": {
              "color": "#E5ECF6",
              "width": 0.5
             },
             "pattern": {
              "fillmode": "overlay",
              "size": 10,
              "solidity": 0.2
             }
            },
            "type": "bar"
           }
          ],
          "barpolar": [
           {
            "marker": {
             "line": {
              "color": "#E5ECF6",
              "width": 0.5
             },
             "pattern": {
              "fillmode": "overlay",
              "size": 10,
              "solidity": 0.2
             }
            },
            "type": "barpolar"
           }
          ],
          "carpet": [
           {
            "aaxis": {
             "endlinecolor": "#2a3f5f",
             "gridcolor": "white",
             "linecolor": "white",
             "minorgridcolor": "white",
             "startlinecolor": "#2a3f5f"
            },
            "baxis": {
             "endlinecolor": "#2a3f5f",
             "gridcolor": "white",
             "linecolor": "white",
             "minorgridcolor": "white",
             "startlinecolor": "#2a3f5f"
            },
            "type": "carpet"
           }
          ],
          "choropleth": [
           {
            "colorbar": {
             "outlinewidth": 0,
             "ticks": ""
            },
            "type": "choropleth"
           }
          ],
          "contour": [
           {
            "colorbar": {
             "outlinewidth": 0,
             "ticks": ""
            },
            "colorscale": [
             [
              0,
              "#0d0887"
             ],
             [
              0.1111111111111111,
              "#46039f"
             ],
             [
              0.2222222222222222,
              "#7201a8"
             ],
             [
              0.3333333333333333,
              "#9c179e"
             ],
             [
              0.4444444444444444,
              "#bd3786"
             ],
             [
              0.5555555555555556,
              "#d8576b"
             ],
             [
              0.6666666666666666,
              "#ed7953"
             ],
             [
              0.7777777777777778,
              "#fb9f3a"
             ],
             [
              0.8888888888888888,
              "#fdca26"
             ],
             [
              1,
              "#f0f921"
             ]
            ],
            "type": "contour"
           }
          ],
          "contourcarpet": [
           {
            "colorbar": {
             "outlinewidth": 0,
             "ticks": ""
            },
            "type": "contourcarpet"
           }
          ],
          "heatmap": [
           {
            "colorbar": {
             "outlinewidth": 0,
             "ticks": ""
            },
            "colorscale": [
             [
              0,
              "#0d0887"
             ],
             [
              0.1111111111111111,
              "#46039f"
             ],
             [
              0.2222222222222222,
              "#7201a8"
             ],
             [
              0.3333333333333333,
              "#9c179e"
             ],
             [
              0.4444444444444444,
              "#bd3786"
             ],
             [
              0.5555555555555556,
              "#d8576b"
             ],
             [
              0.6666666666666666,
              "#ed7953"
             ],
             [
              0.7777777777777778,
              "#fb9f3a"
             ],
             [
              0.8888888888888888,
              "#fdca26"
             ],
             [
              1,
              "#f0f921"
             ]
            ],
            "type": "heatmap"
           }
          ],
          "heatmapgl": [
           {
            "colorbar": {
             "outlinewidth": 0,
             "ticks": ""
            },
            "colorscale": [
             [
              0,
              "#0d0887"
             ],
             [
              0.1111111111111111,
              "#46039f"
             ],
             [
              0.2222222222222222,
              "#7201a8"
             ],
             [
              0.3333333333333333,
              "#9c179e"
             ],
             [
              0.4444444444444444,
              "#bd3786"
             ],
             [
              0.5555555555555556,
              "#d8576b"
             ],
             [
              0.6666666666666666,
              "#ed7953"
             ],
             [
              0.7777777777777778,
              "#fb9f3a"
             ],
             [
              0.8888888888888888,
              "#fdca26"
             ],
             [
              1,
              "#f0f921"
             ]
            ],
            "type": "heatmapgl"
           }
          ],
          "histogram": [
           {
            "marker": {
             "pattern": {
              "fillmode": "overlay",
              "size": 10,
              "solidity": 0.2
             }
            },
            "type": "histogram"
           }
          ],
          "histogram2d": [
           {
            "colorbar": {
             "outlinewidth": 0,
             "ticks": ""
            },
            "colorscale": [
             [
              0,
              "#0d0887"
             ],
             [
              0.1111111111111111,
              "#46039f"
             ],
             [
              0.2222222222222222,
              "#7201a8"
             ],
             [
              0.3333333333333333,
              "#9c179e"
             ],
             [
              0.4444444444444444,
              "#bd3786"
             ],
             [
              0.5555555555555556,
              "#d8576b"
             ],
             [
              0.6666666666666666,
              "#ed7953"
             ],
             [
              0.7777777777777778,
              "#fb9f3a"
             ],
             [
              0.8888888888888888,
              "#fdca26"
             ],
             [
              1,
              "#f0f921"
             ]
            ],
            "type": "histogram2d"
           }
          ],
          "histogram2dcontour": [
           {
            "colorbar": {
             "outlinewidth": 0,
             "ticks": ""
            },
            "colorscale": [
             [
              0,
              "#0d0887"
             ],
             [
              0.1111111111111111,
              "#46039f"
             ],
             [
              0.2222222222222222,
              "#7201a8"
             ],
             [
              0.3333333333333333,
              "#9c179e"
             ],
             [
              0.4444444444444444,
              "#bd3786"
             ],
             [
              0.5555555555555556,
              "#d8576b"
             ],
             [
              0.6666666666666666,
              "#ed7953"
             ],
             [
              0.7777777777777778,
              "#fb9f3a"
             ],
             [
              0.8888888888888888,
              "#fdca26"
             ],
             [
              1,
              "#f0f921"
             ]
            ],
            "type": "histogram2dcontour"
           }
          ],
          "mesh3d": [
           {
            "colorbar": {
             "outlinewidth": 0,
             "ticks": ""
            },
            "type": "mesh3d"
           }
          ],
          "parcoords": [
           {
            "line": {
             "colorbar": {
              "outlinewidth": 0,
              "ticks": ""
             }
            },
            "type": "parcoords"
           }
          ],
          "pie": [
           {
            "automargin": true,
            "type": "pie"
           }
          ],
          "scatter": [
           {
            "fillpattern": {
             "fillmode": "overlay",
             "size": 10,
             "solidity": 0.2
            },
            "type": "scatter"
           }
          ],
          "scatter3d": [
           {
            "line": {
             "colorbar": {
              "outlinewidth": 0,
              "ticks": ""
             }
            },
            "marker": {
             "colorbar": {
              "outlinewidth": 0,
              "ticks": ""
             }
            },
            "type": "scatter3d"
           }
          ],
          "scattercarpet": [
           {
            "marker": {
             "colorbar": {
              "outlinewidth": 0,
              "ticks": ""
             }
            },
            "type": "scattercarpet"
           }
          ],
          "scattergeo": [
           {
            "marker": {
             "colorbar": {
              "outlinewidth": 0,
              "ticks": ""
             }
            },
            "type": "scattergeo"
           }
          ],
          "scattergl": [
           {
            "marker": {
             "colorbar": {
              "outlinewidth": 0,
              "ticks": ""
             }
            },
            "type": "scattergl"
           }
          ],
          "scattermapbox": [
           {
            "marker": {
             "colorbar": {
              "outlinewidth": 0,
              "ticks": ""
             }
            },
            "type": "scattermapbox"
           }
          ],
          "scatterpolar": [
           {
            "marker": {
             "colorbar": {
              "outlinewidth": 0,
              "ticks": ""
             }
            },
            "type": "scatterpolar"
           }
          ],
          "scatterpolargl": [
           {
            "marker": {
             "colorbar": {
              "outlinewidth": 0,
              "ticks": ""
             }
            },
            "type": "scatterpolargl"
           }
          ],
          "scatterternary": [
           {
            "marker": {
             "colorbar": {
              "outlinewidth": 0,
              "ticks": ""
             }
            },
            "type": "scatterternary"
           }
          ],
          "surface": [
           {
            "colorbar": {
             "outlinewidth": 0,
             "ticks": ""
            },
            "colorscale": [
             [
              0,
              "#0d0887"
             ],
             [
              0.1111111111111111,
              "#46039f"
             ],
             [
              0.2222222222222222,
              "#7201a8"
             ],
             [
              0.3333333333333333,
              "#9c179e"
             ],
             [
              0.4444444444444444,
              "#bd3786"
             ],
             [
              0.5555555555555556,
              "#d8576b"
             ],
             [
              0.6666666666666666,
              "#ed7953"
             ],
             [
              0.7777777777777778,
              "#fb9f3a"
             ],
             [
              0.8888888888888888,
              "#fdca26"
             ],
             [
              1,
              "#f0f921"
             ]
            ],
            "type": "surface"
           }
          ],
          "table": [
           {
            "cells": {
             "fill": {
              "color": "#EBF0F8"
             },
             "line": {
              "color": "white"
             }
            },
            "header": {
             "fill": {
              "color": "#C8D4E3"
             },
             "line": {
              "color": "white"
             }
            },
            "type": "table"
           }
          ]
         },
         "layout": {
          "annotationdefaults": {
           "arrowcolor": "#2a3f5f",
           "arrowhead": 0,
           "arrowwidth": 1
          },
          "autotypenumbers": "strict",
          "coloraxis": {
           "colorbar": {
            "outlinewidth": 0,
            "ticks": ""
           }
          },
          "colorscale": {
           "diverging": [
            [
             0,
             "#8e0152"
            ],
            [
             0.1,
             "#c51b7d"
            ],
            [
             0.2,
             "#de77ae"
            ],
            [
             0.3,
             "#f1b6da"
            ],
            [
             0.4,
             "#fde0ef"
            ],
            [
             0.5,
             "#f7f7f7"
            ],
            [
             0.6,
             "#e6f5d0"
            ],
            [
             0.7,
             "#b8e186"
            ],
            [
             0.8,
             "#7fbc41"
            ],
            [
             0.9,
             "#4d9221"
            ],
            [
             1,
             "#276419"
            ]
           ],
           "sequential": [
            [
             0,
             "#0d0887"
            ],
            [
             0.1111111111111111,
             "#46039f"
            ],
            [
             0.2222222222222222,
             "#7201a8"
            ],
            [
             0.3333333333333333,
             "#9c179e"
            ],
            [
             0.4444444444444444,
             "#bd3786"
            ],
            [
             0.5555555555555556,
             "#d8576b"
            ],
            [
             0.6666666666666666,
             "#ed7953"
            ],
            [
             0.7777777777777778,
             "#fb9f3a"
            ],
            [
             0.8888888888888888,
             "#fdca26"
            ],
            [
             1,
             "#f0f921"
            ]
           ],
           "sequentialminus": [
            [
             0,
             "#0d0887"
            ],
            [
             0.1111111111111111,
             "#46039f"
            ],
            [
             0.2222222222222222,
             "#7201a8"
            ],
            [
             0.3333333333333333,
             "#9c179e"
            ],
            [
             0.4444444444444444,
             "#bd3786"
            ],
            [
             0.5555555555555556,
             "#d8576b"
            ],
            [
             0.6666666666666666,
             "#ed7953"
            ],
            [
             0.7777777777777778,
             "#fb9f3a"
            ],
            [
             0.8888888888888888,
             "#fdca26"
            ],
            [
             1,
             "#f0f921"
            ]
           ]
          },
          "colorway": [
           "#636efa",
           "#EF553B",
           "#00cc96",
           "#ab63fa",
           "#FFA15A",
           "#19d3f3",
           "#FF6692",
           "#B6E880",
           "#FF97FF",
           "#FECB52"
          ],
          "font": {
           "color": "#2a3f5f"
          },
          "geo": {
           "bgcolor": "white",
           "lakecolor": "white",
           "landcolor": "#E5ECF6",
           "showlakes": true,
           "showland": true,
           "subunitcolor": "white"
          },
          "hoverlabel": {
           "align": "left"
          },
          "hovermode": "closest",
          "mapbox": {
           "style": "light"
          },
          "paper_bgcolor": "white",
          "plot_bgcolor": "#E5ECF6",
          "polar": {
           "angularaxis": {
            "gridcolor": "white",
            "linecolor": "white",
            "ticks": ""
           },
           "bgcolor": "#E5ECF6",
           "radialaxis": {
            "gridcolor": "white",
            "linecolor": "white",
            "ticks": ""
           }
          },
          "scene": {
           "xaxis": {
            "backgroundcolor": "#E5ECF6",
            "gridcolor": "white",
            "gridwidth": 2,
            "linecolor": "white",
            "showbackground": true,
            "ticks": "",
            "zerolinecolor": "white"
           },
           "yaxis": {
            "backgroundcolor": "#E5ECF6",
            "gridcolor": "white",
            "gridwidth": 2,
            "linecolor": "white",
            "showbackground": true,
            "ticks": "",
            "zerolinecolor": "white"
           },
           "zaxis": {
            "backgroundcolor": "#E5ECF6",
            "gridcolor": "white",
            "gridwidth": 2,
            "linecolor": "white",
            "showbackground": true,
            "ticks": "",
            "zerolinecolor": "white"
           }
          },
          "shapedefaults": {
           "line": {
            "color": "#2a3f5f"
           }
          },
          "ternary": {
           "aaxis": {
            "gridcolor": "white",
            "linecolor": "white",
            "ticks": ""
           },
           "baxis": {
            "gridcolor": "white",
            "linecolor": "white",
            "ticks": ""
           },
           "bgcolor": "#E5ECF6",
           "caxis": {
            "gridcolor": "white",
            "linecolor": "white",
            "ticks": ""
           }
          },
          "title": {
           "x": 0.05
          },
          "xaxis": {
           "automargin": true,
           "gridcolor": "white",
           "linecolor": "white",
           "ticks": "",
           "title": {
            "standoff": 15
           },
           "zerolinecolor": "white",
           "zerolinewidth": 2
          },
          "yaxis": {
           "automargin": true,
           "gridcolor": "white",
           "linecolor": "white",
           "ticks": "",
           "title": {
            "standoff": 15
           },
           "zerolinecolor": "white",
           "zerolinewidth": 2
          }
         }
        },
        "xaxis": {
         "anchor": "y",
         "domain": [
          0,
          0.49
         ],
         "title": {
          "text": "valence"
         }
        },
        "xaxis2": {
         "anchor": "y2",
         "domain": [
          0.51,
          1
         ],
         "matches": "x",
         "title": {
          "text": "valence"
         }
        },
        "xaxis3": {
         "anchor": "y3",
         "domain": [
          0,
          0.49
         ],
         "matches": "x",
         "showticklabels": false
        },
        "xaxis4": {
         "anchor": "y4",
         "domain": [
          0.51,
          1
         ],
         "matches": "x",
         "showticklabels": false
        },
        "yaxis": {
         "anchor": "x",
         "domain": [
          0,
          0.46499999999999997
         ],
         "title": {
          "text": "Average Popularity"
         }
        },
        "yaxis2": {
         "anchor": "x2",
         "domain": [
          0,
          0.46499999999999997
         ],
         "matches": "y",
         "showticklabels": false
        },
        "yaxis3": {
         "anchor": "x3",
         "domain": [
          0.5349999999999999,
          0.9999999999999999
         ],
         "matches": "y",
         "title": {
          "text": "Average Popularity"
         }
        },
        "yaxis4": {
         "anchor": "x4",
         "domain": [
          0.5349999999999999,
          0.9999999999999999
         ],
         "matches": "y",
         "showticklabels": false
        }
       }
      },
      "text/html": [
       "<div>                            <div id=\"9a617150-b216-4cc1-b172-7ca9170ae243\" class=\"plotly-graph-div\" style=\"height:525px; width:100%;\"></div>            <script type=\"text/javascript\">                require([\"plotly\"], function(Plotly) {                    window.PLOTLYENV=window.PLOTLYENV || {};                                    if (document.getElementById(\"9a617150-b216-4cc1-b172-7ca9170ae243\")) {                    Plotly.newPlot(                        \"9a617150-b216-4cc1-b172-7ca9170ae243\",                        [{\"hovertemplate\":\"\\u003cb\\u003e%{hovertext}\\u003c\\u002fb\\u003e\\u003cbr\\u003e\\u003cbr\\u003eFrom the Vault=False\\u003cbr\\u003eAlbum Name=Fearless (Taylor's Version)\\u003cbr\\u003evalence=%{x}\\u003cbr\\u003eAverage Popularity=%{y}\\u003cextra\\u003e\\u003c\\u002fextra\\u003e\",\"hovertext\":[\"Fearless (Taylor\\u2019s Version)\",\"Fifteen (Taylor\\u2019s Version)\",\"Love Story (Taylor\\u2019s Version)\",\"Hey Stephen (Taylor\\u2019s Version)\",\"White Horse (Taylor\\u2019s Version)\",\"You Belong With Me (Taylor\\u2019s Version)\",\"Breathe (feat. Colbie Caillat) (Taylor\\u2019s Version)\",\"Tell Me Why (Taylor\\u2019s Version)\",\"You\\u2019re Not Sorry (Taylor\\u2019s Version)\",\"The Way I Loved You (Taylor\\u2019s Version)\",\"Forever & Always (Taylor\\u2019s Version)\",\"The Best Day (Taylor\\u2019s Version)\",\"Change (Taylor\\u2019s Version)\",\"Jump Then Fall (Taylor\\u2019s Version)\",\"Untouchable (Taylor\\u2019s Version)\",\"Forever & Always (Piano Version) (Taylor\\u2019s Version)\",\"Come In With The Rain (Taylor\\u2019s Version)\",\"Superstar (Taylor\\u2019s Version)\",\"The Other Side Of The Door (Taylor\\u2019s Version)\",\"Today Was A Fairytale (Taylor\\u2019s Version)\"],\"legendgroup\":\"False\",\"marker\":{\"color\":\"#636efa\",\"symbol\":\"circle\"},\"mode\":\"markers\",\"name\":\"False\",\"orientation\":\"v\",\"showlegend\":true,\"x\":[0.43,0.289,0.415,0.797,0.366,0.474,0.321,0.541,0.241,0.472,0.673,0.469,0.344,0.624,0.224,0.271,0.167,0.171,0.629,0.328],\"xaxis\":\"x3\",\"y\":[83,72,82,71,72,86,69,68,70,82,73,67,66,68,69,67,65,65,69,67],\"yaxis\":\"y3\",\"type\":\"scatter\"},{\"hovertemplate\":\"\\u003cb\\u003e%{hovertext}\\u003c\\u002fb\\u003e\\u003cbr\\u003e\\u003cbr\\u003eFrom the Vault=False\\u003cbr\\u003eAlbum Name=Red (Taylor's Version)\\u003cbr\\u003evalence=%{x}\\u003cbr\\u003eAverage Popularity=%{y}\\u003cextra\\u003e\\u003c\\u002fextra\\u003e\",\"hovertext\":[\"State Of Grace (Taylor's Version)\",\"Red (Taylor's Version)\",\"Treacherous (Taylor's Version)\",\"I Knew You Were Trouble (Taylor's Version)\",\"All Too Well (Taylor's Version)\",\"22 (Taylor's Version)\",\"I Almost Do (Taylor's Version)\",\"We Are Never Ever Getting Back Together (Taylor's Version)\",\"Stay Stay Stay (Taylor's Version)\",\"The Last Time (feat. Gary Lightbody of Snow Patrol) (Taylor\\u2019s Version)\",\"Holy Ground (Taylor's Version)\",\"Sad Beautiful Tragic (Taylor's Version)\",\"The Lucky One (Taylor's Version)\",\"Everything Has Changed (feat. Ed Sheeran) (Taylor\\u2019s Version)\",\"Starlight (Taylor's Version)\",\"Begin Again (Taylor's Version)\",\"The Moment I Knew (Taylor's Version)\",\"Come Back...Be Here (Taylor's Version)\",\"Girl At Home (Taylor's Version)\",\"State Of Grace (Acoustic Version) (Taylor's Version)\",\"Ronan (Taylor's Version)\"],\"legendgroup\":\"False\",\"marker\":{\"color\":\"#636efa\",\"symbol\":\"circle\"},\"mode\":\"markers\",\"name\":\"False\",\"orientation\":\"v\",\"showlegend\":false,\"x\":[0.328,0.408,0.299,0.767,0.132,0.642,0.248,0.716,0.663,0.155,0.511,0.232,0.538,0.474,0.605,0.267,0.208,0.399,0.612,0.101,0.38],\"xaxis\":\"x4\",\"y\":[72,80,72,80,77,79,71,80,70,74,70,72,69,76,69,72,69,73,68,67,65],\"yaxis\":\"y4\",\"type\":\"scatter\"},{\"hovertemplate\":\"\\u003cb\\u003e%{hovertext}\\u003c\\u002fb\\u003e\\u003cbr\\u003e\\u003cbr\\u003eFrom the Vault=False\\u003cbr\\u003eAlbum Name=Speak Now (Taylor's Version)\\u003cbr\\u003evalence=%{x}\\u003cbr\\u003eAverage Popularity=%{y}\\u003cextra\\u003e\\u003c\\u002fextra\\u003e\",\"hovertext\":[\"Mine (Taylor's Version)\",\"Sparks Fly (Taylor\\u2019s Version)\",\"Speak Now (Taylor's Version)\",\"Back To December (Taylor's Version)\",\"Dear John (Taylor's Version)\",\"Mean (Taylor's Version)\",\"The Story Of Us (Taylor's Version)\",\"Never Grow Up (Taylor's Version)\",\"Enchanted (Taylor's Version)\",\"Better Than Revenge (Taylor's Version)\",\"Innocent (Taylor's Version)\",\"Haunted (Taylor's Version)\",\"Last Kiss (Taylor's Version)\",\"Long Live (Taylor's Version)\",\"Ours (Taylor\\u2019s Version)\",\"Superman (Taylor\\u2019s Version)\"],\"legendgroup\":\"False\",\"marker\":{\"color\":\"#636efa\",\"symbol\":\"circle\"},\"mode\":\"markers\",\"name\":\"False\",\"orientation\":\"v\",\"showlegend\":false,\"x\":[0.49,0.387,0.639,0.203,0.133,0.621,0.57,0.569,0.216,0.665,0.149,0.355,0.16,0.0752,0.348,0.356],\"xaxis\":\"x\",\"y\":[82,78,77,83,78,77,77,72,86,79,71,75,76,80,72,69],\"yaxis\":\"y\",\"type\":\"scatter\"},{\"hovertemplate\":\"\\u003cb\\u003e%{hovertext}\\u003c\\u002fb\\u003e\\u003cbr\\u003e\\u003cbr\\u003eFrom the Vault=False\\u003cbr\\u003eAlbum Name=1989 (Taylor's Version) [Deluxe]\\u003cbr\\u003evalence=%{x}\\u003cbr\\u003eAverage Popularity=%{y}\\u003cextra\\u003e\\u003c\\u002fextra\\u003e\",\"hovertext\":[\"Welcome To New York (Taylor's Version)\",\"Blank Space (Taylor's Version)\",\"Style (Taylor's Version)\",\"Out Of The Woods (Taylor's Version)\",\"All You Had To Do Was Stay (Taylor's Version)\",\"Shake It Off (Taylor's Version)\",\"I Wish You Would (Taylor's Version)\",\"Bad Blood (Taylor's Version)\",\"Wildest Dreams (Taylor's Version)\",\"How You Get The Girl (Taylor's Version)\",\"This Love (Taylor\\u2019s Version)\",\"I Know Places (Taylor's Version)\",\"Clean (Taylor's Version)\",\"Wonderland (Taylor's Version)\",\"You Are In Love (Taylor's Version)\",\"New Romantics (Taylor's Version)\",\"Bad Blood (feat. Kendrick Lamar) (Taylor's Version)\"],\"legendgroup\":\"False\",\"marker\":{\"color\":\"#636efa\",\"symbol\":\"circle\"},\"mode\":\"markers\",\"name\":\"False\",\"orientation\":\"v\",\"showlegend\":false,\"x\":[0.685,0.701,0.305,0.206,0.52,0.917,0.539,0.363,0.514,0.538,0.0567,0.652,0.258,0.385,0.477,0.698,0.174],\"xaxis\":\"x2\",\"y\":[73,74,75,74,72,72,71,71,72,71,70,72,72,71,71,72,80],\"yaxis\":\"y2\",\"type\":\"scatter\"},{\"hovertemplate\":\"\\u003cb\\u003e%{hovertext}\\u003c\\u002fb\\u003e\\u003cbr\\u003e\\u003cbr\\u003eFrom the Vault=True\\u003cbr\\u003eAlbum Name=Fearless (Taylor's Version)\\u003cbr\\u003evalence=%{x}\\u003cbr\\u003eAverage Popularity=%{y}\\u003cextra\\u003e\\u003c\\u002fextra\\u003e\",\"hovertext\":[\"You All Over Me (feat. Maren Morris) (Taylor\\u2019s Version) (From The Vault)\",\"Mr. Perfectly Fine (Taylor\\u2019s Version) (From The Vault)\",\"We Were Happy (Taylor\\u2019s Version) (From The Vault)\",\"That\\u2019s When (feat. Keith Urban) (Taylor\\u2019s Version) (From The Vault)\",\"Don\\u2019t You (Taylor\\u2019s Version) (From The Vault)\",\"Bye Bye Baby (Taylor\\u2019s Version) (From The Vault)\"],\"legendgroup\":\"True\",\"marker\":{\"color\":\"#EF553B\",\"symbol\":\"circle\"},\"mode\":\"markers\",\"name\":\"True\",\"orientation\":\"v\",\"showlegend\":true,\"x\":[0.44,0.714,0.13,0.508,0.405,0.527],\"xaxis\":\"x3\",\"y\":[66,77,68,69,70,68],\"yaxis\":\"y3\",\"type\":\"scatter\"},{\"hovertemplate\":\"\\u003cb\\u003e%{hovertext}\\u003c\\u002fb\\u003e\\u003cbr\\u003e\\u003cbr\\u003eFrom the Vault=True\\u003cbr\\u003eAlbum Name=Red (Taylor's Version)\\u003cbr\\u003evalence=%{x}\\u003cbr\\u003eAverage Popularity=%{y}\\u003cextra\\u003e\\u003c\\u002fextra\\u003e\",\"hovertext\":[\"Better Man (Taylor's Version) (From The Vault)\",\"Nothing New (feat. Phoebe Bridgers) (Taylor\\u2019s Version) (From The Vault)\",\"Babe (Taylor's Version) (From The Vault)\",\"Message In A Bottle (Taylor's Version) (From The Vault)\",\"I Bet You Think About Me (feat. Chris Stapleton) (Taylor\\u2019s Version) (From The Vault)\",\"Forever Winter (Taylor's Version) (From The Vault)\",\"Run (feat. Ed Sheeran) (Taylor\\u2019s Version) (From The Vault)\",\"The Very First Night (Taylor's Version) (From The Vault)\",\"All Too Well (10 Minute Version) (Taylor's Version) (From The Vault)\"],\"legendgroup\":\"True\",\"marker\":{\"color\":\"#EF553B\",\"symbol\":\"circle\"},\"mode\":\"markers\",\"name\":\"True\",\"orientation\":\"v\",\"showlegend\":false,\"x\":[0.255,0.446,0.746,0.494,0.473,0.41,0.443,0.581,0.205],\"xaxis\":\"x4\",\"y\":[74,78,74,74,76,70,71,76,87],\"yaxis\":\"y4\",\"type\":\"scatter\"},{\"hovertemplate\":\"\\u003cb\\u003e%{hovertext}\\u003c\\u002fb\\u003e\\u003cbr\\u003e\\u003cbr\\u003eFrom the Vault=True\\u003cbr\\u003eAlbum Name=Speak Now (Taylor's Version)\\u003cbr\\u003evalence=%{x}\\u003cbr\\u003eAverage Popularity=%{y}\\u003cextra\\u003e\\u003c\\u002fextra\\u003e\",\"hovertext\":[\"Electric Touch (feat. Fall Out Boy) (Taylor\\u2019s Version) (From The Vault)\",\"When Emma Falls in Love (Taylor\\u2019s Version) (From The Vault)\",\"I Can See You (Taylor\\u2019s Version) (From The Vault)\",\"Castles Crumbling (feat. Hayley Williams) (Taylor\\u2019s Version) (From The Vault)\",\"Timeless (Taylor\\u2019s Version) (From The Vault)\"],\"legendgroup\":\"True\",\"marker\":{\"color\":\"#EF553B\",\"symbol\":\"circle\"},\"mode\":\"markers\",\"name\":\"True\",\"orientation\":\"v\",\"showlegend\":false,\"x\":[0.282,0.231,0.819,0.378,0.65],\"xaxis\":\"x\",\"y\":[75,74,83,75,76],\"yaxis\":\"y\",\"type\":\"scatter\"},{\"hovertemplate\":\"\\u003cb\\u003e%{hovertext}\\u003c\\u002fb\\u003e\\u003cbr\\u003e\\u003cbr\\u003eFrom the Vault=True\\u003cbr\\u003eAlbum Name=1989 (Taylor's Version) [Deluxe]\\u003cbr\\u003evalence=%{x}\\u003cbr\\u003eAverage Popularity=%{y}\\u003cextra\\u003e\\u003c\\u002fextra\\u003e\",\"hovertext\":[\"\\\"Slut!\\\" (Taylor's Version) (From The Vault)\",\"Say Don't Go (Taylor's Version) (From The Vault)\",\"Now That We Don't Talk (Taylor's Version) (From The Vault)\",\"Suburban Legends (Taylor's Version) (From The Vault)\",\"Is It Over Now? (Taylor's Version) (From The Vault)\"],\"legendgroup\":\"True\",\"marker\":{\"color\":\"#EF553B\",\"symbol\":\"circle\"},\"mode\":\"markers\",\"name\":\"True\",\"orientation\":\"v\",\"showlegend\":false,\"x\":[0.328,0.164,0.0831,0.323,0.191],\"xaxis\":\"x2\",\"y\":[77,76,77,74,80],\"yaxis\":\"y2\",\"type\":\"scatter\"}],                        {\"template\":{\"data\":{\"histogram2dcontour\":[{\"type\":\"histogram2dcontour\",\"colorbar\":{\"outlinewidth\":0,\"ticks\":\"\"},\"colorscale\":[[0.0,\"#0d0887\"],[0.1111111111111111,\"#46039f\"],[0.2222222222222222,\"#7201a8\"],[0.3333333333333333,\"#9c179e\"],[0.4444444444444444,\"#bd3786\"],[0.5555555555555556,\"#d8576b\"],[0.6666666666666666,\"#ed7953\"],[0.7777777777777778,\"#fb9f3a\"],[0.8888888888888888,\"#fdca26\"],[1.0,\"#f0f921\"]]}],\"choropleth\":[{\"type\":\"choropleth\",\"colorbar\":{\"outlinewidth\":0,\"ticks\":\"\"}}],\"histogram2d\":[{\"type\":\"histogram2d\",\"colorbar\":{\"outlinewidth\":0,\"ticks\":\"\"},\"colorscale\":[[0.0,\"#0d0887\"],[0.1111111111111111,\"#46039f\"],[0.2222222222222222,\"#7201a8\"],[0.3333333333333333,\"#9c179e\"],[0.4444444444444444,\"#bd3786\"],[0.5555555555555556,\"#d8576b\"],[0.6666666666666666,\"#ed7953\"],[0.7777777777777778,\"#fb9f3a\"],[0.8888888888888888,\"#fdca26\"],[1.0,\"#f0f921\"]]}],\"heatmap\":[{\"type\":\"heatmap\",\"colorbar\":{\"outlinewidth\":0,\"ticks\":\"\"},\"colorscale\":[[0.0,\"#0d0887\"],[0.1111111111111111,\"#46039f\"],[0.2222222222222222,\"#7201a8\"],[0.3333333333333333,\"#9c179e\"],[0.4444444444444444,\"#bd3786\"],[0.5555555555555556,\"#d8576b\"],[0.6666666666666666,\"#ed7953\"],[0.7777777777777778,\"#fb9f3a\"],[0.8888888888888888,\"#fdca26\"],[1.0,\"#f0f921\"]]}],\"heatmapgl\":[{\"type\":\"heatmapgl\",\"colorbar\":{\"outlinewidth\":0,\"ticks\":\"\"},\"colorscale\":[[0.0,\"#0d0887\"],[0.1111111111111111,\"#46039f\"],[0.2222222222222222,\"#7201a8\"],[0.3333333333333333,\"#9c179e\"],[0.4444444444444444,\"#bd3786\"],[0.5555555555555556,\"#d8576b\"],[0.6666666666666666,\"#ed7953\"],[0.7777777777777778,\"#fb9f3a\"],[0.8888888888888888,\"#fdca26\"],[1.0,\"#f0f921\"]]}],\"contourcarpet\":[{\"type\":\"contourcarpet\",\"colorbar\":{\"outlinewidth\":0,\"ticks\":\"\"}}],\"contour\":[{\"type\":\"contour\",\"colorbar\":{\"outlinewidth\":0,\"ticks\":\"\"},\"colorscale\":[[0.0,\"#0d0887\"],[0.1111111111111111,\"#46039f\"],[0.2222222222222222,\"#7201a8\"],[0.3333333333333333,\"#9c179e\"],[0.4444444444444444,\"#bd3786\"],[0.5555555555555556,\"#d8576b\"],[0.6666666666666666,\"#ed7953\"],[0.7777777777777778,\"#fb9f3a\"],[0.8888888888888888,\"#fdca26\"],[1.0,\"#f0f921\"]]}],\"surface\":[{\"type\":\"surface\",\"colorbar\":{\"outlinewidth\":0,\"ticks\":\"\"},\"colorscale\":[[0.0,\"#0d0887\"],[0.1111111111111111,\"#46039f\"],[0.2222222222222222,\"#7201a8\"],[0.3333333333333333,\"#9c179e\"],[0.4444444444444444,\"#bd3786\"],[0.5555555555555556,\"#d8576b\"],[0.6666666666666666,\"#ed7953\"],[0.7777777777777778,\"#fb9f3a\"],[0.8888888888888888,\"#fdca26\"],[1.0,\"#f0f921\"]]}],\"mesh3d\":[{\"type\":\"mesh3d\",\"colorbar\":{\"outlinewidth\":0,\"ticks\":\"\"}}],\"scatter\":[{\"fillpattern\":{\"fillmode\":\"overlay\",\"size\":10,\"solidity\":0.2},\"type\":\"scatter\"}],\"parcoords\":[{\"type\":\"parcoords\",\"line\":{\"colorbar\":{\"outlinewidth\":0,\"ticks\":\"\"}}}],\"scatterpolargl\":[{\"type\":\"scatterpolargl\",\"marker\":{\"colorbar\":{\"outlinewidth\":0,\"ticks\":\"\"}}}],\"bar\":[{\"error_x\":{\"color\":\"#2a3f5f\"},\"error_y\":{\"color\":\"#2a3f5f\"},\"marker\":{\"line\":{\"color\":\"#E5ECF6\",\"width\":0.5},\"pattern\":{\"fillmode\":\"overlay\",\"size\":10,\"solidity\":0.2}},\"type\":\"bar\"}],\"scattergeo\":[{\"type\":\"scattergeo\",\"marker\":{\"colorbar\":{\"outlinewidth\":0,\"ticks\":\"\"}}}],\"scatterpolar\":[{\"type\":\"scatterpolar\",\"marker\":{\"colorbar\":{\"outlinewidth\":0,\"ticks\":\"\"}}}],\"histogram\":[{\"marker\":{\"pattern\":{\"fillmode\":\"overlay\",\"size\":10,\"solidity\":0.2}},\"type\":\"histogram\"}],\"scattergl\":[{\"type\":\"scattergl\",\"marker\":{\"colorbar\":{\"outlinewidth\":0,\"ticks\":\"\"}}}],\"scatter3d\":[{\"type\":\"scatter3d\",\"line\":{\"colorbar\":{\"outlinewidth\":0,\"ticks\":\"\"}},\"marker\":{\"colorbar\":{\"outlinewidth\":0,\"ticks\":\"\"}}}],\"scattermapbox\":[{\"type\":\"scattermapbox\",\"marker\":{\"colorbar\":{\"outlinewidth\":0,\"ticks\":\"\"}}}],\"scatterternary\":[{\"type\":\"scatterternary\",\"marker\":{\"colorbar\":{\"outlinewidth\":0,\"ticks\":\"\"}}}],\"scattercarpet\":[{\"type\":\"scattercarpet\",\"marker\":{\"colorbar\":{\"outlinewidth\":0,\"ticks\":\"\"}}}],\"carpet\":[{\"aaxis\":{\"endlinecolor\":\"#2a3f5f\",\"gridcolor\":\"white\",\"linecolor\":\"white\",\"minorgridcolor\":\"white\",\"startlinecolor\":\"#2a3f5f\"},\"baxis\":{\"endlinecolor\":\"#2a3f5f\",\"gridcolor\":\"white\",\"linecolor\":\"white\",\"minorgridcolor\":\"white\",\"startlinecolor\":\"#2a3f5f\"},\"type\":\"carpet\"}],\"table\":[{\"cells\":{\"fill\":{\"color\":\"#EBF0F8\"},\"line\":{\"color\":\"white\"}},\"header\":{\"fill\":{\"color\":\"#C8D4E3\"},\"line\":{\"color\":\"white\"}},\"type\":\"table\"}],\"barpolar\":[{\"marker\":{\"line\":{\"color\":\"#E5ECF6\",\"width\":0.5},\"pattern\":{\"fillmode\":\"overlay\",\"size\":10,\"solidity\":0.2}},\"type\":\"barpolar\"}],\"pie\":[{\"automargin\":true,\"type\":\"pie\"}]},\"layout\":{\"autotypenumbers\":\"strict\",\"colorway\":[\"#636efa\",\"#EF553B\",\"#00cc96\",\"#ab63fa\",\"#FFA15A\",\"#19d3f3\",\"#FF6692\",\"#B6E880\",\"#FF97FF\",\"#FECB52\"],\"font\":{\"color\":\"#2a3f5f\"},\"hovermode\":\"closest\",\"hoverlabel\":{\"align\":\"left\"},\"paper_bgcolor\":\"white\",\"plot_bgcolor\":\"#E5ECF6\",\"polar\":{\"bgcolor\":\"#E5ECF6\",\"angularaxis\":{\"gridcolor\":\"white\",\"linecolor\":\"white\",\"ticks\":\"\"},\"radialaxis\":{\"gridcolor\":\"white\",\"linecolor\":\"white\",\"ticks\":\"\"}},\"ternary\":{\"bgcolor\":\"#E5ECF6\",\"aaxis\":{\"gridcolor\":\"white\",\"linecolor\":\"white\",\"ticks\":\"\"},\"baxis\":{\"gridcolor\":\"white\",\"linecolor\":\"white\",\"ticks\":\"\"},\"caxis\":{\"gridcolor\":\"white\",\"linecolor\":\"white\",\"ticks\":\"\"}},\"coloraxis\":{\"colorbar\":{\"outlinewidth\":0,\"ticks\":\"\"}},\"colorscale\":{\"sequential\":[[0.0,\"#0d0887\"],[0.1111111111111111,\"#46039f\"],[0.2222222222222222,\"#7201a8\"],[0.3333333333333333,\"#9c179e\"],[0.4444444444444444,\"#bd3786\"],[0.5555555555555556,\"#d8576b\"],[0.6666666666666666,\"#ed7953\"],[0.7777777777777778,\"#fb9f3a\"],[0.8888888888888888,\"#fdca26\"],[1.0,\"#f0f921\"]],\"sequentialminus\":[[0.0,\"#0d0887\"],[0.1111111111111111,\"#46039f\"],[0.2222222222222222,\"#7201a8\"],[0.3333333333333333,\"#9c179e\"],[0.4444444444444444,\"#bd3786\"],[0.5555555555555556,\"#d8576b\"],[0.6666666666666666,\"#ed7953\"],[0.7777777777777778,\"#fb9f3a\"],[0.8888888888888888,\"#fdca26\"],[1.0,\"#f0f921\"]],\"diverging\":[[0,\"#8e0152\"],[0.1,\"#c51b7d\"],[0.2,\"#de77ae\"],[0.3,\"#f1b6da\"],[0.4,\"#fde0ef\"],[0.5,\"#f7f7f7\"],[0.6,\"#e6f5d0\"],[0.7,\"#b8e186\"],[0.8,\"#7fbc41\"],[0.9,\"#4d9221\"],[1,\"#276419\"]]},\"xaxis\":{\"gridcolor\":\"white\",\"linecolor\":\"white\",\"ticks\":\"\",\"title\":{\"standoff\":15},\"zerolinecolor\":\"white\",\"automargin\":true,\"zerolinewidth\":2},\"yaxis\":{\"gridcolor\":\"white\",\"linecolor\":\"white\",\"ticks\":\"\",\"title\":{\"standoff\":15},\"zerolinecolor\":\"white\",\"automargin\":true,\"zerolinewidth\":2},\"scene\":{\"xaxis\":{\"backgroundcolor\":\"#E5ECF6\",\"gridcolor\":\"white\",\"linecolor\":\"white\",\"showbackground\":true,\"ticks\":\"\",\"zerolinecolor\":\"white\",\"gridwidth\":2},\"yaxis\":{\"backgroundcolor\":\"#E5ECF6\",\"gridcolor\":\"white\",\"linecolor\":\"white\",\"showbackground\":true,\"ticks\":\"\",\"zerolinecolor\":\"white\",\"gridwidth\":2},\"zaxis\":{\"backgroundcolor\":\"#E5ECF6\",\"gridcolor\":\"white\",\"linecolor\":\"white\",\"showbackground\":true,\"ticks\":\"\",\"zerolinecolor\":\"white\",\"gridwidth\":2}},\"shapedefaults\":{\"line\":{\"color\":\"#2a3f5f\"}},\"annotationdefaults\":{\"arrowcolor\":\"#2a3f5f\",\"arrowhead\":0,\"arrowwidth\":1},\"geo\":{\"bgcolor\":\"white\",\"landcolor\":\"#E5ECF6\",\"subunitcolor\":\"white\",\"showland\":true,\"showlakes\":true,\"lakecolor\":\"white\"},\"title\":{\"x\":0.05},\"mapbox\":{\"style\":\"light\"}}},\"xaxis\":{\"anchor\":\"y\",\"domain\":[0.0,0.49],\"title\":{\"text\":\"valence\"}},\"yaxis\":{\"anchor\":\"x\",\"domain\":[0.0,0.46499999999999997],\"title\":{\"text\":\"Average Popularity\"}},\"xaxis2\":{\"anchor\":\"y2\",\"domain\":[0.51,1.0],\"matches\":\"x\",\"title\":{\"text\":\"valence\"}},\"yaxis2\":{\"anchor\":\"x2\",\"domain\":[0.0,0.46499999999999997],\"matches\":\"y\",\"showticklabels\":false},\"xaxis3\":{\"anchor\":\"y3\",\"domain\":[0.0,0.49],\"matches\":\"x\",\"showticklabels\":false},\"yaxis3\":{\"anchor\":\"x3\",\"domain\":[0.5349999999999999,0.9999999999999999],\"matches\":\"y\",\"title\":{\"text\":\"Average Popularity\"}},\"xaxis4\":{\"anchor\":\"y4\",\"domain\":[0.51,1.0],\"matches\":\"x\",\"showticklabels\":false},\"yaxis4\":{\"anchor\":\"x4\",\"domain\":[0.5349999999999999,0.9999999999999999],\"matches\":\"y\",\"showticklabels\":false},\"annotations\":[{\"font\":{},\"showarrow\":false,\"text\":\"Album Name=Speak Now (Taylor's Version)\",\"x\":0.245,\"xanchor\":\"center\",\"xref\":\"paper\",\"y\":0.46499999999999997,\"yanchor\":\"bottom\",\"yref\":\"paper\"},{\"font\":{},\"showarrow\":false,\"text\":\"Album Name=1989 (Taylor's Version) [Deluxe]\",\"x\":0.755,\"xanchor\":\"center\",\"xref\":\"paper\",\"y\":0.46499999999999997,\"yanchor\":\"bottom\",\"yref\":\"paper\"},{\"font\":{},\"showarrow\":false,\"text\":\"Album Name=Fearless (Taylor's Version)\",\"x\":0.245,\"xanchor\":\"center\",\"xref\":\"paper\",\"y\":0.9999999999999999,\"yanchor\":\"bottom\",\"yref\":\"paper\"},{\"font\":{},\"showarrow\":false,\"text\":\"Album Name=Red (Taylor's Version)\",\"x\":0.755,\"xanchor\":\"center\",\"xref\":\"paper\",\"y\":0.9999999999999999,\"yanchor\":\"bottom\",\"yref\":\"paper\"}],\"legend\":{\"title\":{\"text\":\"From the Vault\"},\"tracegroupgap\":0},\"margin\":{\"t\":60}},                        {\"responsive\": true}                    ).then(function(){\n",
       "                            \n",
       "var gd = document.getElementById('9a617150-b216-4cc1-b172-7ca9170ae243');\n",
       "var x = new MutationObserver(function (mutations, observer) {{\n",
       "        var display = window.getComputedStyle(gd).display;\n",
       "        if (!display || display === 'none') {{\n",
       "            console.log([gd, 'removed!']);\n",
       "            Plotly.purge(gd);\n",
       "            observer.disconnect();\n",
       "        }}\n",
       "}});\n",
       "\n",
       "// Listen for the removal of the full notebook cells\n",
       "var notebookContainer = gd.closest('#notebook-container');\n",
       "if (notebookContainer) {{\n",
       "    x.observe(notebookContainer, {childList: true});\n",
       "}}\n",
       "\n",
       "// Listen for the clearing of the current output cell\n",
       "var outputEl = gd.closest('.output');\n",
       "if (outputEl) {{\n",
       "    x.observe(outputEl, {childList: true});\n",
       "}}\n",
       "\n",
       "                        })                };                });            </script>        </div>"
      ]
     },
     "metadata": {},
     "output_type": "display_data"
    }
   ],
   "source": [
    "vault = taylor_vs_non[taylor_vs_non['track.taylor_owns'] == True].copy()\n",
    "vault['track.from_vault'] = vault['track.name'].str.contains('Vault')\n",
    "\n",
    "fig = px.scatter(vault,\n",
    "                 x='valence', y='track.popularity', color='track.from_vault',\n",
    "                 hover_name='track.name',\n",
    "                 facet_col='track.album.name', facet_col_wrap=2,\n",
    "                 labels={'track.from_vault': 'From the Vault',\n",
    "                        'track.popularity': 'Average Popularity',\n",
    "                        'track.album.name': 'Album Name'})\n",
    "\n",
    "fig"
   ]
  },
  {
   "cell_type": "markdown",
   "metadata": {},
   "source": [
    "Here we have one plot per album, with popularity on the y-axis and valence, or how positive or negative the song seems to Spotify on the x-axis.\n",
    "While I would suspect that people that are knowledgeable with Taylor Swift's discography would disagree with the valence of many of these songs, it seems that the Vault tracks are not more or less popular than the other songs on the album, with the exception of \"All to Well (10 Minute Version) (Taylor's Version) (From the Vault)\".\n",
    "\n",
    "Spotify offers other song metrics on a scale of 0 to 1.\n",
    "Let's see if categories such as \"acousticness\", \"energy\", or \"danceability\" are different for the different albums.\n",
    "Moving forward, we will only use versions of albums that Taylor Swift owns, unless she has yet to release a new version."
   ]
  },
  {
   "cell_type": "code",
   "execution_count": 7,
   "metadata": {},
   "outputs": [],
   "source": [
    "# identify tracks on albums from non-Taylor's version\n",
    "new_df = df[~df['track.album.name'].isin(['1989', 'Fearless', 'Red', 'Speak Now'])]"
   ]
  },
  {
   "cell_type": "markdown",
   "metadata": {},
   "source": [
    "First, we will see if any of these variables are correlated."
   ]
  },
  {
   "cell_type": "code",
   "execution_count": 8,
   "metadata": {},
   "outputs": [
    {
     "data": {
      "image/png": "[encoded data removed]",
      "text/plain": [
       "<Figure size 640x480 with 2 Axes>"
      ]
     },
     "metadata": {},
     "output_type": "display_data"
    }
   ],
   "source": [
    "corr = new_df[['danceability', 'energy', 'acousticness', 'liveness', 'valence']].corr()\n",
    "sns.heatmap(corr, annot=True, center=0, cmap='RdBu')\n",
    "plt.show()"
   ]
  },
  {
   "cell_type": "markdown",
   "metadata": {},
   "source": [
    "I would have expected energy and danceability to be correlated, but that doesn't seem to be the case here.\n",
    "The biggest takeaways are that Taylor Swift songs that are lower energy are more acoustic, and songs with lower energy also tend to have lower valence."
   ]
  },
  {
   "cell_type": "code",
   "execution_count": 14,
   "metadata": {},
   "outputs": [
    {
     "data": {
      "application/vnd.plotly.v1+json": {
       "config": {
        "plotlyServerURL": "https://plot.ly"
       },
       "data": [
        {
         "alignmentgroup": "True",
         "boxmean": true,
         "boxpoints": "all",
         "hovertemplate": "<b>%{hovertext}</b><br><br>Album Name=Taylor Swift<br>variable=%{x}<br>value=%{y}<extra></extra>",
         "hovertext": [
          "Tim McGraw",
          "Picture To Burn",
          "Teardrops On My Guitar - Radio Single Remix",
          "A Place in this World",
          "Cold As You",
          "The Outside",
          "Tied Together with a Smile",
          "Stay Beautiful",
          "Should've Said No",
          "Mary's Song (Oh My My My)",
          "Our Song",
          "I'm Only Me When I'm With You",
          "Invisible",
          "A Perfectly Good Heart",
          "Teardrops on My Guitar - Pop Version",
          "Tim McGraw",
          "Picture To Burn",
          "Teardrops On My Guitar - Radio Single Remix",
          "A Place in this World",
          "Cold As You",
          "The Outside",
          "Tied Together with a Smile",
          "Stay Beautiful",
          "Should've Said No",
          "Mary's Song (Oh My My My)",
          "Our Song",
          "I'm Only Me When I'm With You",
          "Invisible",
          "A Perfectly Good Heart",
          "Teardrops on My Guitar - Pop Version"
         ],
         "legendgroup": "Taylor Swift",
         "marker": {
          "color": "#636efa"
         },
         "name": "Taylor Swift",
         "notched": false,
         "offsetgroup": "Taylor Swift",
         "orientation": "v",
         "showlegend": true,
         "type": "box",
         "x": [
          "danceability",
          "danceability",
          "danceability",
          "danceability",
          "danceability",
          "danceability",
          "danceability",
          "danceability",
          "danceability",
          "danceability",
          "danceability",
          "danceability",
          "danceability",
          "danceability",
          "danceability",
          "energy",
          "energy",
          "energy",
          "energy",
          "energy",
          "energy",
          "energy",
          "energy",
          "energy",
          "energy",
          "energy",
          "energy",
          "energy",
          "energy",
          "energy"
         ],
         "x0": " ",
         "xaxis": "x",
         "y": [
          0.58,
          0.658,
          0.621,
          0.576,
          0.418,
          0.589,
          0.479,
          0.594,
          0.476,
          0.403,
          0.668,
          0.563,
          0.612,
          0.483,
          0.459,
          0.491,
          0.877,
          0.417,
          0.777,
          0.482,
          0.805,
          0.578,
          0.629,
          0.777,
          0.627,
          0.672,
          0.934,
          0.394,
          0.751,
          0.753
         ],
         "y0": " ",
         "yaxis": "y"
        },
        {
         "alignmentgroup": "True",
         "boxmean": true,
         "boxpoints": "all",
         "hovertemplate": "<b>%{hovertext}</b><br><br>Album Name=reputation<br>variable=%{x}<br>value=%{y}<extra></extra>",
         "hovertext": [
          "...Ready For It?",
          "End Game",
          "I Did Something Bad",
          "Don’t Blame Me",
          "Delicate",
          "Look What You Made Me Do",
          "So It Goes...",
          "Gorgeous",
          "Getaway Car",
          "King Of My Heart",
          "Dancing With Our Hands Tied",
          "Dress",
          "This Is Why We Can't Have Nice Things",
          "Call It What You Want",
          "New Year’s Day",
          "...Ready For It?",
          "End Game",
          "I Did Something Bad",
          "Don’t Blame Me",
          "Delicate",
          "Look What You Made Me Do",
          "So It Goes...",
          "Gorgeous",
          "Getaway Car",
          "King Of My Heart",
          "Dancing With Our Hands Tied",
          "Dress",
          "This Is Why We Can't Have Nice Things",
          "Call It What You Want",
          "New Year’s Day"
         ],
         "legendgroup": "reputation",
         "marker": {
          "color": "#EF553B"
         },
         "name": "reputation",
         "notched": false,
         "offsetgroup": "reputation",
         "orientation": "v",
         "showlegend": true,
         "type": "box",
         "x": [
          "danceability",
          "danceability",
          "danceability",
          "danceability",
          "danceability",
          "danceability",
          "danceability",
          "danceability",
          "danceability",
          "danceability",
          "danceability",
          "danceability",
          "danceability",
          "danceability",
          "danceability",
          "energy",
          "energy",
          "energy",
          "energy",
          "energy",
          "energy",
          "energy",
          "energy",
          "energy",
          "energy",
          "energy",
          "energy",
          "energy",
          "energy",
          "energy"
         ],
         "x0": " ",
         "xaxis": "x",
         "y": [
          0.613,
          0.649,
          0.696,
          0.615,
          0.75,
          0.766,
          0.574,
          0.8,
          0.562,
          0.675,
          0.624,
          0.719,
          0.567,
          0.598,
          0.661,
          0.764,
          0.589,
          0.602,
          0.534,
          0.404,
          0.709,
          0.61,
          0.535,
          0.689,
          0.703,
          0.691,
          0.469,
          0.789,
          0.504,
          0.151
         ],
         "y0": " ",
         "yaxis": "y"
        },
        {
         "alignmentgroup": "True",
         "boxmean": true,
         "boxpoints": "all",
         "hovertemplate": "<b>%{hovertext}</b><br><br>Album Name=Lover<br>variable=%{x}<br>value=%{y}<extra></extra>",
         "hovertext": [
          "I Forgot That You Existed",
          "Cruel Summer",
          "Lover",
          "The Man",
          "The Archer",
          "I Think He Knows",
          "Miss Americana & The Heartbreak Prince",
          "Paper Rings",
          "Cornelia Street",
          "Death By A Thousand Cuts",
          "London Boy",
          "Soon You’ll Get Better (feat. The Chicks)",
          "False God",
          "You Need To Calm Down",
          "Afterglow",
          "ME! (feat. Brendon Urie of Panic! At The Disco)",
          "It’s Nice To Have A Friend",
          "Daylight",
          "I Forgot That You Existed",
          "Cruel Summer",
          "Lover",
          "The Man",
          "The Archer",
          "I Think He Knows",
          "Miss Americana & The Heartbreak Prince",
          "Paper Rings",
          "Cornelia Street",
          "Death By A Thousand Cuts",
          "London Boy",
          "Soon You’ll Get Better (feat. The Chicks)",
          "False God",
          "You Need To Calm Down",
          "Afterglow",
          "ME! (feat. Brendon Urie of Panic! At The Disco)",
          "It’s Nice To Have A Friend",
          "Daylight"
         ],
         "legendgroup": "Lover",
         "marker": {
          "color": "#00cc96"
         },
         "name": "Lover",
         "notched": false,
         "offsetgroup": "Lover",
         "orientation": "v",
         "showlegend": true,
         "type": "box",
         "x": [
          "danceability",
          "danceability",
          "danceability",
          "danceability",
          "danceability",
          "danceability",
          "danceability",
          "danceability",
          "danceability",
          "danceability",
          "danceability",
          "danceability",
          "danceability",
          "danceability",
          "danceability",
          "danceability",
          "danceability",
          "danceability",
          "energy",
          "energy",
          "energy",
          "energy",
          "energy",
          "energy",
          "energy",
          "energy",
          "energy",
          "energy",
          "energy",
          "energy",
          "energy",
          "energy",
          "energy",
          "energy",
          "energy",
          "energy"
         ],
         "x0": " ",
         "xaxis": "x",
         "y": [
          0.664,
          0.552,
          0.359,
          0.777,
          0.292,
          0.897,
          0.662,
          0.811,
          0.824,
          0.712,
          0.695,
          0.433,
          0.739,
          0.771,
          0.756,
          0.61,
          0.737,
          0.557,
          0.316,
          0.702,
          0.543,
          0.658,
          0.574,
          0.366,
          0.747,
          0.719,
          0.624,
          0.732,
          0.71,
          0.182,
          0.32,
          0.671,
          0.449,
          0.83,
          0.175,
          0.496
         ],
         "y0": " ",
         "yaxis": "y"
        },
        {
         "alignmentgroup": "True",
         "boxmean": true,
         "boxpoints": "all",
         "hovertemplate": "<b>%{hovertext}</b><br><br>Album Name=folklore<br>variable=%{x}<br>value=%{y}<extra></extra>",
         "hovertext": [
          "the 1",
          "cardigan",
          "the last great american dynasty",
          "exile (feat. Bon Iver)",
          "my tears ricochet",
          "mirrorball",
          "seven",
          "august",
          "this is me trying",
          "illicit affairs",
          "invisible string",
          "mad woman",
          "epiphany",
          "betty",
          "peace",
          "hoax",
          "the 1",
          "cardigan",
          "the last great american dynasty",
          "exile (feat. Bon Iver)",
          "my tears ricochet",
          "mirrorball",
          "seven",
          "august",
          "this is me trying",
          "illicit affairs",
          "invisible string",
          "mad woman",
          "epiphany",
          "betty",
          "peace",
          "hoax"
         ],
         "legendgroup": "folklore",
         "marker": {
          "color": "#ab63fa"
         },
         "name": "folklore",
         "notched": false,
         "offsetgroup": "folklore",
         "orientation": "v",
         "showlegend": true,
         "type": "box",
         "x": [
          "danceability",
          "danceability",
          "danceability",
          "danceability",
          "danceability",
          "danceability",
          "danceability",
          "danceability",
          "danceability",
          "danceability",
          "danceability",
          "danceability",
          "danceability",
          "danceability",
          "danceability",
          "danceability",
          "energy",
          "energy",
          "energy",
          "energy",
          "energy",
          "energy",
          "energy",
          "energy",
          "energy",
          "energy",
          "energy",
          "energy",
          "energy",
          "energy",
          "energy",
          "energy"
         ],
         "x0": " ",
         "xaxis": "x",
         "y": [
          0.777,
          0.613,
          0.686,
          0.298,
          0.456,
          0.553,
          0.596,
          0.532,
          0.515,
          0.559,
          0.653,
          0.592,
          0.354,
          0.593,
          0.647,
          0.662,
          0.357,
          0.581,
          0.662,
          0.38,
          0.263,
          0.413,
          0.488,
          0.623,
          0.476,
          0.31,
          0.452,
          0.699,
          0.267,
          0.377,
          0.272,
          0.181
         ],
         "y0": " ",
         "yaxis": "y"
        },
        {
         "alignmentgroup": "True",
         "boxmean": true,
         "boxpoints": "all",
         "hovertemplate": "<b>%{hovertext}</b><br><br>Album Name=evermore<br>variable=%{x}<br>value=%{y}<extra></extra>",
         "hovertext": [
          "willow",
          "champagne problems",
          "gold rush",
          "‘tis the damn season",
          "tolerate it",
          "no body, no crime (feat. HAIM)",
          "happiness",
          "dorothea",
          "coney island (feat. The National)",
          "ivy",
          "cowboy like me",
          "long story short",
          "marjorie",
          "closure",
          "evermore (feat. Bon Iver)",
          "willow",
          "champagne problems",
          "gold rush",
          "‘tis the damn season",
          "tolerate it",
          "no body, no crime (feat. HAIM)",
          "happiness",
          "dorothea",
          "coney island (feat. The National)",
          "ivy",
          "cowboy like me",
          "long story short",
          "marjorie",
          "closure",
          "evermore (feat. Bon Iver)"
         ],
         "legendgroup": "evermore",
         "marker": {
          "color": "#FFA15A"
         },
         "name": "evermore",
         "notched": false,
         "offsetgroup": "evermore",
         "orientation": "v",
         "showlegend": true,
         "type": "box",
         "x": [
          "danceability",
          "danceability",
          "danceability",
          "danceability",
          "danceability",
          "danceability",
          "danceability",
          "danceability",
          "danceability",
          "danceability",
          "danceability",
          "danceability",
          "danceability",
          "danceability",
          "danceability",
          "energy",
          "energy",
          "energy",
          "energy",
          "energy",
          "energy",
          "energy",
          "energy",
          "energy",
          "energy",
          "energy",
          "energy",
          "energy",
          "energy",
          "energy"
         ],
         "x0": " ",
         "xaxis": "x",
         "y": [
          0.392,
          0.462,
          0.512,
          0.575,
          0.316,
          0.546,
          0.559,
          0.605,
          0.537,
          0.515,
          0.604,
          0.546,
          0.535,
          0.689,
          0.39,
          0.574,
          0.24,
          0.462,
          0.434,
          0.361,
          0.613,
          0.334,
          0.488,
          0.537,
          0.545,
          0.517,
          0.73,
          0.561,
          0.704,
          0.27
         ],
         "y0": " ",
         "yaxis": "y"
        },
        {
         "alignmentgroup": "True",
         "boxmean": true,
         "boxpoints": "all",
         "hovertemplate": "<b>%{hovertext}</b><br><br>Album Name=Fearless (Taylor's Version)<br>variable=%{x}<br>value=%{y}<extra></extra>",
         "hovertext": [
          "Fearless (Taylor’s Version)",
          "Fifteen (Taylor’s Version)",
          "Love Story (Taylor’s Version)",
          "Hey Stephen (Taylor’s Version)",
          "White Horse (Taylor’s Version)",
          "You Belong With Me (Taylor’s Version)",
          "Breathe (feat. Colbie Caillat) (Taylor’s Version)",
          "Tell Me Why (Taylor’s Version)",
          "You’re Not Sorry (Taylor’s Version)",
          "The Way I Loved You (Taylor’s Version)",
          "Forever & Always (Taylor’s Version)",
          "The Best Day (Taylor’s Version)",
          "Change (Taylor’s Version)",
          "Jump Then Fall (Taylor’s Version)",
          "Untouchable (Taylor’s Version)",
          "Forever & Always (Piano Version) (Taylor’s Version)",
          "Come In With The Rain (Taylor’s Version)",
          "Superstar (Taylor’s Version)",
          "The Other Side Of The Door (Taylor’s Version)",
          "Today Was A Fairytale (Taylor’s Version)",
          "You All Over Me (feat. Maren Morris) (Taylor’s Version) (From The Vault)",
          "Mr. Perfectly Fine (Taylor’s Version) (From The Vault)",
          "We Were Happy (Taylor’s Version) (From The Vault)",
          "That’s When (feat. Keith Urban) (Taylor’s Version) (From The Vault)",
          "Don’t You (Taylor’s Version) (From The Vault)",
          "Bye Bye Baby (Taylor’s Version) (From The Vault)",
          "Fearless (Taylor’s Version)",
          "Fifteen (Taylor’s Version)",
          "Love Story (Taylor’s Version)",
          "Hey Stephen (Taylor’s Version)",
          "White Horse (Taylor’s Version)",
          "You Belong With Me (Taylor’s Version)",
          "Breathe (feat. Colbie Caillat) (Taylor’s Version)",
          "Tell Me Why (Taylor’s Version)",
          "You’re Not Sorry (Taylor’s Version)",
          "The Way I Loved You (Taylor’s Version)",
          "Forever & Always (Taylor’s Version)",
          "The Best Day (Taylor’s Version)",
          "Change (Taylor’s Version)",
          "Jump Then Fall (Taylor’s Version)",
          "Untouchable (Taylor’s Version)",
          "Forever & Always (Piano Version) (Taylor’s Version)",
          "Come In With The Rain (Taylor’s Version)",
          "Superstar (Taylor’s Version)",
          "The Other Side Of The Door (Taylor’s Version)",
          "Today Was A Fairytale (Taylor’s Version)",
          "You All Over Me (feat. Maren Morris) (Taylor’s Version) (From The Vault)",
          "Mr. Perfectly Fine (Taylor’s Version) (From The Vault)",
          "We Were Happy (Taylor’s Version) (From The Vault)",
          "That’s When (feat. Keith Urban) (Taylor’s Version) (From The Vault)",
          "Don’t You (Taylor’s Version) (From The Vault)",
          "Bye Bye Baby (Taylor’s Version) (From The Vault)"
         ],
         "legendgroup": "Fearless (Taylor's Version)",
         "marker": {
          "color": "#19d3f3"
         },
         "name": "Fearless (Taylor's Version)",
         "notched": false,
         "offsetgroup": "Fearless (Taylor's Version)",
         "orientation": "v",
         "showlegend": true,
         "type": "box",
         "x": [
          "danceability",
          "danceability",
          "danceability",
          "danceability",
          "danceability",
          "danceability",
          "danceability",
          "danceability",
          "danceability",
          "danceability",
          "danceability",
          "danceability",
          "danceability",
          "danceability",
          "danceability",
          "danceability",
          "danceability",
          "danceability",
          "danceability",
          "danceability",
          "danceability",
          "danceability",
          "danceability",
          "danceability",
          "danceability",
          "danceability",
          "energy",
          "energy",
          "energy",
          "energy",
          "energy",
          "energy",
          "energy",
          "energy",
          "energy",
          "energy",
          "energy",
          "energy",
          "energy",
          "energy",
          "energy",
          "energy",
          "energy",
          "energy",
          "energy",
          "energy",
          "energy",
          "energy",
          "energy",
          "energy",
          "energy",
          "energy"
         ],
         "x0": " ",
         "xaxis": "x",
         "y": [
          0.569,
          0.559,
          0.627,
          0.788,
          0.423,
          0.632,
          0.506,
          0.578,
          0.506,
          0.402,
          0.598,
          0.642,
          0.499,
          0.572,
          0.393,
          0.546,
          0.476,
          0.454,
          0.432,
          0.482,
          0.599,
          0.66,
          0.609,
          0.588,
          0.563,
          0.624,
          0.741,
          0.646,
          0.792,
          0.571,
          0.517,
          0.773,
          0.626,
          0.909,
          0.444,
          0.732,
          0.821,
          0.576,
          0.815,
          0.69,
          0.531,
          0.273,
          0.564,
          0.555,
          0.873,
          0.779,
          0.494,
          0.817,
          0.373,
          0.608,
          0.473,
          0.624
         ],
         "y0": " ",
         "yaxis": "y"
        },
        {
         "alignmentgroup": "True",
         "boxmean": true,
         "boxpoints": "all",
         "hovertemplate": "<b>%{hovertext}</b><br><br>Album Name=Red (Taylor's Version)<br>variable=%{x}<br>value=%{y}<extra></extra>",
         "hovertext": [
          "State Of Grace (Taylor's Version)",
          "Red (Taylor's Version)",
          "Treacherous (Taylor's Version)",
          "I Knew You Were Trouble (Taylor's Version)",
          "All Too Well (Taylor's Version)",
          "22 (Taylor's Version)",
          "I Almost Do (Taylor's Version)",
          "We Are Never Ever Getting Back Together (Taylor's Version)",
          "Stay Stay Stay (Taylor's Version)",
          "The Last Time (feat. Gary Lightbody of Snow Patrol) (Taylor’s Version)",
          "Holy Ground (Taylor's Version)",
          "Sad Beautiful Tragic (Taylor's Version)",
          "The Lucky One (Taylor's Version)",
          "Everything Has Changed (feat. Ed Sheeran) (Taylor’s Version)",
          "Starlight (Taylor's Version)",
          "Begin Again (Taylor's Version)",
          "The Moment I Knew (Taylor's Version)",
          "Come Back...Be Here (Taylor's Version)",
          "Girl At Home (Taylor's Version)",
          "State Of Grace (Acoustic Version) (Taylor's Version)",
          "Ronan (Taylor's Version)",
          "Better Man (Taylor's Version) (From The Vault)",
          "Nothing New (feat. Phoebe Bridgers) (Taylor’s Version) (From The Vault)",
          "Babe (Taylor's Version) (From The Vault)",
          "Message In A Bottle (Taylor's Version) (From The Vault)",
          "I Bet You Think About Me (feat. Chris Stapleton) (Taylor’s Version) (From The Vault)",
          "Forever Winter (Taylor's Version) (From The Vault)",
          "Run (feat. Ed Sheeran) (Taylor’s Version) (From The Vault)",
          "The Very First Night (Taylor's Version) (From The Vault)",
          "All Too Well (10 Minute Version) (Taylor's Version) (From The Vault)",
          "State Of Grace (Taylor's Version)",
          "Red (Taylor's Version)",
          "Treacherous (Taylor's Version)",
          "I Knew You Were Trouble (Taylor's Version)",
          "All Too Well (Taylor's Version)",
          "22 (Taylor's Version)",
          "I Almost Do (Taylor's Version)",
          "We Are Never Ever Getting Back Together (Taylor's Version)",
          "Stay Stay Stay (Taylor's Version)",
          "The Last Time (feat. Gary Lightbody of Snow Patrol) (Taylor’s Version)",
          "Holy Ground (Taylor's Version)",
          "Sad Beautiful Tragic (Taylor's Version)",
          "The Lucky One (Taylor's Version)",
          "Everything Has Changed (feat. Ed Sheeran) (Taylor’s Version)",
          "Starlight (Taylor's Version)",
          "Begin Again (Taylor's Version)",
          "The Moment I Knew (Taylor's Version)",
          "Come Back...Be Here (Taylor's Version)",
          "Girl At Home (Taylor's Version)",
          "State Of Grace (Acoustic Version) (Taylor's Version)",
          "Ronan (Taylor's Version)",
          "Better Man (Taylor's Version) (From The Vault)",
          "Nothing New (feat. Phoebe Bridgers) (Taylor’s Version) (From The Vault)",
          "Babe (Taylor's Version) (From The Vault)",
          "Message In A Bottle (Taylor's Version) (From The Vault)",
          "I Bet You Think About Me (feat. Chris Stapleton) (Taylor’s Version) (From The Vault)",
          "Forever Winter (Taylor's Version) (From The Vault)",
          "Run (feat. Ed Sheeran) (Taylor’s Version) (From The Vault)",
          "The Very First Night (Taylor's Version) (From The Vault)",
          "All Too Well (10 Minute Version) (Taylor's Version) (From The Vault)"
         ],
         "legendgroup": "Red (Taylor's Version)",
         "marker": {
          "color": "#FF6692"
         },
         "name": "Red (Taylor's Version)",
         "notched": false,
         "offsetgroup": "Red (Taylor's Version)",
         "orientation": "v",
         "showlegend": true,
         "type": "box",
         "x": [
          "danceability",
          "danceability",
          "danceability",
          "danceability",
          "danceability",
          "danceability",
          "danceability",
          "danceability",
          "danceability",
          "danceability",
          "danceability",
          "danceability",
          "danceability",
          "danceability",
          "danceability",
          "danceability",
          "danceability",
          "danceability",
          "danceability",
          "danceability",
          "danceability",
          "danceability",
          "danceability",
          "danceability",
          "danceability",
          "danceability",
          "danceability",
          "danceability",
          "danceability",
          "danceability",
          "energy",
          "energy",
          "energy",
          "energy",
          "energy",
          "energy",
          "energy",
          "energy",
          "energy",
          "energy",
          "energy",
          "energy",
          "energy",
          "energy",
          "energy",
          "energy",
          "energy",
          "energy",
          "energy",
          "energy",
          "energy",
          "energy",
          "energy",
          "energy",
          "energy",
          "energy",
          "energy",
          "energy",
          "energy",
          "energy"
         ],
         "x0": " ",
         "xaxis": "x",
         "y": [
          0.594,
          0.516,
          0.645,
          0.584,
          0.44,
          0.642,
          0.511,
          0.567,
          0.693,
          0.502,
          0.622,
          0.601,
          0.686,
          0.498,
          0.628,
          0.519,
          0.636,
          0.46,
          0.691,
          0.445,
          0.623,
          0.473,
          0.606,
          0.584,
          0.622,
          0.391,
          0.611,
          0.61,
          0.678,
          0.631,
          0.713,
          0.777,
          0.593,
          0.557,
          0.528,
          0.695,
          0.559,
          0.686,
          0.681,
          0.534,
          0.809,
          0.406,
          0.571,
          0.61,
          0.685,
          0.527,
          0.402,
          0.632,
          0.736,
          0.131,
          0.279,
          0.579,
          0.377,
          0.743,
          0.791,
          0.715,
          0.552,
          0.488,
          0.733,
          0.518
         ],
         "y0": " ",
         "yaxis": "y"
        },
        {
         "alignmentgroup": "True",
         "boxmean": true,
         "boxpoints": "all",
         "hovertemplate": "<b>%{hovertext}</b><br><br>Album Name=Midnights (3am Edition)<br>variable=%{x}<br>value=%{y}<extra></extra>",
         "hovertext": [
          "Lavender Haze",
          "Maroon",
          "Anti-Hero",
          "Snow On The Beach (feat. Lana Del Rey)",
          "You're On Your Own, Kid",
          "Midnight Rain",
          "Question...?",
          "Vigilante Shit",
          "Bejeweled",
          "Labyrinth",
          "Karma",
          "Sweet Nothing",
          "Mastermind",
          "The Great War",
          "Bigger Than The Whole Sky",
          "Paris",
          "High Infidelity",
          "Glitch",
          "Would've, Could've, Should've",
          "Dear Reader",
          "Lavender Haze",
          "Maroon",
          "Anti-Hero",
          "Snow On The Beach (feat. Lana Del Rey)",
          "You're On Your Own, Kid",
          "Midnight Rain",
          "Question...?",
          "Vigilante Shit",
          "Bejeweled",
          "Labyrinth",
          "Karma",
          "Sweet Nothing",
          "Mastermind",
          "The Great War",
          "Bigger Than The Whole Sky",
          "Paris",
          "High Infidelity",
          "Glitch",
          "Would've, Could've, Should've",
          "Dear Reader"
         ],
         "legendgroup": "Midnights (3am Edition)",
         "marker": {
          "color": "#B6E880"
         },
         "name": "Midnights (3am Edition)",
         "notched": false,
         "offsetgroup": "Midnights (3am Edition)",
         "orientation": "v",
         "showlegend": true,
         "type": "box",
         "x": [
          "danceability",
          "danceability",
          "danceability",
          "danceability",
          "danceability",
          "danceability",
          "danceability",
          "danceability",
          "danceability",
          "danceability",
          "danceability",
          "danceability",
          "danceability",
          "danceability",
          "danceability",
          "danceability",
          "danceability",
          "danceability",
          "danceability",
          "danceability",
          "energy",
          "energy",
          "energy",
          "energy",
          "energy",
          "energy",
          "energy",
          "energy",
          "energy",
          "energy",
          "energy",
          "energy",
          "energy",
          "energy",
          "energy",
          "energy",
          "energy",
          "energy",
          "energy",
          "energy"
         ],
         "x0": " ",
         "xaxis": "x",
         "y": [
          0.735,
          0.658,
          0.638,
          0.659,
          0.694,
          0.636,
          0.751,
          0.87,
          0.7,
          0.487,
          0.649,
          0.334,
          0.661,
          0.573,
          0.422,
          0.7,
          0.646,
          0.675,
          0.483,
          0.562,
          0.444,
          0.378,
          0.634,
          0.323,
          0.38,
          0.377,
          0.502,
          0.279,
          0.55,
          0.313,
          0.622,
          0.161,
          0.352,
          0.741,
          0.235,
          0.509,
          0.529,
          0.466,
          0.84,
          0.388
         ],
         "y0": " ",
         "yaxis": "y"
        },
        {
         "alignmentgroup": "True",
         "boxmean": true,
         "boxpoints": "all",
         "hovertemplate": "<b>%{hovertext}</b><br><br>Album Name=Speak Now (Taylor's Version)<br>variable=%{x}<br>value=%{y}<extra></extra>",
         "hovertext": [
          "Mine (Taylor's Version)",
          "Sparks Fly (Taylor’s Version)",
          "Speak Now (Taylor's Version)",
          "Back To December (Taylor's Version)",
          "Dear John (Taylor's Version)",
          "Mean (Taylor's Version)",
          "The Story Of Us (Taylor's Version)",
          "Never Grow Up (Taylor's Version)",
          "Enchanted (Taylor's Version)",
          "Better Than Revenge (Taylor's Version)",
          "Innocent (Taylor's Version)",
          "Haunted (Taylor's Version)",
          "Last Kiss (Taylor's Version)",
          "Long Live (Taylor's Version)",
          "Ours (Taylor’s Version)",
          "Superman (Taylor’s Version)",
          "Electric Touch (feat. Fall Out Boy) (Taylor’s Version) (From The Vault)",
          "When Emma Falls in Love (Taylor’s Version) (From The Vault)",
          "I Can See You (Taylor’s Version) (From The Vault)",
          "Castles Crumbling (feat. Hayley Williams) (Taylor’s Version) (From The Vault)",
          "Timeless (Taylor’s Version) (From The Vault)",
          "Mine (Taylor's Version)",
          "Sparks Fly (Taylor’s Version)",
          "Speak Now (Taylor's Version)",
          "Back To December (Taylor's Version)",
          "Dear John (Taylor's Version)",
          "Mean (Taylor's Version)",
          "The Story Of Us (Taylor's Version)",
          "Never Grow Up (Taylor's Version)",
          "Enchanted (Taylor's Version)",
          "Better Than Revenge (Taylor's Version)",
          "Innocent (Taylor's Version)",
          "Haunted (Taylor's Version)",
          "Last Kiss (Taylor's Version)",
          "Long Live (Taylor's Version)",
          "Ours (Taylor’s Version)",
          "Superman (Taylor’s Version)",
          "Electric Touch (feat. Fall Out Boy) (Taylor’s Version) (From The Vault)",
          "When Emma Falls in Love (Taylor’s Version) (From The Vault)",
          "I Can See You (Taylor’s Version) (From The Vault)",
          "Castles Crumbling (feat. Hayley Williams) (Taylor’s Version) (From The Vault)",
          "Timeless (Taylor’s Version) (From The Vault)"
         ],
         "legendgroup": "Speak Now (Taylor's Version)",
         "marker": {
          "color": "#FF97FF"
         },
         "name": "Speak Now (Taylor's Version)",
         "notched": false,
         "offsetgroup": "Speak Now (Taylor's Version)",
         "orientation": "v",
         "showlegend": true,
         "type": "box",
         "x": [
          "danceability",
          "danceability",
          "danceability",
          "danceability",
          "danceability",
          "danceability",
          "danceability",
          "danceability",
          "danceability",
          "danceability",
          "danceability",
          "danceability",
          "danceability",
          "danceability",
          "danceability",
          "danceability",
          "danceability",
          "danceability",
          "danceability",
          "danceability",
          "danceability",
          "energy",
          "energy",
          "energy",
          "energy",
          "energy",
          "energy",
          "energy",
          "energy",
          "energy",
          "energy",
          "energy",
          "energy",
          "energy",
          "energy",
          "energy",
          "energy",
          "energy",
          "energy",
          "energy",
          "energy",
          "energy"
         ],
         "x0": " ",
         "xaxis": "x",
         "y": [
          0.646,
          0.588,
          0.727,
          0.497,
          0.419,
          0.524,
          0.515,
          0.685,
          0.505,
          0.496,
          0.522,
          0.427,
          0.55,
          0.375,
          0.535,
          0.533,
          0.547,
          0.474,
          0.694,
          0.576,
          0.624,
          0.783,
          0.758,
          0.677,
          0.635,
          0.47,
          0.692,
          0.781,
          0.323,
          0.532,
          0.885,
          0.598,
          0.915,
          0.366,
          0.65,
          0.488,
          0.742,
          0.855,
          0.763,
          0.764,
          0.57,
          0.585
         ],
         "y0": " ",
         "yaxis": "y"
        },
        {
         "alignmentgroup": "True",
         "boxmean": true,
         "boxpoints": "all",
         "hovertemplate": "<b>%{hovertext}</b><br><br>Album Name=1989 (Taylor's Version) [Deluxe]<br>variable=%{x}<br>value=%{y}<extra></extra>",
         "hovertext": [
          "Welcome To New York (Taylor's Version)",
          "Blank Space (Taylor's Version)",
          "Style (Taylor's Version)",
          "Out Of The Woods (Taylor's Version)",
          "All You Had To Do Was Stay (Taylor's Version)",
          "Shake It Off (Taylor's Version)",
          "I Wish You Would (Taylor's Version)",
          "Bad Blood (Taylor's Version)",
          "Wildest Dreams (Taylor's Version)",
          "How You Get The Girl (Taylor's Version)",
          "This Love (Taylor’s Version)",
          "I Know Places (Taylor's Version)",
          "Clean (Taylor's Version)",
          "Wonderland (Taylor's Version)",
          "You Are In Love (Taylor's Version)",
          "New Romantics (Taylor's Version)",
          "\"Slut!\" (Taylor's Version) (From The Vault)",
          "Say Don't Go (Taylor's Version) (From The Vault)",
          "Now That We Don't Talk (Taylor's Version) (From The Vault)",
          "Suburban Legends (Taylor's Version) (From The Vault)",
          "Is It Over Now? (Taylor's Version) (From The Vault)",
          "Bad Blood (feat. Kendrick Lamar) (Taylor's Version)",
          "Welcome To New York (Taylor's Version)",
          "Blank Space (Taylor's Version)",
          "Style (Taylor's Version)",
          "Out Of The Woods (Taylor's Version)",
          "All You Had To Do Was Stay (Taylor's Version)",
          "Shake It Off (Taylor's Version)",
          "I Wish You Would (Taylor's Version)",
          "Bad Blood (Taylor's Version)",
          "Wildest Dreams (Taylor's Version)",
          "How You Get The Girl (Taylor's Version)",
          "This Love (Taylor’s Version)",
          "I Know Places (Taylor's Version)",
          "Clean (Taylor's Version)",
          "Wonderland (Taylor's Version)",
          "You Are In Love (Taylor's Version)",
          "New Romantics (Taylor's Version)",
          "\"Slut!\" (Taylor's Version) (From The Vault)",
          "Say Don't Go (Taylor's Version) (From The Vault)",
          "Now That We Don't Talk (Taylor's Version) (From The Vault)",
          "Suburban Legends (Taylor's Version) (From The Vault)",
          "Is It Over Now? (Taylor's Version) (From The Vault)",
          "Bad Blood (feat. Kendrick Lamar) (Taylor's Version)"
         ],
         "legendgroup": "1989 (Taylor's Version) [Deluxe]",
         "marker": {
          "color": "#FECB52"
         },
         "name": "1989 (Taylor's Version) [Deluxe]",
         "notched": false,
         "offsetgroup": "1989 (Taylor's Version) [Deluxe]",
         "orientation": "v",
         "showlegend": true,
         "type": "box",
         "x": [
          "danceability",
          "danceability",
          "danceability",
          "danceability",
          "danceability",
          "danceability",
          "danceability",
          "danceability",
          "danceability",
          "danceability",
          "danceability",
          "danceability",
          "danceability",
          "danceability",
          "danceability",
          "danceability",
          "danceability",
          "danceability",
          "danceability",
          "danceability",
          "danceability",
          "danceability",
          "energy",
          "energy",
          "energy",
          "energy",
          "energy",
          "energy",
          "energy",
          "energy",
          "energy",
          "energy",
          "energy",
          "energy",
          "energy",
          "energy",
          "energy",
          "energy",
          "energy",
          "energy",
          "energy",
          "energy",
          "energy",
          "energy"
         ],
         "x0": " ",
         "xaxis": "x",
         "y": [
          0.757,
          0.733,
          0.511,
          0.545,
          0.588,
          0.636,
          0.67,
          0.618,
          0.589,
          0.758,
          0.471,
          0.582,
          0.772,
          0.464,
          0.363,
          0.649,
          0.591,
          0.633,
          0.8,
          0.701,
          0.595,
          0.602,
          0.61,
          0.733,
          0.822,
          0.885,
          0.721,
          0.808,
          0.858,
          0.683,
          0.674,
          0.691,
          0.509,
          0.788,
          0.391,
          0.705,
          0.498,
          0.846,
          0.412,
          0.551,
          0.501,
          0.625,
          0.656,
          0.648
         ],
         "y0": " ",
         "yaxis": "y"
        }
       ],
       "layout": {
        "boxmode": "group",
        "legend": {
         "title": {
          "text": "Album Name"
         },
         "tracegroupgap": 0
        },
        "margin": {
         "t": 60
        },
        "template": {
         "data": {
          "bar": [
           {
            "error_x": {
             "color": "#2a3f5f"
            },
            "error_y": {
             "color": "#2a3f5f"
            },
            "marker": {
             "line": {
              "color": "#E5ECF6",
              "width": 0.5
             },
             "pattern": {
              "fillmode": "overlay",
              "size": 10,
              "solidity": 0.2
             }
            },
            "type": "bar"
           }
          ],
          "barpolar": [
           {
            "marker": {
             "line": {
              "color": "#E5ECF6",
              "width": 0.5
             },
             "pattern": {
              "fillmode": "overlay",
              "size": 10,
              "solidity": 0.2
             }
            },
            "type": "barpolar"
           }
          ],
          "carpet": [
           {
            "aaxis": {
             "endlinecolor": "#2a3f5f",
             "gridcolor": "white",
             "linecolor": "white",
             "minorgridcolor": "white",
             "startlinecolor": "#2a3f5f"
            },
            "baxis": {
             "endlinecolor": "#2a3f5f",
             "gridcolor": "white",
             "linecolor": "white",
             "minorgridcolor": "white",
             "startlinecolor": "#2a3f5f"
            },
            "type": "carpet"
           }
          ],
          "choropleth": [
           {
            "colorbar": {
             "outlinewidth": 0,
             "ticks": ""
            },
            "type": "choropleth"
           }
          ],
          "contour": [
           {
            "colorbar": {
             "outlinewidth": 0,
             "ticks": ""
            },
            "colorscale": [
             [
              0,
              "#0d0887"
             ],
             [
              0.1111111111111111,
              "#46039f"
             ],
             [
              0.2222222222222222,
              "#7201a8"
             ],
             [
              0.3333333333333333,
              "#9c179e"
             ],
             [
              0.4444444444444444,
              "#bd3786"
             ],
             [
              0.5555555555555556,
              "#d8576b"
             ],
             [
              0.6666666666666666,
              "#ed7953"
             ],
             [
              0.7777777777777778,
              "#fb9f3a"
             ],
             [
              0.8888888888888888,
              "#fdca26"
             ],
             [
              1,
              "#f0f921"
             ]
            ],
            "type": "contour"
           }
          ],
          "contourcarpet": [
           {
            "colorbar": {
             "outlinewidth": 0,
             "ticks": ""
            },
            "type": "contourcarpet"
           }
          ],
          "heatmap": [
           {
            "colorbar": {
             "outlinewidth": 0,
             "ticks": ""
            },
            "colorscale": [
             [
              0,
              "#0d0887"
             ],
             [
              0.1111111111111111,
              "#46039f"
             ],
             [
              0.2222222222222222,
              "#7201a8"
             ],
             [
              0.3333333333333333,
              "#9c179e"
             ],
             [
              0.4444444444444444,
              "#bd3786"
             ],
             [
              0.5555555555555556,
              "#d8576b"
             ],
             [
              0.6666666666666666,
              "#ed7953"
             ],
             [
              0.7777777777777778,
              "#fb9f3a"
             ],
             [
              0.8888888888888888,
              "#fdca26"
             ],
             [
              1,
              "#f0f921"
             ]
            ],
            "type": "heatmap"
           }
          ],
          "heatmapgl": [
           {
            "colorbar": {
             "outlinewidth": 0,
             "ticks": ""
            },
            "colorscale": [
             [
              0,
              "#0d0887"
             ],
             [
              0.1111111111111111,
              "#46039f"
             ],
             [
              0.2222222222222222,
              "#7201a8"
             ],
             [
              0.3333333333333333,
              "#9c179e"
             ],
             [
              0.4444444444444444,
              "#bd3786"
             ],
             [
              0.5555555555555556,
              "#d8576b"
             ],
             [
              0.6666666666666666,
              "#ed7953"
             ],
             [
              0.7777777777777778,
              "#fb9f3a"
             ],
             [
              0.8888888888888888,
              "#fdca26"
             ],
             [
              1,
              "#f0f921"
             ]
            ],
            "type": "heatmapgl"
           }
          ],
          "histogram": [
           {
            "marker": {
             "pattern": {
              "fillmode": "overlay",
              "size": 10,
              "solidity": 0.2
             }
            },
            "type": "histogram"
           }
          ],
          "histogram2d": [
           {
            "colorbar": {
             "outlinewidth": 0,
             "ticks": ""
            },
            "colorscale": [
             [
              0,
              "#0d0887"
             ],
             [
              0.1111111111111111,
              "#46039f"
             ],
             [
              0.2222222222222222,
              "#7201a8"
             ],
             [
              0.3333333333333333,
              "#9c179e"
             ],
             [
              0.4444444444444444,
              "#bd3786"
             ],
             [
              0.5555555555555556,
              "#d8576b"
             ],
             [
              0.6666666666666666,
              "#ed7953"
             ],
             [
              0.7777777777777778,
              "#fb9f3a"
             ],
             [
              0.8888888888888888,
              "#fdca26"
             ],
             [
              1,
              "#f0f921"
             ]
            ],
            "type": "histogram2d"
           }
          ],
          "histogram2dcontour": [
           {
            "colorbar": {
             "outlinewidth": 0,
             "ticks": ""
            },
            "colorscale": [
             [
              0,
              "#0d0887"
             ],
             [
              0.1111111111111111,
              "#46039f"
             ],
             [
              0.2222222222222222,
              "#7201a8"
             ],
             [
              0.3333333333333333,
              "#9c179e"
             ],
             [
              0.4444444444444444,
              "#bd3786"
             ],
             [
              0.5555555555555556,
              "#d8576b"
             ],
             [
              0.6666666666666666,
              "#ed7953"
             ],
             [
              0.7777777777777778,
              "#fb9f3a"
             ],
             [
              0.8888888888888888,
              "#fdca26"
             ],
             [
              1,
              "#f0f921"
             ]
            ],
            "type": "histogram2dcontour"
           }
          ],
          "mesh3d": [
           {
            "colorbar": {
             "outlinewidth": 0,
             "ticks": ""
            },
            "type": "mesh3d"
           }
          ],
          "parcoords": [
           {
            "line": {
             "colorbar": {
              "outlinewidth": 0,
              "ticks": ""
             }
            },
            "type": "parcoords"
           }
          ],
          "pie": [
           {
            "automargin": true,
            "type": "pie"
           }
          ],
          "scatter": [
           {
            "fillpattern": {
             "fillmode": "overlay",
             "size": 10,
             "solidity": 0.2
            },
            "type": "scatter"
           }
          ],
          "scatter3d": [
           {
            "line": {
             "colorbar": {
              "outlinewidth": 0,
              "ticks": ""
             }
            },
            "marker": {
             "colorbar": {
              "outlinewidth": 0,
              "ticks": ""
             }
            },
            "type": "scatter3d"
           }
          ],
          "scattercarpet": [
           {
            "marker": {
             "colorbar": {
              "outlinewidth": 0,
              "ticks": ""
             }
            },
            "type": "scattercarpet"
           }
          ],
          "scattergeo": [
           {
            "marker": {
             "colorbar": {
              "outlinewidth": 0,
              "ticks": ""
             }
            },
            "type": "scattergeo"
           }
          ],
          "scattergl": [
           {
            "marker": {
             "colorbar": {
              "outlinewidth": 0,
              "ticks": ""
             }
            },
            "type": "scattergl"
           }
          ],
          "scattermapbox": [
           {
            "marker": {
             "colorbar": {
              "outlinewidth": 0,
              "ticks": ""
             }
            },
            "type": "scattermapbox"
           }
          ],
          "scatterpolar": [
           {
            "marker": {
             "colorbar": {
              "outlinewidth": 0,
              "ticks": ""
             }
            },
            "type": "scatterpolar"
           }
          ],
          "scatterpolargl": [
           {
            "marker": {
             "colorbar": {
              "outlinewidth": 0,
              "ticks": ""
             }
            },
            "type": "scatterpolargl"
           }
          ],
          "scatterternary": [
           {
            "marker": {
             "colorbar": {
              "outlinewidth": 0,
              "ticks": ""
             }
            },
            "type": "scatterternary"
           }
          ],
          "surface": [
           {
            "colorbar": {
             "outlinewidth": 0,
             "ticks": ""
            },
            "colorscale": [
             [
              0,
              "#0d0887"
             ],
             [
              0.1111111111111111,
              "#46039f"
             ],
             [
              0.2222222222222222,
              "#7201a8"
             ],
             [
              0.3333333333333333,
              "#9c179e"
             ],
             [
              0.4444444444444444,
              "#bd3786"
             ],
             [
              0.5555555555555556,
              "#d8576b"
             ],
             [
              0.6666666666666666,
              "#ed7953"
             ],
             [
              0.7777777777777778,
              "#fb9f3a"
             ],
             [
              0.8888888888888888,
              "#fdca26"
             ],
             [
              1,
              "#f0f921"
             ]
            ],
            "type": "surface"
           }
          ],
          "table": [
           {
            "cells": {
             "fill": {
              "color": "#EBF0F8"
             },
             "line": {
              "color": "white"
             }
            },
            "header": {
             "fill": {
              "color": "#C8D4E3"
             },
             "line": {
              "color": "white"
             }
            },
            "type": "table"
           }
          ]
         },
         "layout": {
          "annotationdefaults": {
           "arrowcolor": "#2a3f5f",
           "arrowhead": 0,
           "arrowwidth": 1
          },
          "autotypenumbers": "strict",
          "coloraxis": {
           "colorbar": {
            "outlinewidth": 0,
            "ticks": ""
           }
          },
          "colorscale": {
           "diverging": [
            [
             0,
             "#8e0152"
            ],
            [
             0.1,
             "#c51b7d"
            ],
            [
             0.2,
             "#de77ae"
            ],
            [
             0.3,
             "#f1b6da"
            ],
            [
             0.4,
             "#fde0ef"
            ],
            [
             0.5,
             "#f7f7f7"
            ],
            [
             0.6,
             "#e6f5d0"
            ],
            [
             0.7,
             "#b8e186"
            ],
            [
             0.8,
             "#7fbc41"
            ],
            [
             0.9,
             "#4d9221"
            ],
            [
             1,
             "#276419"
            ]
           ],
           "sequential": [
            [
             0,
             "#0d0887"
            ],
            [
             0.1111111111111111,
             "#46039f"
            ],
            [
             0.2222222222222222,
             "#7201a8"
            ],
            [
             0.3333333333333333,
             "#9c179e"
            ],
            [
             0.4444444444444444,
             "#bd3786"
            ],
            [
             0.5555555555555556,
             "#d8576b"
            ],
            [
             0.6666666666666666,
             "#ed7953"
            ],
            [
             0.7777777777777778,
             "#fb9f3a"
            ],
            [
             0.8888888888888888,
             "#fdca26"
            ],
            [
             1,
             "#f0f921"
            ]
           ],
           "sequentialminus": [
            [
             0,
             "#0d0887"
            ],
            [
             0.1111111111111111,
             "#46039f"
            ],
            [
             0.2222222222222222,
             "#7201a8"
            ],
            [
             0.3333333333333333,
             "#9c179e"
            ],
            [
             0.4444444444444444,
             "#bd3786"
            ],
            [
             0.5555555555555556,
             "#d8576b"
            ],
            [
             0.6666666666666666,
             "#ed7953"
            ],
            [
             0.7777777777777778,
             "#fb9f3a"
            ],
            [
             0.8888888888888888,
             "#fdca26"
            ],
            [
             1,
             "#f0f921"
            ]
           ]
          },
          "colorway": [
           "#636efa",
           "#EF553B",
           "#00cc96",
           "#ab63fa",
           "#FFA15A",
           "#19d3f3",
           "#FF6692",
           "#B6E880",
           "#FF97FF",
           "#FECB52"
          ],
          "font": {
           "color": "#2a3f5f"
          },
          "geo": {
           "bgcolor": "white",
           "lakecolor": "white",
           "landcolor": "#E5ECF6",
           "showlakes": true,
           "showland": true,
           "subunitcolor": "white"
          },
          "hoverlabel": {
           "align": "left"
          },
          "hovermode": "closest",
          "mapbox": {
           "style": "light"
          },
          "paper_bgcolor": "white",
          "plot_bgcolor": "#E5ECF6",
          "polar": {
           "angularaxis": {
            "gridcolor": "white",
            "linecolor": "white",
            "ticks": ""
           },
           "bgcolor": "#E5ECF6",
           "radialaxis": {
            "gridcolor": "white",
            "linecolor": "white",
            "ticks": ""
           }
          },
          "scene": {
           "xaxis": {
            "backgroundcolor": "#E5ECF6",
            "gridcolor": "white",
            "gridwidth": 2,
            "linecolor": "white",
            "showbackground": true,
            "ticks": "",
            "zerolinecolor": "white"
           },
           "yaxis": {
            "backgroundcolor": "#E5ECF6",
            "gridcolor": "white",
            "gridwidth": 2,
            "linecolor": "white",
            "showbackground": true,
            "ticks": "",
            "zerolinecolor": "white"
           },
           "zaxis": {
            "backgroundcolor": "#E5ECF6",
            "gridcolor": "white",
            "gridwidth": 2,
            "linecolor": "white",
            "showbackground": true,
            "ticks": "",
            "zerolinecolor": "white"
           }
          },
          "shapedefaults": {
           "line": {
            "color": "#2a3f5f"
           }
          },
          "ternary": {
           "aaxis": {
            "gridcolor": "white",
            "linecolor": "white",
            "ticks": ""
           },
           "baxis": {
            "gridcolor": "white",
            "linecolor": "white",
            "ticks": ""
           },
           "bgcolor": "#E5ECF6",
           "caxis": {
            "gridcolor": "white",
            "linecolor": "white",
            "ticks": ""
           }
          },
          "title": {
           "x": 0.05
          },
          "xaxis": {
           "automargin": true,
           "gridcolor": "white",
           "linecolor": "white",
           "ticks": "",
           "title": {
            "standoff": 15
           },
           "zerolinecolor": "white",
           "zerolinewidth": 2
          },
          "yaxis": {
           "automargin": true,
           "gridcolor": "white",
           "linecolor": "white",
           "ticks": "",
           "title": {
            "standoff": 15
           },
           "zerolinecolor": "white",
           "zerolinewidth": 2
          }
         }
        },
        "xaxis": {
         "anchor": "y",
         "domain": [
          0,
          1
         ],
         "title": {
          "text": "variable"
         }
        },
        "yaxis": {
         "anchor": "x",
         "domain": [
          0,
          1
         ],
         "title": {
          "text": "value"
         }
        }
       }
      },
      "text/html": [
       "<div>                            <div id=\"383e5caa-9b04-4ed0-bf39-dba12249725d\" class=\"plotly-graph-div\" style=\"height:525px; width:100%;\"></div>            <script type=\"text/javascript\">                require([\"plotly\"], function(Plotly) {                    window.PLOTLYENV=window.PLOTLYENV || {};                                    if (document.getElementById(\"383e5caa-9b04-4ed0-bf39-dba12249725d\")) {                    Plotly.newPlot(                        \"383e5caa-9b04-4ed0-bf39-dba12249725d\",                        [{\"alignmentgroup\":\"True\",\"boxpoints\":\"all\",\"hovertemplate\":\"\\u003cb\\u003e%{hovertext}\\u003c\\u002fb\\u003e\\u003cbr\\u003e\\u003cbr\\u003eAlbum Name=Taylor Swift\\u003cbr\\u003evariable=%{x}\\u003cbr\\u003evalue=%{y}\\u003cextra\\u003e\\u003c\\u002fextra\\u003e\",\"hovertext\":[\"Tim McGraw\",\"Picture To Burn\",\"Teardrops On My Guitar - Radio Single Remix\",\"A Place in this World\",\"Cold As You\",\"The Outside\",\"Tied Together with a Smile\",\"Stay Beautiful\",\"Should've Said No\",\"Mary's Song (Oh My My My)\",\"Our Song\",\"I'm Only Me When I'm With You\",\"Invisible\",\"A Perfectly Good Heart\",\"Teardrops on My Guitar - Pop Version\",\"Tim McGraw\",\"Picture To Burn\",\"Teardrops On My Guitar - Radio Single Remix\",\"A Place in this World\",\"Cold As You\",\"The Outside\",\"Tied Together with a Smile\",\"Stay Beautiful\",\"Should've Said No\",\"Mary's Song (Oh My My My)\",\"Our Song\",\"I'm Only Me When I'm With You\",\"Invisible\",\"A Perfectly Good Heart\",\"Teardrops on My Guitar - Pop Version\"],\"legendgroup\":\"Taylor Swift\",\"marker\":{\"color\":\"#636efa\"},\"name\":\"Taylor Swift\",\"notched\":false,\"offsetgroup\":\"Taylor Swift\",\"orientation\":\"v\",\"showlegend\":true,\"x\":[\"danceability\",\"danceability\",\"danceability\",\"danceability\",\"danceability\",\"danceability\",\"danceability\",\"danceability\",\"danceability\",\"danceability\",\"danceability\",\"danceability\",\"danceability\",\"danceability\",\"danceability\",\"energy\",\"energy\",\"energy\",\"energy\",\"energy\",\"energy\",\"energy\",\"energy\",\"energy\",\"energy\",\"energy\",\"energy\",\"energy\",\"energy\",\"energy\"],\"x0\":\" \",\"xaxis\":\"x\",\"y\":[0.58,0.658,0.621,0.576,0.418,0.589,0.479,0.594,0.476,0.403,0.668,0.563,0.612,0.483,0.459,0.491,0.877,0.417,0.777,0.482,0.805,0.578,0.629,0.777,0.627,0.672,0.934,0.394,0.751,0.753],\"y0\":\" \",\"yaxis\":\"y\",\"type\":\"box\",\"boxmean\":true},{\"alignmentgroup\":\"True\",\"boxpoints\":\"all\",\"hovertemplate\":\"\\u003cb\\u003e%{hovertext}\\u003c\\u002fb\\u003e\\u003cbr\\u003e\\u003cbr\\u003eAlbum Name=reputation\\u003cbr\\u003evariable=%{x}\\u003cbr\\u003evalue=%{y}\\u003cextra\\u003e\\u003c\\u002fextra\\u003e\",\"hovertext\":[\"...Ready For It?\",\"End Game\",\"I Did Something Bad\",\"Don\\u2019t Blame Me\",\"Delicate\",\"Look What You Made Me Do\",\"So It Goes...\",\"Gorgeous\",\"Getaway Car\",\"King Of My Heart\",\"Dancing With Our Hands Tied\",\"Dress\",\"This Is Why We Can't Have Nice Things\",\"Call It What You Want\",\"New Year\\u2019s Day\",\"...Ready For It?\",\"End Game\",\"I Did Something Bad\",\"Don\\u2019t Blame Me\",\"Delicate\",\"Look What You Made Me Do\",\"So It Goes...\",\"Gorgeous\",\"Getaway Car\",\"King Of My Heart\",\"Dancing With Our Hands Tied\",\"Dress\",\"This Is Why We Can't Have Nice Things\",\"Call It What You Want\",\"New Year\\u2019s Day\"],\"legendgroup\":\"reputation\",\"marker\":{\"color\":\"#EF553B\"},\"name\":\"reputation\",\"notched\":false,\"offsetgroup\":\"reputation\",\"orientation\":\"v\",\"showlegend\":true,\"x\":[\"danceability\",\"danceability\",\"danceability\",\"danceability\",\"danceability\",\"danceability\",\"danceability\",\"danceability\",\"danceability\",\"danceability\",\"danceability\",\"danceability\",\"danceability\",\"danceability\",\"danceability\",\"energy\",\"energy\",\"energy\",\"energy\",\"energy\",\"energy\",\"energy\",\"energy\",\"energy\",\"energy\",\"energy\",\"energy\",\"energy\",\"energy\",\"energy\"],\"x0\":\" \",\"xaxis\":\"x\",\"y\":[0.613,0.649,0.696,0.615,0.75,0.766,0.574,0.8,0.562,0.675,0.624,0.719,0.567,0.598,0.661,0.764,0.589,0.602,0.534,0.404,0.709,0.61,0.535,0.689,0.703,0.691,0.469,0.789,0.504,0.151],\"y0\":\" \",\"yaxis\":\"y\",\"type\":\"box\",\"boxmean\":true},{\"alignmentgroup\":\"True\",\"boxpoints\":\"all\",\"hovertemplate\":\"\\u003cb\\u003e%{hovertext}\\u003c\\u002fb\\u003e\\u003cbr\\u003e\\u003cbr\\u003eAlbum Name=Lover\\u003cbr\\u003evariable=%{x}\\u003cbr\\u003evalue=%{y}\\u003cextra\\u003e\\u003c\\u002fextra\\u003e\",\"hovertext\":[\"I Forgot That You Existed\",\"Cruel Summer\",\"Lover\",\"The Man\",\"The Archer\",\"I Think He Knows\",\"Miss Americana & The Heartbreak Prince\",\"Paper Rings\",\"Cornelia Street\",\"Death By A Thousand Cuts\",\"London Boy\",\"Soon You\\u2019ll Get Better (feat. The Chicks)\",\"False God\",\"You Need To Calm Down\",\"Afterglow\",\"ME! (feat. Brendon Urie of Panic! At The Disco)\",\"It\\u2019s Nice To Have A Friend\",\"Daylight\",\"I Forgot That You Existed\",\"Cruel Summer\",\"Lover\",\"The Man\",\"The Archer\",\"I Think He Knows\",\"Miss Americana & The Heartbreak Prince\",\"Paper Rings\",\"Cornelia Street\",\"Death By A Thousand Cuts\",\"London Boy\",\"Soon You\\u2019ll Get Better (feat. The Chicks)\",\"False God\",\"You Need To Calm Down\",\"Afterglow\",\"ME! (feat. Brendon Urie of Panic! At The Disco)\",\"It\\u2019s Nice To Have A Friend\",\"Daylight\"],\"legendgroup\":\"Lover\",\"marker\":{\"color\":\"#00cc96\"},\"name\":\"Lover\",\"notched\":false,\"offsetgroup\":\"Lover\",\"orientation\":\"v\",\"showlegend\":true,\"x\":[\"danceability\",\"danceability\",\"danceability\",\"danceability\",\"danceability\",\"danceability\",\"danceability\",\"danceability\",\"danceability\",\"danceability\",\"danceability\",\"danceability\",\"danceability\",\"danceability\",\"danceability\",\"danceability\",\"danceability\",\"danceability\",\"energy\",\"energy\",\"energy\",\"energy\",\"energy\",\"energy\",\"energy\",\"energy\",\"energy\",\"energy\",\"energy\",\"energy\",\"energy\",\"energy\",\"energy\",\"energy\",\"energy\",\"energy\"],\"x0\":\" \",\"xaxis\":\"x\",\"y\":[0.664,0.552,0.359,0.777,0.292,0.897,0.662,0.811,0.824,0.712,0.695,0.433,0.739,0.771,0.756,0.61,0.737,0.557,0.316,0.702,0.543,0.658,0.574,0.366,0.747,0.719,0.624,0.732,0.71,0.182,0.32,0.671,0.449,0.83,0.175,0.496],\"y0\":\" \",\"yaxis\":\"y\",\"type\":\"box\",\"boxmean\":true},{\"alignmentgroup\":\"True\",\"boxpoints\":\"all\",\"hovertemplate\":\"\\u003cb\\u003e%{hovertext}\\u003c\\u002fb\\u003e\\u003cbr\\u003e\\u003cbr\\u003eAlbum Name=folklore\\u003cbr\\u003evariable=%{x}\\u003cbr\\u003evalue=%{y}\\u003cextra\\u003e\\u003c\\u002fextra\\u003e\",\"hovertext\":[\"the 1\",\"cardigan\",\"the last great american dynasty\",\"exile (feat. Bon Iver)\",\"my tears ricochet\",\"mirrorball\",\"seven\",\"august\",\"this is me trying\",\"illicit affairs\",\"invisible string\",\"mad woman\",\"epiphany\",\"betty\",\"peace\",\"hoax\",\"the 1\",\"cardigan\",\"the last great american dynasty\",\"exile (feat. Bon Iver)\",\"my tears ricochet\",\"mirrorball\",\"seven\",\"august\",\"this is me trying\",\"illicit affairs\",\"invisible string\",\"mad woman\",\"epiphany\",\"betty\",\"peace\",\"hoax\"],\"legendgroup\":\"folklore\",\"marker\":{\"color\":\"#ab63fa\"},\"name\":\"folklore\",\"notched\":false,\"offsetgroup\":\"folklore\",\"orientation\":\"v\",\"showlegend\":true,\"x\":[\"danceability\",\"danceability\",\"danceability\",\"danceability\",\"danceability\",\"danceability\",\"danceability\",\"danceability\",\"danceability\",\"danceability\",\"danceability\",\"danceability\",\"danceability\",\"danceability\",\"danceability\",\"danceability\",\"energy\",\"energy\",\"energy\",\"energy\",\"energy\",\"energy\",\"energy\",\"energy\",\"energy\",\"energy\",\"energy\",\"energy\",\"energy\",\"energy\",\"energy\",\"energy\"],\"x0\":\" \",\"xaxis\":\"x\",\"y\":[0.777,0.613,0.686,0.298,0.456,0.553,0.596,0.532,0.515,0.559,0.653,0.592,0.354,0.593,0.647,0.662,0.357,0.581,0.662,0.38,0.263,0.413,0.488,0.623,0.476,0.31,0.452,0.699,0.267,0.377,0.272,0.181],\"y0\":\" \",\"yaxis\":\"y\",\"type\":\"box\",\"boxmean\":true},{\"alignmentgroup\":\"True\",\"boxpoints\":\"all\",\"hovertemplate\":\"\\u003cb\\u003e%{hovertext}\\u003c\\u002fb\\u003e\\u003cbr\\u003e\\u003cbr\\u003eAlbum Name=evermore\\u003cbr\\u003evariable=%{x}\\u003cbr\\u003evalue=%{y}\\u003cextra\\u003e\\u003c\\u002fextra\\u003e\",\"hovertext\":[\"willow\",\"champagne problems\",\"gold rush\",\"\\u2018tis the damn season\",\"tolerate it\",\"no body, no crime (feat. HAIM)\",\"happiness\",\"dorothea\",\"coney island (feat. The National)\",\"ivy\",\"cowboy like me\",\"long story short\",\"marjorie\",\"closure\",\"evermore (feat. Bon Iver)\",\"willow\",\"champagne problems\",\"gold rush\",\"\\u2018tis the damn season\",\"tolerate it\",\"no body, no crime (feat. HAIM)\",\"happiness\",\"dorothea\",\"coney island (feat. The National)\",\"ivy\",\"cowboy like me\",\"long story short\",\"marjorie\",\"closure\",\"evermore (feat. Bon Iver)\"],\"legendgroup\":\"evermore\",\"marker\":{\"color\":\"#FFA15A\"},\"name\":\"evermore\",\"notched\":false,\"offsetgroup\":\"evermore\",\"orientation\":\"v\",\"showlegend\":true,\"x\":[\"danceability\",\"danceability\",\"danceability\",\"danceability\",\"danceability\",\"danceability\",\"danceability\",\"danceability\",\"danceability\",\"danceability\",\"danceability\",\"danceability\",\"danceability\",\"danceability\",\"danceability\",\"energy\",\"energy\",\"energy\",\"energy\",\"energy\",\"energy\",\"energy\",\"energy\",\"energy\",\"energy\",\"energy\",\"energy\",\"energy\",\"energy\",\"energy\"],\"x0\":\" \",\"xaxis\":\"x\",\"y\":[0.392,0.462,0.512,0.575,0.316,0.546,0.559,0.605,0.537,0.515,0.604,0.546,0.535,0.689,0.39,0.574,0.24,0.462,0.434,0.361,0.613,0.334,0.488,0.537,0.545,0.517,0.73,0.561,0.704,0.27],\"y0\":\" \",\"yaxis\":\"y\",\"type\":\"box\",\"boxmean\":true},{\"alignmentgroup\":\"True\",\"boxpoints\":\"all\",\"hovertemplate\":\"\\u003cb\\u003e%{hovertext}\\u003c\\u002fb\\u003e\\u003cbr\\u003e\\u003cbr\\u003eAlbum Name=Fearless (Taylor's Version)\\u003cbr\\u003evariable=%{x}\\u003cbr\\u003evalue=%{y}\\u003cextra\\u003e\\u003c\\u002fextra\\u003e\",\"hovertext\":[\"Fearless (Taylor\\u2019s Version)\",\"Fifteen (Taylor\\u2019s Version)\",\"Love Story (Taylor\\u2019s Version)\",\"Hey Stephen (Taylor\\u2019s Version)\",\"White Horse (Taylor\\u2019s Version)\",\"You Belong With Me (Taylor\\u2019s Version)\",\"Breathe (feat. Colbie Caillat) (Taylor\\u2019s Version)\",\"Tell Me Why (Taylor\\u2019s Version)\",\"You\\u2019re Not Sorry (Taylor\\u2019s Version)\",\"The Way I Loved You (Taylor\\u2019s Version)\",\"Forever & Always (Taylor\\u2019s Version)\",\"The Best Day (Taylor\\u2019s Version)\",\"Change (Taylor\\u2019s Version)\",\"Jump Then Fall (Taylor\\u2019s Version)\",\"Untouchable (Taylor\\u2019s Version)\",\"Forever & Always (Piano Version) (Taylor\\u2019s Version)\",\"Come In With The Rain (Taylor\\u2019s Version)\",\"Superstar (Taylor\\u2019s Version)\",\"The Other Side Of The Door (Taylor\\u2019s Version)\",\"Today Was A Fairytale (Taylor\\u2019s Version)\",\"You All Over Me (feat. Maren Morris) (Taylor\\u2019s Version) (From The Vault)\",\"Mr. Perfectly Fine (Taylor\\u2019s Version) (From The Vault)\",\"We Were Happy (Taylor\\u2019s Version) (From The Vault)\",\"That\\u2019s When (feat. Keith Urban) (Taylor\\u2019s Version) (From The Vault)\",\"Don\\u2019t You (Taylor\\u2019s Version) (From The Vault)\",\"Bye Bye Baby (Taylor\\u2019s Version) (From The Vault)\",\"Fearless (Taylor\\u2019s Version)\",\"Fifteen (Taylor\\u2019s Version)\",\"Love Story (Taylor\\u2019s Version)\",\"Hey Stephen (Taylor\\u2019s Version)\",\"White Horse (Taylor\\u2019s Version)\",\"You Belong With Me (Taylor\\u2019s Version)\",\"Breathe (feat. Colbie Caillat) (Taylor\\u2019s Version)\",\"Tell Me Why (Taylor\\u2019s Version)\",\"You\\u2019re Not Sorry (Taylor\\u2019s Version)\",\"The Way I Loved You (Taylor\\u2019s Version)\",\"Forever & Always (Taylor\\u2019s Version)\",\"The Best Day (Taylor\\u2019s Version)\",\"Change (Taylor\\u2019s Version)\",\"Jump Then Fall (Taylor\\u2019s Version)\",\"Untouchable (Taylor\\u2019s Version)\",\"Forever & Always (Piano Version) (Taylor\\u2019s Version)\",\"Come In With The Rain (Taylor\\u2019s Version)\",\"Superstar (Taylor\\u2019s Version)\",\"The Other Side Of The Door (Taylor\\u2019s Version)\",\"Today Was A Fairytale (Taylor\\u2019s Version)\",\"You All Over Me (feat. Maren Morris) (Taylor\\u2019s Version) (From The Vault)\",\"Mr. Perfectly Fine (Taylor\\u2019s Version) (From The Vault)\",\"We Were Happy (Taylor\\u2019s Version) (From The Vault)\",\"That\\u2019s When (feat. Keith Urban) (Taylor\\u2019s Version) (From The Vault)\",\"Don\\u2019t You (Taylor\\u2019s Version) (From The Vault)\",\"Bye Bye Baby (Taylor\\u2019s Version) (From The Vault)\"],\"legendgroup\":\"Fearless (Taylor's Version)\",\"marker\":{\"color\":\"#19d3f3\"},\"name\":\"Fearless (Taylor's Version)\",\"notched\":false,\"offsetgroup\":\"Fearless (Taylor's Version)\",\"orientation\":\"v\",\"showlegend\":true,\"x\":[\"danceability\",\"danceability\",\"danceability\",\"danceability\",\"danceability\",\"danceability\",\"danceability\",\"danceability\",\"danceability\",\"danceability\",\"danceability\",\"danceability\",\"danceability\",\"danceability\",\"danceability\",\"danceability\",\"danceability\",\"danceability\",\"danceability\",\"danceability\",\"danceability\",\"danceability\",\"danceability\",\"danceability\",\"danceability\",\"danceability\",\"energy\",\"energy\",\"energy\",\"energy\",\"energy\",\"energy\",\"energy\",\"energy\",\"energy\",\"energy\",\"energy\",\"energy\",\"energy\",\"energy\",\"energy\",\"energy\",\"energy\",\"energy\",\"energy\",\"energy\",\"energy\",\"energy\",\"energy\",\"energy\",\"energy\",\"energy\"],\"x0\":\" \",\"xaxis\":\"x\",\"y\":[0.569,0.559,0.627,0.788,0.423,0.632,0.506,0.578,0.506,0.402,0.598,0.642,0.499,0.572,0.393,0.546,0.476,0.454,0.432,0.482,0.599,0.66,0.609,0.588,0.563,0.624,0.741,0.646,0.792,0.571,0.517,0.773,0.626,0.909,0.444,0.732,0.821,0.576,0.815,0.69,0.531,0.273,0.564,0.555,0.873,0.779,0.494,0.817,0.373,0.608,0.473,0.624],\"y0\":\" \",\"yaxis\":\"y\",\"type\":\"box\",\"boxmean\":true},{\"alignmentgroup\":\"True\",\"boxpoints\":\"all\",\"hovertemplate\":\"\\u003cb\\u003e%{hovertext}\\u003c\\u002fb\\u003e\\u003cbr\\u003e\\u003cbr\\u003eAlbum Name=Red (Taylor's Version)\\u003cbr\\u003evariable=%{x}\\u003cbr\\u003evalue=%{y}\\u003cextra\\u003e\\u003c\\u002fextra\\u003e\",\"hovertext\":[\"State Of Grace (Taylor's Version)\",\"Red (Taylor's Version)\",\"Treacherous (Taylor's Version)\",\"I Knew You Were Trouble (Taylor's Version)\",\"All Too Well (Taylor's Version)\",\"22 (Taylor's Version)\",\"I Almost Do (Taylor's Version)\",\"We Are Never Ever Getting Back Together (Taylor's Version)\",\"Stay Stay Stay (Taylor's Version)\",\"The Last Time (feat. Gary Lightbody of Snow Patrol) (Taylor\\u2019s Version)\",\"Holy Ground (Taylor's Version)\",\"Sad Beautiful Tragic (Taylor's Version)\",\"The Lucky One (Taylor's Version)\",\"Everything Has Changed (feat. Ed Sheeran) (Taylor\\u2019s Version)\",\"Starlight (Taylor's Version)\",\"Begin Again (Taylor's Version)\",\"The Moment I Knew (Taylor's Version)\",\"Come Back...Be Here (Taylor's Version)\",\"Girl At Home (Taylor's Version)\",\"State Of Grace (Acoustic Version) (Taylor's Version)\",\"Ronan (Taylor's Version)\",\"Better Man (Taylor's Version) (From The Vault)\",\"Nothing New (feat. Phoebe Bridgers) (Taylor\\u2019s Version) (From The Vault)\",\"Babe (Taylor's Version) (From The Vault)\",\"Message In A Bottle (Taylor's Version) (From The Vault)\",\"I Bet You Think About Me (feat. Chris Stapleton) (Taylor\\u2019s Version) (From The Vault)\",\"Forever Winter (Taylor's Version) (From The Vault)\",\"Run (feat. Ed Sheeran) (Taylor\\u2019s Version) (From The Vault)\",\"The Very First Night (Taylor's Version) (From The Vault)\",\"All Too Well (10 Minute Version) (Taylor's Version) (From The Vault)\",\"State Of Grace (Taylor's Version)\",\"Red (Taylor's Version)\",\"Treacherous (Taylor's Version)\",\"I Knew You Were Trouble (Taylor's Version)\",\"All Too Well (Taylor's Version)\",\"22 (Taylor's Version)\",\"I Almost Do (Taylor's Version)\",\"We Are Never Ever Getting Back Together (Taylor's Version)\",\"Stay Stay Stay (Taylor's Version)\",\"The Last Time (feat. Gary Lightbody of Snow Patrol) (Taylor\\u2019s Version)\",\"Holy Ground (Taylor's Version)\",\"Sad Beautiful Tragic (Taylor's Version)\",\"The Lucky One (Taylor's Version)\",\"Everything Has Changed (feat. Ed Sheeran) (Taylor\\u2019s Version)\",\"Starlight (Taylor's Version)\",\"Begin Again (Taylor's Version)\",\"The Moment I Knew (Taylor's Version)\",\"Come Back...Be Here (Taylor's Version)\",\"Girl At Home (Taylor's Version)\",\"State Of Grace (Acoustic Version) (Taylor's Version)\",\"Ronan (Taylor's Version)\",\"Better Man (Taylor's Version) (From The Vault)\",\"Nothing New (feat. Phoebe Bridgers) (Taylor\\u2019s Version) (From The Vault)\",\"Babe (Taylor's Version) (From The Vault)\",\"Message In A Bottle (Taylor's Version) (From The Vault)\",\"I Bet You Think About Me (feat. Chris Stapleton) (Taylor\\u2019s Version) (From The Vault)\",\"Forever Winter (Taylor's Version) (From The Vault)\",\"Run (feat. Ed Sheeran) (Taylor\\u2019s Version) (From The Vault)\",\"The Very First Night (Taylor's Version) (From The Vault)\",\"All Too Well (10 Minute Version) (Taylor's Version) (From The Vault)\"],\"legendgroup\":\"Red (Taylor's Version)\",\"marker\":{\"color\":\"#FF6692\"},\"name\":\"Red (Taylor's Version)\",\"notched\":false,\"offsetgroup\":\"Red (Taylor's Version)\",\"orientation\":\"v\",\"showlegend\":true,\"x\":[\"danceability\",\"danceability\",\"danceability\",\"danceability\",\"danceability\",\"danceability\",\"danceability\",\"danceability\",\"danceability\",\"danceability\",\"danceability\",\"danceability\",\"danceability\",\"danceability\",\"danceability\",\"danceability\",\"danceability\",\"danceability\",\"danceability\",\"danceability\",\"danceability\",\"danceability\",\"danceability\",\"danceability\",\"danceability\",\"danceability\",\"danceability\",\"danceability\",\"danceability\",\"danceability\",\"energy\",\"energy\",\"energy\",\"energy\",\"energy\",\"energy\",\"energy\",\"energy\",\"energy\",\"energy\",\"energy\",\"energy\",\"energy\",\"energy\",\"energy\",\"energy\",\"energy\",\"energy\",\"energy\",\"energy\",\"energy\",\"energy\",\"energy\",\"energy\",\"energy\",\"energy\",\"energy\",\"energy\",\"energy\",\"energy\"],\"x0\":\" \",\"xaxis\":\"x\",\"y\":[0.594,0.516,0.645,0.584,0.44,0.642,0.511,0.567,0.693,0.502,0.622,0.601,0.686,0.498,0.628,0.519,0.636,0.46,0.691,0.445,0.623,0.473,0.606,0.584,0.622,0.391,0.611,0.61,0.678,0.631,0.713,0.777,0.593,0.557,0.528,0.695,0.559,0.686,0.681,0.534,0.809,0.406,0.571,0.61,0.685,0.527,0.402,0.632,0.736,0.131,0.279,0.579,0.377,0.743,0.791,0.715,0.552,0.488,0.733,0.518],\"y0\":\" \",\"yaxis\":\"y\",\"type\":\"box\",\"boxmean\":true},{\"alignmentgroup\":\"True\",\"boxpoints\":\"all\",\"hovertemplate\":\"\\u003cb\\u003e%{hovertext}\\u003c\\u002fb\\u003e\\u003cbr\\u003e\\u003cbr\\u003eAlbum Name=Midnights (3am Edition)\\u003cbr\\u003evariable=%{x}\\u003cbr\\u003evalue=%{y}\\u003cextra\\u003e\\u003c\\u002fextra\\u003e\",\"hovertext\":[\"Lavender Haze\",\"Maroon\",\"Anti-Hero\",\"Snow On The Beach (feat. Lana Del Rey)\",\"You're On Your Own, Kid\",\"Midnight Rain\",\"Question...?\",\"Vigilante Shit\",\"Bejeweled\",\"Labyrinth\",\"Karma\",\"Sweet Nothing\",\"Mastermind\",\"The Great War\",\"Bigger Than The Whole Sky\",\"Paris\",\"High Infidelity\",\"Glitch\",\"Would've, Could've, Should've\",\"Dear Reader\",\"Lavender Haze\",\"Maroon\",\"Anti-Hero\",\"Snow On The Beach (feat. Lana Del Rey)\",\"You're On Your Own, Kid\",\"Midnight Rain\",\"Question...?\",\"Vigilante Shit\",\"Bejeweled\",\"Labyrinth\",\"Karma\",\"Sweet Nothing\",\"Mastermind\",\"The Great War\",\"Bigger Than The Whole Sky\",\"Paris\",\"High Infidelity\",\"Glitch\",\"Would've, Could've, Should've\",\"Dear Reader\"],\"legendgroup\":\"Midnights (3am Edition)\",\"marker\":{\"color\":\"#B6E880\"},\"name\":\"Midnights (3am Edition)\",\"notched\":false,\"offsetgroup\":\"Midnights (3am Edition)\",\"orientation\":\"v\",\"showlegend\":true,\"x\":[\"danceability\",\"danceability\",\"danceability\",\"danceability\",\"danceability\",\"danceability\",\"danceability\",\"danceability\",\"danceability\",\"danceability\",\"danceability\",\"danceability\",\"danceability\",\"danceability\",\"danceability\",\"danceability\",\"danceability\",\"danceability\",\"danceability\",\"danceability\",\"energy\",\"energy\",\"energy\",\"energy\",\"energy\",\"energy\",\"energy\",\"energy\",\"energy\",\"energy\",\"energy\",\"energy\",\"energy\",\"energy\",\"energy\",\"energy\",\"energy\",\"energy\",\"energy\",\"energy\"],\"x0\":\" \",\"xaxis\":\"x\",\"y\":[0.735,0.658,0.638,0.659,0.694,0.636,0.751,0.87,0.7,0.487,0.649,0.334,0.661,0.573,0.422,0.7,0.646,0.675,0.483,0.562,0.444,0.378,0.634,0.323,0.38,0.377,0.502,0.279,0.55,0.313,0.622,0.161,0.352,0.741,0.235,0.509,0.529,0.466,0.84,0.388],\"y0\":\" \",\"yaxis\":\"y\",\"type\":\"box\",\"boxmean\":true},{\"alignmentgroup\":\"True\",\"boxpoints\":\"all\",\"hovertemplate\":\"\\u003cb\\u003e%{hovertext}\\u003c\\u002fb\\u003e\\u003cbr\\u003e\\u003cbr\\u003eAlbum Name=Speak Now (Taylor's Version)\\u003cbr\\u003evariable=%{x}\\u003cbr\\u003evalue=%{y}\\u003cextra\\u003e\\u003c\\u002fextra\\u003e\",\"hovertext\":[\"Mine (Taylor's Version)\",\"Sparks Fly (Taylor\\u2019s Version)\",\"Speak Now (Taylor's Version)\",\"Back To December (Taylor's Version)\",\"Dear John (Taylor's Version)\",\"Mean (Taylor's Version)\",\"The Story Of Us (Taylor's Version)\",\"Never Grow Up (Taylor's Version)\",\"Enchanted (Taylor's Version)\",\"Better Than Revenge (Taylor's Version)\",\"Innocent (Taylor's Version)\",\"Haunted (Taylor's Version)\",\"Last Kiss (Taylor's Version)\",\"Long Live (Taylor's Version)\",\"Ours (Taylor\\u2019s Version)\",\"Superman (Taylor\\u2019s Version)\",\"Electric Touch (feat. Fall Out Boy) (Taylor\\u2019s Version) (From The Vault)\",\"When Emma Falls in Love (Taylor\\u2019s Version) (From The Vault)\",\"I Can See You (Taylor\\u2019s Version) (From The Vault)\",\"Castles Crumbling (feat. Hayley Williams) (Taylor\\u2019s Version) (From The Vault)\",\"Timeless (Taylor\\u2019s Version) (From The Vault)\",\"Mine (Taylor's Version)\",\"Sparks Fly (Taylor\\u2019s Version)\",\"Speak Now (Taylor's Version)\",\"Back To December (Taylor's Version)\",\"Dear John (Taylor's Version)\",\"Mean (Taylor's Version)\",\"The Story Of Us (Taylor's Version)\",\"Never Grow Up (Taylor's Version)\",\"Enchanted (Taylor's Version)\",\"Better Than Revenge (Taylor's Version)\",\"Innocent (Taylor's Version)\",\"Haunted (Taylor's Version)\",\"Last Kiss (Taylor's Version)\",\"Long Live (Taylor's Version)\",\"Ours (Taylor\\u2019s Version)\",\"Superman (Taylor\\u2019s Version)\",\"Electric Touch (feat. Fall Out Boy) (Taylor\\u2019s Version) (From The Vault)\",\"When Emma Falls in Love (Taylor\\u2019s Version) (From The Vault)\",\"I Can See You (Taylor\\u2019s Version) (From The Vault)\",\"Castles Crumbling (feat. Hayley Williams) (Taylor\\u2019s Version) (From The Vault)\",\"Timeless (Taylor\\u2019s Version) (From The Vault)\"],\"legendgroup\":\"Speak Now (Taylor's Version)\",\"marker\":{\"color\":\"#FF97FF\"},\"name\":\"Speak Now (Taylor's Version)\",\"notched\":false,\"offsetgroup\":\"Speak Now (Taylor's Version)\",\"orientation\":\"v\",\"showlegend\":true,\"x\":[\"danceability\",\"danceability\",\"danceability\",\"danceability\",\"danceability\",\"danceability\",\"danceability\",\"danceability\",\"danceability\",\"danceability\",\"danceability\",\"danceability\",\"danceability\",\"danceability\",\"danceability\",\"danceability\",\"danceability\",\"danceability\",\"danceability\",\"danceability\",\"danceability\",\"energy\",\"energy\",\"energy\",\"energy\",\"energy\",\"energy\",\"energy\",\"energy\",\"energy\",\"energy\",\"energy\",\"energy\",\"energy\",\"energy\",\"energy\",\"energy\",\"energy\",\"energy\",\"energy\",\"energy\",\"energy\"],\"x0\":\" \",\"xaxis\":\"x\",\"y\":[0.646,0.588,0.727,0.497,0.419,0.524,0.515,0.685,0.505,0.496,0.522,0.427,0.55,0.375,0.535,0.533,0.547,0.474,0.694,0.576,0.624,0.783,0.758,0.677,0.635,0.47,0.692,0.781,0.323,0.532,0.885,0.598,0.915,0.366,0.65,0.488,0.742,0.855,0.763,0.764,0.57,0.585],\"y0\":\" \",\"yaxis\":\"y\",\"type\":\"box\",\"boxmean\":true},{\"alignmentgroup\":\"True\",\"boxpoints\":\"all\",\"hovertemplate\":\"\\u003cb\\u003e%{hovertext}\\u003c\\u002fb\\u003e\\u003cbr\\u003e\\u003cbr\\u003eAlbum Name=1989 (Taylor's Version) [Deluxe]\\u003cbr\\u003evariable=%{x}\\u003cbr\\u003evalue=%{y}\\u003cextra\\u003e\\u003c\\u002fextra\\u003e\",\"hovertext\":[\"Welcome To New York (Taylor's Version)\",\"Blank Space (Taylor's Version)\",\"Style (Taylor's Version)\",\"Out Of The Woods (Taylor's Version)\",\"All You Had To Do Was Stay (Taylor's Version)\",\"Shake It Off (Taylor's Version)\",\"I Wish You Would (Taylor's Version)\",\"Bad Blood (Taylor's Version)\",\"Wildest Dreams (Taylor's Version)\",\"How You Get The Girl (Taylor's Version)\",\"This Love (Taylor\\u2019s Version)\",\"I Know Places (Taylor's Version)\",\"Clean (Taylor's Version)\",\"Wonderland (Taylor's Version)\",\"You Are In Love (Taylor's Version)\",\"New Romantics (Taylor's Version)\",\"\\\"Slut!\\\" (Taylor's Version) (From The Vault)\",\"Say Don't Go (Taylor's Version) (From The Vault)\",\"Now That We Don't Talk (Taylor's Version) (From The Vault)\",\"Suburban Legends (Taylor's Version) (From The Vault)\",\"Is It Over Now? (Taylor's Version) (From The Vault)\",\"Bad Blood (feat. Kendrick Lamar) (Taylor's Version)\",\"Welcome To New York (Taylor's Version)\",\"Blank Space (Taylor's Version)\",\"Style (Taylor's Version)\",\"Out Of The Woods (Taylor's Version)\",\"All You Had To Do Was Stay (Taylor's Version)\",\"Shake It Off (Taylor's Version)\",\"I Wish You Would (Taylor's Version)\",\"Bad Blood (Taylor's Version)\",\"Wildest Dreams (Taylor's Version)\",\"How You Get The Girl (Taylor's Version)\",\"This Love (Taylor\\u2019s Version)\",\"I Know Places (Taylor's Version)\",\"Clean (Taylor's Version)\",\"Wonderland (Taylor's Version)\",\"You Are In Love (Taylor's Version)\",\"New Romantics (Taylor's Version)\",\"\\\"Slut!\\\" (Taylor's Version) (From The Vault)\",\"Say Don't Go (Taylor's Version) (From The Vault)\",\"Now That We Don't Talk (Taylor's Version) (From The Vault)\",\"Suburban Legends (Taylor's Version) (From The Vault)\",\"Is It Over Now? (Taylor's Version) (From The Vault)\",\"Bad Blood (feat. Kendrick Lamar) (Taylor's Version)\"],\"legendgroup\":\"1989 (Taylor's Version) [Deluxe]\",\"marker\":{\"color\":\"#FECB52\"},\"name\":\"1989 (Taylor's Version) [Deluxe]\",\"notched\":false,\"offsetgroup\":\"1989 (Taylor's Version) [Deluxe]\",\"orientation\":\"v\",\"showlegend\":true,\"x\":[\"danceability\",\"danceability\",\"danceability\",\"danceability\",\"danceability\",\"danceability\",\"danceability\",\"danceability\",\"danceability\",\"danceability\",\"danceability\",\"danceability\",\"danceability\",\"danceability\",\"danceability\",\"danceability\",\"danceability\",\"danceability\",\"danceability\",\"danceability\",\"danceability\",\"danceability\",\"energy\",\"energy\",\"energy\",\"energy\",\"energy\",\"energy\",\"energy\",\"energy\",\"energy\",\"energy\",\"energy\",\"energy\",\"energy\",\"energy\",\"energy\",\"energy\",\"energy\",\"energy\",\"energy\",\"energy\",\"energy\",\"energy\"],\"x0\":\" \",\"xaxis\":\"x\",\"y\":[0.757,0.733,0.511,0.545,0.588,0.636,0.67,0.618,0.589,0.758,0.471,0.582,0.772,0.464,0.363,0.649,0.591,0.633,0.8,0.701,0.595,0.602,0.61,0.733,0.822,0.885,0.721,0.808,0.858,0.683,0.674,0.691,0.509,0.788,0.391,0.705,0.498,0.846,0.412,0.551,0.501,0.625,0.656,0.648],\"y0\":\" \",\"yaxis\":\"y\",\"type\":\"box\",\"boxmean\":true}],                        {\"template\":{\"data\":{\"histogram2dcontour\":[{\"type\":\"histogram2dcontour\",\"colorbar\":{\"outlinewidth\":0,\"ticks\":\"\"},\"colorscale\":[[0.0,\"#0d0887\"],[0.1111111111111111,\"#46039f\"],[0.2222222222222222,\"#7201a8\"],[0.3333333333333333,\"#9c179e\"],[0.4444444444444444,\"#bd3786\"],[0.5555555555555556,\"#d8576b\"],[0.6666666666666666,\"#ed7953\"],[0.7777777777777778,\"#fb9f3a\"],[0.8888888888888888,\"#fdca26\"],[1.0,\"#f0f921\"]]}],\"choropleth\":[{\"type\":\"choropleth\",\"colorbar\":{\"outlinewidth\":0,\"ticks\":\"\"}}],\"histogram2d\":[{\"type\":\"histogram2d\",\"colorbar\":{\"outlinewidth\":0,\"ticks\":\"\"},\"colorscale\":[[0.0,\"#0d0887\"],[0.1111111111111111,\"#46039f\"],[0.2222222222222222,\"#7201a8\"],[0.3333333333333333,\"#9c179e\"],[0.4444444444444444,\"#bd3786\"],[0.5555555555555556,\"#d8576b\"],[0.6666666666666666,\"#ed7953\"],[0.7777777777777778,\"#fb9f3a\"],[0.8888888888888888,\"#fdca26\"],[1.0,\"#f0f921\"]]}],\"heatmap\":[{\"type\":\"heatmap\",\"colorbar\":{\"outlinewidth\":0,\"ticks\":\"\"},\"colorscale\":[[0.0,\"#0d0887\"],[0.1111111111111111,\"#46039f\"],[0.2222222222222222,\"#7201a8\"],[0.3333333333333333,\"#9c179e\"],[0.4444444444444444,\"#bd3786\"],[0.5555555555555556,\"#d8576b\"],[0.6666666666666666,\"#ed7953\"],[0.7777777777777778,\"#fb9f3a\"],[0.8888888888888888,\"#fdca26\"],[1.0,\"#f0f921\"]]}],\"heatmapgl\":[{\"type\":\"heatmapgl\",\"colorbar\":{\"outlinewidth\":0,\"ticks\":\"\"},\"colorscale\":[[0.0,\"#0d0887\"],[0.1111111111111111,\"#46039f\"],[0.2222222222222222,\"#7201a8\"],[0.3333333333333333,\"#9c179e\"],[0.4444444444444444,\"#bd3786\"],[0.5555555555555556,\"#d8576b\"],[0.6666666666666666,\"#ed7953\"],[0.7777777777777778,\"#fb9f3a\"],[0.8888888888888888,\"#fdca26\"],[1.0,\"#f0f921\"]]}],\"contourcarpet\":[{\"type\":\"contourcarpet\",\"colorbar\":{\"outlinewidth\":0,\"ticks\":\"\"}}],\"contour\":[{\"type\":\"contour\",\"colorbar\":{\"outlinewidth\":0,\"ticks\":\"\"},\"colorscale\":[[0.0,\"#0d0887\"],[0.1111111111111111,\"#46039f\"],[0.2222222222222222,\"#7201a8\"],[0.3333333333333333,\"#9c179e\"],[0.4444444444444444,\"#bd3786\"],[0.5555555555555556,\"#d8576b\"],[0.6666666666666666,\"#ed7953\"],[0.7777777777777778,\"#fb9f3a\"],[0.8888888888888888,\"#fdca26\"],[1.0,\"#f0f921\"]]}],\"surface\":[{\"type\":\"surface\",\"colorbar\":{\"outlinewidth\":0,\"ticks\":\"\"},\"colorscale\":[[0.0,\"#0d0887\"],[0.1111111111111111,\"#46039f\"],[0.2222222222222222,\"#7201a8\"],[0.3333333333333333,\"#9c179e\"],[0.4444444444444444,\"#bd3786\"],[0.5555555555555556,\"#d8576b\"],[0.6666666666666666,\"#ed7953\"],[0.7777777777777778,\"#fb9f3a\"],[0.8888888888888888,\"#fdca26\"],[1.0,\"#f0f921\"]]}],\"mesh3d\":[{\"type\":\"mesh3d\",\"colorbar\":{\"outlinewidth\":0,\"ticks\":\"\"}}],\"scatter\":[{\"fillpattern\":{\"fillmode\":\"overlay\",\"size\":10,\"solidity\":0.2},\"type\":\"scatter\"}],\"parcoords\":[{\"type\":\"parcoords\",\"line\":{\"colorbar\":{\"outlinewidth\":0,\"ticks\":\"\"}}}],\"scatterpolargl\":[{\"type\":\"scatterpolargl\",\"marker\":{\"colorbar\":{\"outlinewidth\":0,\"ticks\":\"\"}}}],\"bar\":[{\"error_x\":{\"color\":\"#2a3f5f\"},\"error_y\":{\"color\":\"#2a3f5f\"},\"marker\":{\"line\":{\"color\":\"#E5ECF6\",\"width\":0.5},\"pattern\":{\"fillmode\":\"overlay\",\"size\":10,\"solidity\":0.2}},\"type\":\"bar\"}],\"scattergeo\":[{\"type\":\"scattergeo\",\"marker\":{\"colorbar\":{\"outlinewidth\":0,\"ticks\":\"\"}}}],\"scatterpolar\":[{\"type\":\"scatterpolar\",\"marker\":{\"colorbar\":{\"outlinewidth\":0,\"ticks\":\"\"}}}],\"histogram\":[{\"marker\":{\"pattern\":{\"fillmode\":\"overlay\",\"size\":10,\"solidity\":0.2}},\"type\":\"histogram\"}],\"scattergl\":[{\"type\":\"scattergl\",\"marker\":{\"colorbar\":{\"outlinewidth\":0,\"ticks\":\"\"}}}],\"scatter3d\":[{\"type\":\"scatter3d\",\"line\":{\"colorbar\":{\"outlinewidth\":0,\"ticks\":\"\"}},\"marker\":{\"colorbar\":{\"outlinewidth\":0,\"ticks\":\"\"}}}],\"scattermapbox\":[{\"type\":\"scattermapbox\",\"marker\":{\"colorbar\":{\"outlinewidth\":0,\"ticks\":\"\"}}}],\"scatterternary\":[{\"type\":\"scatterternary\",\"marker\":{\"colorbar\":{\"outlinewidth\":0,\"ticks\":\"\"}}}],\"scattercarpet\":[{\"type\":\"scattercarpet\",\"marker\":{\"colorbar\":{\"outlinewidth\":0,\"ticks\":\"\"}}}],\"carpet\":[{\"aaxis\":{\"endlinecolor\":\"#2a3f5f\",\"gridcolor\":\"white\",\"linecolor\":\"white\",\"minorgridcolor\":\"white\",\"startlinecolor\":\"#2a3f5f\"},\"baxis\":{\"endlinecolor\":\"#2a3f5f\",\"gridcolor\":\"white\",\"linecolor\":\"white\",\"minorgridcolor\":\"white\",\"startlinecolor\":\"#2a3f5f\"},\"type\":\"carpet\"}],\"table\":[{\"cells\":{\"fill\":{\"color\":\"#EBF0F8\"},\"line\":{\"color\":\"white\"}},\"header\":{\"fill\":{\"color\":\"#C8D4E3\"},\"line\":{\"color\":\"white\"}},\"type\":\"table\"}],\"barpolar\":[{\"marker\":{\"line\":{\"color\":\"#E5ECF6\",\"width\":0.5},\"pattern\":{\"fillmode\":\"overlay\",\"size\":10,\"solidity\":0.2}},\"type\":\"barpolar\"}],\"pie\":[{\"automargin\":true,\"type\":\"pie\"}]},\"layout\":{\"autotypenumbers\":\"strict\",\"colorway\":[\"#636efa\",\"#EF553B\",\"#00cc96\",\"#ab63fa\",\"#FFA15A\",\"#19d3f3\",\"#FF6692\",\"#B6E880\",\"#FF97FF\",\"#FECB52\"],\"font\":{\"color\":\"#2a3f5f\"},\"hovermode\":\"closest\",\"hoverlabel\":{\"align\":\"left\"},\"paper_bgcolor\":\"white\",\"plot_bgcolor\":\"#E5ECF6\",\"polar\":{\"bgcolor\":\"#E5ECF6\",\"angularaxis\":{\"gridcolor\":\"white\",\"linecolor\":\"white\",\"ticks\":\"\"},\"radialaxis\":{\"gridcolor\":\"white\",\"linecolor\":\"white\",\"ticks\":\"\"}},\"ternary\":{\"bgcolor\":\"#E5ECF6\",\"aaxis\":{\"gridcolor\":\"white\",\"linecolor\":\"white\",\"ticks\":\"\"},\"baxis\":{\"gridcolor\":\"white\",\"linecolor\":\"white\",\"ticks\":\"\"},\"caxis\":{\"gridcolor\":\"white\",\"linecolor\":\"white\",\"ticks\":\"\"}},\"coloraxis\":{\"colorbar\":{\"outlinewidth\":0,\"ticks\":\"\"}},\"colorscale\":{\"sequential\":[[0.0,\"#0d0887\"],[0.1111111111111111,\"#46039f\"],[0.2222222222222222,\"#7201a8\"],[0.3333333333333333,\"#9c179e\"],[0.4444444444444444,\"#bd3786\"],[0.5555555555555556,\"#d8576b\"],[0.6666666666666666,\"#ed7953\"],[0.7777777777777778,\"#fb9f3a\"],[0.8888888888888888,\"#fdca26\"],[1.0,\"#f0f921\"]],\"sequentialminus\":[[0.0,\"#0d0887\"],[0.1111111111111111,\"#46039f\"],[0.2222222222222222,\"#7201a8\"],[0.3333333333333333,\"#9c179e\"],[0.4444444444444444,\"#bd3786\"],[0.5555555555555556,\"#d8576b\"],[0.6666666666666666,\"#ed7953\"],[0.7777777777777778,\"#fb9f3a\"],[0.8888888888888888,\"#fdca26\"],[1.0,\"#f0f921\"]],\"diverging\":[[0,\"#8e0152\"],[0.1,\"#c51b7d\"],[0.2,\"#de77ae\"],[0.3,\"#f1b6da\"],[0.4,\"#fde0ef\"],[0.5,\"#f7f7f7\"],[0.6,\"#e6f5d0\"],[0.7,\"#b8e186\"],[0.8,\"#7fbc41\"],[0.9,\"#4d9221\"],[1,\"#276419\"]]},\"xaxis\":{\"gridcolor\":\"white\",\"linecolor\":\"white\",\"ticks\":\"\",\"title\":{\"standoff\":15},\"zerolinecolor\":\"white\",\"automargin\":true,\"zerolinewidth\":2},\"yaxis\":{\"gridcolor\":\"white\",\"linecolor\":\"white\",\"ticks\":\"\",\"title\":{\"standoff\":15},\"zerolinecolor\":\"white\",\"automargin\":true,\"zerolinewidth\":2},\"scene\":{\"xaxis\":{\"backgroundcolor\":\"#E5ECF6\",\"gridcolor\":\"white\",\"linecolor\":\"white\",\"showbackground\":true,\"ticks\":\"\",\"zerolinecolor\":\"white\",\"gridwidth\":2},\"yaxis\":{\"backgroundcolor\":\"#E5ECF6\",\"gridcolor\":\"white\",\"linecolor\":\"white\",\"showbackground\":true,\"ticks\":\"\",\"zerolinecolor\":\"white\",\"gridwidth\":2},\"zaxis\":{\"backgroundcolor\":\"#E5ECF6\",\"gridcolor\":\"white\",\"linecolor\":\"white\",\"showbackground\":true,\"ticks\":\"\",\"zerolinecolor\":\"white\",\"gridwidth\":2}},\"shapedefaults\":{\"line\":{\"color\":\"#2a3f5f\"}},\"annotationdefaults\":{\"arrowcolor\":\"#2a3f5f\",\"arrowhead\":0,\"arrowwidth\":1},\"geo\":{\"bgcolor\":\"white\",\"landcolor\":\"#E5ECF6\",\"subunitcolor\":\"white\",\"showland\":true,\"showlakes\":true,\"lakecolor\":\"white\"},\"title\":{\"x\":0.05},\"mapbox\":{\"style\":\"light\"}}},\"xaxis\":{\"anchor\":\"y\",\"domain\":[0.0,1.0],\"title\":{\"text\":\"variable\"}},\"yaxis\":{\"anchor\":\"x\",\"domain\":[0.0,1.0],\"title\":{\"text\":\"value\"}},\"legend\":{\"title\":{\"text\":\"Album Name\"},\"tracegroupgap\":0},\"margin\":{\"t\":60},\"boxmode\":\"group\"},                        {\"responsive\": true}                    ).then(function(){\n",
       "                            \n",
       "var gd = document.getElementById('383e5caa-9b04-4ed0-bf39-dba12249725d');\n",
       "var x = new MutationObserver(function (mutations, observer) {{\n",
       "        var display = window.getComputedStyle(gd).display;\n",
       "        if (!display || display === 'none') {{\n",
       "            console.log([gd, 'removed!']);\n",
       "            Plotly.purge(gd);\n",
       "            observer.disconnect();\n",
       "        }}\n",
       "}});\n",
       "\n",
       "// Listen for the removal of the full notebook cells\n",
       "var notebookContainer = gd.closest('#notebook-container');\n",
       "if (notebookContainer) {{\n",
       "    x.observe(notebookContainer, {childList: true});\n",
       "}}\n",
       "\n",
       "// Listen for the clearing of the current output cell\n",
       "var outputEl = gd.closest('.output');\n",
       "if (outputEl) {{\n",
       "    x.observe(outputEl, {childList: true});\n",
       "}}\n",
       "\n",
       "                        })                };                });            </script>        </div>"
      ]
     },
     "metadata": {},
     "output_type": "display_data"
    }
   ],
   "source": [
    "fig = px.box(new_df, y=['danceability', 'energy'],\n",
    "             color='track.album.name', hover_name='track.name', points='all', \n",
    "             labels={'track.album.name': 'Album Name',\n",
    "                     'track.name': 'Track Name'})\n",
    "fig.update_traces(boxmean=True)\n",
    "fig"
   ]
  },
  {
   "cell_type": "markdown",
   "metadata": {},
   "source": [
    "Here we see that Lover had the most danceable and least danceable song (I Think He Knows and The Archer, respectively).\n",
    "Most Taylor Swift albums had an average danceability around 0.6, with the average album energy varying from 0.42 to 0.66.\n",
    "Again, feel free to hover your mouse over the data points to see where your favorite songs rank."
   ]
  },
  {
   "cell_type": "code",
   "execution_count": 15,
   "metadata": {},
   "outputs": [
    {
     "data": {
      "application/vnd.plotly.v1+json": {
       "config": {
        "plotlyServerURL": "https://plot.ly"
       },
       "data": [
        {
         "alignmentgroup": "True",
         "boxmean": true,
         "boxpoints": "all",
         "hovertemplate": "<b>%{hovertext}</b><br><br>track.album.name=Taylor Swift<br>variable=%{x}<br>value=%{y}<extra></extra>",
         "hovertext": [
          "Tim McGraw",
          "Picture To Burn",
          "Teardrops On My Guitar - Radio Single Remix",
          "A Place in this World",
          "Cold As You",
          "The Outside",
          "Tied Together with a Smile",
          "Stay Beautiful",
          "Should've Said No",
          "Mary's Song (Oh My My My)",
          "Our Song",
          "I'm Only Me When I'm With You",
          "Invisible",
          "A Perfectly Good Heart",
          "Teardrops on My Guitar - Pop Version",
          "Tim McGraw",
          "Picture To Burn",
          "Teardrops On My Guitar - Radio Single Remix",
          "A Place in this World",
          "Cold As You",
          "The Outside",
          "Tied Together with a Smile",
          "Stay Beautiful",
          "Should've Said No",
          "Mary's Song (Oh My My My)",
          "Our Song",
          "I'm Only Me When I'm With You",
          "Invisible",
          "A Perfectly Good Heart",
          "Teardrops on My Guitar - Pop Version"
         ],
         "legendgroup": "Taylor Swift",
         "marker": {
          "color": "#636efa"
         },
         "name": "Taylor Swift",
         "notched": false,
         "offsetgroup": "Taylor Swift",
         "orientation": "v",
         "showlegend": true,
         "type": "box",
         "x": [
          "acousticness",
          "acousticness",
          "acousticness",
          "acousticness",
          "acousticness",
          "acousticness",
          "acousticness",
          "acousticness",
          "acousticness",
          "acousticness",
          "acousticness",
          "acousticness",
          "acousticness",
          "acousticness",
          "acousticness",
          "speechiness",
          "speechiness",
          "speechiness",
          "speechiness",
          "speechiness",
          "speechiness",
          "speechiness",
          "speechiness",
          "speechiness",
          "speechiness",
          "speechiness",
          "speechiness",
          "speechiness",
          "speechiness",
          "speechiness"
         ],
         "x0": " ",
         "xaxis": "x",
         "y": [
          0.575,
          0.173,
          0.288,
          0.051,
          0.217,
          0.00491,
          0.525,
          0.0868,
          0.0103,
          0.0177,
          0.111,
          0.00452,
          0.637,
          0.00349,
          0.0402,
          0.0251,
          0.0323,
          0.0231,
          0.0324,
          0.0266,
          0.0293,
          0.0294,
          0.0246,
          0.0289,
          0.0292,
          0.0303,
          0.0646,
          0.0243,
          0.0365,
          0.0537
         ],
         "y0": " ",
         "yaxis": "y"
        },
        {
         "alignmentgroup": "True",
         "boxmean": true,
         "boxpoints": "all",
         "hovertemplate": "<b>%{hovertext}</b><br><br>track.album.name=reputation<br>variable=%{x}<br>value=%{y}<extra></extra>",
         "hovertext": [
          "...Ready For It?",
          "End Game",
          "I Did Something Bad",
          "Don’t Blame Me",
          "Delicate",
          "Look What You Made Me Do",
          "So It Goes...",
          "Gorgeous",
          "Getaway Car",
          "King Of My Heart",
          "Dancing With Our Hands Tied",
          "Dress",
          "This Is Why We Can't Have Nice Things",
          "Call It What You Want",
          "New Year’s Day",
          "...Ready For It?",
          "End Game",
          "I Did Something Bad",
          "Don’t Blame Me",
          "Delicate",
          "Look What You Made Me Do",
          "So It Goes...",
          "Gorgeous",
          "Getaway Car",
          "King Of My Heart",
          "Dancing With Our Hands Tied",
          "Dress",
          "This Is Why We Can't Have Nice Things",
          "Call It What You Want",
          "New Year’s Day"
         ],
         "legendgroup": "reputation",
         "marker": {
          "color": "#EF553B"
         },
         "name": "reputation",
         "notched": false,
         "offsetgroup": "reputation",
         "orientation": "v",
         "showlegend": true,
         "type": "box",
         "x": [
          "acousticness",
          "acousticness",
          "acousticness",
          "acousticness",
          "acousticness",
          "acousticness",
          "acousticness",
          "acousticness",
          "acousticness",
          "acousticness",
          "acousticness",
          "acousticness",
          "acousticness",
          "acousticness",
          "acousticness",
          "speechiness",
          "speechiness",
          "speechiness",
          "speechiness",
          "speechiness",
          "speechiness",
          "speechiness",
          "speechiness",
          "speechiness",
          "speechiness",
          "speechiness",
          "speechiness",
          "speechiness",
          "speechiness",
          "speechiness"
         ],
         "x0": " ",
         "xaxis": "x",
         "y": [
          0.0527,
          0.00845,
          0.0679,
          0.106,
          0.216,
          0.204,
          0.122,
          0.0713,
          0.00465,
          0.00882,
          0.0604,
          0.0329,
          0.0156,
          0.186,
          0.921,
          0.136,
          0.0558,
          0.159,
          0.0386,
          0.0682,
          0.123,
          0.0732,
          0.135,
          0.127,
          0.0382,
          0.196,
          0.0533,
          0.115,
          0.0731,
          0.0354
         ],
         "y0": " ",
         "yaxis": "y"
        },
        {
         "alignmentgroup": "True",
         "boxmean": true,
         "boxpoints": "all",
         "hovertemplate": "<b>%{hovertext}</b><br><br>track.album.name=Lover<br>variable=%{x}<br>value=%{y}<extra></extra>",
         "hovertext": [
          "I Forgot That You Existed",
          "Cruel Summer",
          "Lover",
          "The Man",
          "The Archer",
          "I Think He Knows",
          "Miss Americana & The Heartbreak Prince",
          "Paper Rings",
          "Cornelia Street",
          "Death By A Thousand Cuts",
          "London Boy",
          "Soon You’ll Get Better (feat. The Chicks)",
          "False God",
          "You Need To Calm Down",
          "Afterglow",
          "ME! (feat. Brendon Urie of Panic! At The Disco)",
          "It’s Nice To Have A Friend",
          "Daylight",
          "I Forgot That You Existed",
          "Cruel Summer",
          "Lover",
          "The Man",
          "The Archer",
          "I Think He Knows",
          "Miss Americana & The Heartbreak Prince",
          "Paper Rings",
          "Cornelia Street",
          "Death By A Thousand Cuts",
          "London Boy",
          "Soon You’ll Get Better (feat. The Chicks)",
          "False God",
          "You Need To Calm Down",
          "Afterglow",
          "ME! (feat. Brendon Urie of Panic! At The Disco)",
          "It’s Nice To Have A Friend",
          "Daylight"
         ],
         "legendgroup": "Lover",
         "marker": {
          "color": "#00cc96"
         },
         "name": "Lover",
         "notched": false,
         "offsetgroup": "Lover",
         "orientation": "v",
         "showlegend": true,
         "type": "box",
         "x": [
          "acousticness",
          "acousticness",
          "acousticness",
          "acousticness",
          "acousticness",
          "acousticness",
          "acousticness",
          "acousticness",
          "acousticness",
          "acousticness",
          "acousticness",
          "acousticness",
          "acousticness",
          "acousticness",
          "acousticness",
          "acousticness",
          "acousticness",
          "acousticness",
          "speechiness",
          "speechiness",
          "speechiness",
          "speechiness",
          "speechiness",
          "speechiness",
          "speechiness",
          "speechiness",
          "speechiness",
          "speechiness",
          "speechiness",
          "speechiness",
          "speechiness",
          "speechiness",
          "speechiness",
          "speechiness",
          "speechiness",
          "speechiness"
         ],
         "x0": " ",
         "xaxis": "x",
         "y": [
          0.298,
          0.117,
          0.492,
          0.0767,
          0.12,
          0.00889,
          0.028,
          0.0129,
          0.781,
          0.454,
          0.0246,
          0.907,
          0.736,
          0.00929,
          0.13,
          0.033,
          0.971,
          0.808,
          0.519,
          0.157,
          0.0919,
          0.054,
          0.0401,
          0.0569,
          0.0736,
          0.0497,
          0.0827,
          0.0629,
          0.05,
          0.0641,
          0.239,
          0.0553,
          0.0344,
          0.0571,
          0.0401,
          0.0563
         ],
         "y0": " ",
         "yaxis": "y"
        },
        {
         "alignmentgroup": "True",
         "boxmean": true,
         "boxpoints": "all",
         "hovertemplate": "<b>%{hovertext}</b><br><br>track.album.name=folklore<br>variable=%{x}<br>value=%{y}<extra></extra>",
         "hovertext": [
          "the 1",
          "cardigan",
          "the last great american dynasty",
          "exile (feat. Bon Iver)",
          "my tears ricochet",
          "mirrorball",
          "seven",
          "august",
          "this is me trying",
          "illicit affairs",
          "invisible string",
          "mad woman",
          "epiphany",
          "betty",
          "peace",
          "hoax",
          "the 1",
          "cardigan",
          "the last great american dynasty",
          "exile (feat. Bon Iver)",
          "my tears ricochet",
          "mirrorball",
          "seven",
          "august",
          "this is me trying",
          "illicit affairs",
          "invisible string",
          "mad woman",
          "epiphany",
          "betty",
          "peace",
          "hoax"
         ],
         "legendgroup": "folklore",
         "marker": {
          "color": "#ab63fa"
         },
         "name": "folklore",
         "notched": false,
         "offsetgroup": "folklore",
         "orientation": "v",
         "showlegend": true,
         "type": "box",
         "x": [
          "acousticness",
          "acousticness",
          "acousticness",
          "acousticness",
          "acousticness",
          "acousticness",
          "acousticness",
          "acousticness",
          "acousticness",
          "acousticness",
          "acousticness",
          "acousticness",
          "acousticness",
          "acousticness",
          "acousticness",
          "acousticness",
          "speechiness",
          "speechiness",
          "speechiness",
          "speechiness",
          "speechiness",
          "speechiness",
          "speechiness",
          "speechiness",
          "speechiness",
          "speechiness",
          "speechiness",
          "speechiness",
          "speechiness",
          "speechiness",
          "speechiness",
          "speechiness"
         ],
         "x0": " ",
         "xaxis": "x",
         "y": [
          0.757,
          0.537,
          0.467,
          0.778,
          0.806,
          0.687,
          0.9,
          0.538,
          0.314,
          0.881,
          0.838,
          0.655,
          0.731,
          0.6,
          0.918,
          0.966,
          0.0522,
          0.0424,
          0.0413,
          0.0287,
          0.0332,
          0.0334,
          0.0274,
          0.0331,
          0.0328,
          0.0338,
          0.055,
          0.0471,
          0.0281,
          0.0253,
          0.0916,
          0.0415
         ],
         "y0": " ",
         "yaxis": "y"
        },
        {
         "alignmentgroup": "True",
         "boxmean": true,
         "boxpoints": "all",
         "hovertemplate": "<b>%{hovertext}</b><br><br>track.album.name=evermore<br>variable=%{x}<br>value=%{y}<extra></extra>",
         "hovertext": [
          "willow",
          "champagne problems",
          "gold rush",
          "‘tis the damn season",
          "tolerate it",
          "no body, no crime (feat. HAIM)",
          "happiness",
          "dorothea",
          "coney island (feat. The National)",
          "ivy",
          "cowboy like me",
          "long story short",
          "marjorie",
          "closure",
          "evermore (feat. Bon Iver)",
          "willow",
          "champagne problems",
          "gold rush",
          "‘tis the damn season",
          "tolerate it",
          "no body, no crime (feat. HAIM)",
          "happiness",
          "dorothea",
          "coney island (feat. The National)",
          "ivy",
          "cowboy like me",
          "long story short",
          "marjorie",
          "closure",
          "evermore (feat. Bon Iver)"
         ],
         "legendgroup": "evermore",
         "marker": {
          "color": "#FFA15A"
         },
         "name": "evermore",
         "notched": false,
         "offsetgroup": "evermore",
         "orientation": "v",
         "showlegend": true,
         "type": "box",
         "x": [
          "acousticness",
          "acousticness",
          "acousticness",
          "acousticness",
          "acousticness",
          "acousticness",
          "acousticness",
          "acousticness",
          "acousticness",
          "acousticness",
          "acousticness",
          "acousticness",
          "acousticness",
          "acousticness",
          "acousticness",
          "speechiness",
          "speechiness",
          "speechiness",
          "speechiness",
          "speechiness",
          "speechiness",
          "speechiness",
          "speechiness",
          "speechiness",
          "speechiness",
          "speechiness",
          "speechiness",
          "speechiness",
          "speechiness",
          "speechiness"
         ],
         "x0": " ",
         "xaxis": "x",
         "y": [
          0.833,
          0.92,
          0.83,
          0.735,
          0.878,
          0.418,
          0.87,
          0.696,
          0.819,
          0.855,
          0.768,
          0.66,
          0.876,
          0.835,
          0.937,
          0.17,
          0.0377,
          0.0408,
          0.0312,
          0.0488,
          0.0264,
          0.0376,
          0.0264,
          0.0617,
          0.0353,
          0.0347,
          0.0417,
          0.0484,
          0.245,
          0.0308
         ],
         "y0": " ",
         "yaxis": "y"
        },
        {
         "alignmentgroup": "True",
         "boxmean": true,
         "boxpoints": "all",
         "hovertemplate": "<b>%{hovertext}</b><br><br>track.album.name=Fearless (Taylor's Version)<br>variable=%{x}<br>value=%{y}<extra></extra>",
         "hovertext": [
          "Fearless (Taylor’s Version)",
          "Fifteen (Taylor’s Version)",
          "Love Story (Taylor’s Version)",
          "Hey Stephen (Taylor’s Version)",
          "White Horse (Taylor’s Version)",
          "You Belong With Me (Taylor’s Version)",
          "Breathe (feat. Colbie Caillat) (Taylor’s Version)",
          "Tell Me Why (Taylor’s Version)",
          "You’re Not Sorry (Taylor’s Version)",
          "The Way I Loved You (Taylor’s Version)",
          "Forever & Always (Taylor’s Version)",
          "The Best Day (Taylor’s Version)",
          "Change (Taylor’s Version)",
          "Jump Then Fall (Taylor’s Version)",
          "Untouchable (Taylor’s Version)",
          "Forever & Always (Piano Version) (Taylor’s Version)",
          "Come In With The Rain (Taylor’s Version)",
          "Superstar (Taylor’s Version)",
          "The Other Side Of The Door (Taylor’s Version)",
          "Today Was A Fairytale (Taylor’s Version)",
          "You All Over Me (feat. Maren Morris) (Taylor’s Version) (From The Vault)",
          "Mr. Perfectly Fine (Taylor’s Version) (From The Vault)",
          "We Were Happy (Taylor’s Version) (From The Vault)",
          "That’s When (feat. Keith Urban) (Taylor’s Version) (From The Vault)",
          "Don’t You (Taylor’s Version) (From The Vault)",
          "Bye Bye Baby (Taylor’s Version) (From The Vault)",
          "Fearless (Taylor’s Version)",
          "Fifteen (Taylor’s Version)",
          "Love Story (Taylor’s Version)",
          "Hey Stephen (Taylor’s Version)",
          "White Horse (Taylor’s Version)",
          "You Belong With Me (Taylor’s Version)",
          "Breathe (feat. Colbie Caillat) (Taylor’s Version)",
          "Tell Me Why (Taylor’s Version)",
          "You’re Not Sorry (Taylor’s Version)",
          "The Way I Loved You (Taylor’s Version)",
          "Forever & Always (Taylor’s Version)",
          "The Best Day (Taylor’s Version)",
          "Change (Taylor’s Version)",
          "Jump Then Fall (Taylor’s Version)",
          "Untouchable (Taylor’s Version)",
          "Forever & Always (Piano Version) (Taylor’s Version)",
          "Come In With The Rain (Taylor’s Version)",
          "Superstar (Taylor’s Version)",
          "The Other Side Of The Door (Taylor’s Version)",
          "Today Was A Fairytale (Taylor’s Version)",
          "You All Over Me (feat. Maren Morris) (Taylor’s Version) (From The Vault)",
          "Mr. Perfectly Fine (Taylor’s Version) (From The Vault)",
          "We Were Happy (Taylor’s Version) (From The Vault)",
          "That’s When (feat. Keith Urban) (Taylor’s Version) (From The Vault)",
          "Don’t You (Taylor’s Version) (From The Vault)",
          "Bye Bye Baby (Taylor’s Version) (From The Vault)"
         ],
         "legendgroup": "Fearless (Taylor's Version)",
         "marker": {
          "color": "#19d3f3"
         },
         "name": "Fearless (Taylor's Version)",
         "notched": false,
         "offsetgroup": "Fearless (Taylor's Version)",
         "orientation": "v",
         "showlegend": true,
         "type": "box",
         "x": [
          "acousticness",
          "acousticness",
          "acousticness",
          "acousticness",
          "acousticness",
          "acousticness",
          "acousticness",
          "acousticness",
          "acousticness",
          "acousticness",
          "acousticness",
          "acousticness",
          "acousticness",
          "acousticness",
          "acousticness",
          "acousticness",
          "acousticness",
          "acousticness",
          "acousticness",
          "acousticness",
          "acousticness",
          "acousticness",
          "acousticness",
          "acousticness",
          "acousticness",
          "acousticness",
          "speechiness",
          "speechiness",
          "speechiness",
          "speechiness",
          "speechiness",
          "speechiness",
          "speechiness",
          "speechiness",
          "speechiness",
          "speechiness",
          "speechiness",
          "speechiness",
          "speechiness",
          "speechiness",
          "speechiness",
          "speechiness",
          "speechiness",
          "speechiness",
          "speechiness",
          "speechiness",
          "speechiness",
          "speechiness",
          "speechiness",
          "speechiness",
          "speechiness",
          "speechiness"
         ],
         "x0": " ",
         "xaxis": "x",
         "y": [
          0.0122,
          0.116,
          0.13,
          0.106,
          0.369,
          0.0623,
          0.156,
          0.0222,
          0.0538,
          0.0033,
          0.0231,
          0.488,
          0.000191,
          0.0474,
          0.0181,
          0.819,
          0.0406,
          0.157,
          0.0279,
          0.0135,
          0.816,
          0.162,
          0.849,
          0.225,
          0.514,
          0.334,
          0.0282,
          0.0272,
          0.031,
          0.0296,
          0.0486,
          0.0346,
          0.0287,
          0.0628,
          0.0285,
          0.0484,
          0.0447,
          0.0282,
          0.0341,
          0.0358,
          0.0329,
          0.0308,
          0.0269,
          0.0283,
          0.0577,
          0.0409,
          0.0372,
          0.0521,
          0.0263,
          0.0365,
          0.0503,
          0.0539
         ],
         "y0": " ",
         "yaxis": "y"
        },
        {
         "alignmentgroup": "True",
         "boxmean": true,
         "boxpoints": "all",
         "hovertemplate": "<b>%{hovertext}</b><br><br>track.album.name=Red (Taylor's Version)<br>variable=%{x}<br>value=%{y}<extra></extra>",
         "hovertext": [
          "State Of Grace (Taylor's Version)",
          "Red (Taylor's Version)",
          "Treacherous (Taylor's Version)",
          "I Knew You Were Trouble (Taylor's Version)",
          "All Too Well (Taylor's Version)",
          "22 (Taylor's Version)",
          "I Almost Do (Taylor's Version)",
          "We Are Never Ever Getting Back Together (Taylor's Version)",
          "Stay Stay Stay (Taylor's Version)",
          "The Last Time (feat. Gary Lightbody of Snow Patrol) (Taylor’s Version)",
          "Holy Ground (Taylor's Version)",
          "Sad Beautiful Tragic (Taylor's Version)",
          "The Lucky One (Taylor's Version)",
          "Everything Has Changed (feat. Ed Sheeran) (Taylor’s Version)",
          "Starlight (Taylor's Version)",
          "Begin Again (Taylor's Version)",
          "The Moment I Knew (Taylor's Version)",
          "Come Back...Be Here (Taylor's Version)",
          "Girl At Home (Taylor's Version)",
          "State Of Grace (Acoustic Version) (Taylor's Version)",
          "Ronan (Taylor's Version)",
          "Better Man (Taylor's Version) (From The Vault)",
          "Nothing New (feat. Phoebe Bridgers) (Taylor’s Version) (From The Vault)",
          "Babe (Taylor's Version) (From The Vault)",
          "Message In A Bottle (Taylor's Version) (From The Vault)",
          "I Bet You Think About Me (feat. Chris Stapleton) (Taylor’s Version) (From The Vault)",
          "Forever Winter (Taylor's Version) (From The Vault)",
          "Run (feat. Ed Sheeran) (Taylor’s Version) (From The Vault)",
          "The Very First Night (Taylor's Version) (From The Vault)",
          "All Too Well (10 Minute Version) (Taylor's Version) (From The Vault)",
          "State Of Grace (Taylor's Version)",
          "Red (Taylor's Version)",
          "Treacherous (Taylor's Version)",
          "I Knew You Were Trouble (Taylor's Version)",
          "All Too Well (Taylor's Version)",
          "22 (Taylor's Version)",
          "I Almost Do (Taylor's Version)",
          "We Are Never Ever Getting Back Together (Taylor's Version)",
          "Stay Stay Stay (Taylor's Version)",
          "The Last Time (feat. Gary Lightbody of Snow Patrol) (Taylor’s Version)",
          "Holy Ground (Taylor's Version)",
          "Sad Beautiful Tragic (Taylor's Version)",
          "The Lucky One (Taylor's Version)",
          "Everything Has Changed (feat. Ed Sheeran) (Taylor’s Version)",
          "Starlight (Taylor's Version)",
          "Begin Again (Taylor's Version)",
          "The Moment I Knew (Taylor's Version)",
          "Come Back...Be Here (Taylor's Version)",
          "Girl At Home (Taylor's Version)",
          "State Of Grace (Acoustic Version) (Taylor's Version)",
          "Ronan (Taylor's Version)",
          "Better Man (Taylor's Version) (From The Vault)",
          "Nothing New (feat. Phoebe Bridgers) (Taylor’s Version) (From The Vault)",
          "Babe (Taylor's Version) (From The Vault)",
          "Message In A Bottle (Taylor's Version) (From The Vault)",
          "I Bet You Think About Me (feat. Chris Stapleton) (Taylor’s Version) (From The Vault)",
          "Forever Winter (Taylor's Version) (From The Vault)",
          "Run (feat. Ed Sheeran) (Taylor’s Version) (From The Vault)",
          "The Very First Night (Taylor's Version) (From The Vault)",
          "All Too Well (10 Minute Version) (Taylor's Version) (From The Vault)"
         ],
         "legendgroup": "Red (Taylor's Version)",
         "marker": {
          "color": "#FF6692"
         },
         "name": "Red (Taylor's Version)",
         "notched": false,
         "offsetgroup": "Red (Taylor's Version)",
         "orientation": "v",
         "showlegend": true,
         "type": "box",
         "x": [
          "acousticness",
          "acousticness",
          "acousticness",
          "acousticness",
          "acousticness",
          "acousticness",
          "acousticness",
          "acousticness",
          "acousticness",
          "acousticness",
          "acousticness",
          "acousticness",
          "acousticness",
          "acousticness",
          "acousticness",
          "acousticness",
          "acousticness",
          "acousticness",
          "acousticness",
          "acousticness",
          "acousticness",
          "acousticness",
          "acousticness",
          "acousticness",
          "acousticness",
          "acousticness",
          "acousticness",
          "acousticness",
          "acousticness",
          "acousticness",
          "speechiness",
          "speechiness",
          "speechiness",
          "speechiness",
          "speechiness",
          "speechiness",
          "speechiness",
          "speechiness",
          "speechiness",
          "speechiness",
          "speechiness",
          "speechiness",
          "speechiness",
          "speechiness",
          "speechiness",
          "speechiness",
          "speechiness",
          "speechiness",
          "speechiness",
          "speechiness",
          "speechiness",
          "speechiness",
          "speechiness",
          "speechiness",
          "speechiness",
          "speechiness",
          "speechiness",
          "speechiness",
          "speechiness",
          "speechiness"
         ],
         "x0": " ",
         "xaxis": "x",
         "y": [
          0.000328,
          0.00108,
          0.0344,
          0.0129,
          0.0171,
          0.000443,
          0.0167,
          0.0317,
          0.0848,
          0.0399,
          0.0288,
          0.622,
          0.066,
          0.271,
          0.00324,
          0.075,
          0.0494,
          0.0158,
          0.00955,
          0.663,
          0.661,
          0.214,
          0.817,
          0.0538,
          0.00188,
          0.167,
          0.256,
          0.817,
          0.00115,
          0.274,
          0.0503,
          0.0375,
          0.0288,
          0.0342,
          0.0317,
          0.0281,
          0.0264,
          0.175,
          0.025,
          0.0278,
          0.0638,
          0.0275,
          0.05,
          0.0363,
          0.0358,
          0.0274,
          0.031,
          0.0302,
          0.0326,
          0.0564,
          0.031,
          0.0384,
          0.0275,
          0.0931,
          0.0535,
          0.0495,
          0.031,
          0.0293,
          0.0281,
          0.0303
         ],
         "y0": " ",
         "yaxis": "y"
        },
        {
         "alignmentgroup": "True",
         "boxmean": true,
         "boxpoints": "all",
         "hovertemplate": "<b>%{hovertext}</b><br><br>track.album.name=Midnights (3am Edition)<br>variable=%{x}<br>value=%{y}<extra></extra>",
         "hovertext": [
          "Lavender Haze",
          "Maroon",
          "Anti-Hero",
          "Snow On The Beach (feat. Lana Del Rey)",
          "You're On Your Own, Kid",
          "Midnight Rain",
          "Question...?",
          "Vigilante Shit",
          "Bejeweled",
          "Labyrinth",
          "Karma",
          "Sweet Nothing",
          "Mastermind",
          "The Great War",
          "Bigger Than The Whole Sky",
          "Paris",
          "High Infidelity",
          "Glitch",
          "Would've, Could've, Should've",
          "Dear Reader",
          "Lavender Haze",
          "Maroon",
          "Anti-Hero",
          "Snow On The Beach (feat. Lana Del Rey)",
          "You're On Your Own, Kid",
          "Midnight Rain",
          "Question...?",
          "Vigilante Shit",
          "Bejeweled",
          "Labyrinth",
          "Karma",
          "Sweet Nothing",
          "Mastermind",
          "The Great War",
          "Bigger Than The Whole Sky",
          "Paris",
          "High Infidelity",
          "Glitch",
          "Would've, Could've, Should've",
          "Dear Reader"
         ],
         "legendgroup": "Midnights (3am Edition)",
         "marker": {
          "color": "#B6E880"
         },
         "name": "Midnights (3am Edition)",
         "notched": false,
         "offsetgroup": "Midnights (3am Edition)",
         "orientation": "v",
         "showlegend": true,
         "type": "box",
         "x": [
          "acousticness",
          "acousticness",
          "acousticness",
          "acousticness",
          "acousticness",
          "acousticness",
          "acousticness",
          "acousticness",
          "acousticness",
          "acousticness",
          "acousticness",
          "acousticness",
          "acousticness",
          "acousticness",
          "acousticness",
          "acousticness",
          "acousticness",
          "acousticness",
          "acousticness",
          "acousticness",
          "speechiness",
          "speechiness",
          "speechiness",
          "speechiness",
          "speechiness",
          "speechiness",
          "speechiness",
          "speechiness",
          "speechiness",
          "speechiness",
          "speechiness",
          "speechiness",
          "speechiness",
          "speechiness",
          "speechiness",
          "speechiness",
          "speechiness",
          "speechiness",
          "speechiness",
          "speechiness"
         ],
         "x0": " ",
         "xaxis": "x",
         "y": [
          0.204,
          0.0593,
          0.133,
          0.735,
          0.416,
          0.71,
          0.226,
          0.16,
          0.0661,
          0.791,
          0.074,
          0.967,
          0.571,
          0.219,
          0.826,
          0.112,
          0.723,
          0.361,
          0.43,
          0.481,
          0.0684,
          0.0379,
          0.0457,
          0.0436,
          0.0614,
          0.0708,
          0.162,
          0.364,
          0.0653,
          0.0487,
          0.0582,
          0.0506,
          0.117,
          0.0353,
          0.0568,
          0.0789,
          0.0864,
          0.201,
          0.119,
          0.0705
         ],
         "y0": " ",
         "yaxis": "y"
        },
        {
         "alignmentgroup": "True",
         "boxmean": true,
         "boxpoints": "all",
         "hovertemplate": "<b>%{hovertext}</b><br><br>track.album.name=Speak Now (Taylor's Version)<br>variable=%{x}<br>value=%{y}<extra></extra>",
         "hovertext": [
          "Mine (Taylor's Version)",
          "Sparks Fly (Taylor’s Version)",
          "Speak Now (Taylor's Version)",
          "Back To December (Taylor's Version)",
          "Dear John (Taylor's Version)",
          "Mean (Taylor's Version)",
          "The Story Of Us (Taylor's Version)",
          "Never Grow Up (Taylor's Version)",
          "Enchanted (Taylor's Version)",
          "Better Than Revenge (Taylor's Version)",
          "Innocent (Taylor's Version)",
          "Haunted (Taylor's Version)",
          "Last Kiss (Taylor's Version)",
          "Long Live (Taylor's Version)",
          "Ours (Taylor’s Version)",
          "Superman (Taylor’s Version)",
          "Electric Touch (feat. Fall Out Boy) (Taylor’s Version) (From The Vault)",
          "When Emma Falls in Love (Taylor’s Version) (From The Vault)",
          "I Can See You (Taylor’s Version) (From The Vault)",
          "Castles Crumbling (feat. Hayley Williams) (Taylor’s Version) (From The Vault)",
          "Timeless (Taylor’s Version) (From The Vault)",
          "Mine (Taylor's Version)",
          "Sparks Fly (Taylor’s Version)",
          "Speak Now (Taylor's Version)",
          "Back To December (Taylor's Version)",
          "Dear John (Taylor's Version)",
          "Mean (Taylor's Version)",
          "The Story Of Us (Taylor's Version)",
          "Never Grow Up (Taylor's Version)",
          "Enchanted (Taylor's Version)",
          "Better Than Revenge (Taylor's Version)",
          "Innocent (Taylor's Version)",
          "Haunted (Taylor's Version)",
          "Last Kiss (Taylor's Version)",
          "Long Live (Taylor's Version)",
          "Ours (Taylor’s Version)",
          "Superman (Taylor’s Version)",
          "Electric Touch (feat. Fall Out Boy) (Taylor’s Version) (From The Vault)",
          "When Emma Falls in Love (Taylor’s Version) (From The Vault)",
          "I Can See You (Taylor’s Version) (From The Vault)",
          "Castles Crumbling (feat. Hayley Williams) (Taylor’s Version) (From The Vault)",
          "Timeless (Taylor’s Version) (From The Vault)"
         ],
         "legendgroup": "Speak Now (Taylor's Version)",
         "marker": {
          "color": "#FF97FF"
         },
         "name": "Speak Now (Taylor's Version)",
         "notched": false,
         "offsetgroup": "Speak Now (Taylor's Version)",
         "orientation": "v",
         "showlegend": true,
         "type": "box",
         "x": [
          "acousticness",
          "acousticness",
          "acousticness",
          "acousticness",
          "acousticness",
          "acousticness",
          "acousticness",
          "acousticness",
          "acousticness",
          "acousticness",
          "acousticness",
          "acousticness",
          "acousticness",
          "acousticness",
          "acousticness",
          "acousticness",
          "acousticness",
          "acousticness",
          "acousticness",
          "acousticness",
          "acousticness",
          "speechiness",
          "speechiness",
          "speechiness",
          "speechiness",
          "speechiness",
          "speechiness",
          "speechiness",
          "speechiness",
          "speechiness",
          "speechiness",
          "speechiness",
          "speechiness",
          "speechiness",
          "speechiness",
          "speechiness",
          "speechiness",
          "speechiness",
          "speechiness",
          "speechiness",
          "speechiness",
          "speechiness"
         ],
         "x0": " ",
         "xaxis": "x",
         "y": [
          0.00444,
          0.0251,
          0.248,
          0.00621,
          0.0236,
          0.311,
          0.00192,
          0.851,
          0.012,
          0.000886,
          0.101,
          0.00667,
          0.447,
          0.0122,
          0.449,
          0.0031,
          0.0164,
          0.159,
          0.0586,
          0.362,
          0.3,
          0.0356,
          0.0305,
          0.0325,
          0.0273,
          0.0296,
          0.0369,
          0.0535,
          0.0289,
          0.0265,
          0.0803,
          0.0284,
          0.0619,
          0.0276,
          0.0402,
          0.0278,
          0.0303,
          0.0597,
          0.0505,
          0.0337,
          0.0434,
          0.0328
         ],
         "y0": " ",
         "yaxis": "y"
        },
        {
         "alignmentgroup": "True",
         "boxmean": true,
         "boxpoints": "all",
         "hovertemplate": "<b>%{hovertext}</b><br><br>track.album.name=1989 (Taylor's Version) [Deluxe]<br>variable=%{x}<br>value=%{y}<extra></extra>",
         "hovertext": [
          "Welcome To New York (Taylor's Version)",
          "Blank Space (Taylor's Version)",
          "Style (Taylor's Version)",
          "Out Of The Woods (Taylor's Version)",
          "All You Had To Do Was Stay (Taylor's Version)",
          "Shake It Off (Taylor's Version)",
          "I Wish You Would (Taylor's Version)",
          "Bad Blood (Taylor's Version)",
          "Wildest Dreams (Taylor's Version)",
          "How You Get The Girl (Taylor's Version)",
          "This Love (Taylor’s Version)",
          "I Know Places (Taylor's Version)",
          "Clean (Taylor's Version)",
          "Wonderland (Taylor's Version)",
          "You Are In Love (Taylor's Version)",
          "New Romantics (Taylor's Version)",
          "\"Slut!\" (Taylor's Version) (From The Vault)",
          "Say Don't Go (Taylor's Version) (From The Vault)",
          "Now That We Don't Talk (Taylor's Version) (From The Vault)",
          "Suburban Legends (Taylor's Version) (From The Vault)",
          "Is It Over Now? (Taylor's Version) (From The Vault)",
          "Bad Blood (feat. Kendrick Lamar) (Taylor's Version)",
          "Welcome To New York (Taylor's Version)",
          "Blank Space (Taylor's Version)",
          "Style (Taylor's Version)",
          "Out Of The Woods (Taylor's Version)",
          "All You Had To Do Was Stay (Taylor's Version)",
          "Shake It Off (Taylor's Version)",
          "I Wish You Would (Taylor's Version)",
          "Bad Blood (Taylor's Version)",
          "Wildest Dreams (Taylor's Version)",
          "How You Get The Girl (Taylor's Version)",
          "This Love (Taylor’s Version)",
          "I Know Places (Taylor's Version)",
          "Clean (Taylor's Version)",
          "Wonderland (Taylor's Version)",
          "You Are In Love (Taylor's Version)",
          "New Romantics (Taylor's Version)",
          "\"Slut!\" (Taylor's Version) (From The Vault)",
          "Say Don't Go (Taylor's Version) (From The Vault)",
          "Now That We Don't Talk (Taylor's Version) (From The Vault)",
          "Suburban Legends (Taylor's Version) (From The Vault)",
          "Is It Over Now? (Taylor's Version) (From The Vault)",
          "Bad Blood (feat. Kendrick Lamar) (Taylor's Version)"
         ],
         "legendgroup": "1989 (Taylor's Version) [Deluxe]",
         "marker": {
          "color": "#FECB52"
         },
         "name": "1989 (Taylor's Version) [Deluxe]",
         "notched": false,
         "offsetgroup": "1989 (Taylor's Version) [Deluxe]",
         "orientation": "v",
         "showlegend": true,
         "type": "box",
         "x": [
          "acousticness",
          "acousticness",
          "acousticness",
          "acousticness",
          "acousticness",
          "acousticness",
          "acousticness",
          "acousticness",
          "acousticness",
          "acousticness",
          "acousticness",
          "acousticness",
          "acousticness",
          "acousticness",
          "acousticness",
          "acousticness",
          "acousticness",
          "acousticness",
          "acousticness",
          "acousticness",
          "acousticness",
          "acousticness",
          "speechiness",
          "speechiness",
          "speechiness",
          "speechiness",
          "speechiness",
          "speechiness",
          "speechiness",
          "speechiness",
          "speechiness",
          "speechiness",
          "speechiness",
          "speechiness",
          "speechiness",
          "speechiness",
          "speechiness",
          "speechiness",
          "speechiness",
          "speechiness",
          "speechiness",
          "speechiness",
          "speechiness",
          "speechiness"
         ],
         "x0": " ",
         "xaxis": "x",
         "y": [
          0.00942,
          0.0885,
          0.000421,
          0.000537,
          0.000656,
          0.0121,
          0.00354,
          0.0362,
          0.0436,
          0.00196,
          0.316,
          0.0999,
          0.25,
          0.00976,
          0.61,
          0.00675,
          0.309,
          0.066,
          0.16,
          0.207,
          0.041,
          0.0104,
          0.0327,
          0.067,
          0.0397,
          0.0447,
          0.0317,
          0.0729,
          0.0439,
          0.194,
          0.0656,
          0.0515,
          0.0355,
          0.0445,
          0.0293,
          0.0434,
          0.0755,
          0.0602,
          0.0863,
          0.0341,
          0.034,
          0.036,
          0.037,
          0.103
         ],
         "y0": " ",
         "yaxis": "y"
        }
       ],
       "layout": {
        "boxmode": "group",
        "legend": {
         "title": {
          "text": "track.album.name"
         },
         "tracegroupgap": 0
        },
        "margin": {
         "t": 60
        },
        "template": {
         "data": {
          "bar": [
           {
            "error_x": {
             "color": "#2a3f5f"
            },
            "error_y": {
             "color": "#2a3f5f"
            },
            "marker": {
             "line": {
              "color": "#E5ECF6",
              "width": 0.5
             },
             "pattern": {
              "fillmode": "overlay",
              "size": 10,
              "solidity": 0.2
             }
            },
            "type": "bar"
           }
          ],
          "barpolar": [
           {
            "marker": {
             "line": {
              "color": "#E5ECF6",
              "width": 0.5
             },
             "pattern": {
              "fillmode": "overlay",
              "size": 10,
              "solidity": 0.2
             }
            },
            "type": "barpolar"
           }
          ],
          "carpet": [
           {
            "aaxis": {
             "endlinecolor": "#2a3f5f",
             "gridcolor": "white",
             "linecolor": "white",
             "minorgridcolor": "white",
             "startlinecolor": "#2a3f5f"
            },
            "baxis": {
             "endlinecolor": "#2a3f5f",
             "gridcolor": "white",
             "linecolor": "white",
             "minorgridcolor": "white",
             "startlinecolor": "#2a3f5f"
            },
            "type": "carpet"
           }
          ],
          "choropleth": [
           {
            "colorbar": {
             "outlinewidth": 0,
             "ticks": ""
            },
            "type": "choropleth"
           }
          ],
          "contour": [
           {
            "colorbar": {
             "outlinewidth": 0,
             "ticks": ""
            },
            "colorscale": [
             [
              0,
              "#0d0887"
             ],
             [
              0.1111111111111111,
              "#46039f"
             ],
             [
              0.2222222222222222,
              "#7201a8"
             ],
             [
              0.3333333333333333,
              "#9c179e"
             ],
             [
              0.4444444444444444,
              "#bd3786"
             ],
             [
              0.5555555555555556,
              "#d8576b"
             ],
             [
              0.6666666666666666,
              "#ed7953"
             ],
             [
              0.7777777777777778,
              "#fb9f3a"
             ],
             [
              0.8888888888888888,
              "#fdca26"
             ],
             [
              1,
              "#f0f921"
             ]
            ],
            "type": "contour"
           }
          ],
          "contourcarpet": [
           {
            "colorbar": {
             "outlinewidth": 0,
             "ticks": ""
            },
            "type": "contourcarpet"
           }
          ],
          "heatmap": [
           {
            "colorbar": {
             "outlinewidth": 0,
             "ticks": ""
            },
            "colorscale": [
             [
              0,
              "#0d0887"
             ],
             [
              0.1111111111111111,
              "#46039f"
             ],
             [
              0.2222222222222222,
              "#7201a8"
             ],
             [
              0.3333333333333333,
              "#9c179e"
             ],
             [
              0.4444444444444444,
              "#bd3786"
             ],
             [
              0.5555555555555556,
              "#d8576b"
             ],
             [
              0.6666666666666666,
              "#ed7953"
             ],
             [
              0.7777777777777778,
              "#fb9f3a"
             ],
             [
              0.8888888888888888,
              "#fdca26"
             ],
             [
              1,
              "#f0f921"
             ]
            ],
            "type": "heatmap"
           }
          ],
          "heatmapgl": [
           {
            "colorbar": {
             "outlinewidth": 0,
             "ticks": ""
            },
            "colorscale": [
             [
              0,
              "#0d0887"
             ],
             [
              0.1111111111111111,
              "#46039f"
             ],
             [
              0.2222222222222222,
              "#7201a8"
             ],
             [
              0.3333333333333333,
              "#9c179e"
             ],
             [
              0.4444444444444444,
              "#bd3786"
             ],
             [
              0.5555555555555556,
              "#d8576b"
             ],
             [
              0.6666666666666666,
              "#ed7953"
             ],
             [
              0.7777777777777778,
              "#fb9f3a"
             ],
             [
              0.8888888888888888,
              "#fdca26"
             ],
             [
              1,
              "#f0f921"
             ]
            ],
            "type": "heatmapgl"
           }
          ],
          "histogram": [
           {
            "marker": {
             "pattern": {
              "fillmode": "overlay",
              "size": 10,
              "solidity": 0.2
             }
            },
            "type": "histogram"
           }
          ],
          "histogram2d": [
           {
            "colorbar": {
             "outlinewidth": 0,
             "ticks": ""
            },
            "colorscale": [
             [
              0,
              "#0d0887"
             ],
             [
              0.1111111111111111,
              "#46039f"
             ],
             [
              0.2222222222222222,
              "#7201a8"
             ],
             [
              0.3333333333333333,
              "#9c179e"
             ],
             [
              0.4444444444444444,
              "#bd3786"
             ],
             [
              0.5555555555555556,
              "#d8576b"
             ],
             [
              0.6666666666666666,
              "#ed7953"
             ],
             [
              0.7777777777777778,
              "#fb9f3a"
             ],
             [
              0.8888888888888888,
              "#fdca26"
             ],
             [
              1,
              "#f0f921"
             ]
            ],
            "type": "histogram2d"
           }
          ],
          "histogram2dcontour": [
           {
            "colorbar": {
             "outlinewidth": 0,
             "ticks": ""
            },
            "colorscale": [
             [
              0,
              "#0d0887"
             ],
             [
              0.1111111111111111,
              "#46039f"
             ],
             [
              0.2222222222222222,
              "#7201a8"
             ],
             [
              0.3333333333333333,
              "#9c179e"
             ],
             [
              0.4444444444444444,
              "#bd3786"
             ],
             [
              0.5555555555555556,
              "#d8576b"
             ],
             [
              0.6666666666666666,
              "#ed7953"
             ],
             [
              0.7777777777777778,
              "#fb9f3a"
             ],
             [
              0.8888888888888888,
              "#fdca26"
             ],
             [
              1,
              "#f0f921"
             ]
            ],
            "type": "histogram2dcontour"
           }
          ],
          "mesh3d": [
           {
            "colorbar": {
             "outlinewidth": 0,
             "ticks": ""
            },
            "type": "mesh3d"
           }
          ],
          "parcoords": [
           {
            "line": {
             "colorbar": {
              "outlinewidth": 0,
              "ticks": ""
             }
            },
            "type": "parcoords"
           }
          ],
          "pie": [
           {
            "automargin": true,
            "type": "pie"
           }
          ],
          "scatter": [
           {
            "fillpattern": {
             "fillmode": "overlay",
             "size": 10,
             "solidity": 0.2
            },
            "type": "scatter"
           }
          ],
          "scatter3d": [
           {
            "line": {
             "colorbar": {
              "outlinewidth": 0,
              "ticks": ""
             }
            },
            "marker": {
             "colorbar": {
              "outlinewidth": 0,
              "ticks": ""
             }
            },
            "type": "scatter3d"
           }
          ],
          "scattercarpet": [
           {
            "marker": {
             "colorbar": {
              "outlinewidth": 0,
              "ticks": ""
             }
            },
            "type": "scattercarpet"
           }
          ],
          "scattergeo": [
           {
            "marker": {
             "colorbar": {
              "outlinewidth": 0,
              "ticks": ""
             }
            },
            "type": "scattergeo"
           }
          ],
          "scattergl": [
           {
            "marker": {
             "colorbar": {
              "outlinewidth": 0,
              "ticks": ""
             }
            },
            "type": "scattergl"
           }
          ],
          "scattermapbox": [
           {
            "marker": {
             "colorbar": {
              "outlinewidth": 0,
              "ticks": ""
             }
            },
            "type": "scattermapbox"
           }
          ],
          "scatterpolar": [
           {
            "marker": {
             "colorbar": {
              "outlinewidth": 0,
              "ticks": ""
             }
            },
            "type": "scatterpolar"
           }
          ],
          "scatterpolargl": [
           {
            "marker": {
             "colorbar": {
              "outlinewidth": 0,
              "ticks": ""
             }
            },
            "type": "scatterpolargl"
           }
          ],
          "scatterternary": [
           {
            "marker": {
             "colorbar": {
              "outlinewidth": 0,
              "ticks": ""
             }
            },
            "type": "scatterternary"
           }
          ],
          "surface": [
           {
            "colorbar": {
             "outlinewidth": 0,
             "ticks": ""
            },
            "colorscale": [
             [
              0,
              "#0d0887"
             ],
             [
              0.1111111111111111,
              "#46039f"
             ],
             [
              0.2222222222222222,
              "#7201a8"
             ],
             [
              0.3333333333333333,
              "#9c179e"
             ],
             [
              0.4444444444444444,
              "#bd3786"
             ],
             [
              0.5555555555555556,
              "#d8576b"
             ],
             [
              0.6666666666666666,
              "#ed7953"
             ],
             [
              0.7777777777777778,
              "#fb9f3a"
             ],
             [
              0.8888888888888888,
              "#fdca26"
             ],
             [
              1,
              "#f0f921"
             ]
            ],
            "type": "surface"
           }
          ],
          "table": [
           {
            "cells": {
             "fill": {
              "color": "#EBF0F8"
             },
             "line": {
              "color": "white"
             }
            },
            "header": {
             "fill": {
              "color": "#C8D4E3"
             },
             "line": {
              "color": "white"
             }
            },
            "type": "table"
           }
          ]
         },
         "layout": {
          "annotationdefaults": {
           "arrowcolor": "#2a3f5f",
           "arrowhead": 0,
           "arrowwidth": 1
          },
          "autotypenumbers": "strict",
          "coloraxis": {
           "colorbar": {
            "outlinewidth": 0,
            "ticks": ""
           }
          },
          "colorscale": {
           "diverging": [
            [
             0,
             "#8e0152"
            ],
            [
             0.1,
             "#c51b7d"
            ],
            [
             0.2,
             "#de77ae"
            ],
            [
             0.3,
             "#f1b6da"
            ],
            [
             0.4,
             "#fde0ef"
            ],
            [
             0.5,
             "#f7f7f7"
            ],
            [
             0.6,
             "#e6f5d0"
            ],
            [
             0.7,
             "#b8e186"
            ],
            [
             0.8,
             "#7fbc41"
            ],
            [
             0.9,
             "#4d9221"
            ],
            [
             1,
             "#276419"
            ]
           ],
           "sequential": [
            [
             0,
             "#0d0887"
            ],
            [
             0.1111111111111111,
             "#46039f"
            ],
            [
             0.2222222222222222,
             "#7201a8"
            ],
            [
             0.3333333333333333,
             "#9c179e"
            ],
            [
             0.4444444444444444,
             "#bd3786"
            ],
            [
             0.5555555555555556,
             "#d8576b"
            ],
            [
             0.6666666666666666,
             "#ed7953"
            ],
            [
             0.7777777777777778,
             "#fb9f3a"
            ],
            [
             0.8888888888888888,
             "#fdca26"
            ],
            [
             1,
             "#f0f921"
            ]
           ],
           "sequentialminus": [
            [
             0,
             "#0d0887"
            ],
            [
             0.1111111111111111,
             "#46039f"
            ],
            [
             0.2222222222222222,
             "#7201a8"
            ],
            [
             0.3333333333333333,
             "#9c179e"
            ],
            [
             0.4444444444444444,
             "#bd3786"
            ],
            [
             0.5555555555555556,
             "#d8576b"
            ],
            [
             0.6666666666666666,
             "#ed7953"
            ],
            [
             0.7777777777777778,
             "#fb9f3a"
            ],
            [
             0.8888888888888888,
             "#fdca26"
            ],
            [
             1,
             "#f0f921"
            ]
           ]
          },
          "colorway": [
           "#636efa",
           "#EF553B",
           "#00cc96",
           "#ab63fa",
           "#FFA15A",
           "#19d3f3",
           "#FF6692",
           "#B6E880",
           "#FF97FF",
           "#FECB52"
          ],
          "font": {
           "color": "#2a3f5f"
          },
          "geo": {
           "bgcolor": "white",
           "lakecolor": "white",
           "landcolor": "#E5ECF6",
           "showlakes": true,
           "showland": true,
           "subunitcolor": "white"
          },
          "hoverlabel": {
           "align": "left"
          },
          "hovermode": "closest",
          "mapbox": {
           "style": "light"
          },
          "paper_bgcolor": "white",
          "plot_bgcolor": "#E5ECF6",
          "polar": {
           "angularaxis": {
            "gridcolor": "white",
            "linecolor": "white",
            "ticks": ""
           },
           "bgcolor": "#E5ECF6",
           "radialaxis": {
            "gridcolor": "white",
            "linecolor": "white",
            "ticks": ""
           }
          },
          "scene": {
           "xaxis": {
            "backgroundcolor": "#E5ECF6",
            "gridcolor": "white",
            "gridwidth": 2,
            "linecolor": "white",
            "showbackground": true,
            "ticks": "",
            "zerolinecolor": "white"
           },
           "yaxis": {
            "backgroundcolor": "#E5ECF6",
            "gridcolor": "white",
            "gridwidth": 2,
            "linecolor": "white",
            "showbackground": true,
            "ticks": "",
            "zerolinecolor": "white"
           },
           "zaxis": {
            "backgroundcolor": "#E5ECF6",
            "gridcolor": "white",
            "gridwidth": 2,
            "linecolor": "white",
            "showbackground": true,
            "ticks": "",
            "zerolinecolor": "white"
           }
          },
          "shapedefaults": {
           "line": {
            "color": "#2a3f5f"
           }
          },
          "ternary": {
           "aaxis": {
            "gridcolor": "white",
            "linecolor": "white",
            "ticks": ""
           },
           "baxis": {
            "gridcolor": "white",
            "linecolor": "white",
            "ticks": ""
           },
           "bgcolor": "#E5ECF6",
           "caxis": {
            "gridcolor": "white",
            "linecolor": "white",
            "ticks": ""
           }
          },
          "title": {
           "x": 0.05
          },
          "xaxis": {
           "automargin": true,
           "gridcolor": "white",
           "linecolor": "white",
           "ticks": "",
           "title": {
            "standoff": 15
           },
           "zerolinecolor": "white",
           "zerolinewidth": 2
          },
          "yaxis": {
           "automargin": true,
           "gridcolor": "white",
           "linecolor": "white",
           "ticks": "",
           "title": {
            "standoff": 15
           },
           "zerolinecolor": "white",
           "zerolinewidth": 2
          }
         }
        },
        "xaxis": {
         "anchor": "y",
         "domain": [
          0,
          1
         ],
         "title": {
          "text": "variable"
         }
        },
        "yaxis": {
         "anchor": "x",
         "domain": [
          0,
          1
         ],
         "title": {
          "text": "value"
         }
        }
       }
      },
      "text/html": [
       "<div>                            <div id=\"17813cea-4e0d-46e8-8d83-13cee429441b\" class=\"plotly-graph-div\" style=\"height:525px; width:100%;\"></div>            <script type=\"text/javascript\">                require([\"plotly\"], function(Plotly) {                    window.PLOTLYENV=window.PLOTLYENV || {};                                    if (document.getElementById(\"17813cea-4e0d-46e8-8d83-13cee429441b\")) {                    Plotly.newPlot(                        \"17813cea-4e0d-46e8-8d83-13cee429441b\",                        [{\"alignmentgroup\":\"True\",\"boxpoints\":\"all\",\"hovertemplate\":\"\\u003cb\\u003e%{hovertext}\\u003c\\u002fb\\u003e\\u003cbr\\u003e\\u003cbr\\u003etrack.album.name=Taylor Swift\\u003cbr\\u003evariable=%{x}\\u003cbr\\u003evalue=%{y}\\u003cextra\\u003e\\u003c\\u002fextra\\u003e\",\"hovertext\":[\"Tim McGraw\",\"Picture To Burn\",\"Teardrops On My Guitar - Radio Single Remix\",\"A Place in this World\",\"Cold As You\",\"The Outside\",\"Tied Together with a Smile\",\"Stay Beautiful\",\"Should've Said No\",\"Mary's Song (Oh My My My)\",\"Our Song\",\"I'm Only Me When I'm With You\",\"Invisible\",\"A Perfectly Good Heart\",\"Teardrops on My Guitar - Pop Version\",\"Tim McGraw\",\"Picture To Burn\",\"Teardrops On My Guitar - Radio Single Remix\",\"A Place in this World\",\"Cold As You\",\"The Outside\",\"Tied Together with a Smile\",\"Stay Beautiful\",\"Should've Said No\",\"Mary's Song (Oh My My My)\",\"Our Song\",\"I'm Only Me When I'm With You\",\"Invisible\",\"A Perfectly Good Heart\",\"Teardrops on My Guitar - Pop Version\"],\"legendgroup\":\"Taylor Swift\",\"marker\":{\"color\":\"#636efa\"},\"name\":\"Taylor Swift\",\"notched\":false,\"offsetgroup\":\"Taylor Swift\",\"orientation\":\"v\",\"showlegend\":true,\"x\":[\"acousticness\",\"acousticness\",\"acousticness\",\"acousticness\",\"acousticness\",\"acousticness\",\"acousticness\",\"acousticness\",\"acousticness\",\"acousticness\",\"acousticness\",\"acousticness\",\"acousticness\",\"acousticness\",\"acousticness\",\"speechiness\",\"speechiness\",\"speechiness\",\"speechiness\",\"speechiness\",\"speechiness\",\"speechiness\",\"speechiness\",\"speechiness\",\"speechiness\",\"speechiness\",\"speechiness\",\"speechiness\",\"speechiness\",\"speechiness\"],\"x0\":\" \",\"xaxis\":\"x\",\"y\":[0.575,0.173,0.288,0.051,0.217,0.00491,0.525,0.0868,0.0103,0.0177,0.111,0.00452,0.637,0.00349,0.0402,0.0251,0.0323,0.0231,0.0324,0.0266,0.0293,0.0294,0.0246,0.0289,0.0292,0.0303,0.0646,0.0243,0.0365,0.0537],\"y0\":\" \",\"yaxis\":\"y\",\"type\":\"box\",\"boxmean\":true},{\"alignmentgroup\":\"True\",\"boxpoints\":\"all\",\"hovertemplate\":\"\\u003cb\\u003e%{hovertext}\\u003c\\u002fb\\u003e\\u003cbr\\u003e\\u003cbr\\u003etrack.album.name=reputation\\u003cbr\\u003evariable=%{x}\\u003cbr\\u003evalue=%{y}\\u003cextra\\u003e\\u003c\\u002fextra\\u003e\",\"hovertext\":[\"...Ready For It?\",\"End Game\",\"I Did Something Bad\",\"Don\\u2019t Blame Me\",\"Delicate\",\"Look What You Made Me Do\",\"So It Goes...\",\"Gorgeous\",\"Getaway Car\",\"King Of My Heart\",\"Dancing With Our Hands Tied\",\"Dress\",\"This Is Why We Can't Have Nice Things\",\"Call It What You Want\",\"New Year\\u2019s Day\",\"...Ready For It?\",\"End Game\",\"I Did Something Bad\",\"Don\\u2019t Blame Me\",\"Delicate\",\"Look What You Made Me Do\",\"So It Goes...\",\"Gorgeous\",\"Getaway Car\",\"King Of My Heart\",\"Dancing With Our Hands Tied\",\"Dress\",\"This Is Why We Can't Have Nice Things\",\"Call It What You Want\",\"New Year\\u2019s Day\"],\"legendgroup\":\"reputation\",\"marker\":{\"color\":\"#EF553B\"},\"name\":\"reputation\",\"notched\":false,\"offsetgroup\":\"reputation\",\"orientation\":\"v\",\"showlegend\":true,\"x\":[\"acousticness\",\"acousticness\",\"acousticness\",\"acousticness\",\"acousticness\",\"acousticness\",\"acousticness\",\"acousticness\",\"acousticness\",\"acousticness\",\"acousticness\",\"acousticness\",\"acousticness\",\"acousticness\",\"acousticness\",\"speechiness\",\"speechiness\",\"speechiness\",\"speechiness\",\"speechiness\",\"speechiness\",\"speechiness\",\"speechiness\",\"speechiness\",\"speechiness\",\"speechiness\",\"speechiness\",\"speechiness\",\"speechiness\",\"speechiness\"],\"x0\":\" \",\"xaxis\":\"x\",\"y\":[0.0527,0.00845,0.0679,0.106,0.216,0.204,0.122,0.0713,0.00465,0.00882,0.0604,0.0329,0.0156,0.186,0.921,0.136,0.0558,0.159,0.0386,0.0682,0.123,0.0732,0.135,0.127,0.0382,0.196,0.0533,0.115,0.0731,0.0354],\"y0\":\" \",\"yaxis\":\"y\",\"type\":\"box\",\"boxmean\":true},{\"alignmentgroup\":\"True\",\"boxpoints\":\"all\",\"hovertemplate\":\"\\u003cb\\u003e%{hovertext}\\u003c\\u002fb\\u003e\\u003cbr\\u003e\\u003cbr\\u003etrack.album.name=Lover\\u003cbr\\u003evariable=%{x}\\u003cbr\\u003evalue=%{y}\\u003cextra\\u003e\\u003c\\u002fextra\\u003e\",\"hovertext\":[\"I Forgot That You Existed\",\"Cruel Summer\",\"Lover\",\"The Man\",\"The Archer\",\"I Think He Knows\",\"Miss Americana & The Heartbreak Prince\",\"Paper Rings\",\"Cornelia Street\",\"Death By A Thousand Cuts\",\"London Boy\",\"Soon You\\u2019ll Get Better (feat. The Chicks)\",\"False God\",\"You Need To Calm Down\",\"Afterglow\",\"ME! (feat. Brendon Urie of Panic! At The Disco)\",\"It\\u2019s Nice To Have A Friend\",\"Daylight\",\"I Forgot That You Existed\",\"Cruel Summer\",\"Lover\",\"The Man\",\"The Archer\",\"I Think He Knows\",\"Miss Americana & The Heartbreak Prince\",\"Paper Rings\",\"Cornelia Street\",\"Death By A Thousand Cuts\",\"London Boy\",\"Soon You\\u2019ll Get Better (feat. The Chicks)\",\"False God\",\"You Need To Calm Down\",\"Afterglow\",\"ME! (feat. Brendon Urie of Panic! At The Disco)\",\"It\\u2019s Nice To Have A Friend\",\"Daylight\"],\"legendgroup\":\"Lover\",\"marker\":{\"color\":\"#00cc96\"},\"name\":\"Lover\",\"notched\":false,\"offsetgroup\":\"Lover\",\"orientation\":\"v\",\"showlegend\":true,\"x\":[\"acousticness\",\"acousticness\",\"acousticness\",\"acousticness\",\"acousticness\",\"acousticness\",\"acousticness\",\"acousticness\",\"acousticness\",\"acousticness\",\"acousticness\",\"acousticness\",\"acousticness\",\"acousticness\",\"acousticness\",\"acousticness\",\"acousticness\",\"acousticness\",\"speechiness\",\"speechiness\",\"speechiness\",\"speechiness\",\"speechiness\",\"speechiness\",\"speechiness\",\"speechiness\",\"speechiness\",\"speechiness\",\"speechiness\",\"speechiness\",\"speechiness\",\"speechiness\",\"speechiness\",\"speechiness\",\"speechiness\",\"speechiness\"],\"x0\":\" \",\"xaxis\":\"x\",\"y\":[0.298,0.117,0.492,0.0767,0.12,0.00889,0.028,0.0129,0.781,0.454,0.0246,0.907,0.736,0.00929,0.13,0.033,0.971,0.808,0.519,0.157,0.0919,0.054,0.0401,0.0569,0.0736,0.0497,0.0827,0.0629,0.05,0.0641,0.239,0.0553,0.0344,0.0571,0.0401,0.0563],\"y0\":\" \",\"yaxis\":\"y\",\"type\":\"box\",\"boxmean\":true},{\"alignmentgroup\":\"True\",\"boxpoints\":\"all\",\"hovertemplate\":\"\\u003cb\\u003e%{hovertext}\\u003c\\u002fb\\u003e\\u003cbr\\u003e\\u003cbr\\u003etrack.album.name=folklore\\u003cbr\\u003evariable=%{x}\\u003cbr\\u003evalue=%{y}\\u003cextra\\u003e\\u003c\\u002fextra\\u003e\",\"hovertext\":[\"the 1\",\"cardigan\",\"the last great american dynasty\",\"exile (feat. Bon Iver)\",\"my tears ricochet\",\"mirrorball\",\"seven\",\"august\",\"this is me trying\",\"illicit affairs\",\"invisible string\",\"mad woman\",\"epiphany\",\"betty\",\"peace\",\"hoax\",\"the 1\",\"cardigan\",\"the last great american dynasty\",\"exile (feat. Bon Iver)\",\"my tears ricochet\",\"mirrorball\",\"seven\",\"august\",\"this is me trying\",\"illicit affairs\",\"invisible string\",\"mad woman\",\"epiphany\",\"betty\",\"peace\",\"hoax\"],\"legendgroup\":\"folklore\",\"marker\":{\"color\":\"#ab63fa\"},\"name\":\"folklore\",\"notched\":false,\"offsetgroup\":\"folklore\",\"orientation\":\"v\",\"showlegend\":true,\"x\":[\"acousticness\",\"acousticness\",\"acousticness\",\"acousticness\",\"acousticness\",\"acousticness\",\"acousticness\",\"acousticness\",\"acousticness\",\"acousticness\",\"acousticness\",\"acousticness\",\"acousticness\",\"acousticness\",\"acousticness\",\"acousticness\",\"speechiness\",\"speechiness\",\"speechiness\",\"speechiness\",\"speechiness\",\"speechiness\",\"speechiness\",\"speechiness\",\"speechiness\",\"speechiness\",\"speechiness\",\"speechiness\",\"speechiness\",\"speechiness\",\"speechiness\",\"speechiness\"],\"x0\":\" \",\"xaxis\":\"x\",\"y\":[0.757,0.537,0.467,0.778,0.806,0.687,0.9,0.538,0.314,0.881,0.838,0.655,0.731,0.6,0.918,0.966,0.0522,0.0424,0.0413,0.0287,0.0332,0.0334,0.0274,0.0331,0.0328,0.0338,0.055,0.0471,0.0281,0.0253,0.0916,0.0415],\"y0\":\" \",\"yaxis\":\"y\",\"type\":\"box\",\"boxmean\":true},{\"alignmentgroup\":\"True\",\"boxpoints\":\"all\",\"hovertemplate\":\"\\u003cb\\u003e%{hovertext}\\u003c\\u002fb\\u003e\\u003cbr\\u003e\\u003cbr\\u003etrack.album.name=evermore\\u003cbr\\u003evariable=%{x}\\u003cbr\\u003evalue=%{y}\\u003cextra\\u003e\\u003c\\u002fextra\\u003e\",\"hovertext\":[\"willow\",\"champagne problems\",\"gold rush\",\"\\u2018tis the damn season\",\"tolerate it\",\"no body, no crime (feat. HAIM)\",\"happiness\",\"dorothea\",\"coney island (feat. The National)\",\"ivy\",\"cowboy like me\",\"long story short\",\"marjorie\",\"closure\",\"evermore (feat. Bon Iver)\",\"willow\",\"champagne problems\",\"gold rush\",\"\\u2018tis the damn season\",\"tolerate it\",\"no body, no crime (feat. HAIM)\",\"happiness\",\"dorothea\",\"coney island (feat. The National)\",\"ivy\",\"cowboy like me\",\"long story short\",\"marjorie\",\"closure\",\"evermore (feat. Bon Iver)\"],\"legendgroup\":\"evermore\",\"marker\":{\"color\":\"#FFA15A\"},\"name\":\"evermore\",\"notched\":false,\"offsetgroup\":\"evermore\",\"orientation\":\"v\",\"showlegend\":true,\"x\":[\"acousticness\",\"acousticness\",\"acousticness\",\"acousticness\",\"acousticness\",\"acousticness\",\"acousticness\",\"acousticness\",\"acousticness\",\"acousticness\",\"acousticness\",\"acousticness\",\"acousticness\",\"acousticness\",\"acousticness\",\"speechiness\",\"speechiness\",\"speechiness\",\"speechiness\",\"speechiness\",\"speechiness\",\"speechiness\",\"speechiness\",\"speechiness\",\"speechiness\",\"speechiness\",\"speechiness\",\"speechiness\",\"speechiness\",\"speechiness\"],\"x0\":\" \",\"xaxis\":\"x\",\"y\":[0.833,0.92,0.83,0.735,0.878,0.418,0.87,0.696,0.819,0.855,0.768,0.66,0.876,0.835,0.937,0.17,0.0377,0.0408,0.0312,0.0488,0.0264,0.0376,0.0264,0.0617,0.0353,0.0347,0.0417,0.0484,0.245,0.0308],\"y0\":\" \",\"yaxis\":\"y\",\"type\":\"box\",\"boxmean\":true},{\"alignmentgroup\":\"True\",\"boxpoints\":\"all\",\"hovertemplate\":\"\\u003cb\\u003e%{hovertext}\\u003c\\u002fb\\u003e\\u003cbr\\u003e\\u003cbr\\u003etrack.album.name=Fearless (Taylor's Version)\\u003cbr\\u003evariable=%{x}\\u003cbr\\u003evalue=%{y}\\u003cextra\\u003e\\u003c\\u002fextra\\u003e\",\"hovertext\":[\"Fearless (Taylor\\u2019s Version)\",\"Fifteen (Taylor\\u2019s Version)\",\"Love Story (Taylor\\u2019s Version)\",\"Hey Stephen (Taylor\\u2019s Version)\",\"White Horse (Taylor\\u2019s Version)\",\"You Belong With Me (Taylor\\u2019s Version)\",\"Breathe (feat. Colbie Caillat) (Taylor\\u2019s Version)\",\"Tell Me Why (Taylor\\u2019s Version)\",\"You\\u2019re Not Sorry (Taylor\\u2019s Version)\",\"The Way I Loved You (Taylor\\u2019s Version)\",\"Forever & Always (Taylor\\u2019s Version)\",\"The Best Day (Taylor\\u2019s Version)\",\"Change (Taylor\\u2019s Version)\",\"Jump Then Fall (Taylor\\u2019s Version)\",\"Untouchable (Taylor\\u2019s Version)\",\"Forever & Always (Piano Version) (Taylor\\u2019s Version)\",\"Come In With The Rain (Taylor\\u2019s Version)\",\"Superstar (Taylor\\u2019s Version)\",\"The Other Side Of The Door (Taylor\\u2019s Version)\",\"Today Was A Fairytale (Taylor\\u2019s Version)\",\"You All Over Me (feat. Maren Morris) (Taylor\\u2019s Version) (From The Vault)\",\"Mr. Perfectly Fine (Taylor\\u2019s Version) (From The Vault)\",\"We Were Happy (Taylor\\u2019s Version) (From The Vault)\",\"That\\u2019s When (feat. Keith Urban) (Taylor\\u2019s Version) (From The Vault)\",\"Don\\u2019t You (Taylor\\u2019s Version) (From The Vault)\",\"Bye Bye Baby (Taylor\\u2019s Version) (From The Vault)\",\"Fearless (Taylor\\u2019s Version)\",\"Fifteen (Taylor\\u2019s Version)\",\"Love Story (Taylor\\u2019s Version)\",\"Hey Stephen (Taylor\\u2019s Version)\",\"White Horse (Taylor\\u2019s Version)\",\"You Belong With Me (Taylor\\u2019s Version)\",\"Breathe (feat. Colbie Caillat) (Taylor\\u2019s Version)\",\"Tell Me Why (Taylor\\u2019s Version)\",\"You\\u2019re Not Sorry (Taylor\\u2019s Version)\",\"The Way I Loved You (Taylor\\u2019s Version)\",\"Forever & Always (Taylor\\u2019s Version)\",\"The Best Day (Taylor\\u2019s Version)\",\"Change (Taylor\\u2019s Version)\",\"Jump Then Fall (Taylor\\u2019s Version)\",\"Untouchable (Taylor\\u2019s Version)\",\"Forever & Always (Piano Version) (Taylor\\u2019s Version)\",\"Come In With The Rain (Taylor\\u2019s Version)\",\"Superstar (Taylor\\u2019s Version)\",\"The Other Side Of The Door (Taylor\\u2019s Version)\",\"Today Was A Fairytale (Taylor\\u2019s Version)\",\"You All Over Me (feat. Maren Morris) (Taylor\\u2019s Version) (From The Vault)\",\"Mr. Perfectly Fine (Taylor\\u2019s Version) (From The Vault)\",\"We Were Happy (Taylor\\u2019s Version) (From The Vault)\",\"That\\u2019s When (feat. Keith Urban) (Taylor\\u2019s Version) (From The Vault)\",\"Don\\u2019t You (Taylor\\u2019s Version) (From The Vault)\",\"Bye Bye Baby (Taylor\\u2019s Version) (From The Vault)\"],\"legendgroup\":\"Fearless (Taylor's Version)\",\"marker\":{\"color\":\"#19d3f3\"},\"name\":\"Fearless (Taylor's Version)\",\"notched\":false,\"offsetgroup\":\"Fearless (Taylor's Version)\",\"orientation\":\"v\",\"showlegend\":true,\"x\":[\"acousticness\",\"acousticness\",\"acousticness\",\"acousticness\",\"acousticness\",\"acousticness\",\"acousticness\",\"acousticness\",\"acousticness\",\"acousticness\",\"acousticness\",\"acousticness\",\"acousticness\",\"acousticness\",\"acousticness\",\"acousticness\",\"acousticness\",\"acousticness\",\"acousticness\",\"acousticness\",\"acousticness\",\"acousticness\",\"acousticness\",\"acousticness\",\"acousticness\",\"acousticness\",\"speechiness\",\"speechiness\",\"speechiness\",\"speechiness\",\"speechiness\",\"speechiness\",\"speechiness\",\"speechiness\",\"speechiness\",\"speechiness\",\"speechiness\",\"speechiness\",\"speechiness\",\"speechiness\",\"speechiness\",\"speechiness\",\"speechiness\",\"speechiness\",\"speechiness\",\"speechiness\",\"speechiness\",\"speechiness\",\"speechiness\",\"speechiness\",\"speechiness\",\"speechiness\"],\"x0\":\" \",\"xaxis\":\"x\",\"y\":[0.0122,0.116,0.13,0.106,0.369,0.0623,0.156,0.0222,0.0538,0.0033,0.0231,0.488,0.000191,0.0474,0.0181,0.819,0.0406,0.157,0.0279,0.0135,0.816,0.162,0.849,0.225,0.514,0.334,0.0282,0.0272,0.031,0.0296,0.0486,0.0346,0.0287,0.0628,0.0285,0.0484,0.0447,0.0282,0.0341,0.0358,0.0329,0.0308,0.0269,0.0283,0.0577,0.0409,0.0372,0.0521,0.0263,0.0365,0.0503,0.0539],\"y0\":\" \",\"yaxis\":\"y\",\"type\":\"box\",\"boxmean\":true},{\"alignmentgroup\":\"True\",\"boxpoints\":\"all\",\"hovertemplate\":\"\\u003cb\\u003e%{hovertext}\\u003c\\u002fb\\u003e\\u003cbr\\u003e\\u003cbr\\u003etrack.album.name=Red (Taylor's Version)\\u003cbr\\u003evariable=%{x}\\u003cbr\\u003evalue=%{y}\\u003cextra\\u003e\\u003c\\u002fextra\\u003e\",\"hovertext\":[\"State Of Grace (Taylor's Version)\",\"Red (Taylor's Version)\",\"Treacherous (Taylor's Version)\",\"I Knew You Were Trouble (Taylor's Version)\",\"All Too Well (Taylor's Version)\",\"22 (Taylor's Version)\",\"I Almost Do (Taylor's Version)\",\"We Are Never Ever Getting Back Together (Taylor's Version)\",\"Stay Stay Stay (Taylor's Version)\",\"The Last Time (feat. Gary Lightbody of Snow Patrol) (Taylor\\u2019s Version)\",\"Holy Ground (Taylor's Version)\",\"Sad Beautiful Tragic (Taylor's Version)\",\"The Lucky One (Taylor's Version)\",\"Everything Has Changed (feat. Ed Sheeran) (Taylor\\u2019s Version)\",\"Starlight (Taylor's Version)\",\"Begin Again (Taylor's Version)\",\"The Moment I Knew (Taylor's Version)\",\"Come Back...Be Here (Taylor's Version)\",\"Girl At Home (Taylor's Version)\",\"State Of Grace (Acoustic Version) (Taylor's Version)\",\"Ronan (Taylor's Version)\",\"Better Man (Taylor's Version) (From The Vault)\",\"Nothing New (feat. Phoebe Bridgers) (Taylor\\u2019s Version) (From The Vault)\",\"Babe (Taylor's Version) (From The Vault)\",\"Message In A Bottle (Taylor's Version) (From The Vault)\",\"I Bet You Think About Me (feat. Chris Stapleton) (Taylor\\u2019s Version) (From The Vault)\",\"Forever Winter (Taylor's Version) (From The Vault)\",\"Run (feat. Ed Sheeran) (Taylor\\u2019s Version) (From The Vault)\",\"The Very First Night (Taylor's Version) (From The Vault)\",\"All Too Well (10 Minute Version) (Taylor's Version) (From The Vault)\",\"State Of Grace (Taylor's Version)\",\"Red (Taylor's Version)\",\"Treacherous (Taylor's Version)\",\"I Knew You Were Trouble (Taylor's Version)\",\"All Too Well (Taylor's Version)\",\"22 (Taylor's Version)\",\"I Almost Do (Taylor's Version)\",\"We Are Never Ever Getting Back Together (Taylor's Version)\",\"Stay Stay Stay (Taylor's Version)\",\"The Last Time (feat. Gary Lightbody of Snow Patrol) (Taylor\\u2019s Version)\",\"Holy Ground (Taylor's Version)\",\"Sad Beautiful Tragic (Taylor's Version)\",\"The Lucky One (Taylor's Version)\",\"Everything Has Changed (feat. Ed Sheeran) (Taylor\\u2019s Version)\",\"Starlight (Taylor's Version)\",\"Begin Again (Taylor's Version)\",\"The Moment I Knew (Taylor's Version)\",\"Come Back...Be Here (Taylor's Version)\",\"Girl At Home (Taylor's Version)\",\"State Of Grace (Acoustic Version) (Taylor's Version)\",\"Ronan (Taylor's Version)\",\"Better Man (Taylor's Version) (From The Vault)\",\"Nothing New (feat. Phoebe Bridgers) (Taylor\\u2019s Version) (From The Vault)\",\"Babe (Taylor's Version) (From The Vault)\",\"Message In A Bottle (Taylor's Version) (From The Vault)\",\"I Bet You Think About Me (feat. Chris Stapleton) (Taylor\\u2019s Version) (From The Vault)\",\"Forever Winter (Taylor's Version) (From The Vault)\",\"Run (feat. Ed Sheeran) (Taylor\\u2019s Version) (From The Vault)\",\"The Very First Night (Taylor's Version) (From The Vault)\",\"All Too Well (10 Minute Version) (Taylor's Version) (From The Vault)\"],\"legendgroup\":\"Red (Taylor's Version)\",\"marker\":{\"color\":\"#FF6692\"},\"name\":\"Red (Taylor's Version)\",\"notched\":false,\"offsetgroup\":\"Red (Taylor's Version)\",\"orientation\":\"v\",\"showlegend\":true,\"x\":[\"acousticness\",\"acousticness\",\"acousticness\",\"acousticness\",\"acousticness\",\"acousticness\",\"acousticness\",\"acousticness\",\"acousticness\",\"acousticness\",\"acousticness\",\"acousticness\",\"acousticness\",\"acousticness\",\"acousticness\",\"acousticness\",\"acousticness\",\"acousticness\",\"acousticness\",\"acousticness\",\"acousticness\",\"acousticness\",\"acousticness\",\"acousticness\",\"acousticness\",\"acousticness\",\"acousticness\",\"acousticness\",\"acousticness\",\"acousticness\",\"speechiness\",\"speechiness\",\"speechiness\",\"speechiness\",\"speechiness\",\"speechiness\",\"speechiness\",\"speechiness\",\"speechiness\",\"speechiness\",\"speechiness\",\"speechiness\",\"speechiness\",\"speechiness\",\"speechiness\",\"speechiness\",\"speechiness\",\"speechiness\",\"speechiness\",\"speechiness\",\"speechiness\",\"speechiness\",\"speechiness\",\"speechiness\",\"speechiness\",\"speechiness\",\"speechiness\",\"speechiness\",\"speechiness\",\"speechiness\"],\"x0\":\" \",\"xaxis\":\"x\",\"y\":[0.000328,0.00108,0.0344,0.0129,0.0171,0.000443,0.0167,0.0317,0.0848,0.0399,0.0288,0.622,0.066,0.271,0.00324,0.075,0.0494,0.0158,0.00955,0.663,0.661,0.214,0.817,0.0538,0.00188,0.167,0.256,0.817,0.00115,0.274,0.0503,0.0375,0.0288,0.0342,0.0317,0.0281,0.0264,0.175,0.025,0.0278,0.0638,0.0275,0.05,0.0363,0.0358,0.0274,0.031,0.0302,0.0326,0.0564,0.031,0.0384,0.0275,0.0931,0.0535,0.0495,0.031,0.0293,0.0281,0.0303],\"y0\":\" \",\"yaxis\":\"y\",\"type\":\"box\",\"boxmean\":true},{\"alignmentgroup\":\"True\",\"boxpoints\":\"all\",\"hovertemplate\":\"\\u003cb\\u003e%{hovertext}\\u003c\\u002fb\\u003e\\u003cbr\\u003e\\u003cbr\\u003etrack.album.name=Midnights (3am Edition)\\u003cbr\\u003evariable=%{x}\\u003cbr\\u003evalue=%{y}\\u003cextra\\u003e\\u003c\\u002fextra\\u003e\",\"hovertext\":[\"Lavender Haze\",\"Maroon\",\"Anti-Hero\",\"Snow On The Beach (feat. Lana Del Rey)\",\"You're On Your Own, Kid\",\"Midnight Rain\",\"Question...?\",\"Vigilante Shit\",\"Bejeweled\",\"Labyrinth\",\"Karma\",\"Sweet Nothing\",\"Mastermind\",\"The Great War\",\"Bigger Than The Whole Sky\",\"Paris\",\"High Infidelity\",\"Glitch\",\"Would've, Could've, Should've\",\"Dear Reader\",\"Lavender Haze\",\"Maroon\",\"Anti-Hero\",\"Snow On The Beach (feat. Lana Del Rey)\",\"You're On Your Own, Kid\",\"Midnight Rain\",\"Question...?\",\"Vigilante Shit\",\"Bejeweled\",\"Labyrinth\",\"Karma\",\"Sweet Nothing\",\"Mastermind\",\"The Great War\",\"Bigger Than The Whole Sky\",\"Paris\",\"High Infidelity\",\"Glitch\",\"Would've, Could've, Should've\",\"Dear Reader\"],\"legendgroup\":\"Midnights (3am Edition)\",\"marker\":{\"color\":\"#B6E880\"},\"name\":\"Midnights (3am Edition)\",\"notched\":false,\"offsetgroup\":\"Midnights (3am Edition)\",\"orientation\":\"v\",\"showlegend\":true,\"x\":[\"acousticness\",\"acousticness\",\"acousticness\",\"acousticness\",\"acousticness\",\"acousticness\",\"acousticness\",\"acousticness\",\"acousticness\",\"acousticness\",\"acousticness\",\"acousticness\",\"acousticness\",\"acousticness\",\"acousticness\",\"acousticness\",\"acousticness\",\"acousticness\",\"acousticness\",\"acousticness\",\"speechiness\",\"speechiness\",\"speechiness\",\"speechiness\",\"speechiness\",\"speechiness\",\"speechiness\",\"speechiness\",\"speechiness\",\"speechiness\",\"speechiness\",\"speechiness\",\"speechiness\",\"speechiness\",\"speechiness\",\"speechiness\",\"speechiness\",\"speechiness\",\"speechiness\",\"speechiness\"],\"x0\":\" \",\"xaxis\":\"x\",\"y\":[0.204,0.0593,0.133,0.735,0.416,0.71,0.226,0.16,0.0661,0.791,0.074,0.967,0.571,0.219,0.826,0.112,0.723,0.361,0.43,0.481,0.0684,0.0379,0.0457,0.0436,0.0614,0.0708,0.162,0.364,0.0653,0.0487,0.0582,0.0506,0.117,0.0353,0.0568,0.0789,0.0864,0.201,0.119,0.0705],\"y0\":\" \",\"yaxis\":\"y\",\"type\":\"box\",\"boxmean\":true},{\"alignmentgroup\":\"True\",\"boxpoints\":\"all\",\"hovertemplate\":\"\\u003cb\\u003e%{hovertext}\\u003c\\u002fb\\u003e\\u003cbr\\u003e\\u003cbr\\u003etrack.album.name=Speak Now (Taylor's Version)\\u003cbr\\u003evariable=%{x}\\u003cbr\\u003evalue=%{y}\\u003cextra\\u003e\\u003c\\u002fextra\\u003e\",\"hovertext\":[\"Mine (Taylor's Version)\",\"Sparks Fly (Taylor\\u2019s Version)\",\"Speak Now (Taylor's Version)\",\"Back To December (Taylor's Version)\",\"Dear John (Taylor's Version)\",\"Mean (Taylor's Version)\",\"The Story Of Us (Taylor's Version)\",\"Never Grow Up (Taylor's Version)\",\"Enchanted (Taylor's Version)\",\"Better Than Revenge (Taylor's Version)\",\"Innocent (Taylor's Version)\",\"Haunted (Taylor's Version)\",\"Last Kiss (Taylor's Version)\",\"Long Live (Taylor's Version)\",\"Ours (Taylor\\u2019s Version)\",\"Superman (Taylor\\u2019s Version)\",\"Electric Touch (feat. Fall Out Boy) (Taylor\\u2019s Version) (From The Vault)\",\"When Emma Falls in Love (Taylor\\u2019s Version) (From The Vault)\",\"I Can See You (Taylor\\u2019s Version) (From The Vault)\",\"Castles Crumbling (feat. Hayley Williams) (Taylor\\u2019s Version) (From The Vault)\",\"Timeless (Taylor\\u2019s Version) (From The Vault)\",\"Mine (Taylor's Version)\",\"Sparks Fly (Taylor\\u2019s Version)\",\"Speak Now (Taylor's Version)\",\"Back To December (Taylor's Version)\",\"Dear John (Taylor's Version)\",\"Mean (Taylor's Version)\",\"The Story Of Us (Taylor's Version)\",\"Never Grow Up (Taylor's Version)\",\"Enchanted (Taylor's Version)\",\"Better Than Revenge (Taylor's Version)\",\"Innocent (Taylor's Version)\",\"Haunted (Taylor's Version)\",\"Last Kiss (Taylor's Version)\",\"Long Live (Taylor's Version)\",\"Ours (Taylor\\u2019s Version)\",\"Superman (Taylor\\u2019s Version)\",\"Electric Touch (feat. Fall Out Boy) (Taylor\\u2019s Version) (From The Vault)\",\"When Emma Falls in Love (Taylor\\u2019s Version) (From The Vault)\",\"I Can See You (Taylor\\u2019s Version) (From The Vault)\",\"Castles Crumbling (feat. Hayley Williams) (Taylor\\u2019s Version) (From The Vault)\",\"Timeless (Taylor\\u2019s Version) (From The Vault)\"],\"legendgroup\":\"Speak Now (Taylor's Version)\",\"marker\":{\"color\":\"#FF97FF\"},\"name\":\"Speak Now (Taylor's Version)\",\"notched\":false,\"offsetgroup\":\"Speak Now (Taylor's Version)\",\"orientation\":\"v\",\"showlegend\":true,\"x\":[\"acousticness\",\"acousticness\",\"acousticness\",\"acousticness\",\"acousticness\",\"acousticness\",\"acousticness\",\"acousticness\",\"acousticness\",\"acousticness\",\"acousticness\",\"acousticness\",\"acousticness\",\"acousticness\",\"acousticness\",\"acousticness\",\"acousticness\",\"acousticness\",\"acousticness\",\"acousticness\",\"acousticness\",\"speechiness\",\"speechiness\",\"speechiness\",\"speechiness\",\"speechiness\",\"speechiness\",\"speechiness\",\"speechiness\",\"speechiness\",\"speechiness\",\"speechiness\",\"speechiness\",\"speechiness\",\"speechiness\",\"speechiness\",\"speechiness\",\"speechiness\",\"speechiness\",\"speechiness\",\"speechiness\",\"speechiness\"],\"x0\":\" \",\"xaxis\":\"x\",\"y\":[0.00444,0.0251,0.248,0.00621,0.0236,0.311,0.00192,0.851,0.012,0.000886,0.101,0.00667,0.447,0.0122,0.449,0.0031,0.0164,0.159,0.0586,0.362,0.3,0.0356,0.0305,0.0325,0.0273,0.0296,0.0369,0.0535,0.0289,0.0265,0.0803,0.0284,0.0619,0.0276,0.0402,0.0278,0.0303,0.0597,0.0505,0.0337,0.0434,0.0328],\"y0\":\" \",\"yaxis\":\"y\",\"type\":\"box\",\"boxmean\":true},{\"alignmentgroup\":\"True\",\"boxpoints\":\"all\",\"hovertemplate\":\"\\u003cb\\u003e%{hovertext}\\u003c\\u002fb\\u003e\\u003cbr\\u003e\\u003cbr\\u003etrack.album.name=1989 (Taylor's Version) [Deluxe]\\u003cbr\\u003evariable=%{x}\\u003cbr\\u003evalue=%{y}\\u003cextra\\u003e\\u003c\\u002fextra\\u003e\",\"hovertext\":[\"Welcome To New York (Taylor's Version)\",\"Blank Space (Taylor's Version)\",\"Style (Taylor's Version)\",\"Out Of The Woods (Taylor's Version)\",\"All You Had To Do Was Stay (Taylor's Version)\",\"Shake It Off (Taylor's Version)\",\"I Wish You Would (Taylor's Version)\",\"Bad Blood (Taylor's Version)\",\"Wildest Dreams (Taylor's Version)\",\"How You Get The Girl (Taylor's Version)\",\"This Love (Taylor\\u2019s Version)\",\"I Know Places (Taylor's Version)\",\"Clean (Taylor's Version)\",\"Wonderland (Taylor's Version)\",\"You Are In Love (Taylor's Version)\",\"New Romantics (Taylor's Version)\",\"\\\"Slut!\\\" (Taylor's Version) (From The Vault)\",\"Say Don't Go (Taylor's Version) (From The Vault)\",\"Now That We Don't Talk (Taylor's Version) (From The Vault)\",\"Suburban Legends (Taylor's Version) (From The Vault)\",\"Is It Over Now? (Taylor's Version) (From The Vault)\",\"Bad Blood (feat. Kendrick Lamar) (Taylor's Version)\",\"Welcome To New York (Taylor's Version)\",\"Blank Space (Taylor's Version)\",\"Style (Taylor's Version)\",\"Out Of The Woods (Taylor's Version)\",\"All You Had To Do Was Stay (Taylor's Version)\",\"Shake It Off (Taylor's Version)\",\"I Wish You Would (Taylor's Version)\",\"Bad Blood (Taylor's Version)\",\"Wildest Dreams (Taylor's Version)\",\"How You Get The Girl (Taylor's Version)\",\"This Love (Taylor\\u2019s Version)\",\"I Know Places (Taylor's Version)\",\"Clean (Taylor's Version)\",\"Wonderland (Taylor's Version)\",\"You Are In Love (Taylor's Version)\",\"New Romantics (Taylor's Version)\",\"\\\"Slut!\\\" (Taylor's Version) (From The Vault)\",\"Say Don't Go (Taylor's Version) (From The Vault)\",\"Now That We Don't Talk (Taylor's Version) (From The Vault)\",\"Suburban Legends (Taylor's Version) (From The Vault)\",\"Is It Over Now? (Taylor's Version) (From The Vault)\",\"Bad Blood (feat. Kendrick Lamar) (Taylor's Version)\"],\"legendgroup\":\"1989 (Taylor's Version) [Deluxe]\",\"marker\":{\"color\":\"#FECB52\"},\"name\":\"1989 (Taylor's Version) [Deluxe]\",\"notched\":false,\"offsetgroup\":\"1989 (Taylor's Version) [Deluxe]\",\"orientation\":\"v\",\"showlegend\":true,\"x\":[\"acousticness\",\"acousticness\",\"acousticness\",\"acousticness\",\"acousticness\",\"acousticness\",\"acousticness\",\"acousticness\",\"acousticness\",\"acousticness\",\"acousticness\",\"acousticness\",\"acousticness\",\"acousticness\",\"acousticness\",\"acousticness\",\"acousticness\",\"acousticness\",\"acousticness\",\"acousticness\",\"acousticness\",\"acousticness\",\"speechiness\",\"speechiness\",\"speechiness\",\"speechiness\",\"speechiness\",\"speechiness\",\"speechiness\",\"speechiness\",\"speechiness\",\"speechiness\",\"speechiness\",\"speechiness\",\"speechiness\",\"speechiness\",\"speechiness\",\"speechiness\",\"speechiness\",\"speechiness\",\"speechiness\",\"speechiness\",\"speechiness\",\"speechiness\"],\"x0\":\" \",\"xaxis\":\"x\",\"y\":[0.00942,0.0885,0.000421,0.000537,0.000656,0.0121,0.00354,0.0362,0.0436,0.00196,0.316,0.0999,0.25,0.00976,0.61,0.00675,0.309,0.066,0.16,0.207,0.041,0.0104,0.0327,0.067,0.0397,0.0447,0.0317,0.0729,0.0439,0.194,0.0656,0.0515,0.0355,0.0445,0.0293,0.0434,0.0755,0.0602,0.0863,0.0341,0.034,0.036,0.037,0.103],\"y0\":\" \",\"yaxis\":\"y\",\"type\":\"box\",\"boxmean\":true}],                        {\"template\":{\"data\":{\"histogram2dcontour\":[{\"type\":\"histogram2dcontour\",\"colorbar\":{\"outlinewidth\":0,\"ticks\":\"\"},\"colorscale\":[[0.0,\"#0d0887\"],[0.1111111111111111,\"#46039f\"],[0.2222222222222222,\"#7201a8\"],[0.3333333333333333,\"#9c179e\"],[0.4444444444444444,\"#bd3786\"],[0.5555555555555556,\"#d8576b\"],[0.6666666666666666,\"#ed7953\"],[0.7777777777777778,\"#fb9f3a\"],[0.8888888888888888,\"#fdca26\"],[1.0,\"#f0f921\"]]}],\"choropleth\":[{\"type\":\"choropleth\",\"colorbar\":{\"outlinewidth\":0,\"ticks\":\"\"}}],\"histogram2d\":[{\"type\":\"histogram2d\",\"colorbar\":{\"outlinewidth\":0,\"ticks\":\"\"},\"colorscale\":[[0.0,\"#0d0887\"],[0.1111111111111111,\"#46039f\"],[0.2222222222222222,\"#7201a8\"],[0.3333333333333333,\"#9c179e\"],[0.4444444444444444,\"#bd3786\"],[0.5555555555555556,\"#d8576b\"],[0.6666666666666666,\"#ed7953\"],[0.7777777777777778,\"#fb9f3a\"],[0.8888888888888888,\"#fdca26\"],[1.0,\"#f0f921\"]]}],\"heatmap\":[{\"type\":\"heatmap\",\"colorbar\":{\"outlinewidth\":0,\"ticks\":\"\"},\"colorscale\":[[0.0,\"#0d0887\"],[0.1111111111111111,\"#46039f\"],[0.2222222222222222,\"#7201a8\"],[0.3333333333333333,\"#9c179e\"],[0.4444444444444444,\"#bd3786\"],[0.5555555555555556,\"#d8576b\"],[0.6666666666666666,\"#ed7953\"],[0.7777777777777778,\"#fb9f3a\"],[0.8888888888888888,\"#fdca26\"],[1.0,\"#f0f921\"]]}],\"heatmapgl\":[{\"type\":\"heatmapgl\",\"colorbar\":{\"outlinewidth\":0,\"ticks\":\"\"},\"colorscale\":[[0.0,\"#0d0887\"],[0.1111111111111111,\"#46039f\"],[0.2222222222222222,\"#7201a8\"],[0.3333333333333333,\"#9c179e\"],[0.4444444444444444,\"#bd3786\"],[0.5555555555555556,\"#d8576b\"],[0.6666666666666666,\"#ed7953\"],[0.7777777777777778,\"#fb9f3a\"],[0.8888888888888888,\"#fdca26\"],[1.0,\"#f0f921\"]]}],\"contourcarpet\":[{\"type\":\"contourcarpet\",\"colorbar\":{\"outlinewidth\":0,\"ticks\":\"\"}}],\"contour\":[{\"type\":\"contour\",\"colorbar\":{\"outlinewidth\":0,\"ticks\":\"\"},\"colorscale\":[[0.0,\"#0d0887\"],[0.1111111111111111,\"#46039f\"],[0.2222222222222222,\"#7201a8\"],[0.3333333333333333,\"#9c179e\"],[0.4444444444444444,\"#bd3786\"],[0.5555555555555556,\"#d8576b\"],[0.6666666666666666,\"#ed7953\"],[0.7777777777777778,\"#fb9f3a\"],[0.8888888888888888,\"#fdca26\"],[1.0,\"#f0f921\"]]}],\"surface\":[{\"type\":\"surface\",\"colorbar\":{\"outlinewidth\":0,\"ticks\":\"\"},\"colorscale\":[[0.0,\"#0d0887\"],[0.1111111111111111,\"#46039f\"],[0.2222222222222222,\"#7201a8\"],[0.3333333333333333,\"#9c179e\"],[0.4444444444444444,\"#bd3786\"],[0.5555555555555556,\"#d8576b\"],[0.6666666666666666,\"#ed7953\"],[0.7777777777777778,\"#fb9f3a\"],[0.8888888888888888,\"#fdca26\"],[1.0,\"#f0f921\"]]}],\"mesh3d\":[{\"type\":\"mesh3d\",\"colorbar\":{\"outlinewidth\":0,\"ticks\":\"\"}}],\"scatter\":[{\"fillpattern\":{\"fillmode\":\"overlay\",\"size\":10,\"solidity\":0.2},\"type\":\"scatter\"}],\"parcoords\":[{\"type\":\"parcoords\",\"line\":{\"colorbar\":{\"outlinewidth\":0,\"ticks\":\"\"}}}],\"scatterpolargl\":[{\"type\":\"scatterpolargl\",\"marker\":{\"colorbar\":{\"outlinewidth\":0,\"ticks\":\"\"}}}],\"bar\":[{\"error_x\":{\"color\":\"#2a3f5f\"},\"error_y\":{\"color\":\"#2a3f5f\"},\"marker\":{\"line\":{\"color\":\"#E5ECF6\",\"width\":0.5},\"pattern\":{\"fillmode\":\"overlay\",\"size\":10,\"solidity\":0.2}},\"type\":\"bar\"}],\"scattergeo\":[{\"type\":\"scattergeo\",\"marker\":{\"colorbar\":{\"outlinewidth\":0,\"ticks\":\"\"}}}],\"scatterpolar\":[{\"type\":\"scatterpolar\",\"marker\":{\"colorbar\":{\"outlinewidth\":0,\"ticks\":\"\"}}}],\"histogram\":[{\"marker\":{\"pattern\":{\"fillmode\":\"overlay\",\"size\":10,\"solidity\":0.2}},\"type\":\"histogram\"}],\"scattergl\":[{\"type\":\"scattergl\",\"marker\":{\"colorbar\":{\"outlinewidth\":0,\"ticks\":\"\"}}}],\"scatter3d\":[{\"type\":\"scatter3d\",\"line\":{\"colorbar\":{\"outlinewidth\":0,\"ticks\":\"\"}},\"marker\":{\"colorbar\":{\"outlinewidth\":0,\"ticks\":\"\"}}}],\"scattermapbox\":[{\"type\":\"scattermapbox\",\"marker\":{\"colorbar\":{\"outlinewidth\":0,\"ticks\":\"\"}}}],\"scatterternary\":[{\"type\":\"scatterternary\",\"marker\":{\"colorbar\":{\"outlinewidth\":0,\"ticks\":\"\"}}}],\"scattercarpet\":[{\"type\":\"scattercarpet\",\"marker\":{\"colorbar\":{\"outlinewidth\":0,\"ticks\":\"\"}}}],\"carpet\":[{\"aaxis\":{\"endlinecolor\":\"#2a3f5f\",\"gridcolor\":\"white\",\"linecolor\":\"white\",\"minorgridcolor\":\"white\",\"startlinecolor\":\"#2a3f5f\"},\"baxis\":{\"endlinecolor\":\"#2a3f5f\",\"gridcolor\":\"white\",\"linecolor\":\"white\",\"minorgridcolor\":\"white\",\"startlinecolor\":\"#2a3f5f\"},\"type\":\"carpet\"}],\"table\":[{\"cells\":{\"fill\":{\"color\":\"#EBF0F8\"},\"line\":{\"color\":\"white\"}},\"header\":{\"fill\":{\"color\":\"#C8D4E3\"},\"line\":{\"color\":\"white\"}},\"type\":\"table\"}],\"barpolar\":[{\"marker\":{\"line\":{\"color\":\"#E5ECF6\",\"width\":0.5},\"pattern\":{\"fillmode\":\"overlay\",\"size\":10,\"solidity\":0.2}},\"type\":\"barpolar\"}],\"pie\":[{\"automargin\":true,\"type\":\"pie\"}]},\"layout\":{\"autotypenumbers\":\"strict\",\"colorway\":[\"#636efa\",\"#EF553B\",\"#00cc96\",\"#ab63fa\",\"#FFA15A\",\"#19d3f3\",\"#FF6692\",\"#B6E880\",\"#FF97FF\",\"#FECB52\"],\"font\":{\"color\":\"#2a3f5f\"},\"hovermode\":\"closest\",\"hoverlabel\":{\"align\":\"left\"},\"paper_bgcolor\":\"white\",\"plot_bgcolor\":\"#E5ECF6\",\"polar\":{\"bgcolor\":\"#E5ECF6\",\"angularaxis\":{\"gridcolor\":\"white\",\"linecolor\":\"white\",\"ticks\":\"\"},\"radialaxis\":{\"gridcolor\":\"white\",\"linecolor\":\"white\",\"ticks\":\"\"}},\"ternary\":{\"bgcolor\":\"#E5ECF6\",\"aaxis\":{\"gridcolor\":\"white\",\"linecolor\":\"white\",\"ticks\":\"\"},\"baxis\":{\"gridcolor\":\"white\",\"linecolor\":\"white\",\"ticks\":\"\"},\"caxis\":{\"gridcolor\":\"white\",\"linecolor\":\"white\",\"ticks\":\"\"}},\"coloraxis\":{\"colorbar\":{\"outlinewidth\":0,\"ticks\":\"\"}},\"colorscale\":{\"sequential\":[[0.0,\"#0d0887\"],[0.1111111111111111,\"#46039f\"],[0.2222222222222222,\"#7201a8\"],[0.3333333333333333,\"#9c179e\"],[0.4444444444444444,\"#bd3786\"],[0.5555555555555556,\"#d8576b\"],[0.6666666666666666,\"#ed7953\"],[0.7777777777777778,\"#fb9f3a\"],[0.8888888888888888,\"#fdca26\"],[1.0,\"#f0f921\"]],\"sequentialminus\":[[0.0,\"#0d0887\"],[0.1111111111111111,\"#46039f\"],[0.2222222222222222,\"#7201a8\"],[0.3333333333333333,\"#9c179e\"],[0.4444444444444444,\"#bd3786\"],[0.5555555555555556,\"#d8576b\"],[0.6666666666666666,\"#ed7953\"],[0.7777777777777778,\"#fb9f3a\"],[0.8888888888888888,\"#fdca26\"],[1.0,\"#f0f921\"]],\"diverging\":[[0,\"#8e0152\"],[0.1,\"#c51b7d\"],[0.2,\"#de77ae\"],[0.3,\"#f1b6da\"],[0.4,\"#fde0ef\"],[0.5,\"#f7f7f7\"],[0.6,\"#e6f5d0\"],[0.7,\"#b8e186\"],[0.8,\"#7fbc41\"],[0.9,\"#4d9221\"],[1,\"#276419\"]]},\"xaxis\":{\"gridcolor\":\"white\",\"linecolor\":\"white\",\"ticks\":\"\",\"title\":{\"standoff\":15},\"zerolinecolor\":\"white\",\"automargin\":true,\"zerolinewidth\":2},\"yaxis\":{\"gridcolor\":\"white\",\"linecolor\":\"white\",\"ticks\":\"\",\"title\":{\"standoff\":15},\"zerolinecolor\":\"white\",\"automargin\":true,\"zerolinewidth\":2},\"scene\":{\"xaxis\":{\"backgroundcolor\":\"#E5ECF6\",\"gridcolor\":\"white\",\"linecolor\":\"white\",\"showbackground\":true,\"ticks\":\"\",\"zerolinecolor\":\"white\",\"gridwidth\":2},\"yaxis\":{\"backgroundcolor\":\"#E5ECF6\",\"gridcolor\":\"white\",\"linecolor\":\"white\",\"showbackground\":true,\"ticks\":\"\",\"zerolinecolor\":\"white\",\"gridwidth\":2},\"zaxis\":{\"backgroundcolor\":\"#E5ECF6\",\"gridcolor\":\"white\",\"linecolor\":\"white\",\"showbackground\":true,\"ticks\":\"\",\"zerolinecolor\":\"white\",\"gridwidth\":2}},\"shapedefaults\":{\"line\":{\"color\":\"#2a3f5f\"}},\"annotationdefaults\":{\"arrowcolor\":\"#2a3f5f\",\"arrowhead\":0,\"arrowwidth\":1},\"geo\":{\"bgcolor\":\"white\",\"landcolor\":\"#E5ECF6\",\"subunitcolor\":\"white\",\"showland\":true,\"showlakes\":true,\"lakecolor\":\"white\"},\"title\":{\"x\":0.05},\"mapbox\":{\"style\":\"light\"}}},\"xaxis\":{\"anchor\":\"y\",\"domain\":[0.0,1.0],\"title\":{\"text\":\"variable\"}},\"yaxis\":{\"anchor\":\"x\",\"domain\":[0.0,1.0],\"title\":{\"text\":\"value\"}},\"legend\":{\"title\":{\"text\":\"track.album.name\"},\"tracegroupgap\":0},\"margin\":{\"t\":60},\"boxmode\":\"group\"},                        {\"responsive\": true}                    ).then(function(){\n",
       "                            \n",
       "var gd = document.getElementById('17813cea-4e0d-46e8-8d83-13cee429441b');\n",
       "var x = new MutationObserver(function (mutations, observer) {{\n",
       "        var display = window.getComputedStyle(gd).display;\n",
       "        if (!display || display === 'none') {{\n",
       "            console.log([gd, 'removed!']);\n",
       "            Plotly.purge(gd);\n",
       "            observer.disconnect();\n",
       "        }}\n",
       "}});\n",
       "\n",
       "// Listen for the removal of the full notebook cells\n",
       "var notebookContainer = gd.closest('#notebook-container');\n",
       "if (notebookContainer) {{\n",
       "    x.observe(notebookContainer, {childList: true});\n",
       "}}\n",
       "\n",
       "// Listen for the clearing of the current output cell\n",
       "var outputEl = gd.closest('.output');\n",
       "if (outputEl) {{\n",
       "    x.observe(outputEl, {childList: true});\n",
       "}}\n",
       "\n",
       "                        })                };                });            </script>        </div>"
      ]
     },
     "metadata": {},
     "output_type": "display_data"
    }
   ],
   "source": [
    "fig = px.box(new_df, y=['acousticness', 'speechiness'],\n",
    "             color='track.album.name', hover_name='track.name', points='all')\n",
    "fig.update_traces(boxmean=True)\n",
    "fig"
   ]
  },
  {
   "cell_type": "code",
   "execution_count": 16,
   "metadata": {},
   "outputs": [
    {
     "data": {
      "application/vnd.plotly.v1+json": {
       "config": {
        "plotlyServerURL": "https://plot.ly"
       },
       "data": [
        {
         "alignmentgroup": "True",
         "boxmean": true,
         "boxpoints": "all",
         "hovertemplate": "<b>%{hovertext}</b><br><br>track.album.name=Taylor Swift<br>variable=%{x}<br>value=%{y}<extra></extra>",
         "hovertext": [
          "Tim McGraw",
          "Picture To Burn",
          "Teardrops On My Guitar - Radio Single Remix",
          "A Place in this World",
          "Cold As You",
          "The Outside",
          "Tied Together with a Smile",
          "Stay Beautiful",
          "Should've Said No",
          "Mary's Song (Oh My My My)",
          "Our Song",
          "I'm Only Me When I'm With You",
          "Invisible",
          "A Perfectly Good Heart",
          "Teardrops on My Guitar - Pop Version",
          "Tim McGraw",
          "Picture To Burn",
          "Teardrops On My Guitar - Radio Single Remix",
          "A Place in this World",
          "Cold As You",
          "The Outside",
          "Tied Together with a Smile",
          "Stay Beautiful",
          "Should've Said No",
          "Mary's Song (Oh My My My)",
          "Our Song",
          "I'm Only Me When I'm With You",
          "Invisible",
          "A Perfectly Good Heart",
          "Teardrops on My Guitar - Pop Version"
         ],
         "legendgroup": "Taylor Swift",
         "marker": {
          "color": "#636efa"
         },
         "name": "Taylor Swift",
         "notched": false,
         "offsetgroup": "Taylor Swift",
         "orientation": "v",
         "showlegend": true,
         "type": "box",
         "x": [
          "liveness",
          "liveness",
          "liveness",
          "liveness",
          "liveness",
          "liveness",
          "liveness",
          "liveness",
          "liveness",
          "liveness",
          "liveness",
          "liveness",
          "liveness",
          "liveness",
          "liveness",
          "valence",
          "valence",
          "valence",
          "valence",
          "valence",
          "valence",
          "valence",
          "valence",
          "valence",
          "valence",
          "valence",
          "valence",
          "valence",
          "valence",
          "valence"
         ],
         "x0": " ",
         "xaxis": "x",
         "y": [
          0.121,
          0.0962,
          0.119,
          0.32,
          0.123,
          0.24,
          0.0841,
          0.137,
          0.196,
          0.182,
          0.329,
          0.103,
          0.147,
          0.128,
          0.0863,
          0.425,
          0.821,
          0.289,
          0.428,
          0.261,
          0.591,
          0.192,
          0.504,
          0.472,
          0.374,
          0.539,
          0.518,
          0.233,
          0.268,
          0.483
         ],
         "y0": " ",
         "yaxis": "y"
        },
        {
         "alignmentgroup": "True",
         "boxmean": true,
         "boxpoints": "all",
         "hovertemplate": "<b>%{hovertext}</b><br><br>track.album.name=reputation<br>variable=%{x}<br>value=%{y}<extra></extra>",
         "hovertext": [
          "...Ready For It?",
          "End Game",
          "I Did Something Bad",
          "Don’t Blame Me",
          "Delicate",
          "Look What You Made Me Do",
          "So It Goes...",
          "Gorgeous",
          "Getaway Car",
          "King Of My Heart",
          "Dancing With Our Hands Tied",
          "Dress",
          "This Is Why We Can't Have Nice Things",
          "Call It What You Want",
          "New Year’s Day",
          "...Ready For It?",
          "End Game",
          "I Did Something Bad",
          "Don’t Blame Me",
          "Delicate",
          "Look What You Made Me Do",
          "So It Goes...",
          "Gorgeous",
          "Getaway Car",
          "King Of My Heart",
          "Dancing With Our Hands Tied",
          "Dress",
          "This Is Why We Can't Have Nice Things",
          "Call It What You Want",
          "New Year’s Day"
         ],
         "legendgroup": "reputation",
         "marker": {
          "color": "#EF553B"
         },
         "name": "reputation",
         "notched": false,
         "offsetgroup": "reputation",
         "orientation": "v",
         "showlegend": true,
         "type": "box",
         "x": [
          "liveness",
          "liveness",
          "liveness",
          "liveness",
          "liveness",
          "liveness",
          "liveness",
          "liveness",
          "liveness",
          "liveness",
          "liveness",
          "liveness",
          "liveness",
          "liveness",
          "liveness",
          "valence",
          "valence",
          "valence",
          "valence",
          "valence",
          "valence",
          "valence",
          "valence",
          "valence",
          "valence",
          "valence",
          "valence",
          "valence",
          "valence",
          "valence"
         ],
         "x0": " ",
         "xaxis": "x",
         "y": [
          0.197,
          0.108,
          0.0696,
          0.0607,
          0.0911,
          0.126,
          0.13,
          0.213,
          0.0888,
          0.0391,
          0.138,
          0.169,
          0.382,
          0.34,
          0.13,
          0.417,
          0.151,
          0.305,
          0.193,
          0.0499,
          0.506,
          0.374,
          0.451,
          0.351,
          0.314,
          0.284,
          0.0851,
          0.438,
          0.252,
          0.23
         ],
         "y0": " ",
         "yaxis": "y"
        },
        {
         "alignmentgroup": "True",
         "boxmean": true,
         "boxpoints": "all",
         "hovertemplate": "<b>%{hovertext}</b><br><br>track.album.name=Lover<br>variable=%{x}<br>value=%{y}<extra></extra>",
         "hovertext": [
          "I Forgot That You Existed",
          "Cruel Summer",
          "Lover",
          "The Man",
          "The Archer",
          "I Think He Knows",
          "Miss Americana & The Heartbreak Prince",
          "Paper Rings",
          "Cornelia Street",
          "Death By A Thousand Cuts",
          "London Boy",
          "Soon You’ll Get Better (feat. The Chicks)",
          "False God",
          "You Need To Calm Down",
          "Afterglow",
          "ME! (feat. Brendon Urie of Panic! At The Disco)",
          "It’s Nice To Have A Friend",
          "Daylight",
          "I Forgot That You Existed",
          "Cruel Summer",
          "Lover",
          "The Man",
          "The Archer",
          "I Think He Knows",
          "Miss Americana & The Heartbreak Prince",
          "Paper Rings",
          "Cornelia Street",
          "Death By A Thousand Cuts",
          "London Boy",
          "Soon You’ll Get Better (feat. The Chicks)",
          "False God",
          "You Need To Calm Down",
          "Afterglow",
          "ME! (feat. Brendon Urie of Panic! At The Disco)",
          "It’s Nice To Have A Friend",
          "Daylight"
         ],
         "legendgroup": "Lover",
         "marker": {
          "color": "#00cc96"
         },
         "name": "Lover",
         "notched": false,
         "offsetgroup": "Lover",
         "orientation": "v",
         "showlegend": true,
         "type": "box",
         "x": [
          "liveness",
          "liveness",
          "liveness",
          "liveness",
          "liveness",
          "liveness",
          "liveness",
          "liveness",
          "liveness",
          "liveness",
          "liveness",
          "liveness",
          "liveness",
          "liveness",
          "liveness",
          "liveness",
          "liveness",
          "liveness",
          "valence",
          "valence",
          "valence",
          "valence",
          "valence",
          "valence",
          "valence",
          "valence",
          "valence",
          "valence",
          "valence",
          "valence",
          "valence",
          "valence",
          "valence",
          "valence",
          "valence",
          "valence"
         ],
         "x0": " ",
         "xaxis": "x",
         "y": [
          0.0812,
          0.105,
          0.118,
          0.0901,
          0.0663,
          0.0715,
          0.138,
          0.0742,
          0.1,
          0.319,
          0.133,
          0.123,
          0.111,
          0.0637,
          0.114,
          0.118,
          0.171,
          0.0772,
          0.541,
          0.564,
          0.453,
          0.633,
          0.166,
          0.416,
          0.487,
          0.865,
          0.248,
          0.313,
          0.557,
          0.421,
          0.351,
          0.714,
          0.399,
          0.728,
          0.545,
          0.265
         ],
         "y0": " ",
         "yaxis": "y"
        },
        {
         "alignmentgroup": "True",
         "boxmean": true,
         "boxpoints": "all",
         "hovertemplate": "<b>%{hovertext}</b><br><br>track.album.name=folklore<br>variable=%{x}<br>value=%{y}<extra></extra>",
         "hovertext": [
          "the 1",
          "cardigan",
          "the last great american dynasty",
          "exile (feat. Bon Iver)",
          "my tears ricochet",
          "mirrorball",
          "seven",
          "august",
          "this is me trying",
          "illicit affairs",
          "invisible string",
          "mad woman",
          "epiphany",
          "betty",
          "peace",
          "hoax",
          "the 1",
          "cardigan",
          "the last great american dynasty",
          "exile (feat. Bon Iver)",
          "my tears ricochet",
          "mirrorball",
          "seven",
          "august",
          "this is me trying",
          "illicit affairs",
          "invisible string",
          "mad woman",
          "epiphany",
          "betty",
          "peace",
          "hoax"
         ],
         "legendgroup": "folklore",
         "marker": {
          "color": "#ab63fa"
         },
         "name": "folklore",
         "notched": false,
         "offsetgroup": "folklore",
         "orientation": "v",
         "showlegend": true,
         "type": "box",
         "x": [
          "liveness",
          "liveness",
          "liveness",
          "liveness",
          "liveness",
          "liveness",
          "liveness",
          "liveness",
          "liveness",
          "liveness",
          "liveness",
          "liveness",
          "liveness",
          "liveness",
          "liveness",
          "liveness",
          "valence",
          "valence",
          "valence",
          "valence",
          "valence",
          "valence",
          "valence",
          "valence",
          "valence",
          "valence",
          "valence",
          "valence",
          "valence",
          "valence",
          "valence",
          "valence"
         ],
         "x0": " ",
         "xaxis": "x",
         "y": [
          0.108,
          0.25,
          0.109,
          0.11,
          0.0749,
          0.0594,
          0.091,
          0.0925,
          0.171,
          0.106,
          0.108,
          0.114,
          0.0858,
          0.0976,
          0.0918,
          0.133,
          0.172,
          0.551,
          0.706,
          0.152,
          0.111,
          0.379,
          0.415,
          0.403,
          0.412,
          0.46,
          0.45,
          0.506,
          0.113,
          0.502,
          0.339,
          0.429
         ],
         "y0": " ",
         "yaxis": "y"
        },
        {
         "alignmentgroup": "True",
         "boxmean": true,
         "boxpoints": "all",
         "hovertemplate": "<b>%{hovertext}</b><br><br>track.album.name=evermore<br>variable=%{x}<br>value=%{y}<extra></extra>",
         "hovertext": [
          "willow",
          "champagne problems",
          "gold rush",
          "‘tis the damn season",
          "tolerate it",
          "no body, no crime (feat. HAIM)",
          "happiness",
          "dorothea",
          "coney island (feat. The National)",
          "ivy",
          "cowboy like me",
          "long story short",
          "marjorie",
          "closure",
          "evermore (feat. Bon Iver)",
          "willow",
          "champagne problems",
          "gold rush",
          "‘tis the damn season",
          "tolerate it",
          "no body, no crime (feat. HAIM)",
          "happiness",
          "dorothea",
          "coney island (feat. The National)",
          "ivy",
          "cowboy like me",
          "long story short",
          "marjorie",
          "closure",
          "evermore (feat. Bon Iver)"
         ],
         "legendgroup": "evermore",
         "marker": {
          "color": "#FFA15A"
         },
         "name": "evermore",
         "notched": false,
         "offsetgroup": "evermore",
         "orientation": "v",
         "showlegend": true,
         "type": "box",
         "x": [
          "liveness",
          "liveness",
          "liveness",
          "liveness",
          "liveness",
          "liveness",
          "liveness",
          "liveness",
          "liveness",
          "liveness",
          "liveness",
          "liveness",
          "liveness",
          "liveness",
          "liveness",
          "valence",
          "valence",
          "valence",
          "valence",
          "valence",
          "valence",
          "valence",
          "valence",
          "valence",
          "valence",
          "valence",
          "valence",
          "valence",
          "valence",
          "valence"
         ],
         "x0": " ",
         "xaxis": "x",
         "y": [
          0.145,
          0.113,
          0.121,
          0.105,
          0.0797,
          0.103,
          0.114,
          0.129,
          0.142,
          0.0921,
          0.123,
          0.0972,
          0.115,
          0.134,
          0.111,
          0.529,
          0.32,
          0.353,
          0.348,
          0.221,
          0.535,
          0.211,
          0.354,
          0.292,
          0.535,
          0.511,
          0.573,
          0.287,
          0.92,
          0.32
         ],
         "y0": " ",
         "yaxis": "y"
        },
        {
         "alignmentgroup": "True",
         "boxmean": true,
         "boxpoints": "all",
         "hovertemplate": "<b>%{hovertext}</b><br><br>track.album.name=Fearless (Taylor's Version)<br>variable=%{x}<br>value=%{y}<extra></extra>",
         "hovertext": [
          "Fearless (Taylor’s Version)",
          "Fifteen (Taylor’s Version)",
          "Love Story (Taylor’s Version)",
          "Hey Stephen (Taylor’s Version)",
          "White Horse (Taylor’s Version)",
          "You Belong With Me (Taylor’s Version)",
          "Breathe (feat. Colbie Caillat) (Taylor’s Version)",
          "Tell Me Why (Taylor’s Version)",
          "You’re Not Sorry (Taylor’s Version)",
          "The Way I Loved You (Taylor’s Version)",
          "Forever & Always (Taylor’s Version)",
          "The Best Day (Taylor’s Version)",
          "Change (Taylor’s Version)",
          "Jump Then Fall (Taylor’s Version)",
          "Untouchable (Taylor’s Version)",
          "Forever & Always (Piano Version) (Taylor’s Version)",
          "Come In With The Rain (Taylor’s Version)",
          "Superstar (Taylor’s Version)",
          "The Other Side Of The Door (Taylor’s Version)",
          "Today Was A Fairytale (Taylor’s Version)",
          "You All Over Me (feat. Maren Morris) (Taylor’s Version) (From The Vault)",
          "Mr. Perfectly Fine (Taylor’s Version) (From The Vault)",
          "We Were Happy (Taylor’s Version) (From The Vault)",
          "That’s When (feat. Keith Urban) (Taylor’s Version) (From The Vault)",
          "Don’t You (Taylor’s Version) (From The Vault)",
          "Bye Bye Baby (Taylor’s Version) (From The Vault)",
          "Fearless (Taylor’s Version)",
          "Fifteen (Taylor’s Version)",
          "Love Story (Taylor’s Version)",
          "Hey Stephen (Taylor’s Version)",
          "White Horse (Taylor’s Version)",
          "You Belong With Me (Taylor’s Version)",
          "Breathe (feat. Colbie Caillat) (Taylor’s Version)",
          "Tell Me Why (Taylor’s Version)",
          "You’re Not Sorry (Taylor’s Version)",
          "The Way I Loved You (Taylor’s Version)",
          "Forever & Always (Taylor’s Version)",
          "The Best Day (Taylor’s Version)",
          "Change (Taylor’s Version)",
          "Jump Then Fall (Taylor’s Version)",
          "Untouchable (Taylor’s Version)",
          "Forever & Always (Piano Version) (Taylor’s Version)",
          "Come In With The Rain (Taylor’s Version)",
          "Superstar (Taylor’s Version)",
          "The Other Side Of The Door (Taylor’s Version)",
          "Today Was A Fairytale (Taylor’s Version)",
          "You All Over Me (feat. Maren Morris) (Taylor’s Version) (From The Vault)",
          "Mr. Perfectly Fine (Taylor’s Version) (From The Vault)",
          "We Were Happy (Taylor’s Version) (From The Vault)",
          "That’s When (feat. Keith Urban) (Taylor’s Version) (From The Vault)",
          "Don’t You (Taylor’s Version) (From The Vault)",
          "Bye Bye Baby (Taylor’s Version) (From The Vault)"
         ],
         "legendgroup": "Fearless (Taylor's Version)",
         "marker": {
          "color": "#19d3f3"
         },
         "name": "Fearless (Taylor's Version)",
         "notched": false,
         "offsetgroup": "Fearless (Taylor's Version)",
         "orientation": "v",
         "showlegend": true,
         "type": "box",
         "x": [
          "liveness",
          "liveness",
          "liveness",
          "liveness",
          "liveness",
          "liveness",
          "liveness",
          "liveness",
          "liveness",
          "liveness",
          "liveness",
          "liveness",
          "liveness",
          "liveness",
          "liveness",
          "liveness",
          "liveness",
          "liveness",
          "liveness",
          "liveness",
          "liveness",
          "liveness",
          "liveness",
          "liveness",
          "liveness",
          "liveness",
          "valence",
          "valence",
          "valence",
          "valence",
          "valence",
          "valence",
          "valence",
          "valence",
          "valence",
          "valence",
          "valence",
          "valence",
          "valence",
          "valence",
          "valence",
          "valence",
          "valence",
          "valence",
          "valence",
          "valence",
          "valence",
          "valence",
          "valence",
          "valence",
          "valence",
          "valence"
         ],
         "x0": " ",
         "xaxis": "x",
         "y": [
          0.333,
          0.32,
          0.0845,
          0.0934,
          0.177,
          0.0885,
          0.228,
          0.333,
          0.123,
          0.108,
          0.143,
          0.159,
          0.181,
          0.0897,
          0.169,
          0.137,
          0.102,
          0.343,
          0.167,
          0.296,
          0.101,
          0.0667,
          0.0779,
          0.092,
          0.109,
          0.0995,
          0.43,
          0.289,
          0.415,
          0.797,
          0.366,
          0.474,
          0.321,
          0.541,
          0.241,
          0.472,
          0.673,
          0.469,
          0.344,
          0.624,
          0.224,
          0.271,
          0.167,
          0.171,
          0.629,
          0.328,
          0.44,
          0.714,
          0.13,
          0.508,
          0.405,
          0.527
         ],
         "y0": " ",
         "yaxis": "y"
        },
        {
         "alignmentgroup": "True",
         "boxmean": true,
         "boxpoints": "all",
         "hovertemplate": "<b>%{hovertext}</b><br><br>track.album.name=Red (Taylor's Version)<br>variable=%{x}<br>value=%{y}<extra></extra>",
         "hovertext": [
          "State Of Grace (Taylor's Version)",
          "Red (Taylor's Version)",
          "Treacherous (Taylor's Version)",
          "I Knew You Were Trouble (Taylor's Version)",
          "All Too Well (Taylor's Version)",
          "22 (Taylor's Version)",
          "I Almost Do (Taylor's Version)",
          "We Are Never Ever Getting Back Together (Taylor's Version)",
          "Stay Stay Stay (Taylor's Version)",
          "The Last Time (feat. Gary Lightbody of Snow Patrol) (Taylor’s Version)",
          "Holy Ground (Taylor's Version)",
          "Sad Beautiful Tragic (Taylor's Version)",
          "The Lucky One (Taylor's Version)",
          "Everything Has Changed (feat. Ed Sheeran) (Taylor’s Version)",
          "Starlight (Taylor's Version)",
          "Begin Again (Taylor's Version)",
          "The Moment I Knew (Taylor's Version)",
          "Come Back...Be Here (Taylor's Version)",
          "Girl At Home (Taylor's Version)",
          "State Of Grace (Acoustic Version) (Taylor's Version)",
          "Ronan (Taylor's Version)",
          "Better Man (Taylor's Version) (From The Vault)",
          "Nothing New (feat. Phoebe Bridgers) (Taylor’s Version) (From The Vault)",
          "Babe (Taylor's Version) (From The Vault)",
          "Message In A Bottle (Taylor's Version) (From The Vault)",
          "I Bet You Think About Me (feat. Chris Stapleton) (Taylor’s Version) (From The Vault)",
          "Forever Winter (Taylor's Version) (From The Vault)",
          "Run (feat. Ed Sheeran) (Taylor’s Version) (From The Vault)",
          "The Very First Night (Taylor's Version) (From The Vault)",
          "All Too Well (10 Minute Version) (Taylor's Version) (From The Vault)",
          "State Of Grace (Taylor's Version)",
          "Red (Taylor's Version)",
          "Treacherous (Taylor's Version)",
          "I Knew You Were Trouble (Taylor's Version)",
          "All Too Well (Taylor's Version)",
          "22 (Taylor's Version)",
          "I Almost Do (Taylor's Version)",
          "We Are Never Ever Getting Back Together (Taylor's Version)",
          "Stay Stay Stay (Taylor's Version)",
          "The Last Time (feat. Gary Lightbody of Snow Patrol) (Taylor’s Version)",
          "Holy Ground (Taylor's Version)",
          "Sad Beautiful Tragic (Taylor's Version)",
          "The Lucky One (Taylor's Version)",
          "Everything Has Changed (feat. Ed Sheeran) (Taylor’s Version)",
          "Starlight (Taylor's Version)",
          "Begin Again (Taylor's Version)",
          "The Moment I Knew (Taylor's Version)",
          "Come Back...Be Here (Taylor's Version)",
          "Girl At Home (Taylor's Version)",
          "State Of Grace (Acoustic Version) (Taylor's Version)",
          "Ronan (Taylor's Version)",
          "Better Man (Taylor's Version) (From The Vault)",
          "Nothing New (feat. Phoebe Bridgers) (Taylor’s Version) (From The Vault)",
          "Babe (Taylor's Version) (From The Vault)",
          "Message In A Bottle (Taylor's Version) (From The Vault)",
          "I Bet You Think About Me (feat. Chris Stapleton) (Taylor’s Version) (From The Vault)",
          "Forever Winter (Taylor's Version) (From The Vault)",
          "Run (feat. Ed Sheeran) (Taylor’s Version) (From The Vault)",
          "The Very First Night (Taylor's Version) (From The Vault)",
          "All Too Well (10 Minute Version) (Taylor's Version) (From The Vault)"
         ],
         "legendgroup": "Red (Taylor's Version)",
         "marker": {
          "color": "#FF6692"
         },
         "name": "Red (Taylor's Version)",
         "notched": false,
         "offsetgroup": "Red (Taylor's Version)",
         "orientation": "v",
         "showlegend": true,
         "type": "box",
         "x": [
          "liveness",
          "liveness",
          "liveness",
          "liveness",
          "liveness",
          "liveness",
          "liveness",
          "liveness",
          "liveness",
          "liveness",
          "liveness",
          "liveness",
          "liveness",
          "liveness",
          "liveness",
          "liveness",
          "liveness",
          "liveness",
          "liveness",
          "liveness",
          "liveness",
          "liveness",
          "liveness",
          "liveness",
          "liveness",
          "liveness",
          "liveness",
          "liveness",
          "liveness",
          "liveness",
          "valence",
          "valence",
          "valence",
          "valence",
          "valence",
          "valence",
          "valence",
          "valence",
          "valence",
          "valence",
          "valence",
          "valence",
          "valence",
          "valence",
          "valence",
          "valence",
          "valence",
          "valence",
          "valence",
          "valence",
          "valence",
          "valence",
          "valence",
          "valence",
          "valence",
          "valence",
          "valence",
          "valence",
          "valence",
          "valence"
         ],
         "x0": " ",
         "xaxis": "x",
         "y": [
          0.114,
          0.0761,
          0.13,
          0.0576,
          0.234,
          0.0753,
          0.113,
          0.0732,
          0.0768,
          0.0977,
          0.109,
          0.133,
          0.0608,
          0.223,
          0.18,
          0.132,
          0.107,
          0.0822,
          0.101,
          0.108,
          0.193,
          0.0877,
          0.154,
          0.121,
          0.083,
          0.183,
          0.134,
          0.312,
          0.104,
          0.088,
          0.328,
          0.408,
          0.299,
          0.767,
          0.132,
          0.642,
          0.248,
          0.716,
          0.663,
          0.155,
          0.511,
          0.232,
          0.538,
          0.474,
          0.605,
          0.267,
          0.208,
          0.399,
          0.612,
          0.101,
          0.38,
          0.255,
          0.446,
          0.746,
          0.494,
          0.473,
          0.41,
          0.443,
          0.581,
          0.205
         ],
         "y0": " ",
         "yaxis": "y"
        },
        {
         "alignmentgroup": "True",
         "boxmean": true,
         "boxpoints": "all",
         "hovertemplate": "<b>%{hovertext}</b><br><br>track.album.name=Midnights (3am Edition)<br>variable=%{x}<br>value=%{y}<extra></extra>",
         "hovertext": [
          "Lavender Haze",
          "Maroon",
          "Anti-Hero",
          "Snow On The Beach (feat. Lana Del Rey)",
          "You're On Your Own, Kid",
          "Midnight Rain",
          "Question...?",
          "Vigilante Shit",
          "Bejeweled",
          "Labyrinth",
          "Karma",
          "Sweet Nothing",
          "Mastermind",
          "The Great War",
          "Bigger Than The Whole Sky",
          "Paris",
          "High Infidelity",
          "Glitch",
          "Would've, Could've, Should've",
          "Dear Reader",
          "Lavender Haze",
          "Maroon",
          "Anti-Hero",
          "Snow On The Beach (feat. Lana Del Rey)",
          "You're On Your Own, Kid",
          "Midnight Rain",
          "Question...?",
          "Vigilante Shit",
          "Bejeweled",
          "Labyrinth",
          "Karma",
          "Sweet Nothing",
          "Mastermind",
          "The Great War",
          "Bigger Than The Whole Sky",
          "Paris",
          "High Infidelity",
          "Glitch",
          "Would've, Could've, Should've",
          "Dear Reader"
         ],
         "legendgroup": "Midnights (3am Edition)",
         "marker": {
          "color": "#B6E880"
         },
         "name": "Midnights (3am Edition)",
         "notched": false,
         "offsetgroup": "Midnights (3am Edition)",
         "orientation": "v",
         "showlegend": true,
         "type": "box",
         "x": [
          "liveness",
          "liveness",
          "liveness",
          "liveness",
          "liveness",
          "liveness",
          "liveness",
          "liveness",
          "liveness",
          "liveness",
          "liveness",
          "liveness",
          "liveness",
          "liveness",
          "liveness",
          "liveness",
          "liveness",
          "liveness",
          "liveness",
          "liveness",
          "valence",
          "valence",
          "valence",
          "valence",
          "valence",
          "valence",
          "valence",
          "valence",
          "valence",
          "valence",
          "valence",
          "valence",
          "valence",
          "valence",
          "valence",
          "valence",
          "valence",
          "valence",
          "valence",
          "valence"
         ],
         "x0": " ",
         "xaxis": "x",
         "y": [
          0.17,
          0.0976,
          0.152,
          0.116,
          0.126,
          0.115,
          0.297,
          0.121,
          0.091,
          0.124,
          0.594,
          0.115,
          0.0884,
          0.0842,
          0.115,
          0.137,
          0.0885,
          0.11,
          0.146,
          0.117,
          0.0984,
          0.0382,
          0.519,
          0.154,
          0.376,
          0.23,
          0.112,
          0.16,
          0.412,
          0.141,
          0.106,
          0.396,
          0.13,
          0.554,
          0.068,
          0.345,
          0.755,
          0.347,
          0.55,
          0.159
         ],
         "y0": " ",
         "yaxis": "y"
        },
        {
         "alignmentgroup": "True",
         "boxmean": true,
         "boxpoints": "all",
         "hovertemplate": "<b>%{hovertext}</b><br><br>track.album.name=Speak Now (Taylor's Version)<br>variable=%{x}<br>value=%{y}<extra></extra>",
         "hovertext": [
          "Mine (Taylor's Version)",
          "Sparks Fly (Taylor’s Version)",
          "Speak Now (Taylor's Version)",
          "Back To December (Taylor's Version)",
          "Dear John (Taylor's Version)",
          "Mean (Taylor's Version)",
          "The Story Of Us (Taylor's Version)",
          "Never Grow Up (Taylor's Version)",
          "Enchanted (Taylor's Version)",
          "Better Than Revenge (Taylor's Version)",
          "Innocent (Taylor's Version)",
          "Haunted (Taylor's Version)",
          "Last Kiss (Taylor's Version)",
          "Long Live (Taylor's Version)",
          "Ours (Taylor’s Version)",
          "Superman (Taylor’s Version)",
          "Electric Touch (feat. Fall Out Boy) (Taylor’s Version) (From The Vault)",
          "When Emma Falls in Love (Taylor’s Version) (From The Vault)",
          "I Can See You (Taylor’s Version) (From The Vault)",
          "Castles Crumbling (feat. Hayley Williams) (Taylor’s Version) (From The Vault)",
          "Timeless (Taylor’s Version) (From The Vault)",
          "Mine (Taylor's Version)",
          "Sparks Fly (Taylor’s Version)",
          "Speak Now (Taylor's Version)",
          "Back To December (Taylor's Version)",
          "Dear John (Taylor's Version)",
          "Mean (Taylor's Version)",
          "The Story Of Us (Taylor's Version)",
          "Never Grow Up (Taylor's Version)",
          "Enchanted (Taylor's Version)",
          "Better Than Revenge (Taylor's Version)",
          "Innocent (Taylor's Version)",
          "Haunted (Taylor's Version)",
          "Last Kiss (Taylor's Version)",
          "Long Live (Taylor's Version)",
          "Ours (Taylor’s Version)",
          "Superman (Taylor’s Version)",
          "Electric Touch (feat. Fall Out Boy) (Taylor’s Version) (From The Vault)",
          "When Emma Falls in Love (Taylor’s Version) (From The Vault)",
          "I Can See You (Taylor’s Version) (From The Vault)",
          "Castles Crumbling (feat. Hayley Williams) (Taylor’s Version) (From The Vault)",
          "Timeless (Taylor’s Version) (From The Vault)"
         ],
         "legendgroup": "Speak Now (Taylor's Version)",
         "marker": {
          "color": "#FF97FF"
         },
         "name": "Speak Now (Taylor's Version)",
         "notched": false,
         "offsetgroup": "Speak Now (Taylor's Version)",
         "orientation": "v",
         "showlegend": true,
         "type": "box",
         "x": [
          "liveness",
          "liveness",
          "liveness",
          "liveness",
          "liveness",
          "liveness",
          "liveness",
          "liveness",
          "liveness",
          "liveness",
          "liveness",
          "liveness",
          "liveness",
          "liveness",
          "liveness",
          "liveness",
          "liveness",
          "liveness",
          "liveness",
          "liveness",
          "liveness",
          "valence",
          "valence",
          "valence",
          "valence",
          "valence",
          "valence",
          "valence",
          "valence",
          "valence",
          "valence",
          "valence",
          "valence",
          "valence",
          "valence",
          "valence",
          "valence",
          "valence",
          "valence",
          "valence",
          "valence",
          "valence"
         ],
         "x0": " ",
         "xaxis": "x",
         "y": [
          0.171,
          0.131,
          0.143,
          0.117,
          0.163,
          0.192,
          0.054,
          0.198,
          0.149,
          0.191,
          0.152,
          0.221,
          0.101,
          0.189,
          0.111,
          0.108,
          0.144,
          0.138,
          0.0608,
          0.0668,
          0.0916,
          0.49,
          0.387,
          0.639,
          0.203,
          0.133,
          0.621,
          0.57,
          0.569,
          0.216,
          0.665,
          0.149,
          0.355,
          0.16,
          0.0752,
          0.348,
          0.356,
          0.282,
          0.231,
          0.819,
          0.378,
          0.65
         ],
         "y0": " ",
         "yaxis": "y"
        },
        {
         "alignmentgroup": "True",
         "boxmean": true,
         "boxpoints": "all",
         "hovertemplate": "<b>%{hovertext}</b><br><br>track.album.name=1989 (Taylor's Version) [Deluxe]<br>variable=%{x}<br>value=%{y}<extra></extra>",
         "hovertext": [
          "Welcome To New York (Taylor's Version)",
          "Blank Space (Taylor's Version)",
          "Style (Taylor's Version)",
          "Out Of The Woods (Taylor's Version)",
          "All You Had To Do Was Stay (Taylor's Version)",
          "Shake It Off (Taylor's Version)",
          "I Wish You Would (Taylor's Version)",
          "Bad Blood (Taylor's Version)",
          "Wildest Dreams (Taylor's Version)",
          "How You Get The Girl (Taylor's Version)",
          "This Love (Taylor’s Version)",
          "I Know Places (Taylor's Version)",
          "Clean (Taylor's Version)",
          "Wonderland (Taylor's Version)",
          "You Are In Love (Taylor's Version)",
          "New Romantics (Taylor's Version)",
          "\"Slut!\" (Taylor's Version) (From The Vault)",
          "Say Don't Go (Taylor's Version) (From The Vault)",
          "Now That We Don't Talk (Taylor's Version) (From The Vault)",
          "Suburban Legends (Taylor's Version) (From The Vault)",
          "Is It Over Now? (Taylor's Version) (From The Vault)",
          "Bad Blood (feat. Kendrick Lamar) (Taylor's Version)",
          "Welcome To New York (Taylor's Version)",
          "Blank Space (Taylor's Version)",
          "Style (Taylor's Version)",
          "Out Of The Woods (Taylor's Version)",
          "All You Had To Do Was Stay (Taylor's Version)",
          "Shake It Off (Taylor's Version)",
          "I Wish You Would (Taylor's Version)",
          "Bad Blood (Taylor's Version)",
          "Wildest Dreams (Taylor's Version)",
          "How You Get The Girl (Taylor's Version)",
          "This Love (Taylor’s Version)",
          "I Know Places (Taylor's Version)",
          "Clean (Taylor's Version)",
          "Wonderland (Taylor's Version)",
          "You Are In Love (Taylor's Version)",
          "New Romantics (Taylor's Version)",
          "\"Slut!\" (Taylor's Version) (From The Vault)",
          "Say Don't Go (Taylor's Version) (From The Vault)",
          "Now That We Don't Talk (Taylor's Version) (From The Vault)",
          "Suburban Legends (Taylor's Version) (From The Vault)",
          "Is It Over Now? (Taylor's Version) (From The Vault)",
          "Bad Blood (feat. Kendrick Lamar) (Taylor's Version)"
         ],
         "legendgroup": "1989 (Taylor's Version) [Deluxe]",
         "marker": {
          "color": "#FECB52"
         },
         "name": "1989 (Taylor's Version) [Deluxe]",
         "notched": false,
         "offsetgroup": "1989 (Taylor's Version) [Deluxe]",
         "orientation": "v",
         "showlegend": true,
         "type": "box",
         "x": [
          "liveness",
          "liveness",
          "liveness",
          "liveness",
          "liveness",
          "liveness",
          "liveness",
          "liveness",
          "liveness",
          "liveness",
          "liveness",
          "liveness",
          "liveness",
          "liveness",
          "liveness",
          "liveness",
          "liveness",
          "liveness",
          "liveness",
          "liveness",
          "liveness",
          "liveness",
          "valence",
          "valence",
          "valence",
          "valence",
          "valence",
          "valence",
          "valence",
          "valence",
          "valence",
          "valence",
          "valence",
          "valence",
          "valence",
          "valence",
          "valence",
          "valence",
          "valence",
          "valence",
          "valence",
          "valence",
          "valence",
          "valence"
         ],
         "x0": " ",
         "xaxis": "x",
         "y": [
          0.367,
          0.168,
          0.0899,
          0.385,
          0.131,
          0.359,
          0.0687,
          0.305,
          0.112,
          0.0939,
          0.0673,
          0.115,
          0.0981,
          0.209,
          0.112,
          0.0824,
          0.0608,
          0.127,
          0.0874,
          0.105,
          0.122,
          0.217,
          0.685,
          0.701,
          0.305,
          0.206,
          0.52,
          0.917,
          0.539,
          0.363,
          0.514,
          0.538,
          0.0567,
          0.652,
          0.258,
          0.385,
          0.477,
          0.698,
          0.328,
          0.164,
          0.0831,
          0.323,
          0.191,
          0.174
         ],
         "y0": " ",
         "yaxis": "y"
        }
       ],
       "layout": {
        "boxmode": "group",
        "legend": {
         "title": {
          "text": "track.album.name"
         },
         "tracegroupgap": 0
        },
        "margin": {
         "t": 60
        },
        "template": {
         "data": {
          "bar": [
           {
            "error_x": {
             "color": "#2a3f5f"
            },
            "error_y": {
             "color": "#2a3f5f"
            },
            "marker": {
             "line": {
              "color": "#E5ECF6",
              "width": 0.5
             },
             "pattern": {
              "fillmode": "overlay",
              "size": 10,
              "solidity": 0.2
             }
            },
            "type": "bar"
           }
          ],
          "barpolar": [
           {
            "marker": {
             "line": {
              "color": "#E5ECF6",
              "width": 0.5
             },
             "pattern": {
              "fillmode": "overlay",
              "size": 10,
              "solidity": 0.2
             }
            },
            "type": "barpolar"
           }
          ],
          "carpet": [
           {
            "aaxis": {
             "endlinecolor": "#2a3f5f",
             "gridcolor": "white",
             "linecolor": "white",
             "minorgridcolor": "white",
             "startlinecolor": "#2a3f5f"
            },
            "baxis": {
             "endlinecolor": "#2a3f5f",
             "gridcolor": "white",
             "linecolor": "white",
             "minorgridcolor": "white",
             "startlinecolor": "#2a3f5f"
            },
            "type": "carpet"
           }
          ],
          "choropleth": [
           {
            "colorbar": {
             "outlinewidth": 0,
             "ticks": ""
            },
            "type": "choropleth"
           }
          ],
          "contour": [
           {
            "colorbar": {
             "outlinewidth": 0,
             "ticks": ""
            },
            "colorscale": [
             [
              0,
              "#0d0887"
             ],
             [
              0.1111111111111111,
              "#46039f"
             ],
             [
              0.2222222222222222,
              "#7201a8"
             ],
             [
              0.3333333333333333,
              "#9c179e"
             ],
             [
              0.4444444444444444,
              "#bd3786"
             ],
             [
              0.5555555555555556,
              "#d8576b"
             ],
             [
              0.6666666666666666,
              "#ed7953"
             ],
             [
              0.7777777777777778,
              "#fb9f3a"
             ],
             [
              0.8888888888888888,
              "#fdca26"
             ],
             [
              1,
              "#f0f921"
             ]
            ],
            "type": "contour"
           }
          ],
          "contourcarpet": [
           {
            "colorbar": {
             "outlinewidth": 0,
             "ticks": ""
            },
            "type": "contourcarpet"
           }
          ],
          "heatmap": [
           {
            "colorbar": {
             "outlinewidth": 0,
             "ticks": ""
            },
            "colorscale": [
             [
              0,
              "#0d0887"
             ],
             [
              0.1111111111111111,
              "#46039f"
             ],
             [
              0.2222222222222222,
              "#7201a8"
             ],
             [
              0.3333333333333333,
              "#9c179e"
             ],
             [
              0.4444444444444444,
              "#bd3786"
             ],
             [
              0.5555555555555556,
              "#d8576b"
             ],
             [
              0.6666666666666666,
              "#ed7953"
             ],
             [
              0.7777777777777778,
              "#fb9f3a"
             ],
             [
              0.8888888888888888,
              "#fdca26"
             ],
             [
              1,
              "#f0f921"
             ]
            ],
            "type": "heatmap"
           }
          ],
          "heatmapgl": [
           {
            "colorbar": {
             "outlinewidth": 0,
             "ticks": ""
            },
            "colorscale": [
             [
              0,
              "#0d0887"
             ],
             [
              0.1111111111111111,
              "#46039f"
             ],
             [
              0.2222222222222222,
              "#7201a8"
             ],
             [
              0.3333333333333333,
              "#9c179e"
             ],
             [
              0.4444444444444444,
              "#bd3786"
             ],
             [
              0.5555555555555556,
              "#d8576b"
             ],
             [
              0.6666666666666666,
              "#ed7953"
             ],
             [
              0.7777777777777778,
              "#fb9f3a"
             ],
             [
              0.8888888888888888,
              "#fdca26"
             ],
             [
              1,
              "#f0f921"
             ]
            ],
            "type": "heatmapgl"
           }
          ],
          "histogram": [
           {
            "marker": {
             "pattern": {
              "fillmode": "overlay",
              "size": 10,
              "solidity": 0.2
             }
            },
            "type": "histogram"
           }
          ],
          "histogram2d": [
           {
            "colorbar": {
             "outlinewidth": 0,
             "ticks": ""
            },
            "colorscale": [
             [
              0,
              "#0d0887"
             ],
             [
              0.1111111111111111,
              "#46039f"
             ],
             [
              0.2222222222222222,
              "#7201a8"
             ],
             [
              0.3333333333333333,
              "#9c179e"
             ],
             [
              0.4444444444444444,
              "#bd3786"
             ],
             [
              0.5555555555555556,
              "#d8576b"
             ],
             [
              0.6666666666666666,
              "#ed7953"
             ],
             [
              0.7777777777777778,
              "#fb9f3a"
             ],
             [
              0.8888888888888888,
              "#fdca26"
             ],
             [
              1,
              "#f0f921"
             ]
            ],
            "type": "histogram2d"
           }
          ],
          "histogram2dcontour": [
           {
            "colorbar": {
             "outlinewidth": 0,
             "ticks": ""
            },
            "colorscale": [
             [
              0,
              "#0d0887"
             ],
             [
              0.1111111111111111,
              "#46039f"
             ],
             [
              0.2222222222222222,
              "#7201a8"
             ],
             [
              0.3333333333333333,
              "#9c179e"
             ],
             [
              0.4444444444444444,
              "#bd3786"
             ],
             [
              0.5555555555555556,
              "#d8576b"
             ],
             [
              0.6666666666666666,
              "#ed7953"
             ],
             [
              0.7777777777777778,
              "#fb9f3a"
             ],
             [
              0.8888888888888888,
              "#fdca26"
             ],
             [
              1,
              "#f0f921"
             ]
            ],
            "type": "histogram2dcontour"
           }
          ],
          "mesh3d": [
           {
            "colorbar": {
             "outlinewidth": 0,
             "ticks": ""
            },
            "type": "mesh3d"
           }
          ],
          "parcoords": [
           {
            "line": {
             "colorbar": {
              "outlinewidth": 0,
              "ticks": ""
             }
            },
            "type": "parcoords"
           }
          ],
          "pie": [
           {
            "automargin": true,
            "type": "pie"
           }
          ],
          "scatter": [
           {
            "fillpattern": {
             "fillmode": "overlay",
             "size": 10,
             "solidity": 0.2
            },
            "type": "scatter"
           }
          ],
          "scatter3d": [
           {
            "line": {
             "colorbar": {
              "outlinewidth": 0,
              "ticks": ""
             }
            },
            "marker": {
             "colorbar": {
              "outlinewidth": 0,
              "ticks": ""
             }
            },
            "type": "scatter3d"
           }
          ],
          "scattercarpet": [
           {
            "marker": {
             "colorbar": {
              "outlinewidth": 0,
              "ticks": ""
             }
            },
            "type": "scattercarpet"
           }
          ],
          "scattergeo": [
           {
            "marker": {
             "colorbar": {
              "outlinewidth": 0,
              "ticks": ""
             }
            },
            "type": "scattergeo"
           }
          ],
          "scattergl": [
           {
            "marker": {
             "colorbar": {
              "outlinewidth": 0,
              "ticks": ""
             }
            },
            "type": "scattergl"
           }
          ],
          "scattermapbox": [
           {
            "marker": {
             "colorbar": {
              "outlinewidth": 0,
              "ticks": ""
             }
            },
            "type": "scattermapbox"
           }
          ],
          "scatterpolar": [
           {
            "marker": {
             "colorbar": {
              "outlinewidth": 0,
              "ticks": ""
             }
            },
            "type": "scatterpolar"
           }
          ],
          "scatterpolargl": [
           {
            "marker": {
             "colorbar": {
              "outlinewidth": 0,
              "ticks": ""
             }
            },
            "type": "scatterpolargl"
           }
          ],
          "scatterternary": [
           {
            "marker": {
             "colorbar": {
              "outlinewidth": 0,
              "ticks": ""
             }
            },
            "type": "scatterternary"
           }
          ],
          "surface": [
           {
            "colorbar": {
             "outlinewidth": 0,
             "ticks": ""
            },
            "colorscale": [
             [
              0,
              "#0d0887"
             ],
             [
              0.1111111111111111,
              "#46039f"
             ],
             [
              0.2222222222222222,
              "#7201a8"
             ],
             [
              0.3333333333333333,
              "#9c179e"
             ],
             [
              0.4444444444444444,
              "#bd3786"
             ],
             [
              0.5555555555555556,
              "#d8576b"
             ],
             [
              0.6666666666666666,
              "#ed7953"
             ],
             [
              0.7777777777777778,
              "#fb9f3a"
             ],
             [
              0.8888888888888888,
              "#fdca26"
             ],
             [
              1,
              "#f0f921"
             ]
            ],
            "type": "surface"
           }
          ],
          "table": [
           {
            "cells": {
             "fill": {
              "color": "#EBF0F8"
             },
             "line": {
              "color": "white"
             }
            },
            "header": {
             "fill": {
              "color": "#C8D4E3"
             },
             "line": {
              "color": "white"
             }
            },
            "type": "table"
           }
          ]
         },
         "layout": {
          "annotationdefaults": {
           "arrowcolor": "#2a3f5f",
           "arrowhead": 0,
           "arrowwidth": 1
          },
          "autotypenumbers": "strict",
          "coloraxis": {
           "colorbar": {
            "outlinewidth": 0,
            "ticks": ""
           }
          },
          "colorscale": {
           "diverging": [
            [
             0,
             "#8e0152"
            ],
            [
             0.1,
             "#c51b7d"
            ],
            [
             0.2,
             "#de77ae"
            ],
            [
             0.3,
             "#f1b6da"
            ],
            [
             0.4,
             "#fde0ef"
            ],
            [
             0.5,
             "#f7f7f7"
            ],
            [
             0.6,
             "#e6f5d0"
            ],
            [
             0.7,
             "#b8e186"
            ],
            [
             0.8,
             "#7fbc41"
            ],
            [
             0.9,
             "#4d9221"
            ],
            [
             1,
             "#276419"
            ]
           ],
           "sequential": [
            [
             0,
             "#0d0887"
            ],
            [
             0.1111111111111111,
             "#46039f"
            ],
            [
             0.2222222222222222,
             "#7201a8"
            ],
            [
             0.3333333333333333,
             "#9c179e"
            ],
            [
             0.4444444444444444,
             "#bd3786"
            ],
            [
             0.5555555555555556,
             "#d8576b"
            ],
            [
             0.6666666666666666,
             "#ed7953"
            ],
            [
             0.7777777777777778,
             "#fb9f3a"
            ],
            [
             0.8888888888888888,
             "#fdca26"
            ],
            [
             1,
             "#f0f921"
            ]
           ],
           "sequentialminus": [
            [
             0,
             "#0d0887"
            ],
            [
             0.1111111111111111,
             "#46039f"
            ],
            [
             0.2222222222222222,
             "#7201a8"
            ],
            [
             0.3333333333333333,
             "#9c179e"
            ],
            [
             0.4444444444444444,
             "#bd3786"
            ],
            [
             0.5555555555555556,
             "#d8576b"
            ],
            [
             0.6666666666666666,
             "#ed7953"
            ],
            [
             0.7777777777777778,
             "#fb9f3a"
            ],
            [
             0.8888888888888888,
             "#fdca26"
            ],
            [
             1,
             "#f0f921"
            ]
           ]
          },
          "colorway": [
           "#636efa",
           "#EF553B",
           "#00cc96",
           "#ab63fa",
           "#FFA15A",
           "#19d3f3",
           "#FF6692",
           "#B6E880",
           "#FF97FF",
           "#FECB52"
          ],
          "font": {
           "color": "#2a3f5f"
          },
          "geo": {
           "bgcolor": "white",
           "lakecolor": "white",
           "landcolor": "#E5ECF6",
           "showlakes": true,
           "showland": true,
           "subunitcolor": "white"
          },
          "hoverlabel": {
           "align": "left"
          },
          "hovermode": "closest",
          "mapbox": {
           "style": "light"
          },
          "paper_bgcolor": "white",
          "plot_bgcolor": "#E5ECF6",
          "polar": {
           "angularaxis": {
            "gridcolor": "white",
            "linecolor": "white",
            "ticks": ""
           },
           "bgcolor": "#E5ECF6",
           "radialaxis": {
            "gridcolor": "white",
            "linecolor": "white",
            "ticks": ""
           }
          },
          "scene": {
           "xaxis": {
            "backgroundcolor": "#E5ECF6",
            "gridcolor": "white",
            "gridwidth": 2,
            "linecolor": "white",
            "showbackground": true,
            "ticks": "",
            "zerolinecolor": "white"
           },
           "yaxis": {
            "backgroundcolor": "#E5ECF6",
            "gridcolor": "white",
            "gridwidth": 2,
            "linecolor": "white",
            "showbackground": true,
            "ticks": "",
            "zerolinecolor": "white"
           },
           "zaxis": {
            "backgroundcolor": "#E5ECF6",
            "gridcolor": "white",
            "gridwidth": 2,
            "linecolor": "white",
            "showbackground": true,
            "ticks": "",
            "zerolinecolor": "white"
           }
          },
          "shapedefaults": {
           "line": {
            "color": "#2a3f5f"
           }
          },
          "ternary": {
           "aaxis": {
            "gridcolor": "white",
            "linecolor": "white",
            "ticks": ""
           },
           "baxis": {
            "gridcolor": "white",
            "linecolor": "white",
            "ticks": ""
           },
           "bgcolor": "#E5ECF6",
           "caxis": {
            "gridcolor": "white",
            "linecolor": "white",
            "ticks": ""
           }
          },
          "title": {
           "x": 0.05
          },
          "xaxis": {
           "automargin": true,
           "gridcolor": "white",
           "linecolor": "white",
           "ticks": "",
           "title": {
            "standoff": 15
           },
           "zerolinecolor": "white",
           "zerolinewidth": 2
          },
          "yaxis": {
           "automargin": true,
           "gridcolor": "white",
           "linecolor": "white",
           "ticks": "",
           "title": {
            "standoff": 15
           },
           "zerolinecolor": "white",
           "zerolinewidth": 2
          }
         }
        },
        "xaxis": {
         "anchor": "y",
         "domain": [
          0,
          1
         ],
         "title": {
          "text": "variable"
         }
        },
        "yaxis": {
         "anchor": "x",
         "domain": [
          0,
          1
         ],
         "title": {
          "text": "value"
         }
        }
       }
      },
      "text/html": [
       "<div>                            <div id=\"d2ac7e5b-344b-4afb-ad04-03522bef1c3a\" class=\"plotly-graph-div\" style=\"height:525px; width:100%;\"></div>            <script type=\"text/javascript\">                require([\"plotly\"], function(Plotly) {                    window.PLOTLYENV=window.PLOTLYENV || {};                                    if (document.getElementById(\"d2ac7e5b-344b-4afb-ad04-03522bef1c3a\")) {                    Plotly.newPlot(                        \"d2ac7e5b-344b-4afb-ad04-03522bef1c3a\",                        [{\"alignmentgroup\":\"True\",\"boxpoints\":\"all\",\"hovertemplate\":\"\\u003cb\\u003e%{hovertext}\\u003c\\u002fb\\u003e\\u003cbr\\u003e\\u003cbr\\u003etrack.album.name=Taylor Swift\\u003cbr\\u003evariable=%{x}\\u003cbr\\u003evalue=%{y}\\u003cextra\\u003e\\u003c\\u002fextra\\u003e\",\"hovertext\":[\"Tim McGraw\",\"Picture To Burn\",\"Teardrops On My Guitar - Radio Single Remix\",\"A Place in this World\",\"Cold As You\",\"The Outside\",\"Tied Together with a Smile\",\"Stay Beautiful\",\"Should've Said No\",\"Mary's Song (Oh My My My)\",\"Our Song\",\"I'm Only Me When I'm With You\",\"Invisible\",\"A Perfectly Good Heart\",\"Teardrops on My Guitar - Pop Version\",\"Tim McGraw\",\"Picture To Burn\",\"Teardrops On My Guitar - Radio Single Remix\",\"A Place in this World\",\"Cold As You\",\"The Outside\",\"Tied Together with a Smile\",\"Stay Beautiful\",\"Should've Said No\",\"Mary's Song (Oh My My My)\",\"Our Song\",\"I'm Only Me When I'm With You\",\"Invisible\",\"A Perfectly Good Heart\",\"Teardrops on My Guitar - Pop Version\"],\"legendgroup\":\"Taylor Swift\",\"marker\":{\"color\":\"#636efa\"},\"name\":\"Taylor Swift\",\"notched\":false,\"offsetgroup\":\"Taylor Swift\",\"orientation\":\"v\",\"showlegend\":true,\"x\":[\"liveness\",\"liveness\",\"liveness\",\"liveness\",\"liveness\",\"liveness\",\"liveness\",\"liveness\",\"liveness\",\"liveness\",\"liveness\",\"liveness\",\"liveness\",\"liveness\",\"liveness\",\"valence\",\"valence\",\"valence\",\"valence\",\"valence\",\"valence\",\"valence\",\"valence\",\"valence\",\"valence\",\"valence\",\"valence\",\"valence\",\"valence\",\"valence\"],\"x0\":\" \",\"xaxis\":\"x\",\"y\":[0.121,0.0962,0.119,0.32,0.123,0.24,0.0841,0.137,0.196,0.182,0.329,0.103,0.147,0.128,0.0863,0.425,0.821,0.289,0.428,0.261,0.591,0.192,0.504,0.472,0.374,0.539,0.518,0.233,0.268,0.483],\"y0\":\" \",\"yaxis\":\"y\",\"type\":\"box\",\"boxmean\":true},{\"alignmentgroup\":\"True\",\"boxpoints\":\"all\",\"hovertemplate\":\"\\u003cb\\u003e%{hovertext}\\u003c\\u002fb\\u003e\\u003cbr\\u003e\\u003cbr\\u003etrack.album.name=reputation\\u003cbr\\u003evariable=%{x}\\u003cbr\\u003evalue=%{y}\\u003cextra\\u003e\\u003c\\u002fextra\\u003e\",\"hovertext\":[\"...Ready For It?\",\"End Game\",\"I Did Something Bad\",\"Don\\u2019t Blame Me\",\"Delicate\",\"Look What You Made Me Do\",\"So It Goes...\",\"Gorgeous\",\"Getaway Car\",\"King Of My Heart\",\"Dancing With Our Hands Tied\",\"Dress\",\"This Is Why We Can't Have Nice Things\",\"Call It What You Want\",\"New Year\\u2019s Day\",\"...Ready For It?\",\"End Game\",\"I Did Something Bad\",\"Don\\u2019t Blame Me\",\"Delicate\",\"Look What You Made Me Do\",\"So It Goes...\",\"Gorgeous\",\"Getaway Car\",\"King Of My Heart\",\"Dancing With Our Hands Tied\",\"Dress\",\"This Is Why We Can't Have Nice Things\",\"Call It What You Want\",\"New Year\\u2019s Day\"],\"legendgroup\":\"reputation\",\"marker\":{\"color\":\"#EF553B\"},\"name\":\"reputation\",\"notched\":false,\"offsetgroup\":\"reputation\",\"orientation\":\"v\",\"showlegend\":true,\"x\":[\"liveness\",\"liveness\",\"liveness\",\"liveness\",\"liveness\",\"liveness\",\"liveness\",\"liveness\",\"liveness\",\"liveness\",\"liveness\",\"liveness\",\"liveness\",\"liveness\",\"liveness\",\"valence\",\"valence\",\"valence\",\"valence\",\"valence\",\"valence\",\"valence\",\"valence\",\"valence\",\"valence\",\"valence\",\"valence\",\"valence\",\"valence\",\"valence\"],\"x0\":\" \",\"xaxis\":\"x\",\"y\":[0.197,0.108,0.0696,0.0607,0.0911,0.126,0.13,0.213,0.0888,0.0391,0.138,0.169,0.382,0.34,0.13,0.417,0.151,0.305,0.193,0.0499,0.506,0.374,0.451,0.351,0.314,0.284,0.0851,0.438,0.252,0.23],\"y0\":\" \",\"yaxis\":\"y\",\"type\":\"box\",\"boxmean\":true},{\"alignmentgroup\":\"True\",\"boxpoints\":\"all\",\"hovertemplate\":\"\\u003cb\\u003e%{hovertext}\\u003c\\u002fb\\u003e\\u003cbr\\u003e\\u003cbr\\u003etrack.album.name=Lover\\u003cbr\\u003evariable=%{x}\\u003cbr\\u003evalue=%{y}\\u003cextra\\u003e\\u003c\\u002fextra\\u003e\",\"hovertext\":[\"I Forgot That You Existed\",\"Cruel Summer\",\"Lover\",\"The Man\",\"The Archer\",\"I Think He Knows\",\"Miss Americana & The Heartbreak Prince\",\"Paper Rings\",\"Cornelia Street\",\"Death By A Thousand Cuts\",\"London Boy\",\"Soon You\\u2019ll Get Better (feat. The Chicks)\",\"False God\",\"You Need To Calm Down\",\"Afterglow\",\"ME! (feat. Brendon Urie of Panic! At The Disco)\",\"It\\u2019s Nice To Have A Friend\",\"Daylight\",\"I Forgot That You Existed\",\"Cruel Summer\",\"Lover\",\"The Man\",\"The Archer\",\"I Think He Knows\",\"Miss Americana & The Heartbreak Prince\",\"Paper Rings\",\"Cornelia Street\",\"Death By A Thousand Cuts\",\"London Boy\",\"Soon You\\u2019ll Get Better (feat. The Chicks)\",\"False God\",\"You Need To Calm Down\",\"Afterglow\",\"ME! (feat. Brendon Urie of Panic! At The Disco)\",\"It\\u2019s Nice To Have A Friend\",\"Daylight\"],\"legendgroup\":\"Lover\",\"marker\":{\"color\":\"#00cc96\"},\"name\":\"Lover\",\"notched\":false,\"offsetgroup\":\"Lover\",\"orientation\":\"v\",\"showlegend\":true,\"x\":[\"liveness\",\"liveness\",\"liveness\",\"liveness\",\"liveness\",\"liveness\",\"liveness\",\"liveness\",\"liveness\",\"liveness\",\"liveness\",\"liveness\",\"liveness\",\"liveness\",\"liveness\",\"liveness\",\"liveness\",\"liveness\",\"valence\",\"valence\",\"valence\",\"valence\",\"valence\",\"valence\",\"valence\",\"valence\",\"valence\",\"valence\",\"valence\",\"valence\",\"valence\",\"valence\",\"valence\",\"valence\",\"valence\",\"valence\"],\"x0\":\" \",\"xaxis\":\"x\",\"y\":[0.0812,0.105,0.118,0.0901,0.0663,0.0715,0.138,0.0742,0.1,0.319,0.133,0.123,0.111,0.0637,0.114,0.118,0.171,0.0772,0.541,0.564,0.453,0.633,0.166,0.416,0.487,0.865,0.248,0.313,0.557,0.421,0.351,0.714,0.399,0.728,0.545,0.265],\"y0\":\" \",\"yaxis\":\"y\",\"type\":\"box\",\"boxmean\":true},{\"alignmentgroup\":\"True\",\"boxpoints\":\"all\",\"hovertemplate\":\"\\u003cb\\u003e%{hovertext}\\u003c\\u002fb\\u003e\\u003cbr\\u003e\\u003cbr\\u003etrack.album.name=folklore\\u003cbr\\u003evariable=%{x}\\u003cbr\\u003evalue=%{y}\\u003cextra\\u003e\\u003c\\u002fextra\\u003e\",\"hovertext\":[\"the 1\",\"cardigan\",\"the last great american dynasty\",\"exile (feat. Bon Iver)\",\"my tears ricochet\",\"mirrorball\",\"seven\",\"august\",\"this is me trying\",\"illicit affairs\",\"invisible string\",\"mad woman\",\"epiphany\",\"betty\",\"peace\",\"hoax\",\"the 1\",\"cardigan\",\"the last great american dynasty\",\"exile (feat. Bon Iver)\",\"my tears ricochet\",\"mirrorball\",\"seven\",\"august\",\"this is me trying\",\"illicit affairs\",\"invisible string\",\"mad woman\",\"epiphany\",\"betty\",\"peace\",\"hoax\"],\"legendgroup\":\"folklore\",\"marker\":{\"color\":\"#ab63fa\"},\"name\":\"folklore\",\"notched\":false,\"offsetgroup\":\"folklore\",\"orientation\":\"v\",\"showlegend\":true,\"x\":[\"liveness\",\"liveness\",\"liveness\",\"liveness\",\"liveness\",\"liveness\",\"liveness\",\"liveness\",\"liveness\",\"liveness\",\"liveness\",\"liveness\",\"liveness\",\"liveness\",\"liveness\",\"liveness\",\"valence\",\"valence\",\"valence\",\"valence\",\"valence\",\"valence\",\"valence\",\"valence\",\"valence\",\"valence\",\"valence\",\"valence\",\"valence\",\"valence\",\"valence\",\"valence\"],\"x0\":\" \",\"xaxis\":\"x\",\"y\":[0.108,0.25,0.109,0.11,0.0749,0.0594,0.091,0.0925,0.171,0.106,0.108,0.114,0.0858,0.0976,0.0918,0.133,0.172,0.551,0.706,0.152,0.111,0.379,0.415,0.403,0.412,0.46,0.45,0.506,0.113,0.502,0.339,0.429],\"y0\":\" \",\"yaxis\":\"y\",\"type\":\"box\",\"boxmean\":true},{\"alignmentgroup\":\"True\",\"boxpoints\":\"all\",\"hovertemplate\":\"\\u003cb\\u003e%{hovertext}\\u003c\\u002fb\\u003e\\u003cbr\\u003e\\u003cbr\\u003etrack.album.name=evermore\\u003cbr\\u003evariable=%{x}\\u003cbr\\u003evalue=%{y}\\u003cextra\\u003e\\u003c\\u002fextra\\u003e\",\"hovertext\":[\"willow\",\"champagne problems\",\"gold rush\",\"\\u2018tis the damn season\",\"tolerate it\",\"no body, no crime (feat. HAIM)\",\"happiness\",\"dorothea\",\"coney island (feat. The National)\",\"ivy\",\"cowboy like me\",\"long story short\",\"marjorie\",\"closure\",\"evermore (feat. Bon Iver)\",\"willow\",\"champagne problems\",\"gold rush\",\"\\u2018tis the damn season\",\"tolerate it\",\"no body, no crime (feat. HAIM)\",\"happiness\",\"dorothea\",\"coney island (feat. The National)\",\"ivy\",\"cowboy like me\",\"long story short\",\"marjorie\",\"closure\",\"evermore (feat. Bon Iver)\"],\"legendgroup\":\"evermore\",\"marker\":{\"color\":\"#FFA15A\"},\"name\":\"evermore\",\"notched\":false,\"offsetgroup\":\"evermore\",\"orientation\":\"v\",\"showlegend\":true,\"x\":[\"liveness\",\"liveness\",\"liveness\",\"liveness\",\"liveness\",\"liveness\",\"liveness\",\"liveness\",\"liveness\",\"liveness\",\"liveness\",\"liveness\",\"liveness\",\"liveness\",\"liveness\",\"valence\",\"valence\",\"valence\",\"valence\",\"valence\",\"valence\",\"valence\",\"valence\",\"valence\",\"valence\",\"valence\",\"valence\",\"valence\",\"valence\",\"valence\"],\"x0\":\" \",\"xaxis\":\"x\",\"y\":[0.145,0.113,0.121,0.105,0.0797,0.103,0.114,0.129,0.142,0.0921,0.123,0.0972,0.115,0.134,0.111,0.529,0.32,0.353,0.348,0.221,0.535,0.211,0.354,0.292,0.535,0.511,0.573,0.287,0.92,0.32],\"y0\":\" \",\"yaxis\":\"y\",\"type\":\"box\",\"boxmean\":true},{\"alignmentgroup\":\"True\",\"boxpoints\":\"all\",\"hovertemplate\":\"\\u003cb\\u003e%{hovertext}\\u003c\\u002fb\\u003e\\u003cbr\\u003e\\u003cbr\\u003etrack.album.name=Fearless (Taylor's Version)\\u003cbr\\u003evariable=%{x}\\u003cbr\\u003evalue=%{y}\\u003cextra\\u003e\\u003c\\u002fextra\\u003e\",\"hovertext\":[\"Fearless (Taylor\\u2019s Version)\",\"Fifteen (Taylor\\u2019s Version)\",\"Love Story (Taylor\\u2019s Version)\",\"Hey Stephen (Taylor\\u2019s Version)\",\"White Horse (Taylor\\u2019s Version)\",\"You Belong With Me (Taylor\\u2019s Version)\",\"Breathe (feat. Colbie Caillat) (Taylor\\u2019s Version)\",\"Tell Me Why (Taylor\\u2019s Version)\",\"You\\u2019re Not Sorry (Taylor\\u2019s Version)\",\"The Way I Loved You (Taylor\\u2019s Version)\",\"Forever & Always (Taylor\\u2019s Version)\",\"The Best Day (Taylor\\u2019s Version)\",\"Change (Taylor\\u2019s Version)\",\"Jump Then Fall (Taylor\\u2019s Version)\",\"Untouchable (Taylor\\u2019s Version)\",\"Forever & Always (Piano Version) (Taylor\\u2019s Version)\",\"Come In With The Rain (Taylor\\u2019s Version)\",\"Superstar (Taylor\\u2019s Version)\",\"The Other Side Of The Door (Taylor\\u2019s Version)\",\"Today Was A Fairytale (Taylor\\u2019s Version)\",\"You All Over Me (feat. Maren Morris) (Taylor\\u2019s Version) (From The Vault)\",\"Mr. Perfectly Fine (Taylor\\u2019s Version) (From The Vault)\",\"We Were Happy (Taylor\\u2019s Version) (From The Vault)\",\"That\\u2019s When (feat. Keith Urban) (Taylor\\u2019s Version) (From The Vault)\",\"Don\\u2019t You (Taylor\\u2019s Version) (From The Vault)\",\"Bye Bye Baby (Taylor\\u2019s Version) (From The Vault)\",\"Fearless (Taylor\\u2019s Version)\",\"Fifteen (Taylor\\u2019s Version)\",\"Love Story (Taylor\\u2019s Version)\",\"Hey Stephen (Taylor\\u2019s Version)\",\"White Horse (Taylor\\u2019s Version)\",\"You Belong With Me (Taylor\\u2019s Version)\",\"Breathe (feat. Colbie Caillat) (Taylor\\u2019s Version)\",\"Tell Me Why (Taylor\\u2019s Version)\",\"You\\u2019re Not Sorry (Taylor\\u2019s Version)\",\"The Way I Loved You (Taylor\\u2019s Version)\",\"Forever & Always (Taylor\\u2019s Version)\",\"The Best Day (Taylor\\u2019s Version)\",\"Change (Taylor\\u2019s Version)\",\"Jump Then Fall (Taylor\\u2019s Version)\",\"Untouchable (Taylor\\u2019s Version)\",\"Forever & Always (Piano Version) (Taylor\\u2019s Version)\",\"Come In With The Rain (Taylor\\u2019s Version)\",\"Superstar (Taylor\\u2019s Version)\",\"The Other Side Of The Door (Taylor\\u2019s Version)\",\"Today Was A Fairytale (Taylor\\u2019s Version)\",\"You All Over Me (feat. Maren Morris) (Taylor\\u2019s Version) (From The Vault)\",\"Mr. Perfectly Fine (Taylor\\u2019s Version) (From The Vault)\",\"We Were Happy (Taylor\\u2019s Version) (From The Vault)\",\"That\\u2019s When (feat. Keith Urban) (Taylor\\u2019s Version) (From The Vault)\",\"Don\\u2019t You (Taylor\\u2019s Version) (From The Vault)\",\"Bye Bye Baby (Taylor\\u2019s Version) (From The Vault)\"],\"legendgroup\":\"Fearless (Taylor's Version)\",\"marker\":{\"color\":\"#19d3f3\"},\"name\":\"Fearless (Taylor's Version)\",\"notched\":false,\"offsetgroup\":\"Fearless (Taylor's Version)\",\"orientation\":\"v\",\"showlegend\":true,\"x\":[\"liveness\",\"liveness\",\"liveness\",\"liveness\",\"liveness\",\"liveness\",\"liveness\",\"liveness\",\"liveness\",\"liveness\",\"liveness\",\"liveness\",\"liveness\",\"liveness\",\"liveness\",\"liveness\",\"liveness\",\"liveness\",\"liveness\",\"liveness\",\"liveness\",\"liveness\",\"liveness\",\"liveness\",\"liveness\",\"liveness\",\"valence\",\"valence\",\"valence\",\"valence\",\"valence\",\"valence\",\"valence\",\"valence\",\"valence\",\"valence\",\"valence\",\"valence\",\"valence\",\"valence\",\"valence\",\"valence\",\"valence\",\"valence\",\"valence\",\"valence\",\"valence\",\"valence\",\"valence\",\"valence\",\"valence\",\"valence\"],\"x0\":\" \",\"xaxis\":\"x\",\"y\":[0.333,0.32,0.0845,0.0934,0.177,0.0885,0.228,0.333,0.123,0.108,0.143,0.159,0.181,0.0897,0.169,0.137,0.102,0.343,0.167,0.296,0.101,0.0667,0.0779,0.092,0.109,0.0995,0.43,0.289,0.415,0.797,0.366,0.474,0.321,0.541,0.241,0.472,0.673,0.469,0.344,0.624,0.224,0.271,0.167,0.171,0.629,0.328,0.44,0.714,0.13,0.508,0.405,0.527],\"y0\":\" \",\"yaxis\":\"y\",\"type\":\"box\",\"boxmean\":true},{\"alignmentgroup\":\"True\",\"boxpoints\":\"all\",\"hovertemplate\":\"\\u003cb\\u003e%{hovertext}\\u003c\\u002fb\\u003e\\u003cbr\\u003e\\u003cbr\\u003etrack.album.name=Red (Taylor's Version)\\u003cbr\\u003evariable=%{x}\\u003cbr\\u003evalue=%{y}\\u003cextra\\u003e\\u003c\\u002fextra\\u003e\",\"hovertext\":[\"State Of Grace (Taylor's Version)\",\"Red (Taylor's Version)\",\"Treacherous (Taylor's Version)\",\"I Knew You Were Trouble (Taylor's Version)\",\"All Too Well (Taylor's Version)\",\"22 (Taylor's Version)\",\"I Almost Do (Taylor's Version)\",\"We Are Never Ever Getting Back Together (Taylor's Version)\",\"Stay Stay Stay (Taylor's Version)\",\"The Last Time (feat. Gary Lightbody of Snow Patrol) (Taylor\\u2019s Version)\",\"Holy Ground (Taylor's Version)\",\"Sad Beautiful Tragic (Taylor's Version)\",\"The Lucky One (Taylor's Version)\",\"Everything Has Changed (feat. Ed Sheeran) (Taylor\\u2019s Version)\",\"Starlight (Taylor's Version)\",\"Begin Again (Taylor's Version)\",\"The Moment I Knew (Taylor's Version)\",\"Come Back...Be Here (Taylor's Version)\",\"Girl At Home (Taylor's Version)\",\"State Of Grace (Acoustic Version) (Taylor's Version)\",\"Ronan (Taylor's Version)\",\"Better Man (Taylor's Version) (From The Vault)\",\"Nothing New (feat. Phoebe Bridgers) (Taylor\\u2019s Version) (From The Vault)\",\"Babe (Taylor's Version) (From The Vault)\",\"Message In A Bottle (Taylor's Version) (From The Vault)\",\"I Bet You Think About Me (feat. Chris Stapleton) (Taylor\\u2019s Version) (From The Vault)\",\"Forever Winter (Taylor's Version) (From The Vault)\",\"Run (feat. Ed Sheeran) (Taylor\\u2019s Version) (From The Vault)\",\"The Very First Night (Taylor's Version) (From The Vault)\",\"All Too Well (10 Minute Version) (Taylor's Version) (From The Vault)\",\"State Of Grace (Taylor's Version)\",\"Red (Taylor's Version)\",\"Treacherous (Taylor's Version)\",\"I Knew You Were Trouble (Taylor's Version)\",\"All Too Well (Taylor's Version)\",\"22 (Taylor's Version)\",\"I Almost Do (Taylor's Version)\",\"We Are Never Ever Getting Back Together (Taylor's Version)\",\"Stay Stay Stay (Taylor's Version)\",\"The Last Time (feat. Gary Lightbody of Snow Patrol) (Taylor\\u2019s Version)\",\"Holy Ground (Taylor's Version)\",\"Sad Beautiful Tragic (Taylor's Version)\",\"The Lucky One (Taylor's Version)\",\"Everything Has Changed (feat. Ed Sheeran) (Taylor\\u2019s Version)\",\"Starlight (Taylor's Version)\",\"Begin Again (Taylor's Version)\",\"The Moment I Knew (Taylor's Version)\",\"Come Back...Be Here (Taylor's Version)\",\"Girl At Home (Taylor's Version)\",\"State Of Grace (Acoustic Version) (Taylor's Version)\",\"Ronan (Taylor's Version)\",\"Better Man (Taylor's Version) (From The Vault)\",\"Nothing New (feat. Phoebe Bridgers) (Taylor\\u2019s Version) (From The Vault)\",\"Babe (Taylor's Version) (From The Vault)\",\"Message In A Bottle (Taylor's Version) (From The Vault)\",\"I Bet You Think About Me (feat. Chris Stapleton) (Taylor\\u2019s Version) (From The Vault)\",\"Forever Winter (Taylor's Version) (From The Vault)\",\"Run (feat. Ed Sheeran) (Taylor\\u2019s Version) (From The Vault)\",\"The Very First Night (Taylor's Version) (From The Vault)\",\"All Too Well (10 Minute Version) (Taylor's Version) (From The Vault)\"],\"legendgroup\":\"Red (Taylor's Version)\",\"marker\":{\"color\":\"#FF6692\"},\"name\":\"Red (Taylor's Version)\",\"notched\":false,\"offsetgroup\":\"Red (Taylor's Version)\",\"orientation\":\"v\",\"showlegend\":true,\"x\":[\"liveness\",\"liveness\",\"liveness\",\"liveness\",\"liveness\",\"liveness\",\"liveness\",\"liveness\",\"liveness\",\"liveness\",\"liveness\",\"liveness\",\"liveness\",\"liveness\",\"liveness\",\"liveness\",\"liveness\",\"liveness\",\"liveness\",\"liveness\",\"liveness\",\"liveness\",\"liveness\",\"liveness\",\"liveness\",\"liveness\",\"liveness\",\"liveness\",\"liveness\",\"liveness\",\"valence\",\"valence\",\"valence\",\"valence\",\"valence\",\"valence\",\"valence\",\"valence\",\"valence\",\"valence\",\"valence\",\"valence\",\"valence\",\"valence\",\"valence\",\"valence\",\"valence\",\"valence\",\"valence\",\"valence\",\"valence\",\"valence\",\"valence\",\"valence\",\"valence\",\"valence\",\"valence\",\"valence\",\"valence\",\"valence\"],\"x0\":\" \",\"xaxis\":\"x\",\"y\":[0.114,0.0761,0.13,0.0576,0.234,0.0753,0.113,0.0732,0.0768,0.0977,0.109,0.133,0.0608,0.223,0.18,0.132,0.107,0.0822,0.101,0.108,0.193,0.0877,0.154,0.121,0.083,0.183,0.134,0.312,0.104,0.088,0.328,0.408,0.299,0.767,0.132,0.642,0.248,0.716,0.663,0.155,0.511,0.232,0.538,0.474,0.605,0.267,0.208,0.399,0.612,0.101,0.38,0.255,0.446,0.746,0.494,0.473,0.41,0.443,0.581,0.205],\"y0\":\" \",\"yaxis\":\"y\",\"type\":\"box\",\"boxmean\":true},{\"alignmentgroup\":\"True\",\"boxpoints\":\"all\",\"hovertemplate\":\"\\u003cb\\u003e%{hovertext}\\u003c\\u002fb\\u003e\\u003cbr\\u003e\\u003cbr\\u003etrack.album.name=Midnights (3am Edition)\\u003cbr\\u003evariable=%{x}\\u003cbr\\u003evalue=%{y}\\u003cextra\\u003e\\u003c\\u002fextra\\u003e\",\"hovertext\":[\"Lavender Haze\",\"Maroon\",\"Anti-Hero\",\"Snow On The Beach (feat. Lana Del Rey)\",\"You're On Your Own, Kid\",\"Midnight Rain\",\"Question...?\",\"Vigilante Shit\",\"Bejeweled\",\"Labyrinth\",\"Karma\",\"Sweet Nothing\",\"Mastermind\",\"The Great War\",\"Bigger Than The Whole Sky\",\"Paris\",\"High Infidelity\",\"Glitch\",\"Would've, Could've, Should've\",\"Dear Reader\",\"Lavender Haze\",\"Maroon\",\"Anti-Hero\",\"Snow On The Beach (feat. Lana Del Rey)\",\"You're On Your Own, Kid\",\"Midnight Rain\",\"Question...?\",\"Vigilante Shit\",\"Bejeweled\",\"Labyrinth\",\"Karma\",\"Sweet Nothing\",\"Mastermind\",\"The Great War\",\"Bigger Than The Whole Sky\",\"Paris\",\"High Infidelity\",\"Glitch\",\"Would've, Could've, Should've\",\"Dear Reader\"],\"legendgroup\":\"Midnights (3am Edition)\",\"marker\":{\"color\":\"#B6E880\"},\"name\":\"Midnights (3am Edition)\",\"notched\":false,\"offsetgroup\":\"Midnights (3am Edition)\",\"orientation\":\"v\",\"showlegend\":true,\"x\":[\"liveness\",\"liveness\",\"liveness\",\"liveness\",\"liveness\",\"liveness\",\"liveness\",\"liveness\",\"liveness\",\"liveness\",\"liveness\",\"liveness\",\"liveness\",\"liveness\",\"liveness\",\"liveness\",\"liveness\",\"liveness\",\"liveness\",\"liveness\",\"valence\",\"valence\",\"valence\",\"valence\",\"valence\",\"valence\",\"valence\",\"valence\",\"valence\",\"valence\",\"valence\",\"valence\",\"valence\",\"valence\",\"valence\",\"valence\",\"valence\",\"valence\",\"valence\",\"valence\"],\"x0\":\" \",\"xaxis\":\"x\",\"y\":[0.17,0.0976,0.152,0.116,0.126,0.115,0.297,0.121,0.091,0.124,0.594,0.115,0.0884,0.0842,0.115,0.137,0.0885,0.11,0.146,0.117,0.0984,0.0382,0.519,0.154,0.376,0.23,0.112,0.16,0.412,0.141,0.106,0.396,0.13,0.554,0.068,0.345,0.755,0.347,0.55,0.159],\"y0\":\" \",\"yaxis\":\"y\",\"type\":\"box\",\"boxmean\":true},{\"alignmentgroup\":\"True\",\"boxpoints\":\"all\",\"hovertemplate\":\"\\u003cb\\u003e%{hovertext}\\u003c\\u002fb\\u003e\\u003cbr\\u003e\\u003cbr\\u003etrack.album.name=Speak Now (Taylor's Version)\\u003cbr\\u003evariable=%{x}\\u003cbr\\u003evalue=%{y}\\u003cextra\\u003e\\u003c\\u002fextra\\u003e\",\"hovertext\":[\"Mine (Taylor's Version)\",\"Sparks Fly (Taylor\\u2019s Version)\",\"Speak Now (Taylor's Version)\",\"Back To December (Taylor's Version)\",\"Dear John (Taylor's Version)\",\"Mean (Taylor's Version)\",\"The Story Of Us (Taylor's Version)\",\"Never Grow Up (Taylor's Version)\",\"Enchanted (Taylor's Version)\",\"Better Than Revenge (Taylor's Version)\",\"Innocent (Taylor's Version)\",\"Haunted (Taylor's Version)\",\"Last Kiss (Taylor's Version)\",\"Long Live (Taylor's Version)\",\"Ours (Taylor\\u2019s Version)\",\"Superman (Taylor\\u2019s Version)\",\"Electric Touch (feat. Fall Out Boy) (Taylor\\u2019s Version) (From The Vault)\",\"When Emma Falls in Love (Taylor\\u2019s Version) (From The Vault)\",\"I Can See You (Taylor\\u2019s Version) (From The Vault)\",\"Castles Crumbling (feat. Hayley Williams) (Taylor\\u2019s Version) (From The Vault)\",\"Timeless (Taylor\\u2019s Version) (From The Vault)\",\"Mine (Taylor's Version)\",\"Sparks Fly (Taylor\\u2019s Version)\",\"Speak Now (Taylor's Version)\",\"Back To December (Taylor's Version)\",\"Dear John (Taylor's Version)\",\"Mean (Taylor's Version)\",\"The Story Of Us (Taylor's Version)\",\"Never Grow Up (Taylor's Version)\",\"Enchanted (Taylor's Version)\",\"Better Than Revenge (Taylor's Version)\",\"Innocent (Taylor's Version)\",\"Haunted (Taylor's Version)\",\"Last Kiss (Taylor's Version)\",\"Long Live (Taylor's Version)\",\"Ours (Taylor\\u2019s Version)\",\"Superman (Taylor\\u2019s Version)\",\"Electric Touch (feat. Fall Out Boy) (Taylor\\u2019s Version) (From The Vault)\",\"When Emma Falls in Love (Taylor\\u2019s Version) (From The Vault)\",\"I Can See You (Taylor\\u2019s Version) (From The Vault)\",\"Castles Crumbling (feat. Hayley Williams) (Taylor\\u2019s Version) (From The Vault)\",\"Timeless (Taylor\\u2019s Version) (From The Vault)\"],\"legendgroup\":\"Speak Now (Taylor's Version)\",\"marker\":{\"color\":\"#FF97FF\"},\"name\":\"Speak Now (Taylor's Version)\",\"notched\":false,\"offsetgroup\":\"Speak Now (Taylor's Version)\",\"orientation\":\"v\",\"showlegend\":true,\"x\":[\"liveness\",\"liveness\",\"liveness\",\"liveness\",\"liveness\",\"liveness\",\"liveness\",\"liveness\",\"liveness\",\"liveness\",\"liveness\",\"liveness\",\"liveness\",\"liveness\",\"liveness\",\"liveness\",\"liveness\",\"liveness\",\"liveness\",\"liveness\",\"liveness\",\"valence\",\"valence\",\"valence\",\"valence\",\"valence\",\"valence\",\"valence\",\"valence\",\"valence\",\"valence\",\"valence\",\"valence\",\"valence\",\"valence\",\"valence\",\"valence\",\"valence\",\"valence\",\"valence\",\"valence\",\"valence\"],\"x0\":\" \",\"xaxis\":\"x\",\"y\":[0.171,0.131,0.143,0.117,0.163,0.192,0.054,0.198,0.149,0.191,0.152,0.221,0.101,0.189,0.111,0.108,0.144,0.138,0.0608,0.0668,0.0916,0.49,0.387,0.639,0.203,0.133,0.621,0.57,0.569,0.216,0.665,0.149,0.355,0.16,0.0752,0.348,0.356,0.282,0.231,0.819,0.378,0.65],\"y0\":\" \",\"yaxis\":\"y\",\"type\":\"box\",\"boxmean\":true},{\"alignmentgroup\":\"True\",\"boxpoints\":\"all\",\"hovertemplate\":\"\\u003cb\\u003e%{hovertext}\\u003c\\u002fb\\u003e\\u003cbr\\u003e\\u003cbr\\u003etrack.album.name=1989 (Taylor's Version) [Deluxe]\\u003cbr\\u003evariable=%{x}\\u003cbr\\u003evalue=%{y}\\u003cextra\\u003e\\u003c\\u002fextra\\u003e\",\"hovertext\":[\"Welcome To New York (Taylor's Version)\",\"Blank Space (Taylor's Version)\",\"Style (Taylor's Version)\",\"Out Of The Woods (Taylor's Version)\",\"All You Had To Do Was Stay (Taylor's Version)\",\"Shake It Off (Taylor's Version)\",\"I Wish You Would (Taylor's Version)\",\"Bad Blood (Taylor's Version)\",\"Wildest Dreams (Taylor's Version)\",\"How You Get The Girl (Taylor's Version)\",\"This Love (Taylor\\u2019s Version)\",\"I Know Places (Taylor's Version)\",\"Clean (Taylor's Version)\",\"Wonderland (Taylor's Version)\",\"You Are In Love (Taylor's Version)\",\"New Romantics (Taylor's Version)\",\"\\\"Slut!\\\" (Taylor's Version) (From The Vault)\",\"Say Don't Go (Taylor's Version) (From The Vault)\",\"Now That We Don't Talk (Taylor's Version) (From The Vault)\",\"Suburban Legends (Taylor's Version) (From The Vault)\",\"Is It Over Now? (Taylor's Version) (From The Vault)\",\"Bad Blood (feat. Kendrick Lamar) (Taylor's Version)\",\"Welcome To New York (Taylor's Version)\",\"Blank Space (Taylor's Version)\",\"Style (Taylor's Version)\",\"Out Of The Woods (Taylor's Version)\",\"All You Had To Do Was Stay (Taylor's Version)\",\"Shake It Off (Taylor's Version)\",\"I Wish You Would (Taylor's Version)\",\"Bad Blood (Taylor's Version)\",\"Wildest Dreams (Taylor's Version)\",\"How You Get The Girl (Taylor's Version)\",\"This Love (Taylor\\u2019s Version)\",\"I Know Places (Taylor's Version)\",\"Clean (Taylor's Version)\",\"Wonderland (Taylor's Version)\",\"You Are In Love (Taylor's Version)\",\"New Romantics (Taylor's Version)\",\"\\\"Slut!\\\" (Taylor's Version) (From The Vault)\",\"Say Don't Go (Taylor's Version) (From The Vault)\",\"Now That We Don't Talk (Taylor's Version) (From The Vault)\",\"Suburban Legends (Taylor's Version) (From The Vault)\",\"Is It Over Now? (Taylor's Version) (From The Vault)\",\"Bad Blood (feat. Kendrick Lamar) (Taylor's Version)\"],\"legendgroup\":\"1989 (Taylor's Version) [Deluxe]\",\"marker\":{\"color\":\"#FECB52\"},\"name\":\"1989 (Taylor's Version) [Deluxe]\",\"notched\":false,\"offsetgroup\":\"1989 (Taylor's Version) [Deluxe]\",\"orientation\":\"v\",\"showlegend\":true,\"x\":[\"liveness\",\"liveness\",\"liveness\",\"liveness\",\"liveness\",\"liveness\",\"liveness\",\"liveness\",\"liveness\",\"liveness\",\"liveness\",\"liveness\",\"liveness\",\"liveness\",\"liveness\",\"liveness\",\"liveness\",\"liveness\",\"liveness\",\"liveness\",\"liveness\",\"liveness\",\"valence\",\"valence\",\"valence\",\"valence\",\"valence\",\"valence\",\"valence\",\"valence\",\"valence\",\"valence\",\"valence\",\"valence\",\"valence\",\"valence\",\"valence\",\"valence\",\"valence\",\"valence\",\"valence\",\"valence\",\"valence\",\"valence\"],\"x0\":\" \",\"xaxis\":\"x\",\"y\":[0.367,0.168,0.0899,0.385,0.131,0.359,0.0687,0.305,0.112,0.0939,0.0673,0.115,0.0981,0.209,0.112,0.0824,0.0608,0.127,0.0874,0.105,0.122,0.217,0.685,0.701,0.305,0.206,0.52,0.917,0.539,0.363,0.514,0.538,0.0567,0.652,0.258,0.385,0.477,0.698,0.328,0.164,0.0831,0.323,0.191,0.174],\"y0\":\" \",\"yaxis\":\"y\",\"type\":\"box\",\"boxmean\":true}],                        {\"template\":{\"data\":{\"histogram2dcontour\":[{\"type\":\"histogram2dcontour\",\"colorbar\":{\"outlinewidth\":0,\"ticks\":\"\"},\"colorscale\":[[0.0,\"#0d0887\"],[0.1111111111111111,\"#46039f\"],[0.2222222222222222,\"#7201a8\"],[0.3333333333333333,\"#9c179e\"],[0.4444444444444444,\"#bd3786\"],[0.5555555555555556,\"#d8576b\"],[0.6666666666666666,\"#ed7953\"],[0.7777777777777778,\"#fb9f3a\"],[0.8888888888888888,\"#fdca26\"],[1.0,\"#f0f921\"]]}],\"choropleth\":[{\"type\":\"choropleth\",\"colorbar\":{\"outlinewidth\":0,\"ticks\":\"\"}}],\"histogram2d\":[{\"type\":\"histogram2d\",\"colorbar\":{\"outlinewidth\":0,\"ticks\":\"\"},\"colorscale\":[[0.0,\"#0d0887\"],[0.1111111111111111,\"#46039f\"],[0.2222222222222222,\"#7201a8\"],[0.3333333333333333,\"#9c179e\"],[0.4444444444444444,\"#bd3786\"],[0.5555555555555556,\"#d8576b\"],[0.6666666666666666,\"#ed7953\"],[0.7777777777777778,\"#fb9f3a\"],[0.8888888888888888,\"#fdca26\"],[1.0,\"#f0f921\"]]}],\"heatmap\":[{\"type\":\"heatmap\",\"colorbar\":{\"outlinewidth\":0,\"ticks\":\"\"},\"colorscale\":[[0.0,\"#0d0887\"],[0.1111111111111111,\"#46039f\"],[0.2222222222222222,\"#7201a8\"],[0.3333333333333333,\"#9c179e\"],[0.4444444444444444,\"#bd3786\"],[0.5555555555555556,\"#d8576b\"],[0.6666666666666666,\"#ed7953\"],[0.7777777777777778,\"#fb9f3a\"],[0.8888888888888888,\"#fdca26\"],[1.0,\"#f0f921\"]]}],\"heatmapgl\":[{\"type\":\"heatmapgl\",\"colorbar\":{\"outlinewidth\":0,\"ticks\":\"\"},\"colorscale\":[[0.0,\"#0d0887\"],[0.1111111111111111,\"#46039f\"],[0.2222222222222222,\"#7201a8\"],[0.3333333333333333,\"#9c179e\"],[0.4444444444444444,\"#bd3786\"],[0.5555555555555556,\"#d8576b\"],[0.6666666666666666,\"#ed7953\"],[0.7777777777777778,\"#fb9f3a\"],[0.8888888888888888,\"#fdca26\"],[1.0,\"#f0f921\"]]}],\"contourcarpet\":[{\"type\":\"contourcarpet\",\"colorbar\":{\"outlinewidth\":0,\"ticks\":\"\"}}],\"contour\":[{\"type\":\"contour\",\"colorbar\":{\"outlinewidth\":0,\"ticks\":\"\"},\"colorscale\":[[0.0,\"#0d0887\"],[0.1111111111111111,\"#46039f\"],[0.2222222222222222,\"#7201a8\"],[0.3333333333333333,\"#9c179e\"],[0.4444444444444444,\"#bd3786\"],[0.5555555555555556,\"#d8576b\"],[0.6666666666666666,\"#ed7953\"],[0.7777777777777778,\"#fb9f3a\"],[0.8888888888888888,\"#fdca26\"],[1.0,\"#f0f921\"]]}],\"surface\":[{\"type\":\"surface\",\"colorbar\":{\"outlinewidth\":0,\"ticks\":\"\"},\"colorscale\":[[0.0,\"#0d0887\"],[0.1111111111111111,\"#46039f\"],[0.2222222222222222,\"#7201a8\"],[0.3333333333333333,\"#9c179e\"],[0.4444444444444444,\"#bd3786\"],[0.5555555555555556,\"#d8576b\"],[0.6666666666666666,\"#ed7953\"],[0.7777777777777778,\"#fb9f3a\"],[0.8888888888888888,\"#fdca26\"],[1.0,\"#f0f921\"]]}],\"mesh3d\":[{\"type\":\"mesh3d\",\"colorbar\":{\"outlinewidth\":0,\"ticks\":\"\"}}],\"scatter\":[{\"fillpattern\":{\"fillmode\":\"overlay\",\"size\":10,\"solidity\":0.2},\"type\":\"scatter\"}],\"parcoords\":[{\"type\":\"parcoords\",\"line\":{\"colorbar\":{\"outlinewidth\":0,\"ticks\":\"\"}}}],\"scatterpolargl\":[{\"type\":\"scatterpolargl\",\"marker\":{\"colorbar\":{\"outlinewidth\":0,\"ticks\":\"\"}}}],\"bar\":[{\"error_x\":{\"color\":\"#2a3f5f\"},\"error_y\":{\"color\":\"#2a3f5f\"},\"marker\":{\"line\":{\"color\":\"#E5ECF6\",\"width\":0.5},\"pattern\":{\"fillmode\":\"overlay\",\"size\":10,\"solidity\":0.2}},\"type\":\"bar\"}],\"scattergeo\":[{\"type\":\"scattergeo\",\"marker\":{\"colorbar\":{\"outlinewidth\":0,\"ticks\":\"\"}}}],\"scatterpolar\":[{\"type\":\"scatterpolar\",\"marker\":{\"colorbar\":{\"outlinewidth\":0,\"ticks\":\"\"}}}],\"histogram\":[{\"marker\":{\"pattern\":{\"fillmode\":\"overlay\",\"size\":10,\"solidity\":0.2}},\"type\":\"histogram\"}],\"scattergl\":[{\"type\":\"scattergl\",\"marker\":{\"colorbar\":{\"outlinewidth\":0,\"ticks\":\"\"}}}],\"scatter3d\":[{\"type\":\"scatter3d\",\"line\":{\"colorbar\":{\"outlinewidth\":0,\"ticks\":\"\"}},\"marker\":{\"colorbar\":{\"outlinewidth\":0,\"ticks\":\"\"}}}],\"scattermapbox\":[{\"type\":\"scattermapbox\",\"marker\":{\"colorbar\":{\"outlinewidth\":0,\"ticks\":\"\"}}}],\"scatterternary\":[{\"type\":\"scatterternary\",\"marker\":{\"colorbar\":{\"outlinewidth\":0,\"ticks\":\"\"}}}],\"scattercarpet\":[{\"type\":\"scattercarpet\",\"marker\":{\"colorbar\":{\"outlinewidth\":0,\"ticks\":\"\"}}}],\"carpet\":[{\"aaxis\":{\"endlinecolor\":\"#2a3f5f\",\"gridcolor\":\"white\",\"linecolor\":\"white\",\"minorgridcolor\":\"white\",\"startlinecolor\":\"#2a3f5f\"},\"baxis\":{\"endlinecolor\":\"#2a3f5f\",\"gridcolor\":\"white\",\"linecolor\":\"white\",\"minorgridcolor\":\"white\",\"startlinecolor\":\"#2a3f5f\"},\"type\":\"carpet\"}],\"table\":[{\"cells\":{\"fill\":{\"color\":\"#EBF0F8\"},\"line\":{\"color\":\"white\"}},\"header\":{\"fill\":{\"color\":\"#C8D4E3\"},\"line\":{\"color\":\"white\"}},\"type\":\"table\"}],\"barpolar\":[{\"marker\":{\"line\":{\"color\":\"#E5ECF6\",\"width\":0.5},\"pattern\":{\"fillmode\":\"overlay\",\"size\":10,\"solidity\":0.2}},\"type\":\"barpolar\"}],\"pie\":[{\"automargin\":true,\"type\":\"pie\"}]},\"layout\":{\"autotypenumbers\":\"strict\",\"colorway\":[\"#636efa\",\"#EF553B\",\"#00cc96\",\"#ab63fa\",\"#FFA15A\",\"#19d3f3\",\"#FF6692\",\"#B6E880\",\"#FF97FF\",\"#FECB52\"],\"font\":{\"color\":\"#2a3f5f\"},\"hovermode\":\"closest\",\"hoverlabel\":{\"align\":\"left\"},\"paper_bgcolor\":\"white\",\"plot_bgcolor\":\"#E5ECF6\",\"polar\":{\"bgcolor\":\"#E5ECF6\",\"angularaxis\":{\"gridcolor\":\"white\",\"linecolor\":\"white\",\"ticks\":\"\"},\"radialaxis\":{\"gridcolor\":\"white\",\"linecolor\":\"white\",\"ticks\":\"\"}},\"ternary\":{\"bgcolor\":\"#E5ECF6\",\"aaxis\":{\"gridcolor\":\"white\",\"linecolor\":\"white\",\"ticks\":\"\"},\"baxis\":{\"gridcolor\":\"white\",\"linecolor\":\"white\",\"ticks\":\"\"},\"caxis\":{\"gridcolor\":\"white\",\"linecolor\":\"white\",\"ticks\":\"\"}},\"coloraxis\":{\"colorbar\":{\"outlinewidth\":0,\"ticks\":\"\"}},\"colorscale\":{\"sequential\":[[0.0,\"#0d0887\"],[0.1111111111111111,\"#46039f\"],[0.2222222222222222,\"#7201a8\"],[0.3333333333333333,\"#9c179e\"],[0.4444444444444444,\"#bd3786\"],[0.5555555555555556,\"#d8576b\"],[0.6666666666666666,\"#ed7953\"],[0.7777777777777778,\"#fb9f3a\"],[0.8888888888888888,\"#fdca26\"],[1.0,\"#f0f921\"]],\"sequentialminus\":[[0.0,\"#0d0887\"],[0.1111111111111111,\"#46039f\"],[0.2222222222222222,\"#7201a8\"],[0.3333333333333333,\"#9c179e\"],[0.4444444444444444,\"#bd3786\"],[0.5555555555555556,\"#d8576b\"],[0.6666666666666666,\"#ed7953\"],[0.7777777777777778,\"#fb9f3a\"],[0.8888888888888888,\"#fdca26\"],[1.0,\"#f0f921\"]],\"diverging\":[[0,\"#8e0152\"],[0.1,\"#c51b7d\"],[0.2,\"#de77ae\"],[0.3,\"#f1b6da\"],[0.4,\"#fde0ef\"],[0.5,\"#f7f7f7\"],[0.6,\"#e6f5d0\"],[0.7,\"#b8e186\"],[0.8,\"#7fbc41\"],[0.9,\"#4d9221\"],[1,\"#276419\"]]},\"xaxis\":{\"gridcolor\":\"white\",\"linecolor\":\"white\",\"ticks\":\"\",\"title\":{\"standoff\":15},\"zerolinecolor\":\"white\",\"automargin\":true,\"zerolinewidth\":2},\"yaxis\":{\"gridcolor\":\"white\",\"linecolor\":\"white\",\"ticks\":\"\",\"title\":{\"standoff\":15},\"zerolinecolor\":\"white\",\"automargin\":true,\"zerolinewidth\":2},\"scene\":{\"xaxis\":{\"backgroundcolor\":\"#E5ECF6\",\"gridcolor\":\"white\",\"linecolor\":\"white\",\"showbackground\":true,\"ticks\":\"\",\"zerolinecolor\":\"white\",\"gridwidth\":2},\"yaxis\":{\"backgroundcolor\":\"#E5ECF6\",\"gridcolor\":\"white\",\"linecolor\":\"white\",\"showbackground\":true,\"ticks\":\"\",\"zerolinecolor\":\"white\",\"gridwidth\":2},\"zaxis\":{\"backgroundcolor\":\"#E5ECF6\",\"gridcolor\":\"white\",\"linecolor\":\"white\",\"showbackground\":true,\"ticks\":\"\",\"zerolinecolor\":\"white\",\"gridwidth\":2}},\"shapedefaults\":{\"line\":{\"color\":\"#2a3f5f\"}},\"annotationdefaults\":{\"arrowcolor\":\"#2a3f5f\",\"arrowhead\":0,\"arrowwidth\":1},\"geo\":{\"bgcolor\":\"white\",\"landcolor\":\"#E5ECF6\",\"subunitcolor\":\"white\",\"showland\":true,\"showlakes\":true,\"lakecolor\":\"white\"},\"title\":{\"x\":0.05},\"mapbox\":{\"style\":\"light\"}}},\"xaxis\":{\"anchor\":\"y\",\"domain\":[0.0,1.0],\"title\":{\"text\":\"variable\"}},\"yaxis\":{\"anchor\":\"x\",\"domain\":[0.0,1.0],\"title\":{\"text\":\"value\"}},\"legend\":{\"title\":{\"text\":\"track.album.name\"},\"tracegroupgap\":0},\"margin\":{\"t\":60},\"boxmode\":\"group\"},                        {\"responsive\": true}                    ).then(function(){\n",
       "                            \n",
       "var gd = document.getElementById('d2ac7e5b-344b-4afb-ad04-03522bef1c3a');\n",
       "var x = new MutationObserver(function (mutations, observer) {{\n",
       "        var display = window.getComputedStyle(gd).display;\n",
       "        if (!display || display === 'none') {{\n",
       "            console.log([gd, 'removed!']);\n",
       "            Plotly.purge(gd);\n",
       "            observer.disconnect();\n",
       "        }}\n",
       "}});\n",
       "\n",
       "// Listen for the removal of the full notebook cells\n",
       "var notebookContainer = gd.closest('#notebook-container');\n",
       "if (notebookContainer) {{\n",
       "    x.observe(notebookContainer, {childList: true});\n",
       "}}\n",
       "\n",
       "// Listen for the clearing of the current output cell\n",
       "var outputEl = gd.closest('.output');\n",
       "if (outputEl) {{\n",
       "    x.observe(outputEl, {childList: true});\n",
       "}}\n",
       "\n",
       "                        })                };                });            </script>        </div>"
      ]
     },
     "metadata": {},
     "output_type": "display_data"
    }
   ],
   "source": [
    "fig = px.box(new_df, y=['liveness', 'valence'],\n",
    "             color='track.album.name', hover_name='track.name', points='all')\n",
    "fig.update_traces(boxmean=True)\n",
    "fig"
   ]
  },
  {
   "cell_type": "markdown",
   "metadata": {},
   "source": [
    "Finally, we might want to visuzalze an album's song data in 3d."
   ]
  },
  {
   "cell_type": "code",
   "execution_count": 20,
   "metadata": {},
   "outputs": [
    {
     "data": {
      "application/vnd.plotly.v1+json": {
       "config": {
        "plotlyServerURL": "https://plot.ly"
       },
       "data": [
        {
         "hovertemplate": "<b>%{hovertext}</b><br><br>valence=%{x}<br>energy=%{y}<br>danceability=%{z}<br>Track Duration (ms)=%{marker.size}<br>Popularity=%{marker.color}<extra></extra>",
         "hovertext": [
          "State Of Grace (Taylor's Version)",
          "Red (Taylor's Version)",
          "Treacherous (Taylor's Version)",
          "I Knew You Were Trouble (Taylor's Version)",
          "All Too Well (Taylor's Version)",
          "22 (Taylor's Version)",
          "I Almost Do (Taylor's Version)",
          "We Are Never Ever Getting Back Together (Taylor's Version)",
          "Stay Stay Stay (Taylor's Version)",
          "The Last Time (feat. Gary Lightbody of Snow Patrol) (Taylor’s Version)",
          "Holy Ground (Taylor's Version)",
          "Sad Beautiful Tragic (Taylor's Version)",
          "The Lucky One (Taylor's Version)",
          "Everything Has Changed (feat. Ed Sheeran) (Taylor’s Version)",
          "Starlight (Taylor's Version)",
          "Begin Again (Taylor's Version)",
          "The Moment I Knew (Taylor's Version)",
          "Come Back...Be Here (Taylor's Version)",
          "Girl At Home (Taylor's Version)",
          "State Of Grace (Acoustic Version) (Taylor's Version)",
          "Ronan (Taylor's Version)",
          "Better Man (Taylor's Version) (From The Vault)",
          "Nothing New (feat. Phoebe Bridgers) (Taylor’s Version) (From The Vault)",
          "Babe (Taylor's Version) (From The Vault)",
          "Message In A Bottle (Taylor's Version) (From The Vault)",
          "I Bet You Think About Me (feat. Chris Stapleton) (Taylor’s Version) (From The Vault)",
          "Forever Winter (Taylor's Version) (From The Vault)",
          "Run (feat. Ed Sheeran) (Taylor’s Version) (From The Vault)",
          "The Very First Night (Taylor's Version) (From The Vault)",
          "All Too Well (10 Minute Version) (Taylor's Version) (From The Vault)"
         ],
         "legendgroup": "",
         "marker": {
          "color": [
           72,
           80,
           72,
           80,
           77,
           79,
           71,
           80,
           70,
           74,
           70,
           72,
           69,
           76,
           69,
           72,
           69,
           73,
           68,
           67,
           65,
           74,
           78,
           74,
           74,
           76,
           70,
           71,
           76,
           87
          ],
          "coloraxis": "coloraxis",
          "size": [
           295413,
           223093,
           242720,
           219760,
           329160,
           230960,
           244586,
           193146,
           205786,
           299080,
           202960,
           284773,
           240466,
           245426,
           220413,
           238866,
           285280,
           223333,
           220520,
           321640,
           264253,
           297013,
           258812,
           224240,
           225960,
           285106,
           263533,
           240226,
           200280,
           613026
          ],
          "sizemode": "area",
          "sizeref": 1532.565,
          "symbol": "circle"
         },
         "mode": "markers",
         "name": "",
         "scene": "scene",
         "showlegend": false,
         "type": "scatter3d",
         "x": [
          0.328,
          0.408,
          0.299,
          0.767,
          0.132,
          0.642,
          0.248,
          0.716,
          0.663,
          0.155,
          0.511,
          0.232,
          0.538,
          0.474,
          0.605,
          0.267,
          0.208,
          0.399,
          0.612,
          0.101,
          0.38,
          0.255,
          0.446,
          0.746,
          0.494,
          0.473,
          0.41,
          0.443,
          0.581,
          0.205
         ],
         "y": [
          0.713,
          0.777,
          0.593,
          0.557,
          0.528,
          0.695,
          0.559,
          0.686,
          0.681,
          0.534,
          0.809,
          0.406,
          0.571,
          0.61,
          0.685,
          0.527,
          0.402,
          0.632,
          0.736,
          0.131,
          0.279,
          0.579,
          0.377,
          0.743,
          0.791,
          0.715,
          0.552,
          0.488,
          0.733,
          0.518
         ],
         "z": [
          0.594,
          0.516,
          0.645,
          0.584,
          0.44,
          0.642,
          0.511,
          0.567,
          0.693,
          0.502,
          0.622,
          0.601,
          0.686,
          0.498,
          0.628,
          0.519,
          0.636,
          0.46,
          0.691,
          0.445,
          0.623,
          0.473,
          0.606,
          0.584,
          0.622,
          0.391,
          0.611,
          0.61,
          0.678,
          0.631
         ]
        }
       ],
       "layout": {
        "coloraxis": {
         "colorbar": {
          "title": {
           "text": "Popularity"
          }
         },
         "colorscale": [
          [
           0,
           "#0d0887"
          ],
          [
           0.1111111111111111,
           "#46039f"
          ],
          [
           0.2222222222222222,
           "#7201a8"
          ],
          [
           0.3333333333333333,
           "#9c179e"
          ],
          [
           0.4444444444444444,
           "#bd3786"
          ],
          [
           0.5555555555555556,
           "#d8576b"
          ],
          [
           0.6666666666666666,
           "#ed7953"
          ],
          [
           0.7777777777777778,
           "#fb9f3a"
          ],
          [
           0.8888888888888888,
           "#fdca26"
          ],
          [
           1,
           "#f0f921"
          ]
         ]
        },
        "legend": {
         "itemsizing": "constant",
         "tracegroupgap": 0
        },
        "margin": {
         "t": 60
        },
        "scene": {
         "domain": {
          "x": [
           0,
           1
          ],
          "y": [
           0,
           1
          ]
         },
         "xaxis": {
          "title": {
           "text": "valence"
          }
         },
         "yaxis": {
          "title": {
           "text": "energy"
          }
         },
         "zaxis": {
          "title": {
           "text": "danceability"
          }
         }
        },
        "template": {
         "data": {
          "bar": [
           {
            "error_x": {
             "color": "#2a3f5f"
            },
            "error_y": {
             "color": "#2a3f5f"
            },
            "marker": {
             "line": {
              "color": "#E5ECF6",
              "width": 0.5
             },
             "pattern": {
              "fillmode": "overlay",
              "size": 10,
              "solidity": 0.2
             }
            },
            "type": "bar"
           }
          ],
          "barpolar": [
           {
            "marker": {
             "line": {
              "color": "#E5ECF6",
              "width": 0.5
             },
             "pattern": {
              "fillmode": "overlay",
              "size": 10,
              "solidity": 0.2
             }
            },
            "type": "barpolar"
           }
          ],
          "carpet": [
           {
            "aaxis": {
             "endlinecolor": "#2a3f5f",
             "gridcolor": "white",
             "linecolor": "white",
             "minorgridcolor": "white",
             "startlinecolor": "#2a3f5f"
            },
            "baxis": {
             "endlinecolor": "#2a3f5f",
             "gridcolor": "white",
             "linecolor": "white",
             "minorgridcolor": "white",
             "startlinecolor": "#2a3f5f"
            },
            "type": "carpet"
           }
          ],
          "choropleth": [
           {
            "colorbar": {
             "outlinewidth": 0,
             "ticks": ""
            },
            "type": "choropleth"
           }
          ],
          "contour": [
           {
            "colorbar": {
             "outlinewidth": 0,
             "ticks": ""
            },
            "colorscale": [
             [
              0,
              "#0d0887"
             ],
             [
              0.1111111111111111,
              "#46039f"
             ],
             [
              0.2222222222222222,
              "#7201a8"
             ],
             [
              0.3333333333333333,
              "#9c179e"
             ],
             [
              0.4444444444444444,
              "#bd3786"
             ],
             [
              0.5555555555555556,
              "#d8576b"
             ],
             [
              0.6666666666666666,
              "#ed7953"
             ],
             [
              0.7777777777777778,
              "#fb9f3a"
             ],
             [
              0.8888888888888888,
              "#fdca26"
             ],
             [
              1,
              "#f0f921"
             ]
            ],
            "type": "contour"
           }
          ],
          "contourcarpet": [
           {
            "colorbar": {
             "outlinewidth": 0,
             "ticks": ""
            },
            "type": "contourcarpet"
           }
          ],
          "heatmap": [
           {
            "colorbar": {
             "outlinewidth": 0,
             "ticks": ""
            },
            "colorscale": [
             [
              0,
              "#0d0887"
             ],
             [
              0.1111111111111111,
              "#46039f"
             ],
             [
              0.2222222222222222,
              "#7201a8"
             ],
             [
              0.3333333333333333,
              "#9c179e"
             ],
             [
              0.4444444444444444,
              "#bd3786"
             ],
             [
              0.5555555555555556,
              "#d8576b"
             ],
             [
              0.6666666666666666,
              "#ed7953"
             ],
             [
              0.7777777777777778,
              "#fb9f3a"
             ],
             [
              0.8888888888888888,
              "#fdca26"
             ],
             [
              1,
              "#f0f921"
             ]
            ],
            "type": "heatmap"
           }
          ],
          "heatmapgl": [
           {
            "colorbar": {
             "outlinewidth": 0,
             "ticks": ""
            },
            "colorscale": [
             [
              0,
              "#0d0887"
             ],
             [
              0.1111111111111111,
              "#46039f"
             ],
             [
              0.2222222222222222,
              "#7201a8"
             ],
             [
              0.3333333333333333,
              "#9c179e"
             ],
             [
              0.4444444444444444,
              "#bd3786"
             ],
             [
              0.5555555555555556,
              "#d8576b"
             ],
             [
              0.6666666666666666,
              "#ed7953"
             ],
             [
              0.7777777777777778,
              "#fb9f3a"
             ],
             [
              0.8888888888888888,
              "#fdca26"
             ],
             [
              1,
              "#f0f921"
             ]
            ],
            "type": "heatmapgl"
           }
          ],
          "histogram": [
           {
            "marker": {
             "pattern": {
              "fillmode": "overlay",
              "size": 10,
              "solidity": 0.2
             }
            },
            "type": "histogram"
           }
          ],
          "histogram2d": [
           {
            "colorbar": {
             "outlinewidth": 0,
             "ticks": ""
            },
            "colorscale": [
             [
              0,
              "#0d0887"
             ],
             [
              0.1111111111111111,
              "#46039f"
             ],
             [
              0.2222222222222222,
              "#7201a8"
             ],
             [
              0.3333333333333333,
              "#9c179e"
             ],
             [
              0.4444444444444444,
              "#bd3786"
             ],
             [
              0.5555555555555556,
              "#d8576b"
             ],
             [
              0.6666666666666666,
              "#ed7953"
             ],
             [
              0.7777777777777778,
              "#fb9f3a"
             ],
             [
              0.8888888888888888,
              "#fdca26"
             ],
             [
              1,
              "#f0f921"
             ]
            ],
            "type": "histogram2d"
           }
          ],
          "histogram2dcontour": [
           {
            "colorbar": {
             "outlinewidth": 0,
             "ticks": ""
            },
            "colorscale": [
             [
              0,
              "#0d0887"
             ],
             [
              0.1111111111111111,
              "#46039f"
             ],
             [
              0.2222222222222222,
              "#7201a8"
             ],
             [
              0.3333333333333333,
              "#9c179e"
             ],
             [
              0.4444444444444444,
              "#bd3786"
             ],
             [
              0.5555555555555556,
              "#d8576b"
             ],
             [
              0.6666666666666666,
              "#ed7953"
             ],
             [
              0.7777777777777778,
              "#fb9f3a"
             ],
             [
              0.8888888888888888,
              "#fdca26"
             ],
             [
              1,
              "#f0f921"
             ]
            ],
            "type": "histogram2dcontour"
           }
          ],
          "mesh3d": [
           {
            "colorbar": {
             "outlinewidth": 0,
             "ticks": ""
            },
            "type": "mesh3d"
           }
          ],
          "parcoords": [
           {
            "line": {
             "colorbar": {
              "outlinewidth": 0,
              "ticks": ""
             }
            },
            "type": "parcoords"
           }
          ],
          "pie": [
           {
            "automargin": true,
            "type": "pie"
           }
          ],
          "scatter": [
           {
            "fillpattern": {
             "fillmode": "overlay",
             "size": 10,
             "solidity": 0.2
            },
            "type": "scatter"
           }
          ],
          "scatter3d": [
           {
            "line": {
             "colorbar": {
              "outlinewidth": 0,
              "ticks": ""
             }
            },
            "marker": {
             "colorbar": {
              "outlinewidth": 0,
              "ticks": ""
             }
            },
            "type": "scatter3d"
           }
          ],
          "scattercarpet": [
           {
            "marker": {
             "colorbar": {
              "outlinewidth": 0,
              "ticks": ""
             }
            },
            "type": "scattercarpet"
           }
          ],
          "scattergeo": [
           {
            "marker": {
             "colorbar": {
              "outlinewidth": 0,
              "ticks": ""
             }
            },
            "type": "scattergeo"
           }
          ],
          "scattergl": [
           {
            "marker": {
             "colorbar": {
              "outlinewidth": 0,
              "ticks": ""
             }
            },
            "type": "scattergl"
           }
          ],
          "scattermapbox": [
           {
            "marker": {
             "colorbar": {
              "outlinewidth": 0,
              "ticks": ""
             }
            },
            "type": "scattermapbox"
           }
          ],
          "scatterpolar": [
           {
            "marker": {
             "colorbar": {
              "outlinewidth": 0,
              "ticks": ""
             }
            },
            "type": "scatterpolar"
           }
          ],
          "scatterpolargl": [
           {
            "marker": {
             "colorbar": {
              "outlinewidth": 0,
              "ticks": ""
             }
            },
            "type": "scatterpolargl"
           }
          ],
          "scatterternary": [
           {
            "marker": {
             "colorbar": {
              "outlinewidth": 0,
              "ticks": ""
             }
            },
            "type": "scatterternary"
           }
          ],
          "surface": [
           {
            "colorbar": {
             "outlinewidth": 0,
             "ticks": ""
            },
            "colorscale": [
             [
              0,
              "#0d0887"
             ],
             [
              0.1111111111111111,
              "#46039f"
             ],
             [
              0.2222222222222222,
              "#7201a8"
             ],
             [
              0.3333333333333333,
              "#9c179e"
             ],
             [
              0.4444444444444444,
              "#bd3786"
             ],
             [
              0.5555555555555556,
              "#d8576b"
             ],
             [
              0.6666666666666666,
              "#ed7953"
             ],
             [
              0.7777777777777778,
              "#fb9f3a"
             ],
             [
              0.8888888888888888,
              "#fdca26"
             ],
             [
              1,
              "#f0f921"
             ]
            ],
            "type": "surface"
           }
          ],
          "table": [
           {
            "cells": {
             "fill": {
              "color": "#EBF0F8"
             },
             "line": {
              "color": "white"
             }
            },
            "header": {
             "fill": {
              "color": "#C8D4E3"
             },
             "line": {
              "color": "white"
             }
            },
            "type": "table"
           }
          ]
         },
         "layout": {
          "annotationdefaults": {
           "arrowcolor": "#2a3f5f",
           "arrowhead": 0,
           "arrowwidth": 1
          },
          "autotypenumbers": "strict",
          "coloraxis": {
           "colorbar": {
            "outlinewidth": 0,
            "ticks": ""
           }
          },
          "colorscale": {
           "diverging": [
            [
             0,
             "#8e0152"
            ],
            [
             0.1,
             "#c51b7d"
            ],
            [
             0.2,
             "#de77ae"
            ],
            [
             0.3,
             "#f1b6da"
            ],
            [
             0.4,
             "#fde0ef"
            ],
            [
             0.5,
             "#f7f7f7"
            ],
            [
             0.6,
             "#e6f5d0"
            ],
            [
             0.7,
             "#b8e186"
            ],
            [
             0.8,
             "#7fbc41"
            ],
            [
             0.9,
             "#4d9221"
            ],
            [
             1,
             "#276419"
            ]
           ],
           "sequential": [
            [
             0,
             "#0d0887"
            ],
            [
             0.1111111111111111,
             "#46039f"
            ],
            [
             0.2222222222222222,
             "#7201a8"
            ],
            [
             0.3333333333333333,
             "#9c179e"
            ],
            [
             0.4444444444444444,
             "#bd3786"
            ],
            [
             0.5555555555555556,
             "#d8576b"
            ],
            [
             0.6666666666666666,
             "#ed7953"
            ],
            [
             0.7777777777777778,
             "#fb9f3a"
            ],
            [
             0.8888888888888888,
             "#fdca26"
            ],
            [
             1,
             "#f0f921"
            ]
           ],
           "sequentialminus": [
            [
             0,
             "#0d0887"
            ],
            [
             0.1111111111111111,
             "#46039f"
            ],
            [
             0.2222222222222222,
             "#7201a8"
            ],
            [
             0.3333333333333333,
             "#9c179e"
            ],
            [
             0.4444444444444444,
             "#bd3786"
            ],
            [
             0.5555555555555556,
             "#d8576b"
            ],
            [
             0.6666666666666666,
             "#ed7953"
            ],
            [
             0.7777777777777778,
             "#fb9f3a"
            ],
            [
             0.8888888888888888,
             "#fdca26"
            ],
            [
             1,
             "#f0f921"
            ]
           ]
          },
          "colorway": [
           "#636efa",
           "#EF553B",
           "#00cc96",
           "#ab63fa",
           "#FFA15A",
           "#19d3f3",
           "#FF6692",
           "#B6E880",
           "#FF97FF",
           "#FECB52"
          ],
          "font": {
           "color": "#2a3f5f"
          },
          "geo": {
           "bgcolor": "white",
           "lakecolor": "white",
           "landcolor": "#E5ECF6",
           "showlakes": true,
           "showland": true,
           "subunitcolor": "white"
          },
          "hoverlabel": {
           "align": "left"
          },
          "hovermode": "closest",
          "mapbox": {
           "style": "light"
          },
          "paper_bgcolor": "white",
          "plot_bgcolor": "#E5ECF6",
          "polar": {
           "angularaxis": {
            "gridcolor": "white",
            "linecolor": "white",
            "ticks": ""
           },
           "bgcolor": "#E5ECF6",
           "radialaxis": {
            "gridcolor": "white",
            "linecolor": "white",
            "ticks": ""
           }
          },
          "scene": {
           "xaxis": {
            "backgroundcolor": "#E5ECF6",
            "gridcolor": "white",
            "gridwidth": 2,
            "linecolor": "white",
            "showbackground": true,
            "ticks": "",
            "zerolinecolor": "white"
           },
           "yaxis": {
            "backgroundcolor": "#E5ECF6",
            "gridcolor": "white",
            "gridwidth": 2,
            "linecolor": "white",
            "showbackground": true,
            "ticks": "",
            "zerolinecolor": "white"
           },
           "zaxis": {
            "backgroundcolor": "#E5ECF6",
            "gridcolor": "white",
            "gridwidth": 2,
            "linecolor": "white",
            "showbackground": true,
            "ticks": "",
            "zerolinecolor": "white"
           }
          },
          "shapedefaults": {
           "line": {
            "color": "#2a3f5f"
           }
          },
          "ternary": {
           "aaxis": {
            "gridcolor": "white",
            "linecolor": "white",
            "ticks": ""
           },
           "baxis": {
            "gridcolor": "white",
            "linecolor": "white",
            "ticks": ""
           },
           "bgcolor": "#E5ECF6",
           "caxis": {
            "gridcolor": "white",
            "linecolor": "white",
            "ticks": ""
           }
          },
          "title": {
           "x": 0.05
          },
          "xaxis": {
           "automargin": true,
           "gridcolor": "white",
           "linecolor": "white",
           "ticks": "",
           "title": {
            "standoff": 15
           },
           "zerolinecolor": "white",
           "zerolinewidth": 2
          },
          "yaxis": {
           "automargin": true,
           "gridcolor": "white",
           "linecolor": "white",
           "ticks": "",
           "title": {
            "standoff": 15
           },
           "zerolinecolor": "white",
           "zerolinewidth": 2
          }
         }
        }
       }
      },
      "text/html": [
       "<div>                            <div id=\"3d50bd3d-01cc-487d-a97f-d3a961a1c0cc\" class=\"plotly-graph-div\" style=\"height:525px; width:100%;\"></div>            <script type=\"text/javascript\">                require([\"plotly\"], function(Plotly) {                    window.PLOTLYENV=window.PLOTLYENV || {};                                    if (document.getElementById(\"3d50bd3d-01cc-487d-a97f-d3a961a1c0cc\")) {                    Plotly.newPlot(                        \"3d50bd3d-01cc-487d-a97f-d3a961a1c0cc\",                        [{\"hovertemplate\":\"\\u003cb\\u003e%{hovertext}\\u003c\\u002fb\\u003e\\u003cbr\\u003e\\u003cbr\\u003evalence=%{x}\\u003cbr\\u003eenergy=%{y}\\u003cbr\\u003edanceability=%{z}\\u003cbr\\u003eTrack Duration (ms)=%{marker.size}\\u003cbr\\u003ePopularity=%{marker.color}\\u003cextra\\u003e\\u003c\\u002fextra\\u003e\",\"hovertext\":[\"State Of Grace (Taylor's Version)\",\"Red (Taylor's Version)\",\"Treacherous (Taylor's Version)\",\"I Knew You Were Trouble (Taylor's Version)\",\"All Too Well (Taylor's Version)\",\"22 (Taylor's Version)\",\"I Almost Do (Taylor's Version)\",\"We Are Never Ever Getting Back Together (Taylor's Version)\",\"Stay Stay Stay (Taylor's Version)\",\"The Last Time (feat. Gary Lightbody of Snow Patrol) (Taylor\\u2019s Version)\",\"Holy Ground (Taylor's Version)\",\"Sad Beautiful Tragic (Taylor's Version)\",\"The Lucky One (Taylor's Version)\",\"Everything Has Changed (feat. Ed Sheeran) (Taylor\\u2019s Version)\",\"Starlight (Taylor's Version)\",\"Begin Again (Taylor's Version)\",\"The Moment I Knew (Taylor's Version)\",\"Come Back...Be Here (Taylor's Version)\",\"Girl At Home (Taylor's Version)\",\"State Of Grace (Acoustic Version) (Taylor's Version)\",\"Ronan (Taylor's Version)\",\"Better Man (Taylor's Version) (From The Vault)\",\"Nothing New (feat. Phoebe Bridgers) (Taylor\\u2019s Version) (From The Vault)\",\"Babe (Taylor's Version) (From The Vault)\",\"Message In A Bottle (Taylor's Version) (From The Vault)\",\"I Bet You Think About Me (feat. Chris Stapleton) (Taylor\\u2019s Version) (From The Vault)\",\"Forever Winter (Taylor's Version) (From The Vault)\",\"Run (feat. Ed Sheeran) (Taylor\\u2019s Version) (From The Vault)\",\"The Very First Night (Taylor's Version) (From The Vault)\",\"All Too Well (10 Minute Version) (Taylor's Version) (From The Vault)\"],\"legendgroup\":\"\",\"marker\":{\"color\":[72,80,72,80,77,79,71,80,70,74,70,72,69,76,69,72,69,73,68,67,65,74,78,74,74,76,70,71,76,87],\"coloraxis\":\"coloraxis\",\"size\":[295413,223093,242720,219760,329160,230960,244586,193146,205786,299080,202960,284773,240466,245426,220413,238866,285280,223333,220520,321640,264253,297013,258812,224240,225960,285106,263533,240226,200280,613026],\"sizemode\":\"area\",\"sizeref\":1532.565,\"symbol\":\"circle\"},\"mode\":\"markers\",\"name\":\"\",\"scene\":\"scene\",\"showlegend\":false,\"x\":[0.328,0.408,0.299,0.767,0.132,0.642,0.248,0.716,0.663,0.155,0.511,0.232,0.538,0.474,0.605,0.267,0.208,0.399,0.612,0.101,0.38,0.255,0.446,0.746,0.494,0.473,0.41,0.443,0.581,0.205],\"y\":[0.713,0.777,0.593,0.557,0.528,0.695,0.559,0.686,0.681,0.534,0.809,0.406,0.571,0.61,0.685,0.527,0.402,0.632,0.736,0.131,0.279,0.579,0.377,0.743,0.791,0.715,0.552,0.488,0.733,0.518],\"z\":[0.594,0.516,0.645,0.584,0.44,0.642,0.511,0.567,0.693,0.502,0.622,0.601,0.686,0.498,0.628,0.519,0.636,0.46,0.691,0.445,0.623,0.473,0.606,0.584,0.622,0.391,0.611,0.61,0.678,0.631],\"type\":\"scatter3d\"}],                        {\"template\":{\"data\":{\"histogram2dcontour\":[{\"type\":\"histogram2dcontour\",\"colorbar\":{\"outlinewidth\":0,\"ticks\":\"\"},\"colorscale\":[[0.0,\"#0d0887\"],[0.1111111111111111,\"#46039f\"],[0.2222222222222222,\"#7201a8\"],[0.3333333333333333,\"#9c179e\"],[0.4444444444444444,\"#bd3786\"],[0.5555555555555556,\"#d8576b\"],[0.6666666666666666,\"#ed7953\"],[0.7777777777777778,\"#fb9f3a\"],[0.8888888888888888,\"#fdca26\"],[1.0,\"#f0f921\"]]}],\"choropleth\":[{\"type\":\"choropleth\",\"colorbar\":{\"outlinewidth\":0,\"ticks\":\"\"}}],\"histogram2d\":[{\"type\":\"histogram2d\",\"colorbar\":{\"outlinewidth\":0,\"ticks\":\"\"},\"colorscale\":[[0.0,\"#0d0887\"],[0.1111111111111111,\"#46039f\"],[0.2222222222222222,\"#7201a8\"],[0.3333333333333333,\"#9c179e\"],[0.4444444444444444,\"#bd3786\"],[0.5555555555555556,\"#d8576b\"],[0.6666666666666666,\"#ed7953\"],[0.7777777777777778,\"#fb9f3a\"],[0.8888888888888888,\"#fdca26\"],[1.0,\"#f0f921\"]]}],\"heatmap\":[{\"type\":\"heatmap\",\"colorbar\":{\"outlinewidth\":0,\"ticks\":\"\"},\"colorscale\":[[0.0,\"#0d0887\"],[0.1111111111111111,\"#46039f\"],[0.2222222222222222,\"#7201a8\"],[0.3333333333333333,\"#9c179e\"],[0.4444444444444444,\"#bd3786\"],[0.5555555555555556,\"#d8576b\"],[0.6666666666666666,\"#ed7953\"],[0.7777777777777778,\"#fb9f3a\"],[0.8888888888888888,\"#fdca26\"],[1.0,\"#f0f921\"]]}],\"heatmapgl\":[{\"type\":\"heatmapgl\",\"colorbar\":{\"outlinewidth\":0,\"ticks\":\"\"},\"colorscale\":[[0.0,\"#0d0887\"],[0.1111111111111111,\"#46039f\"],[0.2222222222222222,\"#7201a8\"],[0.3333333333333333,\"#9c179e\"],[0.4444444444444444,\"#bd3786\"],[0.5555555555555556,\"#d8576b\"],[0.6666666666666666,\"#ed7953\"],[0.7777777777777778,\"#fb9f3a\"],[0.8888888888888888,\"#fdca26\"],[1.0,\"#f0f921\"]]}],\"contourcarpet\":[{\"type\":\"contourcarpet\",\"colorbar\":{\"outlinewidth\":0,\"ticks\":\"\"}}],\"contour\":[{\"type\":\"contour\",\"colorbar\":{\"outlinewidth\":0,\"ticks\":\"\"},\"colorscale\":[[0.0,\"#0d0887\"],[0.1111111111111111,\"#46039f\"],[0.2222222222222222,\"#7201a8\"],[0.3333333333333333,\"#9c179e\"],[0.4444444444444444,\"#bd3786\"],[0.5555555555555556,\"#d8576b\"],[0.6666666666666666,\"#ed7953\"],[0.7777777777777778,\"#fb9f3a\"],[0.8888888888888888,\"#fdca26\"],[1.0,\"#f0f921\"]]}],\"surface\":[{\"type\":\"surface\",\"colorbar\":{\"outlinewidth\":0,\"ticks\":\"\"},\"colorscale\":[[0.0,\"#0d0887\"],[0.1111111111111111,\"#46039f\"],[0.2222222222222222,\"#7201a8\"],[0.3333333333333333,\"#9c179e\"],[0.4444444444444444,\"#bd3786\"],[0.5555555555555556,\"#d8576b\"],[0.6666666666666666,\"#ed7953\"],[0.7777777777777778,\"#fb9f3a\"],[0.8888888888888888,\"#fdca26\"],[1.0,\"#f0f921\"]]}],\"mesh3d\":[{\"type\":\"mesh3d\",\"colorbar\":{\"outlinewidth\":0,\"ticks\":\"\"}}],\"scatter\":[{\"fillpattern\":{\"fillmode\":\"overlay\",\"size\":10,\"solidity\":0.2},\"type\":\"scatter\"}],\"parcoords\":[{\"type\":\"parcoords\",\"line\":{\"colorbar\":{\"outlinewidth\":0,\"ticks\":\"\"}}}],\"scatterpolargl\":[{\"type\":\"scatterpolargl\",\"marker\":{\"colorbar\":{\"outlinewidth\":0,\"ticks\":\"\"}}}],\"bar\":[{\"error_x\":{\"color\":\"#2a3f5f\"},\"error_y\":{\"color\":\"#2a3f5f\"},\"marker\":{\"line\":{\"color\":\"#E5ECF6\",\"width\":0.5},\"pattern\":{\"fillmode\":\"overlay\",\"size\":10,\"solidity\":0.2}},\"type\":\"bar\"}],\"scattergeo\":[{\"type\":\"scattergeo\",\"marker\":{\"colorbar\":{\"outlinewidth\":0,\"ticks\":\"\"}}}],\"scatterpolar\":[{\"type\":\"scatterpolar\",\"marker\":{\"colorbar\":{\"outlinewidth\":0,\"ticks\":\"\"}}}],\"histogram\":[{\"marker\":{\"pattern\":{\"fillmode\":\"overlay\",\"size\":10,\"solidity\":0.2}},\"type\":\"histogram\"}],\"scattergl\":[{\"type\":\"scattergl\",\"marker\":{\"colorbar\":{\"outlinewidth\":0,\"ticks\":\"\"}}}],\"scatter3d\":[{\"type\":\"scatter3d\",\"line\":{\"colorbar\":{\"outlinewidth\":0,\"ticks\":\"\"}},\"marker\":{\"colorbar\":{\"outlinewidth\":0,\"ticks\":\"\"}}}],\"scattermapbox\":[{\"type\":\"scattermapbox\",\"marker\":{\"colorbar\":{\"outlinewidth\":0,\"ticks\":\"\"}}}],\"scatterternary\":[{\"type\":\"scatterternary\",\"marker\":{\"colorbar\":{\"outlinewidth\":0,\"ticks\":\"\"}}}],\"scattercarpet\":[{\"type\":\"scattercarpet\",\"marker\":{\"colorbar\":{\"outlinewidth\":0,\"ticks\":\"\"}}}],\"carpet\":[{\"aaxis\":{\"endlinecolor\":\"#2a3f5f\",\"gridcolor\":\"white\",\"linecolor\":\"white\",\"minorgridcolor\":\"white\",\"startlinecolor\":\"#2a3f5f\"},\"baxis\":{\"endlinecolor\":\"#2a3f5f\",\"gridcolor\":\"white\",\"linecolor\":\"white\",\"minorgridcolor\":\"white\",\"startlinecolor\":\"#2a3f5f\"},\"type\":\"carpet\"}],\"table\":[{\"cells\":{\"fill\":{\"color\":\"#EBF0F8\"},\"line\":{\"color\":\"white\"}},\"header\":{\"fill\":{\"color\":\"#C8D4E3\"},\"line\":{\"color\":\"white\"}},\"type\":\"table\"}],\"barpolar\":[{\"marker\":{\"line\":{\"color\":\"#E5ECF6\",\"width\":0.5},\"pattern\":{\"fillmode\":\"overlay\",\"size\":10,\"solidity\":0.2}},\"type\":\"barpolar\"}],\"pie\":[{\"automargin\":true,\"type\":\"pie\"}]},\"layout\":{\"autotypenumbers\":\"strict\",\"colorway\":[\"#636efa\",\"#EF553B\",\"#00cc96\",\"#ab63fa\",\"#FFA15A\",\"#19d3f3\",\"#FF6692\",\"#B6E880\",\"#FF97FF\",\"#FECB52\"],\"font\":{\"color\":\"#2a3f5f\"},\"hovermode\":\"closest\",\"hoverlabel\":{\"align\":\"left\"},\"paper_bgcolor\":\"white\",\"plot_bgcolor\":\"#E5ECF6\",\"polar\":{\"bgcolor\":\"#E5ECF6\",\"angularaxis\":{\"gridcolor\":\"white\",\"linecolor\":\"white\",\"ticks\":\"\"},\"radialaxis\":{\"gridcolor\":\"white\",\"linecolor\":\"white\",\"ticks\":\"\"}},\"ternary\":{\"bgcolor\":\"#E5ECF6\",\"aaxis\":{\"gridcolor\":\"white\",\"linecolor\":\"white\",\"ticks\":\"\"},\"baxis\":{\"gridcolor\":\"white\",\"linecolor\":\"white\",\"ticks\":\"\"},\"caxis\":{\"gridcolor\":\"white\",\"linecolor\":\"white\",\"ticks\":\"\"}},\"coloraxis\":{\"colorbar\":{\"outlinewidth\":0,\"ticks\":\"\"}},\"colorscale\":{\"sequential\":[[0.0,\"#0d0887\"],[0.1111111111111111,\"#46039f\"],[0.2222222222222222,\"#7201a8\"],[0.3333333333333333,\"#9c179e\"],[0.4444444444444444,\"#bd3786\"],[0.5555555555555556,\"#d8576b\"],[0.6666666666666666,\"#ed7953\"],[0.7777777777777778,\"#fb9f3a\"],[0.8888888888888888,\"#fdca26\"],[1.0,\"#f0f921\"]],\"sequentialminus\":[[0.0,\"#0d0887\"],[0.1111111111111111,\"#46039f\"],[0.2222222222222222,\"#7201a8\"],[0.3333333333333333,\"#9c179e\"],[0.4444444444444444,\"#bd3786\"],[0.5555555555555556,\"#d8576b\"],[0.6666666666666666,\"#ed7953\"],[0.7777777777777778,\"#fb9f3a\"],[0.8888888888888888,\"#fdca26\"],[1.0,\"#f0f921\"]],\"diverging\":[[0,\"#8e0152\"],[0.1,\"#c51b7d\"],[0.2,\"#de77ae\"],[0.3,\"#f1b6da\"],[0.4,\"#fde0ef\"],[0.5,\"#f7f7f7\"],[0.6,\"#e6f5d0\"],[0.7,\"#b8e186\"],[0.8,\"#7fbc41\"],[0.9,\"#4d9221\"],[1,\"#276419\"]]},\"xaxis\":{\"gridcolor\":\"white\",\"linecolor\":\"white\",\"ticks\":\"\",\"title\":{\"standoff\":15},\"zerolinecolor\":\"white\",\"automargin\":true,\"zerolinewidth\":2},\"yaxis\":{\"gridcolor\":\"white\",\"linecolor\":\"white\",\"ticks\":\"\",\"title\":{\"standoff\":15},\"zerolinecolor\":\"white\",\"automargin\":true,\"zerolinewidth\":2},\"scene\":{\"xaxis\":{\"backgroundcolor\":\"#E5ECF6\",\"gridcolor\":\"white\",\"linecolor\":\"white\",\"showbackground\":true,\"ticks\":\"\",\"zerolinecolor\":\"white\",\"gridwidth\":2},\"yaxis\":{\"backgroundcolor\":\"#E5ECF6\",\"gridcolor\":\"white\",\"linecolor\":\"white\",\"showbackground\":true,\"ticks\":\"\",\"zerolinecolor\":\"white\",\"gridwidth\":2},\"zaxis\":{\"backgroundcolor\":\"#E5ECF6\",\"gridcolor\":\"white\",\"linecolor\":\"white\",\"showbackground\":true,\"ticks\":\"\",\"zerolinecolor\":\"white\",\"gridwidth\":2}},\"shapedefaults\":{\"line\":{\"color\":\"#2a3f5f\"}},\"annotationdefaults\":{\"arrowcolor\":\"#2a3f5f\",\"arrowhead\":0,\"arrowwidth\":1},\"geo\":{\"bgcolor\":\"white\",\"landcolor\":\"#E5ECF6\",\"subunitcolor\":\"white\",\"showland\":true,\"showlakes\":true,\"lakecolor\":\"white\"},\"title\":{\"x\":0.05},\"mapbox\":{\"style\":\"light\"}}},\"scene\":{\"domain\":{\"x\":[0.0,1.0],\"y\":[0.0,1.0]},\"xaxis\":{\"title\":{\"text\":\"valence\"}},\"yaxis\":{\"title\":{\"text\":\"energy\"}},\"zaxis\":{\"title\":{\"text\":\"danceability\"}}},\"coloraxis\":{\"colorbar\":{\"title\":{\"text\":\"Popularity\"}},\"colorscale\":[[0.0,\"#0d0887\"],[0.1111111111111111,\"#46039f\"],[0.2222222222222222,\"#7201a8\"],[0.3333333333333333,\"#9c179e\"],[0.4444444444444444,\"#bd3786\"],[0.5555555555555556,\"#d8576b\"],[0.6666666666666666,\"#ed7953\"],[0.7777777777777778,\"#fb9f3a\"],[0.8888888888888888,\"#fdca26\"],[1.0,\"#f0f921\"]]},\"legend\":{\"tracegroupgap\":0,\"itemsizing\":\"constant\"},\"margin\":{\"t\":60}},                        {\"responsive\": true}                    ).then(function(){\n",
       "                            \n",
       "var gd = document.getElementById('3d50bd3d-01cc-487d-a97f-d3a961a1c0cc');\n",
       "var x = new MutationObserver(function (mutations, observer) {{\n",
       "        var display = window.getComputedStyle(gd).display;\n",
       "        if (!display || display === 'none') {{\n",
       "            console.log([gd, 'removed!']);\n",
       "            Plotly.purge(gd);\n",
       "            observer.disconnect();\n",
       "        }}\n",
       "}});\n",
       "\n",
       "// Listen for the removal of the full notebook cells\n",
       "var notebookContainer = gd.closest('#notebook-container');\n",
       "if (notebookContainer) {{\n",
       "    x.observe(notebookContainer, {childList: true});\n",
       "}}\n",
       "\n",
       "// Listen for the clearing of the current output cell\n",
       "var outputEl = gd.closest('.output');\n",
       "if (outputEl) {{\n",
       "    x.observe(outputEl, {childList: true});\n",
       "}}\n",
       "\n",
       "                        })                };                });            </script>        </div>"
      ]
     },
     "metadata": {},
     "output_type": "display_data"
    }
   ],
   "source": [
    "fig = px.scatter_3d(new_df[new_df['track.album.name'] == \"Red (Taylor's Version)\"],\n",
    "                    x='valence', y='energy', z='danceability', color='track.popularity',\n",
    "                    size='track.duration_ms',\n",
    "                    hover_name='track.name',\n",
    "                    labels={'track.popularity': 'Popularity',\n",
    "                            'track.name': 'Name',\n",
    "                            'track.duration_ms': 'Track Duration (ms)'})\n",
    "fig"
   ]
  },
  {
   "cell_type": "markdown",
   "metadata": {},
   "source": []
  }
 ],
 "metadata": {
  "kernelspec": {
   "display_name": "base",
   "language": "python",
   "name": "python3"
  },
  "language_info": {
   "codemirror_mode": {
    "name": "ipython",
    "version": 3
   },
   "file_extension": ".py",
   "mimetype": "text/x-python",
   "name": "python",
   "nbconvert_exporter": "python",
   "pygments_lexer": "ipython3",
   "version": "3.9.16"
  }
 },
 "nbformat": 4,
 "nbformat_minor": 2
}
